{
  "nbformat": 4,
  "nbformat_minor": 0,
  "metadata": {
    "colab": {
      "name": "PINN Paris law.ipynb",
      "provenance": [],
      "collapsed_sections": [],
      "authorship_tag": "ABX9TyNKEQ+wx5xUNejO+MijCWxY",
      "include_colab_link": true
    },
    "kernelspec": {
      "name": "python3",
      "display_name": "Python 3"
    },
    "language_info": {
      "name": "python"
    },
    "accelerator": "GPU",
    "widgets": {
      "application/vnd.jupyter.widget-state+json": {
        "075e0a6ae55542b3bebc40a3adc2cf39": {
          "model_module": "@jupyter-widgets/controls",
          "model_name": "HBoxModel",
          "model_module_version": "1.5.0",
          "state": {
            "_view_name": "HBoxView",
            "_dom_classes": [],
            "_model_name": "HBoxModel",
            "_view_module": "@jupyter-widgets/controls",
            "_model_module_version": "1.5.0",
            "_view_count": null,
            "_view_module_version": "1.5.0",
            "box_style": "",
            "layout": "IPY_MODEL_a0996bfeb5af450097cc7b9e12a7ee34",
            "_model_module": "@jupyter-widgets/controls",
            "children": [
              "IPY_MODEL_ecd439149e3341eaa6136b079f9556d8",
              "IPY_MODEL_eb259fd6693a403aac78af7f55b87774",
              "IPY_MODEL_fe80c2cd6aee4f6aa1721efe0506bfa1"
            ]
          }
        },
        "a0996bfeb5af450097cc7b9e12a7ee34": {
          "model_module": "@jupyter-widgets/base",
          "model_name": "LayoutModel",
          "model_module_version": "1.2.0",
          "state": {
            "_view_name": "LayoutView",
            "grid_template_rows": null,
            "right": null,
            "justify_content": null,
            "_view_module": "@jupyter-widgets/base",
            "overflow": null,
            "_model_module_version": "1.2.0",
            "_view_count": null,
            "flex_flow": null,
            "width": null,
            "min_width": null,
            "border": null,
            "align_items": null,
            "bottom": null,
            "_model_module": "@jupyter-widgets/base",
            "top": null,
            "grid_column": null,
            "overflow_y": null,
            "overflow_x": null,
            "grid_auto_flow": null,
            "grid_area": null,
            "grid_template_columns": null,
            "flex": null,
            "_model_name": "LayoutModel",
            "justify_items": null,
            "grid_row": null,
            "max_height": null,
            "align_content": null,
            "visibility": null,
            "align_self": null,
            "height": null,
            "min_height": null,
            "padding": null,
            "grid_auto_rows": null,
            "grid_gap": null,
            "max_width": null,
            "order": null,
            "_view_module_version": "1.2.0",
            "grid_template_areas": null,
            "object_position": null,
            "object_fit": null,
            "grid_auto_columns": null,
            "margin": null,
            "display": null,
            "left": null
          }
        },
        "ecd439149e3341eaa6136b079f9556d8": {
          "model_module": "@jupyter-widgets/controls",
          "model_name": "HTMLModel",
          "model_module_version": "1.5.0",
          "state": {
            "_view_name": "HTMLView",
            "style": "IPY_MODEL_0660b5b623a7400c9ab7fe1d7069e760",
            "_dom_classes": [],
            "description": "",
            "_model_name": "HTMLModel",
            "placeholder": "​",
            "_view_module": "@jupyter-widgets/controls",
            "_model_module_version": "1.5.0",
            "value": "Epoch [499 / 500]: 100%",
            "_view_count": null,
            "_view_module_version": "1.5.0",
            "description_tooltip": null,
            "_model_module": "@jupyter-widgets/controls",
            "layout": "IPY_MODEL_41fe2860d3ba402b9923fc004f27ad57"
          }
        },
        "eb259fd6693a403aac78af7f55b87774": {
          "model_module": "@jupyter-widgets/controls",
          "model_name": "FloatProgressModel",
          "model_module_version": "1.5.0",
          "state": {
            "_view_name": "ProgressView",
            "style": "IPY_MODEL_feeee26cf62541119109185a5ac79318",
            "_dom_classes": [],
            "description": "",
            "_model_name": "FloatProgressModel",
            "bar_style": "",
            "max": 500,
            "_view_module": "@jupyter-widgets/controls",
            "_model_module_version": "1.5.0",
            "value": 500,
            "_view_count": null,
            "_view_module_version": "1.5.0",
            "orientation": "horizontal",
            "min": 0,
            "description_tooltip": null,
            "_model_module": "@jupyter-widgets/controls",
            "layout": "IPY_MODEL_ba91ee83926d42b3a87b3720e9440afc"
          }
        },
        "fe80c2cd6aee4f6aa1721efe0506bfa1": {
          "model_module": "@jupyter-widgets/controls",
          "model_name": "HTMLModel",
          "model_module_version": "1.5.0",
          "state": {
            "_view_name": "HTMLView",
            "style": "IPY_MODEL_8e781eeba5c14bfb938b8f9238f30ea5",
            "_dom_classes": [],
            "description": "",
            "_model_name": "HTMLModel",
            "placeholder": "​",
            "_view_module": "@jupyter-widgets/controls",
            "_model_module_version": "1.5.0",
            "value": " 500/500 [02:53&lt;00:00,  2.89it/s, loss=6.79e-5]",
            "_view_count": null,
            "_view_module_version": "1.5.0",
            "description_tooltip": null,
            "_model_module": "@jupyter-widgets/controls",
            "layout": "IPY_MODEL_d59538ceef4d42debfcffa40f2e56c09"
          }
        },
        "0660b5b623a7400c9ab7fe1d7069e760": {
          "model_module": "@jupyter-widgets/controls",
          "model_name": "DescriptionStyleModel",
          "model_module_version": "1.5.0",
          "state": {
            "_view_name": "StyleView",
            "_model_name": "DescriptionStyleModel",
            "description_width": "",
            "_view_module": "@jupyter-widgets/base",
            "_model_module_version": "1.5.0",
            "_view_count": null,
            "_view_module_version": "1.2.0",
            "_model_module": "@jupyter-widgets/controls"
          }
        },
        "41fe2860d3ba402b9923fc004f27ad57": {
          "model_module": "@jupyter-widgets/base",
          "model_name": "LayoutModel",
          "model_module_version": "1.2.0",
          "state": {
            "_view_name": "LayoutView",
            "grid_template_rows": null,
            "right": null,
            "justify_content": null,
            "_view_module": "@jupyter-widgets/base",
            "overflow": null,
            "_model_module_version": "1.2.0",
            "_view_count": null,
            "flex_flow": null,
            "width": null,
            "min_width": null,
            "border": null,
            "align_items": null,
            "bottom": null,
            "_model_module": "@jupyter-widgets/base",
            "top": null,
            "grid_column": null,
            "overflow_y": null,
            "overflow_x": null,
            "grid_auto_flow": null,
            "grid_area": null,
            "grid_template_columns": null,
            "flex": null,
            "_model_name": "LayoutModel",
            "justify_items": null,
            "grid_row": null,
            "max_height": null,
            "align_content": null,
            "visibility": null,
            "align_self": null,
            "height": null,
            "min_height": null,
            "padding": null,
            "grid_auto_rows": null,
            "grid_gap": null,
            "max_width": null,
            "order": null,
            "_view_module_version": "1.2.0",
            "grid_template_areas": null,
            "object_position": null,
            "object_fit": null,
            "grid_auto_columns": null,
            "margin": null,
            "display": null,
            "left": null
          }
        },
        "feeee26cf62541119109185a5ac79318": {
          "model_module": "@jupyter-widgets/controls",
          "model_name": "ProgressStyleModel",
          "model_module_version": "1.5.0",
          "state": {
            "_view_name": "StyleView",
            "_model_name": "ProgressStyleModel",
            "description_width": "",
            "_view_module": "@jupyter-widgets/base",
            "_model_module_version": "1.5.0",
            "_view_count": null,
            "_view_module_version": "1.2.0",
            "bar_color": null,
            "_model_module": "@jupyter-widgets/controls"
          }
        },
        "ba91ee83926d42b3a87b3720e9440afc": {
          "model_module": "@jupyter-widgets/base",
          "model_name": "LayoutModel",
          "model_module_version": "1.2.0",
          "state": {
            "_view_name": "LayoutView",
            "grid_template_rows": null,
            "right": null,
            "justify_content": null,
            "_view_module": "@jupyter-widgets/base",
            "overflow": null,
            "_model_module_version": "1.2.0",
            "_view_count": null,
            "flex_flow": null,
            "width": null,
            "min_width": null,
            "border": null,
            "align_items": null,
            "bottom": null,
            "_model_module": "@jupyter-widgets/base",
            "top": null,
            "grid_column": null,
            "overflow_y": null,
            "overflow_x": null,
            "grid_auto_flow": null,
            "grid_area": null,
            "grid_template_columns": null,
            "flex": null,
            "_model_name": "LayoutModel",
            "justify_items": null,
            "grid_row": null,
            "max_height": null,
            "align_content": null,
            "visibility": null,
            "align_self": null,
            "height": null,
            "min_height": null,
            "padding": null,
            "grid_auto_rows": null,
            "grid_gap": null,
            "max_width": null,
            "order": null,
            "_view_module_version": "1.2.0",
            "grid_template_areas": null,
            "object_position": null,
            "object_fit": null,
            "grid_auto_columns": null,
            "margin": null,
            "display": null,
            "left": null
          }
        },
        "8e781eeba5c14bfb938b8f9238f30ea5": {
          "model_module": "@jupyter-widgets/controls",
          "model_name": "DescriptionStyleModel",
          "model_module_version": "1.5.0",
          "state": {
            "_view_name": "StyleView",
            "_model_name": "DescriptionStyleModel",
            "description_width": "",
            "_view_module": "@jupyter-widgets/base",
            "_model_module_version": "1.5.0",
            "_view_count": null,
            "_view_module_version": "1.2.0",
            "_model_module": "@jupyter-widgets/controls"
          }
        },
        "d59538ceef4d42debfcffa40f2e56c09": {
          "model_module": "@jupyter-widgets/base",
          "model_name": "LayoutModel",
          "model_module_version": "1.2.0",
          "state": {
            "_view_name": "LayoutView",
            "grid_template_rows": null,
            "right": null,
            "justify_content": null,
            "_view_module": "@jupyter-widgets/base",
            "overflow": null,
            "_model_module_version": "1.2.0",
            "_view_count": null,
            "flex_flow": null,
            "width": null,
            "min_width": null,
            "border": null,
            "align_items": null,
            "bottom": null,
            "_model_module": "@jupyter-widgets/base",
            "top": null,
            "grid_column": null,
            "overflow_y": null,
            "overflow_x": null,
            "grid_auto_flow": null,
            "grid_area": null,
            "grid_template_columns": null,
            "flex": null,
            "_model_name": "LayoutModel",
            "justify_items": null,
            "grid_row": null,
            "max_height": null,
            "align_content": null,
            "visibility": null,
            "align_self": null,
            "height": null,
            "min_height": null,
            "padding": null,
            "grid_auto_rows": null,
            "grid_gap": null,
            "max_width": null,
            "order": null,
            "_view_module_version": "1.2.0",
            "grid_template_areas": null,
            "object_position": null,
            "object_fit": null,
            "grid_auto_columns": null,
            "margin": null,
            "display": null,
            "left": null
          }
        },
        "1c4c9262beca48c0b6d27612cee0f260": {
          "model_module": "@jupyter-widgets/controls",
          "model_name": "HBoxModel",
          "model_module_version": "1.5.0",
          "state": {
            "_view_name": "HBoxView",
            "_dom_classes": [],
            "_model_name": "HBoxModel",
            "_view_module": "@jupyter-widgets/controls",
            "_model_module_version": "1.5.0",
            "_view_count": null,
            "_view_module_version": "1.5.0",
            "box_style": "",
            "layout": "IPY_MODEL_893cad948c8c40f4ad31f708ff3f28f4",
            "_model_module": "@jupyter-widgets/controls",
            "children": [
              "IPY_MODEL_2ecaae67d36a48a5bc29f466eb3a3e98",
              "IPY_MODEL_2f039f268bb74ba695d48aa6ba888cae",
              "IPY_MODEL_7cb3d11ca6c24d8694f4694b66c87a9e"
            ]
          }
        },
        "893cad948c8c40f4ad31f708ff3f28f4": {
          "model_module": "@jupyter-widgets/base",
          "model_name": "LayoutModel",
          "model_module_version": "1.2.0",
          "state": {
            "_view_name": "LayoutView",
            "grid_template_rows": null,
            "right": null,
            "justify_content": null,
            "_view_module": "@jupyter-widgets/base",
            "overflow": null,
            "_model_module_version": "1.2.0",
            "_view_count": null,
            "flex_flow": null,
            "width": null,
            "min_width": null,
            "border": null,
            "align_items": null,
            "bottom": null,
            "_model_module": "@jupyter-widgets/base",
            "top": null,
            "grid_column": null,
            "overflow_y": null,
            "overflow_x": null,
            "grid_auto_flow": null,
            "grid_area": null,
            "grid_template_columns": null,
            "flex": null,
            "_model_name": "LayoutModel",
            "justify_items": null,
            "grid_row": null,
            "max_height": null,
            "align_content": null,
            "visibility": null,
            "align_self": null,
            "height": null,
            "min_height": null,
            "padding": null,
            "grid_auto_rows": null,
            "grid_gap": null,
            "max_width": null,
            "order": null,
            "_view_module_version": "1.2.0",
            "grid_template_areas": null,
            "object_position": null,
            "object_fit": null,
            "grid_auto_columns": null,
            "margin": null,
            "display": null,
            "left": null
          }
        },
        "2ecaae67d36a48a5bc29f466eb3a3e98": {
          "model_module": "@jupyter-widgets/controls",
          "model_name": "HTMLModel",
          "model_module_version": "1.5.0",
          "state": {
            "_view_name": "HTMLView",
            "style": "IPY_MODEL_5be9563f7ea1422b8b62b793b6267e94",
            "_dom_classes": [],
            "description": "",
            "_model_name": "HTMLModel",
            "placeholder": "​",
            "_view_module": "@jupyter-widgets/controls",
            "_model_module_version": "1.5.0",
            "value": "100%",
            "_view_count": null,
            "_view_module_version": "1.5.0",
            "description_tooltip": null,
            "_model_module": "@jupyter-widgets/controls",
            "layout": "IPY_MODEL_50041bd8d2fd43dd911e180cbb71e70d"
          }
        },
        "2f039f268bb74ba695d48aa6ba888cae": {
          "model_module": "@jupyter-widgets/controls",
          "model_name": "FloatProgressModel",
          "model_module_version": "1.5.0",
          "state": {
            "_view_name": "ProgressView",
            "style": "IPY_MODEL_22a37e632025456fb26e9e600b76b222",
            "_dom_classes": [],
            "description": "",
            "_model_name": "FloatProgressModel",
            "bar_style": "success",
            "max": 30,
            "_view_module": "@jupyter-widgets/controls",
            "_model_module_version": "1.5.0",
            "value": 30,
            "_view_count": null,
            "_view_module_version": "1.5.0",
            "orientation": "horizontal",
            "min": 0,
            "description_tooltip": null,
            "_model_module": "@jupyter-widgets/controls",
            "layout": "IPY_MODEL_98a5fea98a254e4fb65758559425c58e"
          }
        },
        "7cb3d11ca6c24d8694f4694b66c87a9e": {
          "model_module": "@jupyter-widgets/controls",
          "model_name": "HTMLModel",
          "model_module_version": "1.5.0",
          "state": {
            "_view_name": "HTMLView",
            "style": "IPY_MODEL_935b015153244a8fa0e73a81333c5b49",
            "_dom_classes": [],
            "description": "",
            "_model_name": "HTMLModel",
            "placeholder": "​",
            "_view_module": "@jupyter-widgets/controls",
            "_model_module_version": "1.5.0",
            "value": " 30/30 [00:04&lt;00:00,  6.89it/s]",
            "_view_count": null,
            "_view_module_version": "1.5.0",
            "description_tooltip": null,
            "_model_module": "@jupyter-widgets/controls",
            "layout": "IPY_MODEL_19a9a865441d46938eec3d5a2bdbe76d"
          }
        },
        "5be9563f7ea1422b8b62b793b6267e94": {
          "model_module": "@jupyter-widgets/controls",
          "model_name": "DescriptionStyleModel",
          "model_module_version": "1.5.0",
          "state": {
            "_view_name": "StyleView",
            "_model_name": "DescriptionStyleModel",
            "description_width": "",
            "_view_module": "@jupyter-widgets/base",
            "_model_module_version": "1.5.0",
            "_view_count": null,
            "_view_module_version": "1.2.0",
            "_model_module": "@jupyter-widgets/controls"
          }
        },
        "50041bd8d2fd43dd911e180cbb71e70d": {
          "model_module": "@jupyter-widgets/base",
          "model_name": "LayoutModel",
          "model_module_version": "1.2.0",
          "state": {
            "_view_name": "LayoutView",
            "grid_template_rows": null,
            "right": null,
            "justify_content": null,
            "_view_module": "@jupyter-widgets/base",
            "overflow": null,
            "_model_module_version": "1.2.0",
            "_view_count": null,
            "flex_flow": null,
            "width": null,
            "min_width": null,
            "border": null,
            "align_items": null,
            "bottom": null,
            "_model_module": "@jupyter-widgets/base",
            "top": null,
            "grid_column": null,
            "overflow_y": null,
            "overflow_x": null,
            "grid_auto_flow": null,
            "grid_area": null,
            "grid_template_columns": null,
            "flex": null,
            "_model_name": "LayoutModel",
            "justify_items": null,
            "grid_row": null,
            "max_height": null,
            "align_content": null,
            "visibility": null,
            "align_self": null,
            "height": null,
            "min_height": null,
            "padding": null,
            "grid_auto_rows": null,
            "grid_gap": null,
            "max_width": null,
            "order": null,
            "_view_module_version": "1.2.0",
            "grid_template_areas": null,
            "object_position": null,
            "object_fit": null,
            "grid_auto_columns": null,
            "margin": null,
            "display": null,
            "left": null
          }
        },
        "22a37e632025456fb26e9e600b76b222": {
          "model_module": "@jupyter-widgets/controls",
          "model_name": "ProgressStyleModel",
          "model_module_version": "1.5.0",
          "state": {
            "_view_name": "StyleView",
            "_model_name": "ProgressStyleModel",
            "description_width": "",
            "_view_module": "@jupyter-widgets/base",
            "_model_module_version": "1.5.0",
            "_view_count": null,
            "_view_module_version": "1.2.0",
            "bar_color": null,
            "_model_module": "@jupyter-widgets/controls"
          }
        },
        "98a5fea98a254e4fb65758559425c58e": {
          "model_module": "@jupyter-widgets/base",
          "model_name": "LayoutModel",
          "model_module_version": "1.2.0",
          "state": {
            "_view_name": "LayoutView",
            "grid_template_rows": null,
            "right": null,
            "justify_content": null,
            "_view_module": "@jupyter-widgets/base",
            "overflow": null,
            "_model_module_version": "1.2.0",
            "_view_count": null,
            "flex_flow": null,
            "width": null,
            "min_width": null,
            "border": null,
            "align_items": null,
            "bottom": null,
            "_model_module": "@jupyter-widgets/base",
            "top": null,
            "grid_column": null,
            "overflow_y": null,
            "overflow_x": null,
            "grid_auto_flow": null,
            "grid_area": null,
            "grid_template_columns": null,
            "flex": null,
            "_model_name": "LayoutModel",
            "justify_items": null,
            "grid_row": null,
            "max_height": null,
            "align_content": null,
            "visibility": null,
            "align_self": null,
            "height": null,
            "min_height": null,
            "padding": null,
            "grid_auto_rows": null,
            "grid_gap": null,
            "max_width": null,
            "order": null,
            "_view_module_version": "1.2.0",
            "grid_template_areas": null,
            "object_position": null,
            "object_fit": null,
            "grid_auto_columns": null,
            "margin": null,
            "display": null,
            "left": null
          }
        },
        "935b015153244a8fa0e73a81333c5b49": {
          "model_module": "@jupyter-widgets/controls",
          "model_name": "DescriptionStyleModel",
          "model_module_version": "1.5.0",
          "state": {
            "_view_name": "StyleView",
            "_model_name": "DescriptionStyleModel",
            "description_width": "",
            "_view_module": "@jupyter-widgets/base",
            "_model_module_version": "1.5.0",
            "_view_count": null,
            "_view_module_version": "1.2.0",
            "_model_module": "@jupyter-widgets/controls"
          }
        },
        "19a9a865441d46938eec3d5a2bdbe76d": {
          "model_module": "@jupyter-widgets/base",
          "model_name": "LayoutModel",
          "model_module_version": "1.2.0",
          "state": {
            "_view_name": "LayoutView",
            "grid_template_rows": null,
            "right": null,
            "justify_content": null,
            "_view_module": "@jupyter-widgets/base",
            "overflow": null,
            "_model_module_version": "1.2.0",
            "_view_count": null,
            "flex_flow": null,
            "width": null,
            "min_width": null,
            "border": null,
            "align_items": null,
            "bottom": null,
            "_model_module": "@jupyter-widgets/base",
            "top": null,
            "grid_column": null,
            "overflow_y": null,
            "overflow_x": null,
            "grid_auto_flow": null,
            "grid_area": null,
            "grid_template_columns": null,
            "flex": null,
            "_model_name": "LayoutModel",
            "justify_items": null,
            "grid_row": null,
            "max_height": null,
            "align_content": null,
            "visibility": null,
            "align_self": null,
            "height": null,
            "min_height": null,
            "padding": null,
            "grid_auto_rows": null,
            "grid_gap": null,
            "max_width": null,
            "order": null,
            "_view_module_version": "1.2.0",
            "grid_template_areas": null,
            "object_position": null,
            "object_fit": null,
            "grid_auto_columns": null,
            "margin": null,
            "display": null,
            "left": null
          }
        },
        "92bf845abd414404af0d7a0be75f0ca2": {
          "model_module": "@jupyter-widgets/controls",
          "model_name": "HBoxModel",
          "model_module_version": "1.5.0",
          "state": {
            "_view_name": "HBoxView",
            "_dom_classes": [],
            "_model_name": "HBoxModel",
            "_view_module": "@jupyter-widgets/controls",
            "_model_module_version": "1.5.0",
            "_view_count": null,
            "_view_module_version": "1.5.0",
            "box_style": "",
            "layout": "IPY_MODEL_6f85406de2cb43b389f32857b4788f13",
            "_model_module": "@jupyter-widgets/controls",
            "children": [
              "IPY_MODEL_e190e2a7218e4861b10ae270a77d0093",
              "IPY_MODEL_8f510917c54b43f68568be9a3961fa0c",
              "IPY_MODEL_2f140a8c3c864ea18fef77d62e6ba081"
            ]
          }
        },
        "6f85406de2cb43b389f32857b4788f13": {
          "model_module": "@jupyter-widgets/base",
          "model_name": "LayoutModel",
          "model_module_version": "1.2.0",
          "state": {
            "_view_name": "LayoutView",
            "grid_template_rows": null,
            "right": null,
            "justify_content": null,
            "_view_module": "@jupyter-widgets/base",
            "overflow": null,
            "_model_module_version": "1.2.0",
            "_view_count": null,
            "flex_flow": null,
            "width": null,
            "min_width": null,
            "border": null,
            "align_items": null,
            "bottom": null,
            "_model_module": "@jupyter-widgets/base",
            "top": null,
            "grid_column": null,
            "overflow_y": null,
            "overflow_x": null,
            "grid_auto_flow": null,
            "grid_area": null,
            "grid_template_columns": null,
            "flex": null,
            "_model_name": "LayoutModel",
            "justify_items": null,
            "grid_row": null,
            "max_height": null,
            "align_content": null,
            "visibility": null,
            "align_self": null,
            "height": null,
            "min_height": null,
            "padding": null,
            "grid_auto_rows": null,
            "grid_gap": null,
            "max_width": null,
            "order": null,
            "_view_module_version": "1.2.0",
            "grid_template_areas": null,
            "object_position": null,
            "object_fit": null,
            "grid_auto_columns": null,
            "margin": null,
            "display": null,
            "left": null
          }
        },
        "e190e2a7218e4861b10ae270a77d0093": {
          "model_module": "@jupyter-widgets/controls",
          "model_name": "HTMLModel",
          "model_module_version": "1.5.0",
          "state": {
            "_view_name": "HTMLView",
            "style": "IPY_MODEL_ae4864b9fc074662bd6874bc629f93d2",
            "_dom_classes": [],
            "description": "",
            "_model_name": "HTMLModel",
            "placeholder": "​",
            "_view_module": "@jupyter-widgets/controls",
            "_model_module_version": "1.5.0",
            "value": "Epoch [499 / 500]: 100%",
            "_view_count": null,
            "_view_module_version": "1.5.0",
            "description_tooltip": null,
            "_model_module": "@jupyter-widgets/controls",
            "layout": "IPY_MODEL_b51fd6dd5a534cb5b79779db89a9ef0e"
          }
        },
        "8f510917c54b43f68568be9a3961fa0c": {
          "model_module": "@jupyter-widgets/controls",
          "model_name": "FloatProgressModel",
          "model_module_version": "1.5.0",
          "state": {
            "_view_name": "ProgressView",
            "style": "IPY_MODEL_54e25999904b4412b96555f7d2eb8fa1",
            "_dom_classes": [],
            "description": "",
            "_model_name": "FloatProgressModel",
            "bar_style": "",
            "max": 500,
            "_view_module": "@jupyter-widgets/controls",
            "_model_module_version": "1.5.0",
            "value": 500,
            "_view_count": null,
            "_view_module_version": "1.5.0",
            "orientation": "horizontal",
            "min": 0,
            "description_tooltip": null,
            "_model_module": "@jupyter-widgets/controls",
            "layout": "IPY_MODEL_72db93fad73b4f67891eead5bf14def4"
          }
        },
        "2f140a8c3c864ea18fef77d62e6ba081": {
          "model_module": "@jupyter-widgets/controls",
          "model_name": "HTMLModel",
          "model_module_version": "1.5.0",
          "state": {
            "_view_name": "HTMLView",
            "style": "IPY_MODEL_357c962e2dfc4e5bb19e0e4587fca1ff",
            "_dom_classes": [],
            "description": "",
            "_model_name": "HTMLModel",
            "placeholder": "​",
            "_view_module": "@jupyter-widgets/controls",
            "_model_module_version": "1.5.0",
            "value": " 500/500 [05:48&lt;00:00,  1.42it/s, loss=1.01e-7]",
            "_view_count": null,
            "_view_module_version": "1.5.0",
            "description_tooltip": null,
            "_model_module": "@jupyter-widgets/controls",
            "layout": "IPY_MODEL_e5c8b57686c34d8b92311bf8d27cdfaf"
          }
        },
        "ae4864b9fc074662bd6874bc629f93d2": {
          "model_module": "@jupyter-widgets/controls",
          "model_name": "DescriptionStyleModel",
          "model_module_version": "1.5.0",
          "state": {
            "_view_name": "StyleView",
            "_model_name": "DescriptionStyleModel",
            "description_width": "",
            "_view_module": "@jupyter-widgets/base",
            "_model_module_version": "1.5.0",
            "_view_count": null,
            "_view_module_version": "1.2.0",
            "_model_module": "@jupyter-widgets/controls"
          }
        },
        "b51fd6dd5a534cb5b79779db89a9ef0e": {
          "model_module": "@jupyter-widgets/base",
          "model_name": "LayoutModel",
          "model_module_version": "1.2.0",
          "state": {
            "_view_name": "LayoutView",
            "grid_template_rows": null,
            "right": null,
            "justify_content": null,
            "_view_module": "@jupyter-widgets/base",
            "overflow": null,
            "_model_module_version": "1.2.0",
            "_view_count": null,
            "flex_flow": null,
            "width": null,
            "min_width": null,
            "border": null,
            "align_items": null,
            "bottom": null,
            "_model_module": "@jupyter-widgets/base",
            "top": null,
            "grid_column": null,
            "overflow_y": null,
            "overflow_x": null,
            "grid_auto_flow": null,
            "grid_area": null,
            "grid_template_columns": null,
            "flex": null,
            "_model_name": "LayoutModel",
            "justify_items": null,
            "grid_row": null,
            "max_height": null,
            "align_content": null,
            "visibility": null,
            "align_self": null,
            "height": null,
            "min_height": null,
            "padding": null,
            "grid_auto_rows": null,
            "grid_gap": null,
            "max_width": null,
            "order": null,
            "_view_module_version": "1.2.0",
            "grid_template_areas": null,
            "object_position": null,
            "object_fit": null,
            "grid_auto_columns": null,
            "margin": null,
            "display": null,
            "left": null
          }
        },
        "54e25999904b4412b96555f7d2eb8fa1": {
          "model_module": "@jupyter-widgets/controls",
          "model_name": "ProgressStyleModel",
          "model_module_version": "1.5.0",
          "state": {
            "_view_name": "StyleView",
            "_model_name": "ProgressStyleModel",
            "description_width": "",
            "_view_module": "@jupyter-widgets/base",
            "_model_module_version": "1.5.0",
            "_view_count": null,
            "_view_module_version": "1.2.0",
            "bar_color": null,
            "_model_module": "@jupyter-widgets/controls"
          }
        },
        "72db93fad73b4f67891eead5bf14def4": {
          "model_module": "@jupyter-widgets/base",
          "model_name": "LayoutModel",
          "model_module_version": "1.2.0",
          "state": {
            "_view_name": "LayoutView",
            "grid_template_rows": null,
            "right": null,
            "justify_content": null,
            "_view_module": "@jupyter-widgets/base",
            "overflow": null,
            "_model_module_version": "1.2.0",
            "_view_count": null,
            "flex_flow": null,
            "width": null,
            "min_width": null,
            "border": null,
            "align_items": null,
            "bottom": null,
            "_model_module": "@jupyter-widgets/base",
            "top": null,
            "grid_column": null,
            "overflow_y": null,
            "overflow_x": null,
            "grid_auto_flow": null,
            "grid_area": null,
            "grid_template_columns": null,
            "flex": null,
            "_model_name": "LayoutModel",
            "justify_items": null,
            "grid_row": null,
            "max_height": null,
            "align_content": null,
            "visibility": null,
            "align_self": null,
            "height": null,
            "min_height": null,
            "padding": null,
            "grid_auto_rows": null,
            "grid_gap": null,
            "max_width": null,
            "order": null,
            "_view_module_version": "1.2.0",
            "grid_template_areas": null,
            "object_position": null,
            "object_fit": null,
            "grid_auto_columns": null,
            "margin": null,
            "display": null,
            "left": null
          }
        },
        "357c962e2dfc4e5bb19e0e4587fca1ff": {
          "model_module": "@jupyter-widgets/controls",
          "model_name": "DescriptionStyleModel",
          "model_module_version": "1.5.0",
          "state": {
            "_view_name": "StyleView",
            "_model_name": "DescriptionStyleModel",
            "description_width": "",
            "_view_module": "@jupyter-widgets/base",
            "_model_module_version": "1.5.0",
            "_view_count": null,
            "_view_module_version": "1.2.0",
            "_model_module": "@jupyter-widgets/controls"
          }
        },
        "e5c8b57686c34d8b92311bf8d27cdfaf": {
          "model_module": "@jupyter-widgets/base",
          "model_name": "LayoutModel",
          "model_module_version": "1.2.0",
          "state": {
            "_view_name": "LayoutView",
            "grid_template_rows": null,
            "right": null,
            "justify_content": null,
            "_view_module": "@jupyter-widgets/base",
            "overflow": null,
            "_model_module_version": "1.2.0",
            "_view_count": null,
            "flex_flow": null,
            "width": null,
            "min_width": null,
            "border": null,
            "align_items": null,
            "bottom": null,
            "_model_module": "@jupyter-widgets/base",
            "top": null,
            "grid_column": null,
            "overflow_y": null,
            "overflow_x": null,
            "grid_auto_flow": null,
            "grid_area": null,
            "grid_template_columns": null,
            "flex": null,
            "_model_name": "LayoutModel",
            "justify_items": null,
            "grid_row": null,
            "max_height": null,
            "align_content": null,
            "visibility": null,
            "align_self": null,
            "height": null,
            "min_height": null,
            "padding": null,
            "grid_auto_rows": null,
            "grid_gap": null,
            "max_width": null,
            "order": null,
            "_view_module_version": "1.2.0",
            "grid_template_areas": null,
            "object_position": null,
            "object_fit": null,
            "grid_auto_columns": null,
            "margin": null,
            "display": null,
            "left": null
          }
        },
        "dc8f682a6c3c4b5d81d8a42919cea974": {
          "model_module": "@jupyter-widgets/controls",
          "model_name": "HBoxModel",
          "model_module_version": "1.5.0",
          "state": {
            "_view_name": "HBoxView",
            "_dom_classes": [],
            "_model_name": "HBoxModel",
            "_view_module": "@jupyter-widgets/controls",
            "_model_module_version": "1.5.0",
            "_view_count": null,
            "_view_module_version": "1.5.0",
            "box_style": "",
            "layout": "IPY_MODEL_4cbfc6b4416e41b0a5cd16c2b8742a2a",
            "_model_module": "@jupyter-widgets/controls",
            "children": [
              "IPY_MODEL_c43cb628e09f4d2a946388bf2649afeb",
              "IPY_MODEL_010d755470ca4eb580cb50bcdd06152c",
              "IPY_MODEL_29e75250b2dd423998ab7f1539c91c14"
            ]
          }
        },
        "4cbfc6b4416e41b0a5cd16c2b8742a2a": {
          "model_module": "@jupyter-widgets/base",
          "model_name": "LayoutModel",
          "model_module_version": "1.2.0",
          "state": {
            "_view_name": "LayoutView",
            "grid_template_rows": null,
            "right": null,
            "justify_content": null,
            "_view_module": "@jupyter-widgets/base",
            "overflow": null,
            "_model_module_version": "1.2.0",
            "_view_count": null,
            "flex_flow": null,
            "width": null,
            "min_width": null,
            "border": null,
            "align_items": null,
            "bottom": null,
            "_model_module": "@jupyter-widgets/base",
            "top": null,
            "grid_column": null,
            "overflow_y": null,
            "overflow_x": null,
            "grid_auto_flow": null,
            "grid_area": null,
            "grid_template_columns": null,
            "flex": null,
            "_model_name": "LayoutModel",
            "justify_items": null,
            "grid_row": null,
            "max_height": null,
            "align_content": null,
            "visibility": null,
            "align_self": null,
            "height": null,
            "min_height": null,
            "padding": null,
            "grid_auto_rows": null,
            "grid_gap": null,
            "max_width": null,
            "order": null,
            "_view_module_version": "1.2.0",
            "grid_template_areas": null,
            "object_position": null,
            "object_fit": null,
            "grid_auto_columns": null,
            "margin": null,
            "display": null,
            "left": null
          }
        },
        "c43cb628e09f4d2a946388bf2649afeb": {
          "model_module": "@jupyter-widgets/controls",
          "model_name": "HTMLModel",
          "model_module_version": "1.5.0",
          "state": {
            "_view_name": "HTMLView",
            "style": "IPY_MODEL_9f02e5a362c04e3ebe91f72aa48b0065",
            "_dom_classes": [],
            "description": "",
            "_model_name": "HTMLModel",
            "placeholder": "​",
            "_view_module": "@jupyter-widgets/controls",
            "_model_module_version": "1.5.0",
            "value": "100%",
            "_view_count": null,
            "_view_module_version": "1.5.0",
            "description_tooltip": null,
            "_model_module": "@jupyter-widgets/controls",
            "layout": "IPY_MODEL_0f621eda72e34c4eb3ec04fe2ed9f857"
          }
        },
        "010d755470ca4eb580cb50bcdd06152c": {
          "model_module": "@jupyter-widgets/controls",
          "model_name": "FloatProgressModel",
          "model_module_version": "1.5.0",
          "state": {
            "_view_name": "ProgressView",
            "style": "IPY_MODEL_c4adba7987d64b3189dc9cae8c632e73",
            "_dom_classes": [],
            "description": "",
            "_model_name": "FloatProgressModel",
            "bar_style": "success",
            "max": 30,
            "_view_module": "@jupyter-widgets/controls",
            "_model_module_version": "1.5.0",
            "value": 30,
            "_view_count": null,
            "_view_module_version": "1.5.0",
            "orientation": "horizontal",
            "min": 0,
            "description_tooltip": null,
            "_model_module": "@jupyter-widgets/controls",
            "layout": "IPY_MODEL_4c6fe0ef454d497d95517a1ec39dd913"
          }
        },
        "29e75250b2dd423998ab7f1539c91c14": {
          "model_module": "@jupyter-widgets/controls",
          "model_name": "HTMLModel",
          "model_module_version": "1.5.0",
          "state": {
            "_view_name": "HTMLView",
            "style": "IPY_MODEL_c3b6481e6e3f4999bf0e98fe2d973b48",
            "_dom_classes": [],
            "description": "",
            "_model_name": "HTMLModel",
            "placeholder": "​",
            "_view_module": "@jupyter-widgets/controls",
            "_model_module_version": "1.5.0",
            "value": " 30/30 [00:08&lt;00:00,  3.60it/s]",
            "_view_count": null,
            "_view_module_version": "1.5.0",
            "description_tooltip": null,
            "_model_module": "@jupyter-widgets/controls",
            "layout": "IPY_MODEL_93d9f365e7fa486b8b44310bee1605df"
          }
        },
        "9f02e5a362c04e3ebe91f72aa48b0065": {
          "model_module": "@jupyter-widgets/controls",
          "model_name": "DescriptionStyleModel",
          "model_module_version": "1.5.0",
          "state": {
            "_view_name": "StyleView",
            "_model_name": "DescriptionStyleModel",
            "description_width": "",
            "_view_module": "@jupyter-widgets/base",
            "_model_module_version": "1.5.0",
            "_view_count": null,
            "_view_module_version": "1.2.0",
            "_model_module": "@jupyter-widgets/controls"
          }
        },
        "0f621eda72e34c4eb3ec04fe2ed9f857": {
          "model_module": "@jupyter-widgets/base",
          "model_name": "LayoutModel",
          "model_module_version": "1.2.0",
          "state": {
            "_view_name": "LayoutView",
            "grid_template_rows": null,
            "right": null,
            "justify_content": null,
            "_view_module": "@jupyter-widgets/base",
            "overflow": null,
            "_model_module_version": "1.2.0",
            "_view_count": null,
            "flex_flow": null,
            "width": null,
            "min_width": null,
            "border": null,
            "align_items": null,
            "bottom": null,
            "_model_module": "@jupyter-widgets/base",
            "top": null,
            "grid_column": null,
            "overflow_y": null,
            "overflow_x": null,
            "grid_auto_flow": null,
            "grid_area": null,
            "grid_template_columns": null,
            "flex": null,
            "_model_name": "LayoutModel",
            "justify_items": null,
            "grid_row": null,
            "max_height": null,
            "align_content": null,
            "visibility": null,
            "align_self": null,
            "height": null,
            "min_height": null,
            "padding": null,
            "grid_auto_rows": null,
            "grid_gap": null,
            "max_width": null,
            "order": null,
            "_view_module_version": "1.2.0",
            "grid_template_areas": null,
            "object_position": null,
            "object_fit": null,
            "grid_auto_columns": null,
            "margin": null,
            "display": null,
            "left": null
          }
        },
        "c4adba7987d64b3189dc9cae8c632e73": {
          "model_module": "@jupyter-widgets/controls",
          "model_name": "ProgressStyleModel",
          "model_module_version": "1.5.0",
          "state": {
            "_view_name": "StyleView",
            "_model_name": "ProgressStyleModel",
            "description_width": "",
            "_view_module": "@jupyter-widgets/base",
            "_model_module_version": "1.5.0",
            "_view_count": null,
            "_view_module_version": "1.2.0",
            "bar_color": null,
            "_model_module": "@jupyter-widgets/controls"
          }
        },
        "4c6fe0ef454d497d95517a1ec39dd913": {
          "model_module": "@jupyter-widgets/base",
          "model_name": "LayoutModel",
          "model_module_version": "1.2.0",
          "state": {
            "_view_name": "LayoutView",
            "grid_template_rows": null,
            "right": null,
            "justify_content": null,
            "_view_module": "@jupyter-widgets/base",
            "overflow": null,
            "_model_module_version": "1.2.0",
            "_view_count": null,
            "flex_flow": null,
            "width": null,
            "min_width": null,
            "border": null,
            "align_items": null,
            "bottom": null,
            "_model_module": "@jupyter-widgets/base",
            "top": null,
            "grid_column": null,
            "overflow_y": null,
            "overflow_x": null,
            "grid_auto_flow": null,
            "grid_area": null,
            "grid_template_columns": null,
            "flex": null,
            "_model_name": "LayoutModel",
            "justify_items": null,
            "grid_row": null,
            "max_height": null,
            "align_content": null,
            "visibility": null,
            "align_self": null,
            "height": null,
            "min_height": null,
            "padding": null,
            "grid_auto_rows": null,
            "grid_gap": null,
            "max_width": null,
            "order": null,
            "_view_module_version": "1.2.0",
            "grid_template_areas": null,
            "object_position": null,
            "object_fit": null,
            "grid_auto_columns": null,
            "margin": null,
            "display": null,
            "left": null
          }
        },
        "c3b6481e6e3f4999bf0e98fe2d973b48": {
          "model_module": "@jupyter-widgets/controls",
          "model_name": "DescriptionStyleModel",
          "model_module_version": "1.5.0",
          "state": {
            "_view_name": "StyleView",
            "_model_name": "DescriptionStyleModel",
            "description_width": "",
            "_view_module": "@jupyter-widgets/base",
            "_model_module_version": "1.5.0",
            "_view_count": null,
            "_view_module_version": "1.2.0",
            "_model_module": "@jupyter-widgets/controls"
          }
        },
        "93d9f365e7fa486b8b44310bee1605df": {
          "model_module": "@jupyter-widgets/base",
          "model_name": "LayoutModel",
          "model_module_version": "1.2.0",
          "state": {
            "_view_name": "LayoutView",
            "grid_template_rows": null,
            "right": null,
            "justify_content": null,
            "_view_module": "@jupyter-widgets/base",
            "overflow": null,
            "_model_module_version": "1.2.0",
            "_view_count": null,
            "flex_flow": null,
            "width": null,
            "min_width": null,
            "border": null,
            "align_items": null,
            "bottom": null,
            "_model_module": "@jupyter-widgets/base",
            "top": null,
            "grid_column": null,
            "overflow_y": null,
            "overflow_x": null,
            "grid_auto_flow": null,
            "grid_area": null,
            "grid_template_columns": null,
            "flex": null,
            "_model_name": "LayoutModel",
            "justify_items": null,
            "grid_row": null,
            "max_height": null,
            "align_content": null,
            "visibility": null,
            "align_self": null,
            "height": null,
            "min_height": null,
            "padding": null,
            "grid_auto_rows": null,
            "grid_gap": null,
            "max_width": null,
            "order": null,
            "_view_module_version": "1.2.0",
            "grid_template_areas": null,
            "object_position": null,
            "object_fit": null,
            "grid_auto_columns": null,
            "margin": null,
            "display": null,
            "left": null
          }
        }
      }
    }
  },
  "cells": [
    {
      "cell_type": "markdown",
      "metadata": {
        "id": "view-in-github",
        "colab_type": "text"
      },
      "source": [
        "<a href=\"https://colab.research.google.com/github/alovberg/cumulative-damage-pytorch/blob/main/PINN_Paris_law.ipynb\" target=\"_parent\"><img src=\"https://colab.research.google.com/assets/colab-badge.svg\" alt=\"Open In Colab\"/></a>"
      ]
    },
    {
      "cell_type": "markdown",
      "source": [
        "## Cumulative damage modeling with physics-informed neural networks (PINNs)\n",
        "\n",
        "\n",
        "In this notebook we implement the paper [Cumulative Damage Modeling with Recurrent Neural Networks](https://arc.aiaa.org/doi/abs/10.2514/1.J059250) by RG Nascimento et al. with some (slight) modifications.\n",
        "\n",
        "Original tensorflow implementation can be found [here](https://github.com/PML-UCF/pinn/tree/master/samples/cumulative_damage/airplane_fleet_crack_growth).\n",
        "\n",
        "The dataset consists of fatigue crack growth measurements on aircraft fuselage panels. The far-field stress $\\Delta S$ is continueously measured 4 times per day. In total, there are 300 aircrafts in the dataset with various mission profiles (varying $\\Delta S$). The data is collected over the course of 5 years.\n",
        "\n",
        "In addition to the far-field stress, material properties for the Paris crack law $\\frac{da}{dn} = C \\Delta K^m $ is provided:\n",
        "\n",
        "$C = 1.5 \\times 10^{-11}$\n",
        "\n",
        "$m = 3.8$\n",
        "\n",
        "The initial crack length, $a_0$, is assumed to be 0.005 m and the maximum length, $a_{max}$ is 0.05 m.\n",
        "\n",
        "### Scenario\n",
        "The scenario we try to model here is the following. At the end of year 5, a small number of aircraft fuselage panels are inspected and the crack length measured. We then use these labels to create a model that maps from the far-field stress history to the crack length: $\\Delta S_{t_{0}...t} → a_{t}$. This way, we can then use that model to infer the crack lengths of the whole fleet."
      ],
      "metadata": {
        "id": "JUFItcGAE9rc"
      }
    },
    {
      "cell_type": "markdown",
      "source": [
        "### Imports"
      ],
      "metadata": {
        "id": "C-rwy9iLBpU2"
      }
    },
    {
      "cell_type": "code",
      "execution_count": 1,
      "metadata": {
        "id": "4Pt9VnhyEqmu"
      },
      "outputs": [],
      "source": [
        "import pandas as pd\n",
        "import numpy as np\n",
        "import torch\n",
        "import torch.nn as nn\n",
        "import torch.nn.functional as F\n",
        "import torch.utils.data as data_utils\n",
        "import matplotlib.pyplot as plt\n",
        "from tqdm.auto import tqdm\n",
        "\n",
        "%matplotlib inline\n",
        "%config InlineBackend.figure_format = 'svg'\n",
        "\n",
        "device = torch.device(\"cuda:0\" if torch.cuda.is_available() else \"cpu\")"
      ]
    },
    {
      "cell_type": "markdown",
      "source": [
        "### Load data"
      ],
      "metadata": {
        "id": "vijbAoGlBrad"
      }
    },
    {
      "cell_type": "code",
      "source": [
        "!wget https://raw.githubusercontent.com/PML-UCF/pinn/master/samples/cumulative_damage/airplane_fleet_crack_growth/SFleet_5yrs.csv\n",
        "!wget https://raw.githubusercontent.com/PML-UCF/pinn/master/samples/cumulative_damage/airplane_fleet_crack_growth/aFleet_5yrs.csv"
      ],
      "metadata": {
        "colab": {
          "base_uri": "https://localhost:8080/"
        },
        "id": "asDT3PBvBsJv",
        "outputId": "4ad82e08-e3c7-4841-becb-c8fa815a8997"
      },
      "execution_count": 2,
      "outputs": [
        {
          "output_type": "stream",
          "name": "stdout",
          "text": [
            "--2022-01-15 11:38:46--  https://raw.githubusercontent.com/PML-UCF/pinn/master/samples/cumulative_damage/airplane_fleet_crack_growth/SFleet_5yrs.csv\n",
            "Resolving raw.githubusercontent.com (raw.githubusercontent.com)... 185.199.108.133, 185.199.109.133, 185.199.110.133, ...\n",
            "Connecting to raw.githubusercontent.com (raw.githubusercontent.com)|185.199.108.133|:443... connected.\n",
            "HTTP request sent, awaiting response... 200 OK\n",
            "Length: 40498000 (39M) [text/plain]\n",
            "Saving to: ‘SFleet_5yrs.csv’\n",
            "\n",
            "SFleet_5yrs.csv     100%[===================>]  38.62M   197MB/s    in 0.2s    \n",
            "\n",
            "2022-01-15 11:38:47 (197 MB/s) - ‘SFleet_5yrs.csv’ saved [40498000/40498000]\n",
            "\n",
            "--2022-01-15 11:38:47--  https://raw.githubusercontent.com/PML-UCF/pinn/master/samples/cumulative_damage/airplane_fleet_crack_growth/aFleet_5yrs.csv\n",
            "Resolving raw.githubusercontent.com (raw.githubusercontent.com)... 185.199.110.133, 185.199.109.133, 185.199.111.133, ...\n",
            "Connecting to raw.githubusercontent.com (raw.githubusercontent.com)|185.199.110.133|:443... connected.\n",
            "HTTP request sent, awaiting response... 200 OK\n",
            "Length: 45985269 (44M) [text/plain]\n",
            "Saving to: ‘aFleet_5yrs.csv’\n",
            "\n",
            "aFleet_5yrs.csv     100%[===================>]  43.85M   207MB/s    in 0.2s    \n",
            "\n",
            "2022-01-15 11:38:48 (207 MB/s) - ‘aFleet_5yrs.csv’ saved [45985269/45985269]\n",
            "\n"
          ]
        }
      ]
    },
    {
      "cell_type": "code",
      "source": [
        "def load_data(n_train, scale_s = False):\n",
        "    \"\"\"\n",
        "    Loads the data. Args:\n",
        "        n_train (int): number of aircrafts to use for training\n",
        "        scale_s (bool): min-max scaling of far-field stress S\n",
        "        scale_a (bool): min-max scaling of crack length a\n",
        "    \"\"\"\n",
        "\n",
        "    # Read txt files\n",
        "    a = pd.read_csv('aFleet_5yrs.csv')\n",
        "    S = pd.read_csv('SFleet_5yrs.csv')\n",
        "    S = np.transpose(np.asarray(S))\n",
        "    a = np.asarray(a)\n",
        "\n",
        "    # Physics constants\n",
        "    a0      = 0.005     # initial crack length\n",
        "    C       = 1.5e-11   # C constant in Paris law\n",
        "    m       = 3.8       # Exponent in Paris law\n",
        "\n",
        "    if scale_s:\n",
        "      S = (S - np.min(S)) / (np.max(S) - np.min(S))    \n",
        "\n",
        "    # Sample uniformly across load conditions/crack lengths\n",
        "    idx = np.argsort(a[-1, :])\n",
        "    arange = np.asarray(np.linspace(0, 299, n_train), dtype=int)\n",
        "    idxTrain = idx[arange]\n",
        "\n",
        "    # Extract training instances\n",
        "    S_train = S[idxTrain, :]\n",
        "    S_train = S_train[:, :, np.newaxis]\n",
        "    S = S[:, :, np.newaxis]\n",
        "    a_train = a[:, idxTrain]\n",
        "    a_train = np.transpose(a_train)\n",
        "    a = np.transpose(a)\n",
        "\n",
        "    a_train_scaled = (a_train - 0.005) / (0.05 - 0.005)\n",
        "    a_scaled = (a - 0.005) / (0.05 - 0.005)\n",
        "\n",
        "    return S, S_train, a, a_scaled, a_train, a_train_scaled, a0, C, m"
      ],
      "metadata": {
        "id": "ItP90q0IB6Vt"
      },
      "execution_count": 3,
      "outputs": []
    },
    {
      "cell_type": "code",
      "source": [
        "n_train = 10\n",
        "\n",
        "S, S_train, a, a_scaled, a_train, a_train_scaled, a0, C, m = load_data(n_train, scale_s=True)\n",
        "print(S.shape, S_train.shape, a.shape, a_scaled.shape, a_train.shape, a_train_scaled.shape)"
      ],
      "metadata": {
        "colab": {
          "base_uri": "https://localhost:8080/"
        },
        "id": "HUKrt5WGOIH3",
        "outputId": "cb6a31f0-0d06-4971-ea53-26f7bb2c81e8"
      },
      "execution_count": 4,
      "outputs": [
        {
          "output_type": "stream",
          "name": "stdout",
          "text": [
            "(300, 7300, 1) (10, 7300, 1) (300, 7300) (300, 7300) (10, 7300) (10, 7300)\n"
          ]
        }
      ]
    },
    {
      "cell_type": "code",
      "source": [
        "# Train DataLoader\n",
        "X = torch.from_numpy(S_train).to(device)\n",
        "y = torch.from_numpy(a_train_scaled).to(device)\n",
        "\n",
        "batch_size = n_train\n",
        "train_loader = data_utils.DataLoader(data_utils.TensorDataset(X, y),\n",
        "                                     batch_size=batch_size, shuffle=True)"
      ],
      "metadata": {
        "id": "XH5bGX3_yHdj"
      },
      "execution_count": 5,
      "outputs": []
    },
    {
      "cell_type": "code",
      "source": [
        "# Test DataLoader\n",
        "X_test = torch.from_numpy(S).to(device)\n",
        "y_test = torch.from_numpy(a_scaled).to(device)\n",
        "\n",
        "test_loader = data_utils.DataLoader(data_utils.TensorDataset(X_test, y_test),\n",
        "                                     batch_size=batch_size, shuffle=False)"
      ],
      "metadata": {
        "id": "M_BHtHf0yMtk"
      },
      "execution_count": 6,
      "outputs": []
    },
    {
      "cell_type": "markdown",
      "source": [
        "## Data-driven model\n",
        "\n",
        "2-layer gated recurrent unit (GRU). For this model, we do not use any physics-knowledge."
      ],
      "metadata": {
        "id": "MEsD6VeOyhns"
      }
    },
    {
      "cell_type": "code",
      "source": [
        "class RNN(nn.Module):\n",
        "    def __init__(self, input_dim, hidden_dim, num_layers):\n",
        "        super().__init__()\n",
        "        self.rnn = nn.GRU(input_dim,hidden_dim,\n",
        "                           num_layers=num_layers,\n",
        "                           batch_first=True)\n",
        "        self.out = nn.Linear(hidden_dim,1)\n",
        "\n",
        "    def forward(self,x):\n",
        "        x,_ = self.rnn(x)\n",
        "        return self.out(x)"
      ],
      "metadata": {
        "id": "qC6fFghDLi9m"
      },
      "execution_count": 7,
      "outputs": []
    },
    {
      "cell_type": "code",
      "source": [
        "lr = 1e-3\n",
        "wd = 0.0\n",
        "\n",
        "model = RNN(1,64,2).to(device)\n",
        "optimizer = torch.optim.AdamW(model.parameters(),lr=lr,weight_decay=wd)"
      ],
      "metadata": {
        "id": "-7Uqyfyi6Z2C"
      },
      "execution_count": 8,
      "outputs": []
    },
    {
      "cell_type": "code",
      "source": [
        "# Training loop\n",
        "n_epochs = 500\n",
        "loss_fn = nn.MSELoss()\n",
        "model.train()\n",
        "\n",
        "loop = tqdm(range(n_epochs),leave=False)\n",
        "for epoch in loop:\n",
        "    epoch_loss = 0.\n",
        "    for batch in train_loader:\n",
        "        \n",
        "        # Get inputs and targets\n",
        "        inputs, targets = batch\n",
        "        inputs = inputs.float().to(device)\n",
        "        targets = targets.float().to(device)\n",
        "\n",
        "        # Set optimizer grads to zero\n",
        "        optimizer.zero_grad()\n",
        "\n",
        "        # Get outpute of model\n",
        "        output = model(inputs)\n",
        "        output = output.squeeze(-1)\n",
        "\n",
        "        # Inspection point is at year 5, thus we only use the last label\n",
        "        output = output[:,-1:]\n",
        "        targets = targets[:,-1:]\n",
        "        \n",
        "        # Calculate loss\n",
        "        loss = loss_fn(output,targets)\n",
        "        epoch_loss += loss.item()\n",
        "\n",
        "        # Backprop & step optimizer\n",
        "        loss.backward()\n",
        "        optimizer.step()\n",
        "\n",
        "        # Update progress bar\n",
        "        loop.set_description(f\"Epoch [{epoch} / {n_epochs}]\")\n",
        "        loop.set_postfix(loss = loss.item())\n",
        "\n",
        "print('training done')\n",
        "print(f\"Final epoch loss: {loss.item()}\")"
      ],
      "metadata": {
        "colab": {
          "base_uri": "https://localhost:8080/",
          "height": 52,
          "referenced_widgets": [
            "075e0a6ae55542b3bebc40a3adc2cf39",
            "a0996bfeb5af450097cc7b9e12a7ee34",
            "ecd439149e3341eaa6136b079f9556d8",
            "eb259fd6693a403aac78af7f55b87774",
            "fe80c2cd6aee4f6aa1721efe0506bfa1",
            "0660b5b623a7400c9ab7fe1d7069e760",
            "41fe2860d3ba402b9923fc004f27ad57",
            "feeee26cf62541119109185a5ac79318",
            "ba91ee83926d42b3a87b3720e9440afc",
            "8e781eeba5c14bfb938b8f9238f30ea5",
            "d59538ceef4d42debfcffa40f2e56c09"
          ]
        },
        "id": "9i3llA4VLjCK",
        "outputId": "b708b7ff-4d27-453c-cb0e-83fe8777c574"
      },
      "execution_count": 9,
      "outputs": [
        {
          "output_type": "display_data",
          "data": {
            "application/vnd.jupyter.widget-view+json": {
              "model_id": "075e0a6ae55542b3bebc40a3adc2cf39",
              "version_minor": 0,
              "version_major": 2
            },
            "text/plain": [
              "  0%|          | 0/500 [00:00<?, ?it/s]"
            ]
          },
          "metadata": {}
        },
        {
          "output_type": "stream",
          "name": "stdout",
          "text": [
            "training done\n",
            "Final epoch loss: 6.7919070716016e-05\n"
          ]
        }
      ]
    },
    {
      "cell_type": "code",
      "source": [
        "model.eval()\n",
        "\n",
        "preds = []\n",
        "\n",
        "for test_batch in tqdm(test_loader):\n",
        "    \n",
        "    # Get inputs and targets\n",
        "    inputs, targets = test_batch\n",
        "    inputs = inputs.type(torch.cuda.FloatTensor)\n",
        "    targets = targets.type(torch.cuda.FloatTensor)\n",
        "\n",
        "    # Get outpute of model\n",
        "    predictions = model(inputs)\n",
        "    predictions = predictions[:,-1:,:].squeeze(1)\n",
        "    predictions = predictions.detach().cpu().numpy()\n",
        "    preds.append(predictions)\n",
        "\n",
        "preds = np.concatenate(preds,0)"
      ],
      "metadata": {
        "id": "m3CBJHgELjGW",
        "colab": {
          "base_uri": "https://localhost:8080/",
          "height": 49,
          "referenced_widgets": [
            "1c4c9262beca48c0b6d27612cee0f260",
            "893cad948c8c40f4ad31f708ff3f28f4",
            "2ecaae67d36a48a5bc29f466eb3a3e98",
            "2f039f268bb74ba695d48aa6ba888cae",
            "7cb3d11ca6c24d8694f4694b66c87a9e",
            "5be9563f7ea1422b8b62b793b6267e94",
            "50041bd8d2fd43dd911e180cbb71e70d",
            "22a37e632025456fb26e9e600b76b222",
            "98a5fea98a254e4fb65758559425c58e",
            "935b015153244a8fa0e73a81333c5b49",
            "19a9a865441d46938eec3d5a2bdbe76d"
          ]
        },
        "outputId": "48b2ca03-010e-4422-fd82-ef8c4c4f6343"
      },
      "execution_count": 10,
      "outputs": [
        {
          "output_type": "display_data",
          "data": {
            "application/vnd.jupyter.widget-view+json": {
              "model_id": "1c4c9262beca48c0b6d27612cee0f260",
              "version_minor": 0,
              "version_major": 2
            },
            "text/plain": [
              "  0%|          | 0/30 [00:00<?, ?it/s]"
            ]
          },
          "metadata": {}
        }
      ]
    },
    {
      "cell_type": "code",
      "source": [
        "preds = preds.squeeze(-1)\n",
        "# Re-scale crack length to original scale\n",
        "preds = 0.005 + preds * (0.05 - 0.005)"
      ],
      "metadata": {
        "id": "aju-k-Ik655i"
      },
      "execution_count": 11,
      "outputs": []
    },
    {
      "cell_type": "code",
      "source": [
        "plt.plot([0.005, 0.035], [0.005, 0.035], '--k')\n",
        "plt.plot(a[:,-1:].squeeze(-1), preds, 'o')\n",
        "plt.title(\"2-layer Gated Recurrent Unit\")\n",
        "plt.ylabel('Predicted crack length a [m]')\n",
        "plt.xlabel('Actual crack length a [m]')"
      ],
      "metadata": {
        "colab": {
          "base_uri": "https://localhost:8080/",
          "height": 408
        },
        "id": "KuWP2MxVNypa",
        "outputId": "16da7534-b8ee-4aaa-e7f7-1aa99ce29278"
      },
      "execution_count": 12,
      "outputs": [
        {
          "output_type": "execute_result",
          "data": {
            "text/plain": [
              "Text(0.5, 0, 'Actual crack length a [m]')"
            ]
          },
          "metadata": {},
          "execution_count": 12
        },
        {
          "output_type": "display_data",
          "data": {
            "text/plain": [
              "<Figure size 432x288 with 1 Axes>"
            ],
            "image/svg+xml": "<?xml version=\"1.0\" encoding=\"utf-8\" standalone=\"no\"?>\n<!DOCTYPE svg PUBLIC \"-//W3C//DTD SVG 1.1//EN\"\n  \"http://www.w3.org/Graphics/SVG/1.1/DTD/svg11.dtd\">\n<!-- Created with matplotlib (https://matplotlib.org/) -->\n<svg height=\"277.314375pt\" version=\"1.1\" viewBox=\"0 0 398.50625 277.314375\" width=\"398.50625pt\" xmlns=\"http://www.w3.org/2000/svg\" xmlns:xlink=\"http://www.w3.org/1999/xlink\">\n <defs>\n  <style type=\"text/css\">\n*{stroke-linecap:butt;stroke-linejoin:round;}\n  </style>\n </defs>\n <g id=\"figure_1\">\n  <g id=\"patch_1\">\n   <path d=\"M 0 277.314375 \nL 398.50625 277.314375 \nL 398.50625 0 \nL 0 0 \nz\n\" style=\"fill:none;\"/>\n  </g>\n  <g id=\"axes_1\">\n   <g id=\"patch_2\">\n    <path d=\"M 56.50625 239.758125 \nL 391.30625 239.758125 \nL 391.30625 22.318125 \nL 56.50625 22.318125 \nz\n\" style=\"fill:#ffffff;\"/>\n   </g>\n   <g id=\"matplotlib.axis_1\">\n    <g id=\"xtick_1\">\n     <g id=\"line2d_1\">\n      <defs>\n       <path d=\"M 0 0 \nL 0 3.5 \n\" id=\"mb01dcfe6a1\" style=\"stroke:#000000;stroke-width:0.8;\"/>\n      </defs>\n      <g>\n       <use style=\"stroke:#000000;stroke-width:0.8;\" x=\"71.724432\" xlink:href=\"#mb01dcfe6a1\" y=\"239.758125\"/>\n      </g>\n     </g>\n     <g id=\"text_1\">\n      <!-- 0.005 -->\n      <defs>\n       <path d=\"M 31.78125 66.40625 \nQ 24.171875 66.40625 20.328125 58.90625 \nQ 16.5 51.421875 16.5 36.375 \nQ 16.5 21.390625 20.328125 13.890625 \nQ 24.171875 6.390625 31.78125 6.390625 \nQ 39.453125 6.390625 43.28125 13.890625 \nQ 47.125 21.390625 47.125 36.375 \nQ 47.125 51.421875 43.28125 58.90625 \nQ 39.453125 66.40625 31.78125 66.40625 \nz\nM 31.78125 74.21875 \nQ 44.046875 74.21875 50.515625 64.515625 \nQ 56.984375 54.828125 56.984375 36.375 \nQ 56.984375 17.96875 50.515625 8.265625 \nQ 44.046875 -1.421875 31.78125 -1.421875 \nQ 19.53125 -1.421875 13.0625 8.265625 \nQ 6.59375 17.96875 6.59375 36.375 \nQ 6.59375 54.828125 13.0625 64.515625 \nQ 19.53125 74.21875 31.78125 74.21875 \nz\n\" id=\"DejaVuSans-48\"/>\n       <path d=\"M 10.6875 12.40625 \nL 21 12.40625 \nL 21 0 \nL 10.6875 0 \nz\n\" id=\"DejaVuSans-46\"/>\n       <path d=\"M 10.796875 72.90625 \nL 49.515625 72.90625 \nL 49.515625 64.59375 \nL 19.828125 64.59375 \nL 19.828125 46.734375 \nQ 21.96875 47.46875 24.109375 47.828125 \nQ 26.265625 48.1875 28.421875 48.1875 \nQ 40.625 48.1875 47.75 41.5 \nQ 54.890625 34.8125 54.890625 23.390625 \nQ 54.890625 11.625 47.5625 5.09375 \nQ 40.234375 -1.421875 26.90625 -1.421875 \nQ 22.3125 -1.421875 17.546875 -0.640625 \nQ 12.796875 0.140625 7.71875 1.703125 \nL 7.71875 11.625 \nQ 12.109375 9.234375 16.796875 8.0625 \nQ 21.484375 6.890625 26.703125 6.890625 \nQ 35.15625 6.890625 40.078125 11.328125 \nQ 45.015625 15.765625 45.015625 23.390625 \nQ 45.015625 31 40.078125 35.4375 \nQ 35.15625 39.890625 26.703125 39.890625 \nQ 22.75 39.890625 18.8125 39.015625 \nQ 14.890625 38.140625 10.796875 36.28125 \nz\n\" id=\"DejaVuSans-53\"/>\n      </defs>\n      <g transform=\"translate(57.410369 254.356562)scale(0.1 -0.1)\">\n       <use xlink:href=\"#DejaVuSans-48\"/>\n       <use x=\"63.623047\" xlink:href=\"#DejaVuSans-46\"/>\n       <use x=\"95.410156\" xlink:href=\"#DejaVuSans-48\"/>\n       <use x=\"159.033203\" xlink:href=\"#DejaVuSans-48\"/>\n       <use x=\"222.65625\" xlink:href=\"#DejaVuSans-53\"/>\n      </g>\n     </g>\n    </g>\n    <g id=\"xtick_2\">\n     <g id=\"line2d_2\">\n      <g>\n       <use style=\"stroke:#000000;stroke-width:0.8;\" x=\"122.451705\" xlink:href=\"#mb01dcfe6a1\" y=\"239.758125\"/>\n      </g>\n     </g>\n     <g id=\"text_2\">\n      <!-- 0.010 -->\n      <defs>\n       <path d=\"M 12.40625 8.296875 \nL 28.515625 8.296875 \nL 28.515625 63.921875 \nL 10.984375 60.40625 \nL 10.984375 69.390625 \nL 28.421875 72.90625 \nL 38.28125 72.90625 \nL 38.28125 8.296875 \nL 54.390625 8.296875 \nL 54.390625 0 \nL 12.40625 0 \nz\n\" id=\"DejaVuSans-49\"/>\n      </defs>\n      <g transform=\"translate(108.137642 254.356562)scale(0.1 -0.1)\">\n       <use xlink:href=\"#DejaVuSans-48\"/>\n       <use x=\"63.623047\" xlink:href=\"#DejaVuSans-46\"/>\n       <use x=\"95.410156\" xlink:href=\"#DejaVuSans-48\"/>\n       <use x=\"159.033203\" xlink:href=\"#DejaVuSans-49\"/>\n       <use x=\"222.65625\" xlink:href=\"#DejaVuSans-48\"/>\n      </g>\n     </g>\n    </g>\n    <g id=\"xtick_3\">\n     <g id=\"line2d_3\">\n      <g>\n       <use style=\"stroke:#000000;stroke-width:0.8;\" x=\"173.178977\" xlink:href=\"#mb01dcfe6a1\" y=\"239.758125\"/>\n      </g>\n     </g>\n     <g id=\"text_3\">\n      <!-- 0.015 -->\n      <g transform=\"translate(158.864915 254.356562)scale(0.1 -0.1)\">\n       <use xlink:href=\"#DejaVuSans-48\"/>\n       <use x=\"63.623047\" xlink:href=\"#DejaVuSans-46\"/>\n       <use x=\"95.410156\" xlink:href=\"#DejaVuSans-48\"/>\n       <use x=\"159.033203\" xlink:href=\"#DejaVuSans-49\"/>\n       <use x=\"222.65625\" xlink:href=\"#DejaVuSans-53\"/>\n      </g>\n     </g>\n    </g>\n    <g id=\"xtick_4\">\n     <g id=\"line2d_4\">\n      <g>\n       <use style=\"stroke:#000000;stroke-width:0.8;\" x=\"223.90625\" xlink:href=\"#mb01dcfe6a1\" y=\"239.758125\"/>\n      </g>\n     </g>\n     <g id=\"text_4\">\n      <!-- 0.020 -->\n      <defs>\n       <path d=\"M 19.1875 8.296875 \nL 53.609375 8.296875 \nL 53.609375 0 \nL 7.328125 0 \nL 7.328125 8.296875 \nQ 12.9375 14.109375 22.625 23.890625 \nQ 32.328125 33.6875 34.8125 36.53125 \nQ 39.546875 41.84375 41.421875 45.53125 \nQ 43.3125 49.21875 43.3125 52.78125 \nQ 43.3125 58.59375 39.234375 62.25 \nQ 35.15625 65.921875 28.609375 65.921875 \nQ 23.96875 65.921875 18.8125 64.3125 \nQ 13.671875 62.703125 7.8125 59.421875 \nL 7.8125 69.390625 \nQ 13.765625 71.78125 18.9375 73 \nQ 24.125 74.21875 28.421875 74.21875 \nQ 39.75 74.21875 46.484375 68.546875 \nQ 53.21875 62.890625 53.21875 53.421875 \nQ 53.21875 48.921875 51.53125 44.890625 \nQ 49.859375 40.875 45.40625 35.40625 \nQ 44.1875 33.984375 37.640625 27.21875 \nQ 31.109375 20.453125 19.1875 8.296875 \nz\n\" id=\"DejaVuSans-50\"/>\n      </defs>\n      <g transform=\"translate(209.592188 254.356562)scale(0.1 -0.1)\">\n       <use xlink:href=\"#DejaVuSans-48\"/>\n       <use x=\"63.623047\" xlink:href=\"#DejaVuSans-46\"/>\n       <use x=\"95.410156\" xlink:href=\"#DejaVuSans-48\"/>\n       <use x=\"159.033203\" xlink:href=\"#DejaVuSans-50\"/>\n       <use x=\"222.65625\" xlink:href=\"#DejaVuSans-48\"/>\n      </g>\n     </g>\n    </g>\n    <g id=\"xtick_5\">\n     <g id=\"line2d_5\">\n      <g>\n       <use style=\"stroke:#000000;stroke-width:0.8;\" x=\"274.633523\" xlink:href=\"#mb01dcfe6a1\" y=\"239.758125\"/>\n      </g>\n     </g>\n     <g id=\"text_5\">\n      <!-- 0.025 -->\n      <g transform=\"translate(260.31946 254.356562)scale(0.1 -0.1)\">\n       <use xlink:href=\"#DejaVuSans-48\"/>\n       <use x=\"63.623047\" xlink:href=\"#DejaVuSans-46\"/>\n       <use x=\"95.410156\" xlink:href=\"#DejaVuSans-48\"/>\n       <use x=\"159.033203\" xlink:href=\"#DejaVuSans-50\"/>\n       <use x=\"222.65625\" xlink:href=\"#DejaVuSans-53\"/>\n      </g>\n     </g>\n    </g>\n    <g id=\"xtick_6\">\n     <g id=\"line2d_6\">\n      <g>\n       <use style=\"stroke:#000000;stroke-width:0.8;\" x=\"325.360795\" xlink:href=\"#mb01dcfe6a1\" y=\"239.758125\"/>\n      </g>\n     </g>\n     <g id=\"text_6\">\n      <!-- 0.030 -->\n      <defs>\n       <path d=\"M 40.578125 39.3125 \nQ 47.65625 37.796875 51.625 33 \nQ 55.609375 28.21875 55.609375 21.1875 \nQ 55.609375 10.40625 48.1875 4.484375 \nQ 40.765625 -1.421875 27.09375 -1.421875 \nQ 22.515625 -1.421875 17.65625 -0.515625 \nQ 12.796875 0.390625 7.625 2.203125 \nL 7.625 11.71875 \nQ 11.71875 9.328125 16.59375 8.109375 \nQ 21.484375 6.890625 26.8125 6.890625 \nQ 36.078125 6.890625 40.9375 10.546875 \nQ 45.796875 14.203125 45.796875 21.1875 \nQ 45.796875 27.640625 41.28125 31.265625 \nQ 36.765625 34.90625 28.71875 34.90625 \nL 20.21875 34.90625 \nL 20.21875 43.015625 \nL 29.109375 43.015625 \nQ 36.375 43.015625 40.234375 45.921875 \nQ 44.09375 48.828125 44.09375 54.296875 \nQ 44.09375 59.90625 40.109375 62.90625 \nQ 36.140625 65.921875 28.71875 65.921875 \nQ 24.65625 65.921875 20.015625 65.03125 \nQ 15.375 64.15625 9.8125 62.3125 \nL 9.8125 71.09375 \nQ 15.4375 72.65625 20.34375 73.4375 \nQ 25.25 74.21875 29.59375 74.21875 \nQ 40.828125 74.21875 47.359375 69.109375 \nQ 53.90625 64.015625 53.90625 55.328125 \nQ 53.90625 49.265625 50.4375 45.09375 \nQ 46.96875 40.921875 40.578125 39.3125 \nz\n\" id=\"DejaVuSans-51\"/>\n      </defs>\n      <g transform=\"translate(311.046733 254.356562)scale(0.1 -0.1)\">\n       <use xlink:href=\"#DejaVuSans-48\"/>\n       <use x=\"63.623047\" xlink:href=\"#DejaVuSans-46\"/>\n       <use x=\"95.410156\" xlink:href=\"#DejaVuSans-48\"/>\n       <use x=\"159.033203\" xlink:href=\"#DejaVuSans-51\"/>\n       <use x=\"222.65625\" xlink:href=\"#DejaVuSans-48\"/>\n      </g>\n     </g>\n    </g>\n    <g id=\"xtick_7\">\n     <g id=\"line2d_7\">\n      <g>\n       <use style=\"stroke:#000000;stroke-width:0.8;\" x=\"376.088068\" xlink:href=\"#mb01dcfe6a1\" y=\"239.758125\"/>\n      </g>\n     </g>\n     <g id=\"text_7\">\n      <!-- 0.035 -->\n      <g transform=\"translate(361.774006 254.356562)scale(0.1 -0.1)\">\n       <use xlink:href=\"#DejaVuSans-48\"/>\n       <use x=\"63.623047\" xlink:href=\"#DejaVuSans-46\"/>\n       <use x=\"95.410156\" xlink:href=\"#DejaVuSans-48\"/>\n       <use x=\"159.033203\" xlink:href=\"#DejaVuSans-51\"/>\n       <use x=\"222.65625\" xlink:href=\"#DejaVuSans-53\"/>\n      </g>\n     </g>\n    </g>\n    <g id=\"text_8\">\n     <!-- Actual crack length a [m] -->\n     <defs>\n      <path d=\"M 34.1875 63.1875 \nL 20.796875 26.90625 \nL 47.609375 26.90625 \nz\nM 28.609375 72.90625 \nL 39.796875 72.90625 \nL 67.578125 0 \nL 57.328125 0 \nL 50.6875 18.703125 \nL 17.828125 18.703125 \nL 11.1875 0 \nL 0.78125 0 \nz\n\" id=\"DejaVuSans-65\"/>\n      <path d=\"M 48.78125 52.59375 \nL 48.78125 44.1875 \nQ 44.96875 46.296875 41.140625 47.34375 \nQ 37.3125 48.390625 33.40625 48.390625 \nQ 24.65625 48.390625 19.8125 42.84375 \nQ 14.984375 37.3125 14.984375 27.296875 \nQ 14.984375 17.28125 19.8125 11.734375 \nQ 24.65625 6.203125 33.40625 6.203125 \nQ 37.3125 6.203125 41.140625 7.25 \nQ 44.96875 8.296875 48.78125 10.40625 \nL 48.78125 2.09375 \nQ 45.015625 0.34375 40.984375 -0.53125 \nQ 36.96875 -1.421875 32.421875 -1.421875 \nQ 20.0625 -1.421875 12.78125 6.34375 \nQ 5.515625 14.109375 5.515625 27.296875 \nQ 5.515625 40.671875 12.859375 48.328125 \nQ 20.21875 56 33.015625 56 \nQ 37.15625 56 41.109375 55.140625 \nQ 45.0625 54.296875 48.78125 52.59375 \nz\n\" id=\"DejaVuSans-99\"/>\n      <path d=\"M 18.3125 70.21875 \nL 18.3125 54.6875 \nL 36.8125 54.6875 \nL 36.8125 47.703125 \nL 18.3125 47.703125 \nL 18.3125 18.015625 \nQ 18.3125 11.328125 20.140625 9.421875 \nQ 21.96875 7.515625 27.59375 7.515625 \nL 36.8125 7.515625 \nL 36.8125 0 \nL 27.59375 0 \nQ 17.1875 0 13.234375 3.875 \nQ 9.28125 7.765625 9.28125 18.015625 \nL 9.28125 47.703125 \nL 2.6875 47.703125 \nL 2.6875 54.6875 \nL 9.28125 54.6875 \nL 9.28125 70.21875 \nz\n\" id=\"DejaVuSans-116\"/>\n      <path d=\"M 8.5 21.578125 \nL 8.5 54.6875 \nL 17.484375 54.6875 \nL 17.484375 21.921875 \nQ 17.484375 14.15625 20.5 10.265625 \nQ 23.53125 6.390625 29.59375 6.390625 \nQ 36.859375 6.390625 41.078125 11.03125 \nQ 45.3125 15.671875 45.3125 23.6875 \nL 45.3125 54.6875 \nL 54.296875 54.6875 \nL 54.296875 0 \nL 45.3125 0 \nL 45.3125 8.40625 \nQ 42.046875 3.421875 37.71875 1 \nQ 33.40625 -1.421875 27.6875 -1.421875 \nQ 18.265625 -1.421875 13.375 4.4375 \nQ 8.5 10.296875 8.5 21.578125 \nz\nM 31.109375 56 \nz\n\" id=\"DejaVuSans-117\"/>\n      <path d=\"M 34.28125 27.484375 \nQ 23.390625 27.484375 19.1875 25 \nQ 14.984375 22.515625 14.984375 16.5 \nQ 14.984375 11.71875 18.140625 8.90625 \nQ 21.296875 6.109375 26.703125 6.109375 \nQ 34.1875 6.109375 38.703125 11.40625 \nQ 43.21875 16.703125 43.21875 25.484375 \nL 43.21875 27.484375 \nz\nM 52.203125 31.203125 \nL 52.203125 0 \nL 43.21875 0 \nL 43.21875 8.296875 \nQ 40.140625 3.328125 35.546875 0.953125 \nQ 30.953125 -1.421875 24.3125 -1.421875 \nQ 15.921875 -1.421875 10.953125 3.296875 \nQ 6 8.015625 6 15.921875 \nQ 6 25.140625 12.171875 29.828125 \nQ 18.359375 34.515625 30.609375 34.515625 \nL 43.21875 34.515625 \nL 43.21875 35.40625 \nQ 43.21875 41.609375 39.140625 45 \nQ 35.0625 48.390625 27.6875 48.390625 \nQ 23 48.390625 18.546875 47.265625 \nQ 14.109375 46.140625 10.015625 43.890625 \nL 10.015625 52.203125 \nQ 14.9375 54.109375 19.578125 55.046875 \nQ 24.21875 56 28.609375 56 \nQ 40.484375 56 46.34375 49.84375 \nQ 52.203125 43.703125 52.203125 31.203125 \nz\n\" id=\"DejaVuSans-97\"/>\n      <path d=\"M 9.421875 75.984375 \nL 18.40625 75.984375 \nL 18.40625 0 \nL 9.421875 0 \nz\n\" id=\"DejaVuSans-108\"/>\n      <path id=\"DejaVuSans-32\"/>\n      <path d=\"M 41.109375 46.296875 \nQ 39.59375 47.171875 37.8125 47.578125 \nQ 36.03125 48 33.890625 48 \nQ 26.265625 48 22.1875 43.046875 \nQ 18.109375 38.09375 18.109375 28.8125 \nL 18.109375 0 \nL 9.078125 0 \nL 9.078125 54.6875 \nL 18.109375 54.6875 \nL 18.109375 46.1875 \nQ 20.953125 51.171875 25.484375 53.578125 \nQ 30.03125 56 36.53125 56 \nQ 37.453125 56 38.578125 55.875 \nQ 39.703125 55.765625 41.0625 55.515625 \nz\n\" id=\"DejaVuSans-114\"/>\n      <path d=\"M 9.078125 75.984375 \nL 18.109375 75.984375 \nL 18.109375 31.109375 \nL 44.921875 54.6875 \nL 56.390625 54.6875 \nL 27.390625 29.109375 \nL 57.625 0 \nL 45.90625 0 \nL 18.109375 26.703125 \nL 18.109375 0 \nL 9.078125 0 \nz\n\" id=\"DejaVuSans-107\"/>\n      <path d=\"M 56.203125 29.59375 \nL 56.203125 25.203125 \nL 14.890625 25.203125 \nQ 15.484375 15.921875 20.484375 11.0625 \nQ 25.484375 6.203125 34.421875 6.203125 \nQ 39.59375 6.203125 44.453125 7.46875 \nQ 49.3125 8.734375 54.109375 11.28125 \nL 54.109375 2.78125 \nQ 49.265625 0.734375 44.1875 -0.34375 \nQ 39.109375 -1.421875 33.890625 -1.421875 \nQ 20.796875 -1.421875 13.15625 6.1875 \nQ 5.515625 13.8125 5.515625 26.8125 \nQ 5.515625 40.234375 12.765625 48.109375 \nQ 20.015625 56 32.328125 56 \nQ 43.359375 56 49.78125 48.890625 \nQ 56.203125 41.796875 56.203125 29.59375 \nz\nM 47.21875 32.234375 \nQ 47.125 39.59375 43.09375 43.984375 \nQ 39.0625 48.390625 32.421875 48.390625 \nQ 24.90625 48.390625 20.390625 44.140625 \nQ 15.875 39.890625 15.1875 32.171875 \nz\n\" id=\"DejaVuSans-101\"/>\n      <path d=\"M 54.890625 33.015625 \nL 54.890625 0 \nL 45.90625 0 \nL 45.90625 32.71875 \nQ 45.90625 40.484375 42.875 44.328125 \nQ 39.84375 48.1875 33.796875 48.1875 \nQ 26.515625 48.1875 22.3125 43.546875 \nQ 18.109375 38.921875 18.109375 30.90625 \nL 18.109375 0 \nL 9.078125 0 \nL 9.078125 54.6875 \nL 18.109375 54.6875 \nL 18.109375 46.1875 \nQ 21.34375 51.125 25.703125 53.5625 \nQ 30.078125 56 35.796875 56 \nQ 45.21875 56 50.046875 50.171875 \nQ 54.890625 44.34375 54.890625 33.015625 \nz\n\" id=\"DejaVuSans-110\"/>\n      <path d=\"M 45.40625 27.984375 \nQ 45.40625 37.75 41.375 43.109375 \nQ 37.359375 48.484375 30.078125 48.484375 \nQ 22.859375 48.484375 18.828125 43.109375 \nQ 14.796875 37.75 14.796875 27.984375 \nQ 14.796875 18.265625 18.828125 12.890625 \nQ 22.859375 7.515625 30.078125 7.515625 \nQ 37.359375 7.515625 41.375 12.890625 \nQ 45.40625 18.265625 45.40625 27.984375 \nz\nM 54.390625 6.78125 \nQ 54.390625 -7.171875 48.1875 -13.984375 \nQ 42 -20.796875 29.203125 -20.796875 \nQ 24.46875 -20.796875 20.265625 -20.09375 \nQ 16.0625 -19.390625 12.109375 -17.921875 \nL 12.109375 -9.1875 \nQ 16.0625 -11.328125 19.921875 -12.34375 \nQ 23.78125 -13.375 27.78125 -13.375 \nQ 36.625 -13.375 41.015625 -8.765625 \nQ 45.40625 -4.15625 45.40625 5.171875 \nL 45.40625 9.625 \nQ 42.625 4.78125 38.28125 2.390625 \nQ 33.9375 0 27.875 0 \nQ 17.828125 0 11.671875 7.65625 \nQ 5.515625 15.328125 5.515625 27.984375 \nQ 5.515625 40.671875 11.671875 48.328125 \nQ 17.828125 56 27.875 56 \nQ 33.9375 56 38.28125 53.609375 \nQ 42.625 51.21875 45.40625 46.390625 \nL 45.40625 54.6875 \nL 54.390625 54.6875 \nz\n\" id=\"DejaVuSans-103\"/>\n      <path d=\"M 54.890625 33.015625 \nL 54.890625 0 \nL 45.90625 0 \nL 45.90625 32.71875 \nQ 45.90625 40.484375 42.875 44.328125 \nQ 39.84375 48.1875 33.796875 48.1875 \nQ 26.515625 48.1875 22.3125 43.546875 \nQ 18.109375 38.921875 18.109375 30.90625 \nL 18.109375 0 \nL 9.078125 0 \nL 9.078125 75.984375 \nL 18.109375 75.984375 \nL 18.109375 46.1875 \nQ 21.34375 51.125 25.703125 53.5625 \nQ 30.078125 56 35.796875 56 \nQ 45.21875 56 50.046875 50.171875 \nQ 54.890625 44.34375 54.890625 33.015625 \nz\n\" id=\"DejaVuSans-104\"/>\n      <path d=\"M 8.59375 75.984375 \nL 29.296875 75.984375 \nL 29.296875 69 \nL 17.578125 69 \nL 17.578125 -6.203125 \nL 29.296875 -6.203125 \nL 29.296875 -13.1875 \nL 8.59375 -13.1875 \nz\n\" id=\"DejaVuSans-91\"/>\n      <path d=\"M 52 44.1875 \nQ 55.375 50.25 60.0625 53.125 \nQ 64.75 56 71.09375 56 \nQ 79.640625 56 84.28125 50.015625 \nQ 88.921875 44.046875 88.921875 33.015625 \nL 88.921875 0 \nL 79.890625 0 \nL 79.890625 32.71875 \nQ 79.890625 40.578125 77.09375 44.375 \nQ 74.3125 48.1875 68.609375 48.1875 \nQ 61.625 48.1875 57.5625 43.546875 \nQ 53.515625 38.921875 53.515625 30.90625 \nL 53.515625 0 \nL 44.484375 0 \nL 44.484375 32.71875 \nQ 44.484375 40.625 41.703125 44.40625 \nQ 38.921875 48.1875 33.109375 48.1875 \nQ 26.21875 48.1875 22.15625 43.53125 \nQ 18.109375 38.875 18.109375 30.90625 \nL 18.109375 0 \nL 9.078125 0 \nL 9.078125 54.6875 \nL 18.109375 54.6875 \nL 18.109375 46.1875 \nQ 21.1875 51.21875 25.484375 53.609375 \nQ 29.78125 56 35.6875 56 \nQ 41.65625 56 45.828125 52.96875 \nQ 50 49.953125 52 44.1875 \nz\n\" id=\"DejaVuSans-109\"/>\n      <path d=\"M 30.421875 75.984375 \nL 30.421875 -13.1875 \nL 9.71875 -13.1875 \nL 9.71875 -6.203125 \nL 21.390625 -6.203125 \nL 21.390625 69 \nL 9.71875 69 \nL 9.71875 75.984375 \nz\n\" id=\"DejaVuSans-93\"/>\n     </defs>\n     <g transform=\"translate(160.599219 268.034687)scale(0.1 -0.1)\">\n      <use xlink:href=\"#DejaVuSans-65\"/>\n      <use x=\"66.658203\" xlink:href=\"#DejaVuSans-99\"/>\n      <use x=\"121.638672\" xlink:href=\"#DejaVuSans-116\"/>\n      <use x=\"160.847656\" xlink:href=\"#DejaVuSans-117\"/>\n      <use x=\"224.226562\" xlink:href=\"#DejaVuSans-97\"/>\n      <use x=\"285.505859\" xlink:href=\"#DejaVuSans-108\"/>\n      <use x=\"313.289062\" xlink:href=\"#DejaVuSans-32\"/>\n      <use x=\"345.076172\" xlink:href=\"#DejaVuSans-99\"/>\n      <use x=\"400.056641\" xlink:href=\"#DejaVuSans-114\"/>\n      <use x=\"441.169922\" xlink:href=\"#DejaVuSans-97\"/>\n      <use x=\"502.449219\" xlink:href=\"#DejaVuSans-99\"/>\n      <use x=\"557.429688\" xlink:href=\"#DejaVuSans-107\"/>\n      <use x=\"615.339844\" xlink:href=\"#DejaVuSans-32\"/>\n      <use x=\"647.126953\" xlink:href=\"#DejaVuSans-108\"/>\n      <use x=\"674.910156\" xlink:href=\"#DejaVuSans-101\"/>\n      <use x=\"736.433594\" xlink:href=\"#DejaVuSans-110\"/>\n      <use x=\"799.8125\" xlink:href=\"#DejaVuSans-103\"/>\n      <use x=\"863.289062\" xlink:href=\"#DejaVuSans-116\"/>\n      <use x=\"902.498047\" xlink:href=\"#DejaVuSans-104\"/>\n      <use x=\"965.876953\" xlink:href=\"#DejaVuSans-32\"/>\n      <use x=\"997.664062\" xlink:href=\"#DejaVuSans-97\"/>\n      <use x=\"1058.943359\" xlink:href=\"#DejaVuSans-32\"/>\n      <use x=\"1090.730469\" xlink:href=\"#DejaVuSans-91\"/>\n      <use x=\"1129.744141\" xlink:href=\"#DejaVuSans-109\"/>\n      <use x=\"1227.15625\" xlink:href=\"#DejaVuSans-93\"/>\n     </g>\n    </g>\n   </g>\n   <g id=\"matplotlib.axis_2\">\n    <g id=\"ytick_1\">\n     <g id=\"line2d_8\">\n      <defs>\n       <path d=\"M 0 0 \nL -3.5 0 \n\" id=\"m0c86a63feb\" style=\"stroke:#000000;stroke-width:0.8;\"/>\n      </defs>\n      <g>\n       <use style=\"stroke:#000000;stroke-width:0.8;\" x=\"56.50625\" xlink:href=\"#m0c86a63feb\" y=\"229.874489\"/>\n      </g>\n     </g>\n     <g id=\"text_9\">\n      <!-- 0.005 -->\n      <g transform=\"translate(20.878125 233.673707)scale(0.1 -0.1)\">\n       <use xlink:href=\"#DejaVuSans-48\"/>\n       <use x=\"63.623047\" xlink:href=\"#DejaVuSans-46\"/>\n       <use x=\"95.410156\" xlink:href=\"#DejaVuSans-48\"/>\n       <use x=\"159.033203\" xlink:href=\"#DejaVuSans-48\"/>\n       <use x=\"222.65625\" xlink:href=\"#DejaVuSans-53\"/>\n      </g>\n     </g>\n    </g>\n    <g id=\"ytick_2\">\n     <g id=\"line2d_9\">\n      <g>\n       <use style=\"stroke:#000000;stroke-width:0.8;\" x=\"56.50625\" xlink:href=\"#m0c86a63feb\" y=\"196.929034\"/>\n      </g>\n     </g>\n     <g id=\"text_10\">\n      <!-- 0.010 -->\n      <g transform=\"translate(20.878125 200.728253)scale(0.1 -0.1)\">\n       <use xlink:href=\"#DejaVuSans-48\"/>\n       <use x=\"63.623047\" xlink:href=\"#DejaVuSans-46\"/>\n       <use x=\"95.410156\" xlink:href=\"#DejaVuSans-48\"/>\n       <use x=\"159.033203\" xlink:href=\"#DejaVuSans-49\"/>\n       <use x=\"222.65625\" xlink:href=\"#DejaVuSans-48\"/>\n      </g>\n     </g>\n    </g>\n    <g id=\"ytick_3\">\n     <g id=\"line2d_10\">\n      <g>\n       <use style=\"stroke:#000000;stroke-width:0.8;\" x=\"56.50625\" xlink:href=\"#m0c86a63feb\" y=\"163.98358\"/>\n      </g>\n     </g>\n     <g id=\"text_11\">\n      <!-- 0.015 -->\n      <g transform=\"translate(20.878125 167.782798)scale(0.1 -0.1)\">\n       <use xlink:href=\"#DejaVuSans-48\"/>\n       <use x=\"63.623047\" xlink:href=\"#DejaVuSans-46\"/>\n       <use x=\"95.410156\" xlink:href=\"#DejaVuSans-48\"/>\n       <use x=\"159.033203\" xlink:href=\"#DejaVuSans-49\"/>\n       <use x=\"222.65625\" xlink:href=\"#DejaVuSans-53\"/>\n      </g>\n     </g>\n    </g>\n    <g id=\"ytick_4\">\n     <g id=\"line2d_11\">\n      <g>\n       <use style=\"stroke:#000000;stroke-width:0.8;\" x=\"56.50625\" xlink:href=\"#m0c86a63feb\" y=\"131.038125\"/>\n      </g>\n     </g>\n     <g id=\"text_12\">\n      <!-- 0.020 -->\n      <g transform=\"translate(20.878125 134.837344)scale(0.1 -0.1)\">\n       <use xlink:href=\"#DejaVuSans-48\"/>\n       <use x=\"63.623047\" xlink:href=\"#DejaVuSans-46\"/>\n       <use x=\"95.410156\" xlink:href=\"#DejaVuSans-48\"/>\n       <use x=\"159.033203\" xlink:href=\"#DejaVuSans-50\"/>\n       <use x=\"222.65625\" xlink:href=\"#DejaVuSans-48\"/>\n      </g>\n     </g>\n    </g>\n    <g id=\"ytick_5\">\n     <g id=\"line2d_12\">\n      <g>\n       <use style=\"stroke:#000000;stroke-width:0.8;\" x=\"56.50625\" xlink:href=\"#m0c86a63feb\" y=\"98.09267\"/>\n      </g>\n     </g>\n     <g id=\"text_13\">\n      <!-- 0.025 -->\n      <g transform=\"translate(20.878125 101.891889)scale(0.1 -0.1)\">\n       <use xlink:href=\"#DejaVuSans-48\"/>\n       <use x=\"63.623047\" xlink:href=\"#DejaVuSans-46\"/>\n       <use x=\"95.410156\" xlink:href=\"#DejaVuSans-48\"/>\n       <use x=\"159.033203\" xlink:href=\"#DejaVuSans-50\"/>\n       <use x=\"222.65625\" xlink:href=\"#DejaVuSans-53\"/>\n      </g>\n     </g>\n    </g>\n    <g id=\"ytick_6\">\n     <g id=\"line2d_13\">\n      <g>\n       <use style=\"stroke:#000000;stroke-width:0.8;\" x=\"56.50625\" xlink:href=\"#m0c86a63feb\" y=\"65.147216\"/>\n      </g>\n     </g>\n     <g id=\"text_14\">\n      <!-- 0.030 -->\n      <g transform=\"translate(20.878125 68.946435)scale(0.1 -0.1)\">\n       <use xlink:href=\"#DejaVuSans-48\"/>\n       <use x=\"63.623047\" xlink:href=\"#DejaVuSans-46\"/>\n       <use x=\"95.410156\" xlink:href=\"#DejaVuSans-48\"/>\n       <use x=\"159.033203\" xlink:href=\"#DejaVuSans-51\"/>\n       <use x=\"222.65625\" xlink:href=\"#DejaVuSans-48\"/>\n      </g>\n     </g>\n    </g>\n    <g id=\"ytick_7\">\n     <g id=\"line2d_14\">\n      <g>\n       <use style=\"stroke:#000000;stroke-width:0.8;\" x=\"56.50625\" xlink:href=\"#m0c86a63feb\" y=\"32.201761\"/>\n      </g>\n     </g>\n     <g id=\"text_15\">\n      <!-- 0.035 -->\n      <g transform=\"translate(20.878125 36.00098)scale(0.1 -0.1)\">\n       <use xlink:href=\"#DejaVuSans-48\"/>\n       <use x=\"63.623047\" xlink:href=\"#DejaVuSans-46\"/>\n       <use x=\"95.410156\" xlink:href=\"#DejaVuSans-48\"/>\n       <use x=\"159.033203\" xlink:href=\"#DejaVuSans-51\"/>\n       <use x=\"222.65625\" xlink:href=\"#DejaVuSans-53\"/>\n      </g>\n     </g>\n    </g>\n    <g id=\"text_16\">\n     <!-- Predicted crack length a [m] -->\n     <defs>\n      <path d=\"M 19.671875 64.796875 \nL 19.671875 37.40625 \nL 32.078125 37.40625 \nQ 38.96875 37.40625 42.71875 40.96875 \nQ 46.484375 44.53125 46.484375 51.125 \nQ 46.484375 57.671875 42.71875 61.234375 \nQ 38.96875 64.796875 32.078125 64.796875 \nz\nM 9.8125 72.90625 \nL 32.078125 72.90625 \nQ 44.34375 72.90625 50.609375 67.359375 \nQ 56.890625 61.8125 56.890625 51.125 \nQ 56.890625 40.328125 50.609375 34.8125 \nQ 44.34375 29.296875 32.078125 29.296875 \nL 19.671875 29.296875 \nL 19.671875 0 \nL 9.8125 0 \nz\n\" id=\"DejaVuSans-80\"/>\n      <path d=\"M 45.40625 46.390625 \nL 45.40625 75.984375 \nL 54.390625 75.984375 \nL 54.390625 0 \nL 45.40625 0 \nL 45.40625 8.203125 \nQ 42.578125 3.328125 38.25 0.953125 \nQ 33.9375 -1.421875 27.875 -1.421875 \nQ 17.96875 -1.421875 11.734375 6.484375 \nQ 5.515625 14.40625 5.515625 27.296875 \nQ 5.515625 40.1875 11.734375 48.09375 \nQ 17.96875 56 27.875 56 \nQ 33.9375 56 38.25 53.625 \nQ 42.578125 51.265625 45.40625 46.390625 \nz\nM 14.796875 27.296875 \nQ 14.796875 17.390625 18.875 11.75 \nQ 22.953125 6.109375 30.078125 6.109375 \nQ 37.203125 6.109375 41.296875 11.75 \nQ 45.40625 17.390625 45.40625 27.296875 \nQ 45.40625 37.203125 41.296875 42.84375 \nQ 37.203125 48.484375 30.078125 48.484375 \nQ 22.953125 48.484375 18.875 42.84375 \nQ 14.796875 37.203125 14.796875 27.296875 \nz\n\" id=\"DejaVuSans-100\"/>\n      <path d=\"M 9.421875 54.6875 \nL 18.40625 54.6875 \nL 18.40625 0 \nL 9.421875 0 \nz\nM 9.421875 75.984375 \nL 18.40625 75.984375 \nL 18.40625 64.59375 \nL 9.421875 64.59375 \nz\n\" id=\"DejaVuSans-105\"/>\n     </defs>\n     <g transform=\"translate(14.798438 202.151406)rotate(-90)scale(0.1 -0.1)\">\n      <use xlink:href=\"#DejaVuSans-80\"/>\n      <use x=\"58.552734\" xlink:href=\"#DejaVuSans-114\"/>\n      <use x=\"97.416016\" xlink:href=\"#DejaVuSans-101\"/>\n      <use x=\"158.939453\" xlink:href=\"#DejaVuSans-100\"/>\n      <use x=\"222.416016\" xlink:href=\"#DejaVuSans-105\"/>\n      <use x=\"250.199219\" xlink:href=\"#DejaVuSans-99\"/>\n      <use x=\"305.179688\" xlink:href=\"#DejaVuSans-116\"/>\n      <use x=\"344.388672\" xlink:href=\"#DejaVuSans-101\"/>\n      <use x=\"405.912109\" xlink:href=\"#DejaVuSans-100\"/>\n      <use x=\"469.388672\" xlink:href=\"#DejaVuSans-32\"/>\n      <use x=\"501.175781\" xlink:href=\"#DejaVuSans-99\"/>\n      <use x=\"556.15625\" xlink:href=\"#DejaVuSans-114\"/>\n      <use x=\"597.269531\" xlink:href=\"#DejaVuSans-97\"/>\n      <use x=\"658.548828\" xlink:href=\"#DejaVuSans-99\"/>\n      <use x=\"713.529297\" xlink:href=\"#DejaVuSans-107\"/>\n      <use x=\"771.439453\" xlink:href=\"#DejaVuSans-32\"/>\n      <use x=\"803.226562\" xlink:href=\"#DejaVuSans-108\"/>\n      <use x=\"831.009766\" xlink:href=\"#DejaVuSans-101\"/>\n      <use x=\"892.533203\" xlink:href=\"#DejaVuSans-110\"/>\n      <use x=\"955.912109\" xlink:href=\"#DejaVuSans-103\"/>\n      <use x=\"1019.388672\" xlink:href=\"#DejaVuSans-116\"/>\n      <use x=\"1058.597656\" xlink:href=\"#DejaVuSans-104\"/>\n      <use x=\"1121.976562\" xlink:href=\"#DejaVuSans-32\"/>\n      <use x=\"1153.763672\" xlink:href=\"#DejaVuSans-97\"/>\n      <use x=\"1215.042969\" xlink:href=\"#DejaVuSans-32\"/>\n      <use x=\"1246.830078\" xlink:href=\"#DejaVuSans-91\"/>\n      <use x=\"1285.84375\" xlink:href=\"#DejaVuSans-109\"/>\n      <use x=\"1383.255859\" xlink:href=\"#DejaVuSans-93\"/>\n     </g>\n    </g>\n   </g>\n   <g id=\"line2d_15\">\n    <path clip-path=\"url(#p53b66feb4d)\" d=\"M 71.724432 229.874489 \nL 376.088068 32.201761 \n\" style=\"fill:none;stroke:#000000;stroke-dasharray:5.55,2.4;stroke-dashoffset:0;stroke-width:1.5;\"/>\n   </g>\n   <g id=\"line2d_16\">\n    <defs>\n     <path d=\"M 0 3 \nC 0.795609 3 1.55874 2.683901 2.12132 2.12132 \nC 2.683901 1.55874 3 0.795609 3 0 \nC 3 -0.795609 2.683901 -1.55874 2.12132 -2.12132 \nC 1.55874 -2.683901 0.795609 -3 0 -3 \nC -0.795609 -3 -1.55874 -2.683901 -2.12132 -2.12132 \nC -2.683901 -1.55874 -3 -0.795609 -3 0 \nC -3 0.795609 -2.683901 1.55874 -2.12132 2.12132 \nC -1.55874 2.683901 -0.795609 3 0 3 \nz\n\" id=\"m2d3a8e0b04\" style=\"stroke:#1f77b4;\"/>\n    </defs>\n    <g clip-path=\"url(#p53b66feb4d)\">\n     <use style=\"fill:#1f77b4;stroke:#1f77b4;\" x=\"333.355445\" xlink:href=\"#m2d3a8e0b04\" y=\"59.938095\"/>\n     <use style=\"fill:#1f77b4;stroke:#1f77b4;\" x=\"322.770169\" xlink:href=\"#m2d3a8e0b04\" y=\"70.915313\"/>\n     <use style=\"fill:#1f77b4;stroke:#1f77b4;\" x=\"315.247922\" xlink:href=\"#m2d3a8e0b04\" y=\"83.562438\"/>\n     <use style=\"fill:#1f77b4;stroke:#1f77b4;\" x=\"300.205454\" xlink:href=\"#m2d3a8e0b04\" y=\"82.800645\"/>\n     <use style=\"fill:#1f77b4;stroke:#1f77b4;\" x=\"293.338562\" xlink:href=\"#m2d3a8e0b04\" y=\"88.075418\"/>\n     <use style=\"fill:#1f77b4;stroke:#1f77b4;\" x=\"288.178511\" xlink:href=\"#m2d3a8e0b04\" y=\"77.646589\"/>\n     <use style=\"fill:#1f77b4;stroke:#1f77b4;\" x=\"282.477146\" xlink:href=\"#m2d3a8e0b04\" y=\"71.16323\"/>\n     <use style=\"fill:#1f77b4;stroke:#1f77b4;\" x=\"272.404663\" xlink:href=\"#m2d3a8e0b04\" y=\"80.37346\"/>\n     <use style=\"fill:#1f77b4;stroke:#1f77b4;\" x=\"264.394176\" xlink:href=\"#m2d3a8e0b04\" y=\"94.337002\"/>\n     <use style=\"fill:#1f77b4;stroke:#1f77b4;\" x=\"260.62835\" xlink:href=\"#m2d3a8e0b04\" y=\"78.04176\"/>\n     <use style=\"fill:#1f77b4;stroke:#1f77b4;\" x=\"255.195252\" xlink:href=\"#m2d3a8e0b04\" y=\"129.468565\"/>\n     <use style=\"fill:#1f77b4;stroke:#1f77b4;\" x=\"248.468387\" xlink:href=\"#m2d3a8e0b04\" y=\"98.419268\"/>\n     <use style=\"fill:#1f77b4;stroke:#1f77b4;\" x=\"247.714099\" xlink:href=\"#m2d3a8e0b04\" y=\"93.673737\"/>\n     <use style=\"fill:#1f77b4;stroke:#1f77b4;\" x=\"238.976465\" xlink:href=\"#m2d3a8e0b04\" y=\"74.532182\"/>\n     <use style=\"fill:#1f77b4;stroke:#1f77b4;\" x=\"229.222903\" xlink:href=\"#m2d3a8e0b04\" y=\"91.953264\"/>\n     <use style=\"fill:#1f77b4;stroke:#1f77b4;\" x=\"227.636792\" xlink:href=\"#m2d3a8e0b04\" y=\"103.190696\"/>\n     <use style=\"fill:#1f77b4;stroke:#1f77b4;\" x=\"225.573791\" xlink:href=\"#m2d3a8e0b04\" y=\"175.6681\"/>\n     <use style=\"fill:#1f77b4;stroke:#1f77b4;\" x=\"218.621166\" xlink:href=\"#m2d3a8e0b04\" y=\"91.069647\"/>\n     <use style=\"fill:#1f77b4;stroke:#1f77b4;\" x=\"211.905925\" xlink:href=\"#m2d3a8e0b04\" y=\"158.82682\"/>\n     <use style=\"fill:#1f77b4;stroke:#1f77b4;\" x=\"205.968212\" xlink:href=\"#m2d3a8e0b04\" y=\"150.048139\"/>\n     <use style=\"fill:#1f77b4;stroke:#1f77b4;\" x=\"205.925355\" xlink:href=\"#m2d3a8e0b04\" y=\"195.713332\"/>\n     <use style=\"fill:#1f77b4;stroke:#1f77b4;\" x=\"202.57696\" xlink:href=\"#m2d3a8e0b04\" y=\"132.192785\"/>\n     <use style=\"fill:#1f77b4;stroke:#1f77b4;\" x=\"196.914611\" xlink:href=\"#m2d3a8e0b04\" y=\"153.151832\"/>\n     <use style=\"fill:#1f77b4;stroke:#1f77b4;\" x=\"194.570941\" xlink:href=\"#m2d3a8e0b04\" y=\"160.111339\"/>\n     <use style=\"fill:#1f77b4;stroke:#1f77b4;\" x=\"195.178293\" xlink:href=\"#m2d3a8e0b04\" y=\"197.785406\"/>\n     <use style=\"fill:#1f77b4;stroke:#1f77b4;\" x=\"186.987152\" xlink:href=\"#m2d3a8e0b04\" y=\"171.268745\"/>\n     <use style=\"fill:#1f77b4;stroke:#1f77b4;\" x=\"186.141916\" xlink:href=\"#m2d3a8e0b04\" y=\"157.28745\"/>\n     <use style=\"fill:#1f77b4;stroke:#1f77b4;\" x=\"182.393082\" xlink:href=\"#m2d3a8e0b04\" y=\"129.952078\"/>\n     <use style=\"fill:#1f77b4;stroke:#1f77b4;\" x=\"179.188297\" xlink:href=\"#m2d3a8e0b04\" y=\"163.919258\"/>\n     <use style=\"fill:#1f77b4;stroke:#1f77b4;\" x=\"175.433445\" xlink:href=\"#m2d3a8e0b04\" y=\"195.07384\"/>\n     <use style=\"fill:#1f77b4;stroke:#1f77b4;\" x=\"177.266253\" xlink:href=\"#m2d3a8e0b04\" y=\"109.682941\"/>\n     <use style=\"fill:#1f77b4;stroke:#1f77b4;\" x=\"170.935784\" xlink:href=\"#m2d3a8e0b04\" y=\"167.99008\"/>\n     <use style=\"fill:#1f77b4;stroke:#1f77b4;\" x=\"170.679718\" xlink:href=\"#m2d3a8e0b04\" y=\"203.709613\"/>\n     <use style=\"fill:#1f77b4;stroke:#1f77b4;\" x=\"166.315837\" xlink:href=\"#m2d3a8e0b04\" y=\"160.238526\"/>\n     <use style=\"fill:#1f77b4;stroke:#1f77b4;\" x=\"164.880629\" xlink:href=\"#m2d3a8e0b04\" y=\"169.454493\"/>\n     <use style=\"fill:#1f77b4;stroke:#1f77b4;\" x=\"161.155803\" xlink:href=\"#m2d3a8e0b04\" y=\"169.696746\"/>\n     <use style=\"fill:#1f77b4;stroke:#1f77b4;\" x=\"159.699687\" xlink:href=\"#m2d3a8e0b04\" y=\"198.241427\"/>\n     <use style=\"fill:#1f77b4;stroke:#1f77b4;\" x=\"155.440405\" xlink:href=\"#m2d3a8e0b04\" y=\"170.294969\"/>\n     <use style=\"fill:#1f77b4;stroke:#1f77b4;\" x=\"154.678298\" xlink:href=\"#m2d3a8e0b04\" y=\"162.309796\"/>\n     <use style=\"fill:#1f77b4;stroke:#1f77b4;\" x=\"154.300438\" xlink:href=\"#m2d3a8e0b04\" y=\"175.848877\"/>\n     <use style=\"fill:#1f77b4;stroke:#1f77b4;\" x=\"150.402716\" xlink:href=\"#m2d3a8e0b04\" y=\"199.109659\"/>\n     <use style=\"fill:#1f77b4;stroke:#1f77b4;\" x=\"149.928832\" xlink:href=\"#m2d3a8e0b04\" y=\"177.273108\"/>\n     <use style=\"fill:#1f77b4;stroke:#1f77b4;\" x=\"146.361142\" xlink:href=\"#m2d3a8e0b04\" y=\"189.701483\"/>\n     <use style=\"fill:#1f77b4;stroke:#1f77b4;\" x=\"145.26836\" xlink:href=\"#m2d3a8e0b04\" y=\"223.204625\"/>\n     <use style=\"fill:#1f77b4;stroke:#1f77b4;\" x=\"144.17956\" xlink:href=\"#m2d3a8e0b04\" y=\"207.508518\"/>\n     <use style=\"fill:#1f77b4;stroke:#1f77b4;\" x=\"141.473529\" xlink:href=\"#m2d3a8e0b04\" y=\"202.300424\"/>\n     <use style=\"fill:#1f77b4;stroke:#1f77b4;\" x=\"139.278821\" xlink:href=\"#m2d3a8e0b04\" y=\"203.811038\"/>\n     <use style=\"fill:#1f77b4;stroke:#1f77b4;\" x=\"135.329785\" xlink:href=\"#m2d3a8e0b04\" y=\"195.716339\"/>\n     <use style=\"fill:#1f77b4;stroke:#1f77b4;\" x=\"137.022102\" xlink:href=\"#m2d3a8e0b04\" y=\"209.756232\"/>\n     <use style=\"fill:#1f77b4;stroke:#1f77b4;\" x=\"136.053475\" xlink:href=\"#m2d3a8e0b04\" y=\"204.011802\"/>\n     <use style=\"fill:#1f77b4;stroke:#1f77b4;\" x=\"134.698875\" xlink:href=\"#m2d3a8e0b04\" y=\"179.777601\"/>\n     <use style=\"fill:#1f77b4;stroke:#1f77b4;\" x=\"132.811517\" xlink:href=\"#m2d3a8e0b04\" y=\"198.661414\"/>\n     <use style=\"fill:#1f77b4;stroke:#1f77b4;\" x=\"129.55116\" xlink:href=\"#m2d3a8e0b04\" y=\"221.740446\"/>\n     <use style=\"fill:#1f77b4;stroke:#1f77b4;\" x=\"128.465772\" xlink:href=\"#m2d3a8e0b04\" y=\"212.116903\"/>\n     <use style=\"fill:#1f77b4;stroke:#1f77b4;\" x=\"127.648335\" xlink:href=\"#m2d3a8e0b04\" y=\"196.208026\"/>\n     <use style=\"fill:#1f77b4;stroke:#1f77b4;\" x=\"126.264865\" xlink:href=\"#m2d3a8e0b04\" y=\"195.738983\"/>\n     <use style=\"fill:#1f77b4;stroke:#1f77b4;\" x=\"124.036351\" xlink:href=\"#m2d3a8e0b04\" y=\"190.737336\"/>\n     <use style=\"fill:#1f77b4;stroke:#1f77b4;\" x=\"127.121987\" xlink:href=\"#m2d3a8e0b04\" y=\"201.881854\"/>\n     <use style=\"fill:#1f77b4;stroke:#1f77b4;\" x=\"122.679452\" xlink:href=\"#m2d3a8e0b04\" y=\"215.235182\"/>\n     <use style=\"fill:#1f77b4;stroke:#1f77b4;\" x=\"121.015058\" xlink:href=\"#m2d3a8e0b04\" y=\"187.850448\"/>\n     <use style=\"fill:#1f77b4;stroke:#1f77b4;\" x=\"120.818729\" xlink:href=\"#m2d3a8e0b04\" y=\"202.176379\"/>\n     <use style=\"fill:#1f77b4;stroke:#1f77b4;\" x=\"118.27686\" xlink:href=\"#m2d3a8e0b04\" y=\"212.612646\"/>\n     <use style=\"fill:#1f77b4;stroke:#1f77b4;\" x=\"118.36017\" xlink:href=\"#m2d3a8e0b04\" y=\"214.989293\"/>\n     <use style=\"fill:#1f77b4;stroke:#1f77b4;\" x=\"117.59255\" xlink:href=\"#m2d3a8e0b04\" y=\"177.445349\"/>\n     <use style=\"fill:#1f77b4;stroke:#1f77b4;\" x=\"116.925144\" xlink:href=\"#m2d3a8e0b04\" y=\"218.587016\"/>\n     <use style=\"fill:#1f77b4;stroke:#1f77b4;\" x=\"115.162236\" xlink:href=\"#m2d3a8e0b04\" y=\"215.356981\"/>\n     <use style=\"fill:#1f77b4;stroke:#1f77b4;\" x=\"113.161487\" xlink:href=\"#m2d3a8e0b04\" y=\"204.455538\"/>\n     <use style=\"fill:#1f77b4;stroke:#1f77b4;\" x=\"112.995375\" xlink:href=\"#m2d3a8e0b04\" y=\"211.703709\"/>\n     <use style=\"fill:#1f77b4;stroke:#1f77b4;\" x=\"111.495697\" xlink:href=\"#m2d3a8e0b04\" y=\"208.879169\"/>\n     <use style=\"fill:#1f77b4;stroke:#1f77b4;\" x=\"112.197198\" xlink:href=\"#m2d3a8e0b04\" y=\"217.794997\"/>\n     <use style=\"fill:#1f77b4;stroke:#1f77b4;\" x=\"110.560365\" xlink:href=\"#m2d3a8e0b04\" y=\"205.082149\"/>\n     <use style=\"fill:#1f77b4;stroke:#1f77b4;\" x=\"108.998618\" xlink:href=\"#m2d3a8e0b04\" y=\"206.828825\"/>\n     <use style=\"fill:#1f77b4;stroke:#1f77b4;\" x=\"108.104592\" xlink:href=\"#m2d3a8e0b04\" y=\"184.000131\"/>\n     <use style=\"fill:#1f77b4;stroke:#1f77b4;\" x=\"106.340445\" xlink:href=\"#m2d3a8e0b04\" y=\"213.362059\"/>\n     <use style=\"fill:#1f77b4;stroke:#1f77b4;\" x=\"107.136249\" xlink:href=\"#m2d3a8e0b04\" y=\"194.968451\"/>\n     <use style=\"fill:#1f77b4;stroke:#1f77b4;\" x=\"104.863444\" xlink:href=\"#m2d3a8e0b04\" y=\"210.922174\"/>\n     <use style=\"fill:#1f77b4;stroke:#1f77b4;\" x=\"104.93891\" xlink:href=\"#m2d3a8e0b04\" y=\"205.224241\"/>\n     <use style=\"fill:#1f77b4;stroke:#1f77b4;\" x=\"102.962463\" xlink:href=\"#m2d3a8e0b04\" y=\"220.816183\"/>\n     <use style=\"fill:#1f77b4;stroke:#1f77b4;\" x=\"102.841393\" xlink:href=\"#m2d3a8e0b04\" y=\"212.328044\"/>\n     <use style=\"fill:#1f77b4;stroke:#1f77b4;\" x=\"102.973987\" xlink:href=\"#m2d3a8e0b04\" y=\"206.783175\"/>\n     <use style=\"fill:#1f77b4;stroke:#1f77b4;\" x=\"101.149678\" xlink:href=\"#m2d3a8e0b04\" y=\"193.281281\"/>\n     <use style=\"fill:#1f77b4;stroke:#1f77b4;\" x=\"100.022229\" xlink:href=\"#m2d3a8e0b04\" y=\"216.479464\"/>\n     <use style=\"fill:#1f77b4;stroke:#1f77b4;\" x=\"99.725779\" xlink:href=\"#m2d3a8e0b04\" y=\"217.814428\"/>\n     <use style=\"fill:#1f77b4;stroke:#1f77b4;\" x=\"98.7975\" xlink:href=\"#m2d3a8e0b04\" y=\"219.044516\"/>\n     <use style=\"fill:#1f77b4;stroke:#1f77b4;\" x=\"97.939143\" xlink:href=\"#m2d3a8e0b04\" y=\"215.881209\"/>\n     <use style=\"fill:#1f77b4;stroke:#1f77b4;\" x=\"97.851738\" xlink:href=\"#m2d3a8e0b04\" y=\"196.756414\"/>\n     <use style=\"fill:#1f77b4;stroke:#1f77b4;\" x=\"97.058265\" xlink:href=\"#m2d3a8e0b04\" y=\"206.094781\"/>\n     <use style=\"fill:#1f77b4;stroke:#1f77b4;\" x=\"96.386817\" xlink:href=\"#m2d3a8e0b04\" y=\"220.271176\"/>\n     <use style=\"fill:#1f77b4;stroke:#1f77b4;\" x=\"95.301299\" xlink:href=\"#m2d3a8e0b04\" y=\"224.347165\"/>\n     <use style=\"fill:#1f77b4;stroke:#1f77b4;\" x=\"94.758403\" xlink:href=\"#m2d3a8e0b04\" y=\"219.77134\"/>\n     <use style=\"fill:#1f77b4;stroke:#1f77b4;\" x=\"93.83477\" xlink:href=\"#m2d3a8e0b04\" y=\"208.167603\"/>\n     <use style=\"fill:#1f77b4;stroke:#1f77b4;\" x=\"93.523676\" xlink:href=\"#m2d3a8e0b04\" y=\"220.718256\"/>\n     <use style=\"fill:#1f77b4;stroke:#1f77b4;\" x=\"92.753897\" xlink:href=\"#m2d3a8e0b04\" y=\"205.983709\"/>\n     <use style=\"fill:#1f77b4;stroke:#1f77b4;\" x=\"91.978543\" xlink:href=\"#m2d3a8e0b04\" y=\"223.170116\"/>\n     <use style=\"fill:#1f77b4;stroke:#1f77b4;\" x=\"91.393924\" xlink:href=\"#m2d3a8e0b04\" y=\"221.506225\"/>\n     <use style=\"fill:#1f77b4;stroke:#1f77b4;\" x=\"90.633377\" xlink:href=\"#m2d3a8e0b04\" y=\"218.443681\"/>\n     <use style=\"fill:#1f77b4;stroke:#1f77b4;\" x=\"89.905823\" xlink:href=\"#m2d3a8e0b04\" y=\"215.786872\"/>\n     <use style=\"fill:#1f77b4;stroke:#1f77b4;\" x=\"89.57304\" xlink:href=\"#m2d3a8e0b04\" y=\"205.968496\"/>\n     <use style=\"fill:#1f77b4;stroke:#1f77b4;\" x=\"89.218726\" xlink:href=\"#m2d3a8e0b04\" y=\"220.927295\"/>\n     <use style=\"fill:#1f77b4;stroke:#1f77b4;\" x=\"88.534307\" xlink:href=\"#m2d3a8e0b04\" y=\"225.589259\"/>\n     <use style=\"fill:#1f77b4;stroke:#1f77b4;\" x=\"87.990323\" xlink:href=\"#m2d3a8e0b04\" y=\"216.389787\"/>\n     <use style=\"fill:#1f77b4;stroke:#1f77b4;\" x=\"115.361069\" xlink:href=\"#m2d3a8e0b04\" y=\"212.275546\"/>\n     <use style=\"fill:#1f77b4;stroke:#1f77b4;\" x=\"115.048211\" xlink:href=\"#m2d3a8e0b04\" y=\"207.001158\"/>\n     <use style=\"fill:#1f77b4;stroke:#1f77b4;\" x=\"114.63577\" xlink:href=\"#m2d3a8e0b04\" y=\"203.605887\"/>\n     <use style=\"fill:#1f77b4;stroke:#1f77b4;\" x=\"114.683438\" xlink:href=\"#m2d3a8e0b04\" y=\"202.83595\"/>\n     <use style=\"fill:#1f77b4;stroke:#1f77b4;\" x=\"114.165932\" xlink:href=\"#m2d3a8e0b04\" y=\"208.375602\"/>\n     <use style=\"fill:#1f77b4;stroke:#1f77b4;\" x=\"113.937361\" xlink:href=\"#m2d3a8e0b04\" y=\"208.151691\"/>\n     <use style=\"fill:#1f77b4;stroke:#1f77b4;\" x=\"113.737841\" xlink:href=\"#m2d3a8e0b04\" y=\"206.367435\"/>\n     <use style=\"fill:#1f77b4;stroke:#1f77b4;\" x=\"113.534732\" xlink:href=\"#m2d3a8e0b04\" y=\"204.361771\"/>\n     <use style=\"fill:#1f77b4;stroke:#1f77b4;\" x=\"113.262944\" xlink:href=\"#m2d3a8e0b04\" y=\"199.232851\"/>\n     <use style=\"fill:#1f77b4;stroke:#1f77b4;\" x=\"113.262943\" xlink:href=\"#m2d3a8e0b04\" y=\"203.940913\"/>\n     <use style=\"fill:#1f77b4;stroke:#1f77b4;\" x=\"113.060901\" xlink:href=\"#m2d3a8e0b04\" y=\"206.627386\"/>\n     <use style=\"fill:#1f77b4;stroke:#1f77b4;\" x=\"112.897365\" xlink:href=\"#m2d3a8e0b04\" y=\"200.639291\"/>\n     <use style=\"fill:#1f77b4;stroke:#1f77b4;\" x=\"112.532811\" xlink:href=\"#m2d3a8e0b04\" y=\"203.420642\"/>\n     <use style=\"fill:#1f77b4;stroke:#1f77b4;\" x=\"112.034683\" xlink:href=\"#m2d3a8e0b04\" y=\"205.012953\"/>\n     <use style=\"fill:#1f77b4;stroke:#1f77b4;\" x=\"111.883042\" xlink:href=\"#m2d3a8e0b04\" y=\"208.1421\"/>\n     <use style=\"fill:#1f77b4;stroke:#1f77b4;\" x=\"111.85981\" xlink:href=\"#m2d3a8e0b04\" y=\"210.267531\"/>\n     <use style=\"fill:#1f77b4;stroke:#1f77b4;\" x=\"111.658346\" xlink:href=\"#m2d3a8e0b04\" y=\"204.915786\"/>\n     <use style=\"fill:#1f77b4;stroke:#1f77b4;\" x=\"111.446224\" xlink:href=\"#m2d3a8e0b04\" y=\"200.474745\"/>\n     <use style=\"fill:#1f77b4;stroke:#1f77b4;\" x=\"110.943749\" xlink:href=\"#m2d3a8e0b04\" y=\"203.024625\"/>\n     <use style=\"fill:#1f77b4;stroke:#1f77b4;\" x=\"110.746302\" xlink:href=\"#m2d3a8e0b04\" y=\"213.322723\"/>\n     <use style=\"fill:#1f77b4;stroke:#1f77b4;\" x=\"110.735144\" xlink:href=\"#m2d3a8e0b04\" y=\"210.661781\"/>\n     <use style=\"fill:#1f77b4;stroke:#1f77b4;\" x=\"110.650268\" xlink:href=\"#m2d3a8e0b04\" y=\"202.002438\"/>\n     <use style=\"fill:#1f77b4;stroke:#1f77b4;\" x=\"110.261251\" xlink:href=\"#m2d3a8e0b04\" y=\"203.311865\"/>\n     <use style=\"fill:#1f77b4;stroke:#1f77b4;\" x=\"109.765312\" xlink:href=\"#m2d3a8e0b04\" y=\"203.519502\"/>\n     <use style=\"fill:#1f77b4;stroke:#1f77b4;\" x=\"109.982191\" xlink:href=\"#m2d3a8e0b04\" y=\"207.331576\"/>\n     <use style=\"fill:#1f77b4;stroke:#1f77b4;\" x=\"109.641239\" xlink:href=\"#m2d3a8e0b04\" y=\"198.569193\"/>\n     <use style=\"fill:#1f77b4;stroke:#1f77b4;\" x=\"109.416768\" xlink:href=\"#m2d3a8e0b04\" y=\"211.577581\"/>\n     <use style=\"fill:#1f77b4;stroke:#1f77b4;\" x=\"109.099018\" xlink:href=\"#m2d3a8e0b04\" y=\"214.454123\"/>\n     <use style=\"fill:#1f77b4;stroke:#1f77b4;\" x=\"109.032905\" xlink:href=\"#m2d3a8e0b04\" y=\"207.890494\"/>\n     <use style=\"fill:#1f77b4;stroke:#1f77b4;\" x=\"108.765554\" xlink:href=\"#m2d3a8e0b04\" y=\"203.56471\"/>\n     <use style=\"fill:#1f77b4;stroke:#1f77b4;\" x=\"108.415435\" xlink:href=\"#m2d3a8e0b04\" y=\"205.351004\"/>\n     <use style=\"fill:#1f77b4;stroke:#1f77b4;\" x=\"108.334756\" xlink:href=\"#m2d3a8e0b04\" y=\"204.672128\"/>\n     <use style=\"fill:#1f77b4;stroke:#1f77b4;\" x=\"108.207044\" xlink:href=\"#m2d3a8e0b04\" y=\"210.315667\"/>\n     <use style=\"fill:#1f77b4;stroke:#1f77b4;\" x=\"108.054778\" xlink:href=\"#m2d3a8e0b04\" y=\"202.953183\"/>\n     <use style=\"fill:#1f77b4;stroke:#1f77b4;\" x=\"107.735186\" xlink:href=\"#m2d3a8e0b04\" y=\"209.482057\"/>\n     <use style=\"fill:#1f77b4;stroke:#1f77b4;\" x=\"107.210171\" xlink:href=\"#m2d3a8e0b04\" y=\"217.272704\"/>\n     <use style=\"fill:#1f77b4;stroke:#1f77b4;\" x=\"107.151232\" xlink:href=\"#m2d3a8e0b04\" y=\"207.239693\"/>\n     <use style=\"fill:#1f77b4;stroke:#1f77b4;\" x=\"107.078261\" xlink:href=\"#m2d3a8e0b04\" y=\"208.653669\"/>\n     <use style=\"fill:#1f77b4;stroke:#1f77b4;\" x=\"106.736996\" xlink:href=\"#m2d3a8e0b04\" y=\"205.058443\"/>\n     <use style=\"fill:#1f77b4;stroke:#1f77b4;\" x=\"106.859313\" xlink:href=\"#m2d3a8e0b04\" y=\"207.157395\"/>\n     <use style=\"fill:#1f77b4;stroke:#1f77b4;\" x=\"106.489633\" xlink:href=\"#m2d3a8e0b04\" y=\"215.196773\"/>\n     <use style=\"fill:#1f77b4;stroke:#1f77b4;\" x=\"105.850657\" xlink:href=\"#m2d3a8e0b04\" y=\"200.228454\"/>\n     <use style=\"fill:#1f77b4;stroke:#1f77b4;\" x=\"106.105521\" xlink:href=\"#m2d3a8e0b04\" y=\"205.234195\"/>\n     <use style=\"fill:#1f77b4;stroke:#1f77b4;\" x=\"106.032256\" xlink:href=\"#m2d3a8e0b04\" y=\"207.035167\"/>\n     <use style=\"fill:#1f77b4;stroke:#1f77b4;\" x=\"105.474347\" xlink:href=\"#m2d3a8e0b04\" y=\"208.333947\"/>\n     <use style=\"fill:#1f77b4;stroke:#1f77b4;\" x=\"105.25327\" xlink:href=\"#m2d3a8e0b04\" y=\"206.272784\"/>\n     <use style=\"fill:#1f77b4;stroke:#1f77b4;\" x=\"105.160334\" xlink:href=\"#m2d3a8e0b04\" y=\"208.07723\"/>\n     <use style=\"fill:#1f77b4;stroke:#1f77b4;\" x=\"104.882238\" xlink:href=\"#m2d3a8e0b04\" y=\"207.337086\"/>\n     <use style=\"fill:#1f77b4;stroke:#1f77b4;\" x=\"104.900201\" xlink:href=\"#m2d3a8e0b04\" y=\"199.970872\"/>\n     <use style=\"fill:#1f77b4;stroke:#1f77b4;\" x=\"104.504737\" xlink:href=\"#m2d3a8e0b04\" y=\"201.215306\"/>\n     <use style=\"fill:#1f77b4;stroke:#1f77b4;\" x=\"104.732746\" xlink:href=\"#m2d3a8e0b04\" y=\"212.813852\"/>\n     <use style=\"fill:#1f77b4;stroke:#1f77b4;\" x=\"104.62118\" xlink:href=\"#m2d3a8e0b04\" y=\"210.952176\"/>\n     <use style=\"fill:#1f77b4;stroke:#1f77b4;\" x=\"104.387612\" xlink:href=\"#m2d3a8e0b04\" y=\"204.440583\"/>\n     <use style=\"fill:#1f77b4;stroke:#1f77b4;\" x=\"103.758886\" xlink:href=\"#m2d3a8e0b04\" y=\"210.470787\"/>\n     <use style=\"fill:#1f77b4;stroke:#1f77b4;\" x=\"103.598984\" xlink:href=\"#m2d3a8e0b04\" y=\"207.491869\"/>\n     <use style=\"fill:#1f77b4;stroke:#1f77b4;\" x=\"103.748749\" xlink:href=\"#m2d3a8e0b04\" y=\"212.011784\"/>\n     <use style=\"fill:#1f77b4;stroke:#1f77b4;\" x=\"103.573593\" xlink:href=\"#m2d3a8e0b04\" y=\"214.246289\"/>\n     <use style=\"fill:#1f77b4;stroke:#1f77b4;\" x=\"103.226586\" xlink:href=\"#m2d3a8e0b04\" y=\"201.86952\"/>\n     <use style=\"fill:#1f77b4;stroke:#1f77b4;\" x=\"103.014148\" xlink:href=\"#m2d3a8e0b04\" y=\"211.659345\"/>\n     <use style=\"fill:#1f77b4;stroke:#1f77b4;\" x=\"102.863988\" xlink:href=\"#m2d3a8e0b04\" y=\"213.422464\"/>\n     <use style=\"fill:#1f77b4;stroke:#1f77b4;\" x=\"102.930078\" xlink:href=\"#m2d3a8e0b04\" y=\"211.895198\"/>\n     <use style=\"fill:#1f77b4;stroke:#1f77b4;\" x=\"102.379276\" xlink:href=\"#m2d3a8e0b04\" y=\"210.138749\"/>\n     <use style=\"fill:#1f77b4;stroke:#1f77b4;\" x=\"102.404999\" xlink:href=\"#m2d3a8e0b04\" y=\"209.772905\"/>\n     <use style=\"fill:#1f77b4;stroke:#1f77b4;\" x=\"102.256976\" xlink:href=\"#m2d3a8e0b04\" y=\"209.7857\"/>\n     <use style=\"fill:#1f77b4;stroke:#1f77b4;\" x=\"102.000541\" xlink:href=\"#m2d3a8e0b04\" y=\"207.009492\"/>\n     <use style=\"fill:#1f77b4;stroke:#1f77b4;\" x=\"101.814326\" xlink:href=\"#m2d3a8e0b04\" y=\"214.60264\"/>\n     <use style=\"fill:#1f77b4;stroke:#1f77b4;\" x=\"101.783089\" xlink:href=\"#m2d3a8e0b04\" y=\"206.356463\"/>\n     <use style=\"fill:#1f77b4;stroke:#1f77b4;\" x=\"101.443764\" xlink:href=\"#m2d3a8e0b04\" y=\"211.204684\"/>\n     <use style=\"fill:#1f77b4;stroke:#1f77b4;\" x=\"101.07434\" xlink:href=\"#m2d3a8e0b04\" y=\"208.040288\"/>\n     <use style=\"fill:#1f77b4;stroke:#1f77b4;\" x=\"101.034584\" xlink:href=\"#m2d3a8e0b04\" y=\"215.704084\"/>\n     <use style=\"fill:#1f77b4;stroke:#1f77b4;\" x=\"100.889133\" xlink:href=\"#m2d3a8e0b04\" y=\"205.290676\"/>\n     <use style=\"fill:#1f77b4;stroke:#1f77b4;\" x=\"101.029079\" xlink:href=\"#m2d3a8e0b04\" y=\"211.535595\"/>\n     <use style=\"fill:#1f77b4;stroke:#1f77b4;\" x=\"100.770643\" xlink:href=\"#m2d3a8e0b04\" y=\"212.38987\"/>\n     <use style=\"fill:#1f77b4;stroke:#1f77b4;\" x=\"100.403754\" xlink:href=\"#m2d3a8e0b04\" y=\"210.503396\"/>\n     <use style=\"fill:#1f77b4;stroke:#1f77b4;\" x=\"100.526214\" xlink:href=\"#m2d3a8e0b04\" y=\"213.711546\"/>\n     <use style=\"fill:#1f77b4;stroke:#1f77b4;\" x=\"100.084256\" xlink:href=\"#m2d3a8e0b04\" y=\"207.997921\"/>\n     <use style=\"fill:#1f77b4;stroke:#1f77b4;\" x=\"99.848077\" xlink:href=\"#m2d3a8e0b04\" y=\"208.815871\"/>\n     <use style=\"fill:#1f77b4;stroke:#1f77b4;\" x=\"99.697829\" xlink:href=\"#m2d3a8e0b04\" y=\"210.876027\"/>\n     <use style=\"fill:#1f77b4;stroke:#1f77b4;\" x=\"99.49979\" xlink:href=\"#m2d3a8e0b04\" y=\"208.773031\"/>\n     <use style=\"fill:#1f77b4;stroke:#1f77b4;\" x=\"99.416649\" xlink:href=\"#m2d3a8e0b04\" y=\"215.870483\"/>\n     <use style=\"fill:#1f77b4;stroke:#1f77b4;\" x=\"99.306869\" xlink:href=\"#m2d3a8e0b04\" y=\"208.305271\"/>\n     <use style=\"fill:#1f77b4;stroke:#1f77b4;\" x=\"99.102704\" xlink:href=\"#m2d3a8e0b04\" y=\"215.400885\"/>\n     <use style=\"fill:#1f77b4;stroke:#1f77b4;\" x=\"99.183197\" xlink:href=\"#m2d3a8e0b04\" y=\"211.171141\"/>\n     <use style=\"fill:#1f77b4;stroke:#1f77b4;\" x=\"98.642305\" xlink:href=\"#m2d3a8e0b04\" y=\"216.151915\"/>\n     <use style=\"fill:#1f77b4;stroke:#1f77b4;\" x=\"98.311306\" xlink:href=\"#m2d3a8e0b04\" y=\"212.332192\"/>\n     <use style=\"fill:#1f77b4;stroke:#1f77b4;\" x=\"98.342308\" xlink:href=\"#m2d3a8e0b04\" y=\"211.705575\"/>\n     <use style=\"fill:#1f77b4;stroke:#1f77b4;\" x=\"98.351188\" xlink:href=\"#m2d3a8e0b04\" y=\"209.954462\"/>\n     <use style=\"fill:#1f77b4;stroke:#1f77b4;\" x=\"98.089446\" xlink:href=\"#m2d3a8e0b04\" y=\"213.948123\"/>\n     <use style=\"fill:#1f77b4;stroke:#1f77b4;\" x=\"98.038094\" xlink:href=\"#m2d3a8e0b04\" y=\"218.432126\"/>\n     <use style=\"fill:#1f77b4;stroke:#1f77b4;\" x=\"97.598594\" xlink:href=\"#m2d3a8e0b04\" y=\"212.55244\"/>\n     <use style=\"fill:#1f77b4;stroke:#1f77b4;\" x=\"97.671736\" xlink:href=\"#m2d3a8e0b04\" y=\"213.596718\"/>\n     <use style=\"fill:#1f77b4;stroke:#1f77b4;\" x=\"97.401641\" xlink:href=\"#m2d3a8e0b04\" y=\"217.711269\"/>\n     <use style=\"fill:#1f77b4;stroke:#1f77b4;\" x=\"97.247381\" xlink:href=\"#m2d3a8e0b04\" y=\"217.304142\"/>\n     <use style=\"fill:#1f77b4;stroke:#1f77b4;\" x=\"96.962551\" xlink:href=\"#m2d3a8e0b04\" y=\"216.729259\"/>\n     <use style=\"fill:#1f77b4;stroke:#1f77b4;\" x=\"96.981604\" xlink:href=\"#m2d3a8e0b04\" y=\"215.449496\"/>\n     <use style=\"fill:#1f77b4;stroke:#1f77b4;\" x=\"96.993896\" xlink:href=\"#m2d3a8e0b04\" y=\"215.025827\"/>\n     <use style=\"fill:#1f77b4;stroke:#1f77b4;\" x=\"96.651678\" xlink:href=\"#m2d3a8e0b04\" y=\"212.631783\"/>\n     <use style=\"fill:#1f77b4;stroke:#1f77b4;\" x=\"96.598982\" xlink:href=\"#m2d3a8e0b04\" y=\"210.114178\"/>\n     <use style=\"fill:#1f77b4;stroke:#1f77b4;\" x=\"96.468755\" xlink:href=\"#m2d3a8e0b04\" y=\"211.111082\"/>\n     <use style=\"fill:#1f77b4;stroke:#1f77b4;\" x=\"96.249036\" xlink:href=\"#m2d3a8e0b04\" y=\"213.026447\"/>\n     <use style=\"fill:#1f77b4;stroke:#1f77b4;\" x=\"95.986478\" xlink:href=\"#m2d3a8e0b04\" y=\"213.483667\"/>\n     <use style=\"fill:#1f77b4;stroke:#1f77b4;\" x=\"114.949507\" xlink:href=\"#m2d3a8e0b04\" y=\"203.102007\"/>\n     <use style=\"fill:#1f77b4;stroke:#1f77b4;\" x=\"114.863447\" xlink:href=\"#m2d3a8e0b04\" y=\"198.710347\"/>\n     <use style=\"fill:#1f77b4;stroke:#1f77b4;\" x=\"114.166901\" xlink:href=\"#m2d3a8e0b04\" y=\"203.253856\"/>\n     <use style=\"fill:#1f77b4;stroke:#1f77b4;\" x=\"114.441201\" xlink:href=\"#m2d3a8e0b04\" y=\"202.836453\"/>\n     <use style=\"fill:#1f77b4;stroke:#1f77b4;\" x=\"114.457284\" xlink:href=\"#m2d3a8e0b04\" y=\"205.878982\"/>\n     <use style=\"fill:#1f77b4;stroke:#1f77b4;\" x=\"114.066354\" xlink:href=\"#m2d3a8e0b04\" y=\"208.392024\"/>\n     <use style=\"fill:#1f77b4;stroke:#1f77b4;\" x=\"113.729985\" xlink:href=\"#m2d3a8e0b04\" y=\"203.668793\"/>\n     <use style=\"fill:#1f77b4;stroke:#1f77b4;\" x=\"113.394142\" xlink:href=\"#m2d3a8e0b04\" y=\"206.741594\"/>\n     <use style=\"fill:#1f77b4;stroke:#1f77b4;\" x=\"113.051812\" xlink:href=\"#m2d3a8e0b04\" y=\"201.984194\"/>\n     <use style=\"fill:#1f77b4;stroke:#1f77b4;\" x=\"113.280974\" xlink:href=\"#m2d3a8e0b04\" y=\"199.778662\"/>\n     <use style=\"fill:#1f77b4;stroke:#1f77b4;\" x=\"112.889557\" xlink:href=\"#m2d3a8e0b04\" y=\"207.248082\"/>\n     <use style=\"fill:#1f77b4;stroke:#1f77b4;\" x=\"112.655914\" xlink:href=\"#m2d3a8e0b04\" y=\"216.231098\"/>\n     <use style=\"fill:#1f77b4;stroke:#1f77b4;\" x=\"112.293846\" xlink:href=\"#m2d3a8e0b04\" y=\"196.825585\"/>\n     <use style=\"fill:#1f77b4;stroke:#1f77b4;\" x=\"111.995904\" xlink:href=\"#m2d3a8e0b04\" y=\"204.65805\"/>\n     <use style=\"fill:#1f77b4;stroke:#1f77b4;\" x=\"112.061039\" xlink:href=\"#m2d3a8e0b04\" y=\"211.110193\"/>\n     <use style=\"fill:#1f77b4;stroke:#1f77b4;\" x=\"111.784547\" xlink:href=\"#m2d3a8e0b04\" y=\"200.665599\"/>\n     <use style=\"fill:#1f77b4;stroke:#1f77b4;\" x=\"111.426118\" xlink:href=\"#m2d3a8e0b04\" y=\"204.132263\"/>\n     <use style=\"fill:#1f77b4;stroke:#1f77b4;\" x=\"111.398563\" xlink:href=\"#m2d3a8e0b04\" y=\"196.874813\"/>\n     <use style=\"fill:#1f77b4;stroke:#1f77b4;\" x=\"111.23092\" xlink:href=\"#m2d3a8e0b04\" y=\"203.27901\"/>\n     <use style=\"fill:#1f77b4;stroke:#1f77b4;\" x=\"110.978901\" xlink:href=\"#m2d3a8e0b04\" y=\"204.445283\"/>\n     <use style=\"fill:#1f77b4;stroke:#1f77b4;\" x=\"110.516337\" xlink:href=\"#m2d3a8e0b04\" y=\"202.309935\"/>\n     <use style=\"fill:#1f77b4;stroke:#1f77b4;\" x=\"110.871439\" xlink:href=\"#m2d3a8e0b04\" y=\"211.069532\"/>\n     <use style=\"fill:#1f77b4;stroke:#1f77b4;\" x=\"110.415129\" xlink:href=\"#m2d3a8e0b04\" y=\"202.24968\"/>\n     <use style=\"fill:#1f77b4;stroke:#1f77b4;\" x=\"109.830127\" xlink:href=\"#m2d3a8e0b04\" y=\"207.099748\"/>\n     <use style=\"fill:#1f77b4;stroke:#1f77b4;\" x=\"110.007721\" xlink:href=\"#m2d3a8e0b04\" y=\"213.322782\"/>\n     <use style=\"fill:#1f77b4;stroke:#1f77b4;\" x=\"109.657954\" xlink:href=\"#m2d3a8e0b04\" y=\"207.167214\"/>\n     <use style=\"fill:#1f77b4;stroke:#1f77b4;\" x=\"109.327704\" xlink:href=\"#m2d3a8e0b04\" y=\"200.167647\"/>\n     <use style=\"fill:#1f77b4;stroke:#1f77b4;\" x=\"109.239946\" xlink:href=\"#m2d3a8e0b04\" y=\"207.012505\"/>\n     <use style=\"fill:#1f77b4;stroke:#1f77b4;\" x=\"109.011193\" xlink:href=\"#m2d3a8e0b04\" y=\"205.011511\"/>\n     <use style=\"fill:#1f77b4;stroke:#1f77b4;\" x=\"108.954834\" xlink:href=\"#m2d3a8e0b04\" y=\"202.47118\"/>\n     <use style=\"fill:#1f77b4;stroke:#1f77b4;\" x=\"108.419394\" xlink:href=\"#m2d3a8e0b04\" y=\"210.070155\"/>\n     <use style=\"fill:#1f77b4;stroke:#1f77b4;\" x=\"107.911058\" xlink:href=\"#m2d3a8e0b04\" y=\"204.156582\"/>\n     <use style=\"fill:#1f77b4;stroke:#1f77b4;\" x=\"108.240916\" xlink:href=\"#m2d3a8e0b04\" y=\"207.342057\"/>\n     <use style=\"fill:#1f77b4;stroke:#1f77b4;\" x=\"107.589942\" xlink:href=\"#m2d3a8e0b04\" y=\"214.90146\"/>\n     <use style=\"fill:#1f77b4;stroke:#1f77b4;\" x=\"107.907927\" xlink:href=\"#m2d3a8e0b04\" y=\"210.165787\"/>\n     <use style=\"fill:#1f77b4;stroke:#1f77b4;\" x=\"107.618585\" xlink:href=\"#m2d3a8e0b04\" y=\"205.656931\"/>\n     <use style=\"fill:#1f77b4;stroke:#1f77b4;\" x=\"107.400302\" xlink:href=\"#m2d3a8e0b04\" y=\"203.006031\"/>\n     <use style=\"fill:#1f77b4;stroke:#1f77b4;\" x=\"106.541826\" xlink:href=\"#m2d3a8e0b04\" y=\"210.970426\"/>\n     <use style=\"fill:#1f77b4;stroke:#1f77b4;\" x=\"106.821674\" xlink:href=\"#m2d3a8e0b04\" y=\"207.36189\"/>\n     <use style=\"fill:#1f77b4;stroke:#1f77b4;\" x=\"106.519925\" xlink:href=\"#m2d3a8e0b04\" y=\"210.618733\"/>\n     <use style=\"fill:#1f77b4;stroke:#1f77b4;\" x=\"106.630833\" xlink:href=\"#m2d3a8e0b04\" y=\"206.608774\"/>\n     <use style=\"fill:#1f77b4;stroke:#1f77b4;\" x=\"106.38554\" xlink:href=\"#m2d3a8e0b04\" y=\"211.144692\"/>\n     <use style=\"fill:#1f77b4;stroke:#1f77b4;\" x=\"106.108698\" xlink:href=\"#m2d3a8e0b04\" y=\"212.044946\"/>\n     <use style=\"fill:#1f77b4;stroke:#1f77b4;\" x=\"105.973654\" xlink:href=\"#m2d3a8e0b04\" y=\"210.143352\"/>\n     <use style=\"fill:#1f77b4;stroke:#1f77b4;\" x=\"105.612566\" xlink:href=\"#m2d3a8e0b04\" y=\"208.04386\"/>\n     <use style=\"fill:#1f77b4;stroke:#1f77b4;\" x=\"105.57655\" xlink:href=\"#m2d3a8e0b04\" y=\"200.188296\"/>\n     <use style=\"fill:#1f77b4;stroke:#1f77b4;\" x=\"105.506978\" xlink:href=\"#m2d3a8e0b04\" y=\"212.553422\"/>\n     <use style=\"fill:#1f77b4;stroke:#1f77b4;\" x=\"104.964567\" xlink:href=\"#m2d3a8e0b04\" y=\"203.831062\"/>\n     <use style=\"fill:#1f77b4;stroke:#1f77b4;\" x=\"104.748346\" xlink:href=\"#m2d3a8e0b04\" y=\"210.819614\"/>\n     <use style=\"fill:#1f77b4;stroke:#1f77b4;\" x=\"104.658932\" xlink:href=\"#m2d3a8e0b04\" y=\"208.103611\"/>\n     <use style=\"fill:#1f77b4;stroke:#1f77b4;\" x=\"104.494525\" xlink:href=\"#m2d3a8e0b04\" y=\"208.893369\"/>\n     <use style=\"fill:#1f77b4;stroke:#1f77b4;\" x=\"104.180674\" xlink:href=\"#m2d3a8e0b04\" y=\"212.694121\"/>\n     <use style=\"fill:#1f77b4;stroke:#1f77b4;\" x=\"104.442436\" xlink:href=\"#m2d3a8e0b04\" y=\"205.88086\"/>\n     <use style=\"fill:#1f77b4;stroke:#1f77b4;\" x=\"104.150198\" xlink:href=\"#m2d3a8e0b04\" y=\"210.731971\"/>\n     <use style=\"fill:#1f77b4;stroke:#1f77b4;\" x=\"103.959362\" xlink:href=\"#m2d3a8e0b04\" y=\"210.624176\"/>\n     <use style=\"fill:#1f77b4;stroke:#1f77b4;\" x=\"103.483814\" xlink:href=\"#m2d3a8e0b04\" y=\"210.058152\"/>\n     <use style=\"fill:#1f77b4;stroke:#1f77b4;\" x=\"103.435156\" xlink:href=\"#m2d3a8e0b04\" y=\"209.508272\"/>\n     <use style=\"fill:#1f77b4;stroke:#1f77b4;\" x=\"103.118851\" xlink:href=\"#m2d3a8e0b04\" y=\"216.775492\"/>\n     <use style=\"fill:#1f77b4;stroke:#1f77b4;\" x=\"103.260682\" xlink:href=\"#m2d3a8e0b04\" y=\"208.583712\"/>\n     <use style=\"fill:#1f77b4;stroke:#1f77b4;\" x=\"103.108846\" xlink:href=\"#m2d3a8e0b04\" y=\"206.506784\"/>\n     <use style=\"fill:#1f77b4;stroke:#1f77b4;\" x=\"102.670613\" xlink:href=\"#m2d3a8e0b04\" y=\"203.751446\"/>\n     <use style=\"fill:#1f77b4;stroke:#1f77b4;\" x=\"102.460172\" xlink:href=\"#m2d3a8e0b04\" y=\"213.115943\"/>\n     <use style=\"fill:#1f77b4;stroke:#1f77b4;\" x=\"102.452235\" xlink:href=\"#m2d3a8e0b04\" y=\"213.054718\"/>\n     <use style=\"fill:#1f77b4;stroke:#1f77b4;\" x=\"102.400894\" xlink:href=\"#m2d3a8e0b04\" y=\"210.989296\"/>\n     <use style=\"fill:#1f77b4;stroke:#1f77b4;\" x=\"102.205513\" xlink:href=\"#m2d3a8e0b04\" y=\"211.17\"/>\n     <use style=\"fill:#1f77b4;stroke:#1f77b4;\" x=\"101.951167\" xlink:href=\"#m2d3a8e0b04\" y=\"206.722239\"/>\n     <use style=\"fill:#1f77b4;stroke:#1f77b4;\" x=\"101.572516\" xlink:href=\"#m2d3a8e0b04\" y=\"212.143766\"/>\n     <use style=\"fill:#1f77b4;stroke:#1f77b4;\" x=\"101.333275\" xlink:href=\"#m2d3a8e0b04\" y=\"211.723908\"/>\n     <use style=\"fill:#1f77b4;stroke:#1f77b4;\" x=\"101.286863\" xlink:href=\"#m2d3a8e0b04\" y=\"206.193021\"/>\n     <use style=\"fill:#1f77b4;stroke:#1f77b4;\" x=\"101.066645\" xlink:href=\"#m2d3a8e0b04\" y=\"212.088567\"/>\n     <use style=\"fill:#1f77b4;stroke:#1f77b4;\" x=\"101.115757\" xlink:href=\"#m2d3a8e0b04\" y=\"213.797617\"/>\n     <use style=\"fill:#1f77b4;stroke:#1f77b4;\" x=\"100.908149\" xlink:href=\"#m2d3a8e0b04\" y=\"211.889785\"/>\n     <use style=\"fill:#1f77b4;stroke:#1f77b4;\" x=\"100.556849\" xlink:href=\"#m2d3a8e0b04\" y=\"208.534159\"/>\n     <use style=\"fill:#1f77b4;stroke:#1f77b4;\" x=\"100.452135\" xlink:href=\"#m2d3a8e0b04\" y=\"206.748055\"/>\n     <use style=\"fill:#1f77b4;stroke:#1f77b4;\" x=\"100.471893\" xlink:href=\"#m2d3a8e0b04\" y=\"211.359859\"/>\n     <use style=\"fill:#1f77b4;stroke:#1f77b4;\" x=\"100.007089\" xlink:href=\"#m2d3a8e0b04\" y=\"212.850708\"/>\n     <use style=\"fill:#1f77b4;stroke:#1f77b4;\" x=\"99.920949\" xlink:href=\"#m2d3a8e0b04\" y=\"207.578579\"/>\n     <use style=\"fill:#1f77b4;stroke:#1f77b4;\" x=\"99.69289\" xlink:href=\"#m2d3a8e0b04\" y=\"205.255906\"/>\n     <use style=\"fill:#1f77b4;stroke:#1f77b4;\" x=\"99.452474\" xlink:href=\"#m2d3a8e0b04\" y=\"210.73137\"/>\n     <use style=\"fill:#1f77b4;stroke:#1f77b4;\" x=\"99.488449\" xlink:href=\"#m2d3a8e0b04\" y=\"216.567235\"/>\n     <use style=\"fill:#1f77b4;stroke:#1f77b4;\" x=\"99.210387\" xlink:href=\"#m2d3a8e0b04\" y=\"210.2195\"/>\n     <use style=\"fill:#1f77b4;stroke:#1f77b4;\" x=\"99.077437\" xlink:href=\"#m2d3a8e0b04\" y=\"210.715525\"/>\n     <use style=\"fill:#1f77b4;stroke:#1f77b4;\" x=\"99.038443\" xlink:href=\"#m2d3a8e0b04\" y=\"212.994279\"/>\n     <use style=\"fill:#1f77b4;stroke:#1f77b4;\" x=\"98.510657\" xlink:href=\"#m2d3a8e0b04\" y=\"212.496763\"/>\n     <use style=\"fill:#1f77b4;stroke:#1f77b4;\" x=\"98.599345\" xlink:href=\"#m2d3a8e0b04\" y=\"211.917649\"/>\n     <use style=\"fill:#1f77b4;stroke:#1f77b4;\" x=\"98.320579\" xlink:href=\"#m2d3a8e0b04\" y=\"209.360595\"/>\n     <use style=\"fill:#1f77b4;stroke:#1f77b4;\" x=\"98.201038\" xlink:href=\"#m2d3a8e0b04\" y=\"204.857955\"/>\n     <use style=\"fill:#1f77b4;stroke:#1f77b4;\" x=\"98.137348\" xlink:href=\"#m2d3a8e0b04\" y=\"217.049928\"/>\n     <use style=\"fill:#1f77b4;stroke:#1f77b4;\" x=\"97.983228\" xlink:href=\"#m2d3a8e0b04\" y=\"206.724313\"/>\n     <use style=\"fill:#1f77b4;stroke:#1f77b4;\" x=\"97.794676\" xlink:href=\"#m2d3a8e0b04\" y=\"213.464622\"/>\n     <use style=\"fill:#1f77b4;stroke:#1f77b4;\" x=\"97.727759\" xlink:href=\"#m2d3a8e0b04\" y=\"209.570589\"/>\n     <use style=\"fill:#1f77b4;stroke:#1f77b4;\" x=\"97.71204\" xlink:href=\"#m2d3a8e0b04\" y=\"212.294551\"/>\n     <use style=\"fill:#1f77b4;stroke:#1f77b4;\" x=\"97.319497\" xlink:href=\"#m2d3a8e0b04\" y=\"214.822246\"/>\n     <use style=\"fill:#1f77b4;stroke:#1f77b4;\" x=\"97.046653\" xlink:href=\"#m2d3a8e0b04\" y=\"207.777091\"/>\n     <use style=\"fill:#1f77b4;stroke:#1f77b4;\" x=\"97.021464\" xlink:href=\"#m2d3a8e0b04\" y=\"213.018985\"/>\n     <use style=\"fill:#1f77b4;stroke:#1f77b4;\" x=\"96.838028\" xlink:href=\"#m2d3a8e0b04\" y=\"209.684655\"/>\n     <use style=\"fill:#1f77b4;stroke:#1f77b4;\" x=\"96.794126\" xlink:href=\"#m2d3a8e0b04\" y=\"210.50061\"/>\n     <use style=\"fill:#1f77b4;stroke:#1f77b4;\" x=\"96.493002\" xlink:href=\"#m2d3a8e0b04\" y=\"216.794297\"/>\n    </g>\n   </g>\n   <g id=\"patch_3\">\n    <path d=\"M 56.50625 239.758125 \nL 56.50625 22.318125 \n\" style=\"fill:none;stroke:#000000;stroke-linecap:square;stroke-linejoin:miter;stroke-width:0.8;\"/>\n   </g>\n   <g id=\"patch_4\">\n    <path d=\"M 391.30625 239.758125 \nL 391.30625 22.318125 \n\" style=\"fill:none;stroke:#000000;stroke-linecap:square;stroke-linejoin:miter;stroke-width:0.8;\"/>\n   </g>\n   <g id=\"patch_5\">\n    <path d=\"M 56.50625 239.758125 \nL 391.30625 239.758125 \n\" style=\"fill:none;stroke:#000000;stroke-linecap:square;stroke-linejoin:miter;stroke-width:0.8;\"/>\n   </g>\n   <g id=\"patch_6\">\n    <path d=\"M 56.50625 22.318125 \nL 391.30625 22.318125 \n\" style=\"fill:none;stroke:#000000;stroke-linecap:square;stroke-linejoin:miter;stroke-width:0.8;\"/>\n   </g>\n   <g id=\"text_17\">\n    <!-- 2-layer Gated Recurrent Unit -->\n    <defs>\n     <path d=\"M 4.890625 31.390625 \nL 31.203125 31.390625 \nL 31.203125 23.390625 \nL 4.890625 23.390625 \nz\n\" id=\"DejaVuSans-45\"/>\n     <path d=\"M 32.171875 -5.078125 \nQ 28.375 -14.84375 24.75 -17.8125 \nQ 21.140625 -20.796875 15.09375 -20.796875 \nL 7.90625 -20.796875 \nL 7.90625 -13.28125 \nL 13.1875 -13.28125 \nQ 16.890625 -13.28125 18.9375 -11.515625 \nQ 21 -9.765625 23.484375 -3.21875 \nL 25.09375 0.875 \nL 2.984375 54.6875 \nL 12.5 54.6875 \nL 29.59375 11.921875 \nL 46.6875 54.6875 \nL 56.203125 54.6875 \nz\n\" id=\"DejaVuSans-121\"/>\n     <path d=\"M 59.515625 10.40625 \nL 59.515625 29.984375 \nL 43.40625 29.984375 \nL 43.40625 38.09375 \nL 69.28125 38.09375 \nL 69.28125 6.78125 \nQ 63.578125 2.734375 56.6875 0.65625 \nQ 49.8125 -1.421875 42 -1.421875 \nQ 24.90625 -1.421875 15.25 8.5625 \nQ 5.609375 18.5625 5.609375 36.375 \nQ 5.609375 54.25 15.25 64.234375 \nQ 24.90625 74.21875 42 74.21875 \nQ 49.125 74.21875 55.546875 72.453125 \nQ 61.96875 70.703125 67.390625 67.28125 \nL 67.390625 56.78125 \nQ 61.921875 61.421875 55.765625 63.765625 \nQ 49.609375 66.109375 42.828125 66.109375 \nQ 29.4375 66.109375 22.71875 58.640625 \nQ 16.015625 51.171875 16.015625 36.375 \nQ 16.015625 21.625 22.71875 14.15625 \nQ 29.4375 6.6875 42.828125 6.6875 \nQ 48.046875 6.6875 52.140625 7.59375 \nQ 56.25 8.5 59.515625 10.40625 \nz\n\" id=\"DejaVuSans-71\"/>\n     <path d=\"M 44.390625 34.1875 \nQ 47.5625 33.109375 50.5625 29.59375 \nQ 53.5625 26.078125 56.59375 19.921875 \nL 66.609375 0 \nL 56 0 \nL 46.6875 18.703125 \nQ 43.0625 26.03125 39.671875 28.421875 \nQ 36.28125 30.8125 30.421875 30.8125 \nL 19.671875 30.8125 \nL 19.671875 0 \nL 9.8125 0 \nL 9.8125 72.90625 \nL 32.078125 72.90625 \nQ 44.578125 72.90625 50.734375 67.671875 \nQ 56.890625 62.453125 56.890625 51.90625 \nQ 56.890625 45.015625 53.6875 40.46875 \nQ 50.484375 35.9375 44.390625 34.1875 \nz\nM 19.671875 64.796875 \nL 19.671875 38.921875 \nL 32.078125 38.921875 \nQ 39.203125 38.921875 42.84375 42.21875 \nQ 46.484375 45.515625 46.484375 51.90625 \nQ 46.484375 58.296875 42.84375 61.546875 \nQ 39.203125 64.796875 32.078125 64.796875 \nz\n\" id=\"DejaVuSans-82\"/>\n     <path d=\"M 8.6875 72.90625 \nL 18.609375 72.90625 \nL 18.609375 28.609375 \nQ 18.609375 16.890625 22.84375 11.734375 \nQ 27.09375 6.59375 36.625 6.59375 \nQ 46.09375 6.59375 50.34375 11.734375 \nQ 54.59375 16.890625 54.59375 28.609375 \nL 54.59375 72.90625 \nL 64.5 72.90625 \nL 64.5 27.390625 \nQ 64.5 13.140625 57.4375 5.859375 \nQ 50.390625 -1.421875 36.625 -1.421875 \nQ 22.796875 -1.421875 15.734375 5.859375 \nQ 8.6875 13.140625 8.6875 27.390625 \nz\n\" id=\"DejaVuSans-85\"/>\n    </defs>\n    <g transform=\"translate(137.525937 16.318125)scale(0.12 -0.12)\">\n     <use xlink:href=\"#DejaVuSans-50\"/>\n     <use x=\"63.623047\" xlink:href=\"#DejaVuSans-45\"/>\n     <use x=\"99.707031\" xlink:href=\"#DejaVuSans-108\"/>\n     <use x=\"127.490234\" xlink:href=\"#DejaVuSans-97\"/>\n     <use x=\"188.769531\" xlink:href=\"#DejaVuSans-121\"/>\n     <use x=\"247.949219\" xlink:href=\"#DejaVuSans-101\"/>\n     <use x=\"309.472656\" xlink:href=\"#DejaVuSans-114\"/>\n     <use x=\"350.585938\" xlink:href=\"#DejaVuSans-32\"/>\n     <use x=\"382.373047\" xlink:href=\"#DejaVuSans-71\"/>\n     <use x=\"459.863281\" xlink:href=\"#DejaVuSans-97\"/>\n     <use x=\"521.142578\" xlink:href=\"#DejaVuSans-116\"/>\n     <use x=\"560.351562\" xlink:href=\"#DejaVuSans-101\"/>\n     <use x=\"621.875\" xlink:href=\"#DejaVuSans-100\"/>\n     <use x=\"685.351562\" xlink:href=\"#DejaVuSans-32\"/>\n     <use x=\"717.138672\" xlink:href=\"#DejaVuSans-82\"/>\n     <use x=\"782.121094\" xlink:href=\"#DejaVuSans-101\"/>\n     <use x=\"843.644531\" xlink:href=\"#DejaVuSans-99\"/>\n     <use x=\"898.625\" xlink:href=\"#DejaVuSans-117\"/>\n     <use x=\"962.003906\" xlink:href=\"#DejaVuSans-114\"/>\n     <use x=\"1001.367188\" xlink:href=\"#DejaVuSans-114\"/>\n     <use x=\"1040.230469\" xlink:href=\"#DejaVuSans-101\"/>\n     <use x=\"1101.753906\" xlink:href=\"#DejaVuSans-110\"/>\n     <use x=\"1165.132812\" xlink:href=\"#DejaVuSans-116\"/>\n     <use x=\"1204.341797\" xlink:href=\"#DejaVuSans-32\"/>\n     <use x=\"1236.128906\" xlink:href=\"#DejaVuSans-85\"/>\n     <use x=\"1309.322266\" xlink:href=\"#DejaVuSans-110\"/>\n     <use x=\"1372.701172\" xlink:href=\"#DejaVuSans-105\"/>\n     <use x=\"1400.484375\" xlink:href=\"#DejaVuSans-116\"/>\n    </g>\n   </g>\n  </g>\n </g>\n <defs>\n  <clipPath id=\"p53b66feb4d\">\n   <rect height=\"217.44\" width=\"334.8\" x=\"56.50625\" y=\"22.318125\"/>\n  </clipPath>\n </defs>\n</svg>\n"
          },
          "metadata": {
            "needs_background": "light"
          }
        }
      ]
    },
    {
      "cell_type": "code",
      "source": [
        "print(\"Mean squared error:\", np.mean((preds-a[:,-1:].squeeze(-1))**2))"
      ],
      "metadata": {
        "colab": {
          "base_uri": "https://localhost:8080/"
        },
        "id": "DeYInWMf06xA",
        "outputId": "2d0d08b9-e1ee-4794-d156-3affd51a4233"
      },
      "execution_count": 13,
      "outputs": [
        {
          "output_type": "stream",
          "name": "stdout",
          "text": [
            "Mean squared error: 2.870194832870724e-06\n"
          ]
        }
      ]
    },
    {
      "cell_type": "markdown",
      "source": [
        "## Physics-informed model\n",
        "Now, we inject the physics-based knowledge we have of the fatigue crack propagation. More specifically, we make use of the Paris crack law. To simulate that we do not have a complete physics-based model of our problem, we assume that relationship between the sensor measurements $\\Delta S$ and the stress-intensity range $\\Delta K$ is unknown.\n",
        "\n",
        "Here, we use a slightly different approach to the one used by the [paper authors](https://github.com/PML-UCF/pinn/tree/master/samples/cumulative_damage/airplane_fleet_crack_growth). Instead of processing one time-step at a time recursively, we increase the input window to include several time steps (10, for example). This slightly breaks the strict adherence to the Paris law but also gives a shorter for-loop.\n",
        "\n",
        "For each step, the $\\Delta S$ (length=number of timesteps) and current crack length estimate $a_t$ is concatenated and embedded via an MLP (Encoder module below) to a latent space of size [batch_size,1]. This is then passed through a sigmoid and then scaled up to represent the stress-intensity range $\\Delta K$. This estimate is then in turn used in the Paris law layer to get the crack length increment $\\Delta a_t$. The input to the next timestep is then simply $a_t = a_{t-w} + \\Delta a_t$, where $w$ is the sequence length."
      ],
      "metadata": {
        "id": "lfz-t6Mr-Hv8"
      }
    },
    {
      "cell_type": "code",
      "source": [
        "# New DataLoaders because we do not min-max scale the labels for the physics-informed model\n",
        "\n",
        "X = torch.from_numpy(S_train).to(device)\n",
        "y = torch.from_numpy(a_train).to(device)\n",
        "\n",
        "# Train DataLoader\n",
        "train_loader = data_utils.DataLoader(data_utils.TensorDataset(X, y),\n",
        "                                     batch_size=batch_size, shuffle=True)\n",
        "\n",
        "# Test DataLoader\n",
        "X_test = torch.from_numpy(S).to(device)\n",
        "y_test = torch.from_numpy(a).to(device)\n",
        "\n",
        "test_loader = data_utils.DataLoader(data_utils.TensorDataset(X_test, y_test),\n",
        "                                     batch_size=batch_size, shuffle=False)"
      ],
      "metadata": {
        "id": "4Wh2VPdU2rxg"
      },
      "execution_count": 14,
      "outputs": []
    },
    {
      "cell_type": "code",
      "source": [
        "class ParisLaw(nn.Module):\n",
        "    def __init__(self, C, m):\n",
        "        super().__init__()\n",
        "        self.m = nn.Parameter(torch.tensor([m]),requires_grad=False)\n",
        "        self.C = nn.Parameter(torch.tensor([C]),requires_grad=False)\n",
        "\n",
        "    def forward(self,K):\n",
        "        x = torch.mul(self.C, torch.pow(K,self.m))\n",
        "        return x\n",
        "\n",
        "class Encoder(nn.Module):\n",
        "    def __init__(self, seq_len, hidden_dim):\n",
        "        super().__init__()\n",
        "        self.encoder = nn.Sequential(\n",
        "            nn.Linear(seq_len+1,hidden_dim),\n",
        "            nn.ELU(),\n",
        "            nn.Linear(hidden_dim,hidden_dim),\n",
        "            nn.ELU(),\n",
        "            nn.Linear(hidden_dim,hidden_dim),\n",
        "            nn.ELU(),\n",
        "            nn.Linear(hidden_dim,hidden_dim),\n",
        "            nn.ELU(),\n",
        "            nn.Linear(hidden_dim,1),\n",
        "        )\n",
        "\n",
        "        for m in self.modules():\n",
        "            if isinstance(m, nn.Linear):\n",
        "                torch.nn.init.kaiming_normal_(m.weight)\n",
        "                torch.nn.init.zeros_(m.bias)\n",
        "\n",
        "    def forward(self,x):\n",
        "        x = self.encoder(x)\n",
        "        return x\n",
        "\n",
        "class ScalingLayer(nn.Module):\n",
        "    def __init__(self, scale, bias):\n",
        "        super().__init__()\n",
        "        self.scaling = nn.Linear(1,1)\n",
        "        nn.init.constant_(self.scaling.weight, scale)\n",
        "        nn.init.constant_(self.scaling.bias, bias)\n",
        "\n",
        "    def forward(self,x):\n",
        "        return self.scaling(x)\n",
        "\n",
        "class ParisPINN(nn.Module):\n",
        "    def __init__(self, batch_size, C, m, a0, seq_len, hidden_dim, scale, bias):\n",
        "        \"\"\"\n",
        "        Args:\n",
        "            batch_size (int): batch size\n",
        "            C (int): Paris law material constant\n",
        "            m (int): Paris law exponent\n",
        "            a0 (int): initial crack length\n",
        "            seq_len (int): sequence length\n",
        "            hidden_dim (int): number of neurons in the encoder MLPs\n",
        "            scale (int): weight init for the scaling layer\n",
        "            bias (int): bias init for the scaling layer\n",
        "        \"\"\"\n",
        "        super().__init__()\n",
        "        self.a0 = nn.Parameter(torch.ones(batch_size,1) * \\\n",
        "                               torch.tensor([a0]),requires_grad=False)\n",
        "        self.C = C\n",
        "        self.m = m\n",
        "        self.seq_len = seq_len\n",
        "        self.encoder = Encoder(seq_len, hidden_dim)\n",
        "        self.scaling = ScalingLayer(scale, bias)\n",
        "        self.a_scaling = ScalingLayer(30., 0)\n",
        "        self.parislaw = ParisLaw(C, m)\n",
        "        self.act = nn.Sigmoid()\n",
        "    \n",
        "    def forward(self,S):\n",
        "        a = []\n",
        "        a_t = self.a0\n",
        "\n",
        "        for t in range(S.size(1)//self.seq_len):\n",
        "            x = S[:,t*self.seq_len:(t+1)*self.seq_len,:].squeeze(-1)\n",
        "            x = torch.cat((x, self.a_scaling(a_t)), 1)\n",
        "            x = self.encoder(x)\n",
        "            x = self.act(x)\n",
        "            x = self.scaling(x)\n",
        "            x = self.parislaw(x)\n",
        "            a_t = a_t + x\n",
        "            a.append(a_t)\n",
        "\n",
        "        return torch.stack(a)"
      ],
      "metadata": {
        "id": "W-ZsKlZV_rtX"
      },
      "execution_count": 15,
      "outputs": []
    },
    {
      "cell_type": "code",
      "source": [
        "lr = 1e-3\n",
        "seq_len = 10      # Sequence length (n timesteps)\n",
        "hidden_dim = 32   # Size of hidden dim in encoder MLP\n",
        "scale = 50.       # Scales the stress-intensity estimate\n",
        "bias = 10.        # Bias added to stress-intensity estimate\n",
        "\n",
        "model = ParisPINN(batch_size, C, m, a0, seq_len, hidden_dim, scale, bias).to(device)\n",
        "optimizer = torch.optim.Adam(model.parameters(),lr=lr)"
      ],
      "metadata": {
        "id": "iIP-f4UN_rtZ"
      },
      "execution_count": 16,
      "outputs": []
    },
    {
      "cell_type": "code",
      "source": [
        "# Training loop\n",
        "n_epochs = 500\n",
        "loss_fn = nn.MSELoss()\n",
        "model.train()\n",
        "\n",
        "loop = tqdm(range(n_epochs),leave=False)\n",
        "for epoch in loop:\n",
        "    epoch_loss = 0.\n",
        "    for batch in train_loader:\n",
        "        \n",
        "        # Get inputs and targets\n",
        "        inputs, targets = batch\n",
        "        inputs = inputs.type(torch.cuda.FloatTensor)\n",
        "        targets = targets.type(torch.cuda.FloatTensor)\n",
        "\n",
        "        # Set optimizer grads to zero\n",
        "        optimizer.zero_grad()\n",
        "\n",
        "        # Get outpute of model\n",
        "        output = model(inputs)\n",
        "        output = output.permute(1,0,2).squeeze(-1)\n",
        "\n",
        "        # Slice.\n",
        "        output = output[:,-1:]\n",
        "        targets = targets[:,-1:]\n",
        "        \n",
        "        # Calculate loss\n",
        "        loss = loss_fn(output,targets)\n",
        "        epoch_loss += loss.item()\n",
        "\n",
        "        # Backprop & step optimizer\n",
        "        loss.backward()\n",
        "        optimizer.step()\n",
        "\n",
        "        # Update progress bar\n",
        "        loop.set_description(f\"Epoch [{epoch} / {n_epochs}]\")\n",
        "        loop.set_postfix(loss = loss.item())\n",
        "\n",
        "    #print(epoch, epoch_loss / len(train_loader))\n",
        "\n",
        "print('training done')\n",
        "print(f\"Final epoch loss: {loss.item()}\")"
      ],
      "metadata": {
        "colab": {
          "base_uri": "https://localhost:8080/",
          "height": 52,
          "referenced_widgets": [
            "92bf845abd414404af0d7a0be75f0ca2",
            "6f85406de2cb43b389f32857b4788f13",
            "e190e2a7218e4861b10ae270a77d0093",
            "8f510917c54b43f68568be9a3961fa0c",
            "2f140a8c3c864ea18fef77d62e6ba081",
            "ae4864b9fc074662bd6874bc629f93d2",
            "b51fd6dd5a534cb5b79779db89a9ef0e",
            "54e25999904b4412b96555f7d2eb8fa1",
            "72db93fad73b4f67891eead5bf14def4",
            "357c962e2dfc4e5bb19e0e4587fca1ff",
            "e5c8b57686c34d8b92311bf8d27cdfaf"
          ]
        },
        "id": "YcyX2-e-3Y9L",
        "outputId": "509c9c15-d195-44cb-c58b-4f5b8792003f"
      },
      "execution_count": 17,
      "outputs": [
        {
          "output_type": "display_data",
          "data": {
            "application/vnd.jupyter.widget-view+json": {
              "model_id": "92bf845abd414404af0d7a0be75f0ca2",
              "version_minor": 0,
              "version_major": 2
            },
            "text/plain": [
              "  0%|          | 0/500 [00:00<?, ?it/s]"
            ]
          },
          "metadata": {}
        },
        {
          "output_type": "stream",
          "name": "stdout",
          "text": [
            "training done\n",
            "Final epoch loss: 1.0090602842183216e-07\n"
          ]
        }
      ]
    },
    {
      "cell_type": "code",
      "execution_count": 18,
      "metadata": {
        "colab": {
          "base_uri": "https://localhost:8080/",
          "height": 49,
          "referenced_widgets": [
            "dc8f682a6c3c4b5d81d8a42919cea974",
            "4cbfc6b4416e41b0a5cd16c2b8742a2a",
            "c43cb628e09f4d2a946388bf2649afeb",
            "010d755470ca4eb580cb50bcdd06152c",
            "29e75250b2dd423998ab7f1539c91c14",
            "9f02e5a362c04e3ebe91f72aa48b0065",
            "0f621eda72e34c4eb3ec04fe2ed9f857",
            "c4adba7987d64b3189dc9cae8c632e73",
            "4c6fe0ef454d497d95517a1ec39dd913",
            "c3b6481e6e3f4999bf0e98fe2d973b48",
            "93d9f365e7fa486b8b44310bee1605df"
          ]
        },
        "outputId": "90a785dc-4e69-49f6-e3cb-ac80bc414f7f",
        "id": "-a7RfQtKBTrW"
      },
      "outputs": [
        {
          "output_type": "display_data",
          "data": {
            "application/vnd.jupyter.widget-view+json": {
              "model_id": "dc8f682a6c3c4b5d81d8a42919cea974",
              "version_minor": 0,
              "version_major": 2
            },
            "text/plain": [
              "  0%|          | 0/30 [00:00<?, ?it/s]"
            ]
          },
          "metadata": {}
        }
      ],
      "source": [
        "model.eval()\n",
        "\n",
        "preds = []\n",
        "\n",
        "for test_batch in tqdm(test_loader):\n",
        "    \n",
        "    # Get inputs and targets\n",
        "    inputs, targets = test_batch\n",
        "    inputs = inputs.type(torch.cuda.FloatTensor)\n",
        "    targets = targets.type(torch.cuda.FloatTensor)\n",
        "\n",
        "    # Get outpute of model\n",
        "    predictions = model(inputs)\n",
        "    predictions = predictions[-1:,:,:].squeeze(0)\n",
        "\n",
        "    predictions = predictions.detach().cpu().numpy()\n",
        "    preds.append(predictions)\n",
        "\n",
        "preds = np.concatenate(preds,0)"
      ]
    },
    {
      "cell_type": "code",
      "execution_count": 19,
      "metadata": {
        "colab": {
          "base_uri": "https://localhost:8080/",
          "height": 408
        },
        "id": "IPy8ziT2mKBM",
        "outputId": "9657c76b-28d3-4148-b0ee-30cc30fcb575"
      },
      "outputs": [
        {
          "output_type": "execute_result",
          "data": {
            "text/plain": [
              "Text(0.5, 0, 'Actual crack length a [m]')"
            ]
          },
          "metadata": {},
          "execution_count": 19
        },
        {
          "output_type": "display_data",
          "data": {
            "text/plain": [
              "<Figure size 432x288 with 1 Axes>"
            ],
            "image/svg+xml": "<?xml version=\"1.0\" encoding=\"utf-8\" standalone=\"no\"?>\n<!DOCTYPE svg PUBLIC \"-//W3C//DTD SVG 1.1//EN\"\n  \"http://www.w3.org/Graphics/SVG/1.1/DTD/svg11.dtd\">\n<!-- Created with matplotlib (https://matplotlib.org/) -->\n<svg height=\"277.314375pt\" version=\"1.1\" viewBox=\"0 0 398.50625 277.314375\" width=\"398.50625pt\" xmlns=\"http://www.w3.org/2000/svg\" xmlns:xlink=\"http://www.w3.org/1999/xlink\">\n <defs>\n  <style type=\"text/css\">\n*{stroke-linecap:butt;stroke-linejoin:round;}\n  </style>\n </defs>\n <g id=\"figure_1\">\n  <g id=\"patch_1\">\n   <path d=\"M 0 277.314375 \nL 398.50625 277.314375 \nL 398.50625 0 \nL 0 0 \nz\n\" style=\"fill:none;\"/>\n  </g>\n  <g id=\"axes_1\">\n   <g id=\"patch_2\">\n    <path d=\"M 56.50625 239.758125 \nL 391.30625 239.758125 \nL 391.30625 22.318125 \nL 56.50625 22.318125 \nz\n\" style=\"fill:#ffffff;\"/>\n   </g>\n   <g id=\"matplotlib.axis_1\">\n    <g id=\"xtick_1\">\n     <g id=\"line2d_1\">\n      <defs>\n       <path d=\"M 0 0 \nL 0 3.5 \n\" id=\"mac4b82ce34\" style=\"stroke:#000000;stroke-width:0.8;\"/>\n      </defs>\n      <g>\n       <use style=\"stroke:#000000;stroke-width:0.8;\" x=\"71.724432\" xlink:href=\"#mac4b82ce34\" y=\"239.758125\"/>\n      </g>\n     </g>\n     <g id=\"text_1\">\n      <!-- 0.005 -->\n      <defs>\n       <path d=\"M 31.78125 66.40625 \nQ 24.171875 66.40625 20.328125 58.90625 \nQ 16.5 51.421875 16.5 36.375 \nQ 16.5 21.390625 20.328125 13.890625 \nQ 24.171875 6.390625 31.78125 6.390625 \nQ 39.453125 6.390625 43.28125 13.890625 \nQ 47.125 21.390625 47.125 36.375 \nQ 47.125 51.421875 43.28125 58.90625 \nQ 39.453125 66.40625 31.78125 66.40625 \nz\nM 31.78125 74.21875 \nQ 44.046875 74.21875 50.515625 64.515625 \nQ 56.984375 54.828125 56.984375 36.375 \nQ 56.984375 17.96875 50.515625 8.265625 \nQ 44.046875 -1.421875 31.78125 -1.421875 \nQ 19.53125 -1.421875 13.0625 8.265625 \nQ 6.59375 17.96875 6.59375 36.375 \nQ 6.59375 54.828125 13.0625 64.515625 \nQ 19.53125 74.21875 31.78125 74.21875 \nz\n\" id=\"DejaVuSans-48\"/>\n       <path d=\"M 10.6875 12.40625 \nL 21 12.40625 \nL 21 0 \nL 10.6875 0 \nz\n\" id=\"DejaVuSans-46\"/>\n       <path d=\"M 10.796875 72.90625 \nL 49.515625 72.90625 \nL 49.515625 64.59375 \nL 19.828125 64.59375 \nL 19.828125 46.734375 \nQ 21.96875 47.46875 24.109375 47.828125 \nQ 26.265625 48.1875 28.421875 48.1875 \nQ 40.625 48.1875 47.75 41.5 \nQ 54.890625 34.8125 54.890625 23.390625 \nQ 54.890625 11.625 47.5625 5.09375 \nQ 40.234375 -1.421875 26.90625 -1.421875 \nQ 22.3125 -1.421875 17.546875 -0.640625 \nQ 12.796875 0.140625 7.71875 1.703125 \nL 7.71875 11.625 \nQ 12.109375 9.234375 16.796875 8.0625 \nQ 21.484375 6.890625 26.703125 6.890625 \nQ 35.15625 6.890625 40.078125 11.328125 \nQ 45.015625 15.765625 45.015625 23.390625 \nQ 45.015625 31 40.078125 35.4375 \nQ 35.15625 39.890625 26.703125 39.890625 \nQ 22.75 39.890625 18.8125 39.015625 \nQ 14.890625 38.140625 10.796875 36.28125 \nz\n\" id=\"DejaVuSans-53\"/>\n      </defs>\n      <g transform=\"translate(57.410369 254.356562)scale(0.1 -0.1)\">\n       <use xlink:href=\"#DejaVuSans-48\"/>\n       <use x=\"63.623047\" xlink:href=\"#DejaVuSans-46\"/>\n       <use x=\"95.410156\" xlink:href=\"#DejaVuSans-48\"/>\n       <use x=\"159.033203\" xlink:href=\"#DejaVuSans-48\"/>\n       <use x=\"222.65625\" xlink:href=\"#DejaVuSans-53\"/>\n      </g>\n     </g>\n    </g>\n    <g id=\"xtick_2\">\n     <g id=\"line2d_2\">\n      <g>\n       <use style=\"stroke:#000000;stroke-width:0.8;\" x=\"122.451705\" xlink:href=\"#mac4b82ce34\" y=\"239.758125\"/>\n      </g>\n     </g>\n     <g id=\"text_2\">\n      <!-- 0.010 -->\n      <defs>\n       <path d=\"M 12.40625 8.296875 \nL 28.515625 8.296875 \nL 28.515625 63.921875 \nL 10.984375 60.40625 \nL 10.984375 69.390625 \nL 28.421875 72.90625 \nL 38.28125 72.90625 \nL 38.28125 8.296875 \nL 54.390625 8.296875 \nL 54.390625 0 \nL 12.40625 0 \nz\n\" id=\"DejaVuSans-49\"/>\n      </defs>\n      <g transform=\"translate(108.137642 254.356562)scale(0.1 -0.1)\">\n       <use xlink:href=\"#DejaVuSans-48\"/>\n       <use x=\"63.623047\" xlink:href=\"#DejaVuSans-46\"/>\n       <use x=\"95.410156\" xlink:href=\"#DejaVuSans-48\"/>\n       <use x=\"159.033203\" xlink:href=\"#DejaVuSans-49\"/>\n       <use x=\"222.65625\" xlink:href=\"#DejaVuSans-48\"/>\n      </g>\n     </g>\n    </g>\n    <g id=\"xtick_3\">\n     <g id=\"line2d_3\">\n      <g>\n       <use style=\"stroke:#000000;stroke-width:0.8;\" x=\"173.178977\" xlink:href=\"#mac4b82ce34\" y=\"239.758125\"/>\n      </g>\n     </g>\n     <g id=\"text_3\">\n      <!-- 0.015 -->\n      <g transform=\"translate(158.864915 254.356562)scale(0.1 -0.1)\">\n       <use xlink:href=\"#DejaVuSans-48\"/>\n       <use x=\"63.623047\" xlink:href=\"#DejaVuSans-46\"/>\n       <use x=\"95.410156\" xlink:href=\"#DejaVuSans-48\"/>\n       <use x=\"159.033203\" xlink:href=\"#DejaVuSans-49\"/>\n       <use x=\"222.65625\" xlink:href=\"#DejaVuSans-53\"/>\n      </g>\n     </g>\n    </g>\n    <g id=\"xtick_4\">\n     <g id=\"line2d_4\">\n      <g>\n       <use style=\"stroke:#000000;stroke-width:0.8;\" x=\"223.90625\" xlink:href=\"#mac4b82ce34\" y=\"239.758125\"/>\n      </g>\n     </g>\n     <g id=\"text_4\">\n      <!-- 0.020 -->\n      <defs>\n       <path d=\"M 19.1875 8.296875 \nL 53.609375 8.296875 \nL 53.609375 0 \nL 7.328125 0 \nL 7.328125 8.296875 \nQ 12.9375 14.109375 22.625 23.890625 \nQ 32.328125 33.6875 34.8125 36.53125 \nQ 39.546875 41.84375 41.421875 45.53125 \nQ 43.3125 49.21875 43.3125 52.78125 \nQ 43.3125 58.59375 39.234375 62.25 \nQ 35.15625 65.921875 28.609375 65.921875 \nQ 23.96875 65.921875 18.8125 64.3125 \nQ 13.671875 62.703125 7.8125 59.421875 \nL 7.8125 69.390625 \nQ 13.765625 71.78125 18.9375 73 \nQ 24.125 74.21875 28.421875 74.21875 \nQ 39.75 74.21875 46.484375 68.546875 \nQ 53.21875 62.890625 53.21875 53.421875 \nQ 53.21875 48.921875 51.53125 44.890625 \nQ 49.859375 40.875 45.40625 35.40625 \nQ 44.1875 33.984375 37.640625 27.21875 \nQ 31.109375 20.453125 19.1875 8.296875 \nz\n\" id=\"DejaVuSans-50\"/>\n      </defs>\n      <g transform=\"translate(209.592188 254.356562)scale(0.1 -0.1)\">\n       <use xlink:href=\"#DejaVuSans-48\"/>\n       <use x=\"63.623047\" xlink:href=\"#DejaVuSans-46\"/>\n       <use x=\"95.410156\" xlink:href=\"#DejaVuSans-48\"/>\n       <use x=\"159.033203\" xlink:href=\"#DejaVuSans-50\"/>\n       <use x=\"222.65625\" xlink:href=\"#DejaVuSans-48\"/>\n      </g>\n     </g>\n    </g>\n    <g id=\"xtick_5\">\n     <g id=\"line2d_5\">\n      <g>\n       <use style=\"stroke:#000000;stroke-width:0.8;\" x=\"274.633523\" xlink:href=\"#mac4b82ce34\" y=\"239.758125\"/>\n      </g>\n     </g>\n     <g id=\"text_5\">\n      <!-- 0.025 -->\n      <g transform=\"translate(260.31946 254.356562)scale(0.1 -0.1)\">\n       <use xlink:href=\"#DejaVuSans-48\"/>\n       <use x=\"63.623047\" xlink:href=\"#DejaVuSans-46\"/>\n       <use x=\"95.410156\" xlink:href=\"#DejaVuSans-48\"/>\n       <use x=\"159.033203\" xlink:href=\"#DejaVuSans-50\"/>\n       <use x=\"222.65625\" xlink:href=\"#DejaVuSans-53\"/>\n      </g>\n     </g>\n    </g>\n    <g id=\"xtick_6\">\n     <g id=\"line2d_6\">\n      <g>\n       <use style=\"stroke:#000000;stroke-width:0.8;\" x=\"325.360795\" xlink:href=\"#mac4b82ce34\" y=\"239.758125\"/>\n      </g>\n     </g>\n     <g id=\"text_6\">\n      <!-- 0.030 -->\n      <defs>\n       <path d=\"M 40.578125 39.3125 \nQ 47.65625 37.796875 51.625 33 \nQ 55.609375 28.21875 55.609375 21.1875 \nQ 55.609375 10.40625 48.1875 4.484375 \nQ 40.765625 -1.421875 27.09375 -1.421875 \nQ 22.515625 -1.421875 17.65625 -0.515625 \nQ 12.796875 0.390625 7.625 2.203125 \nL 7.625 11.71875 \nQ 11.71875 9.328125 16.59375 8.109375 \nQ 21.484375 6.890625 26.8125 6.890625 \nQ 36.078125 6.890625 40.9375 10.546875 \nQ 45.796875 14.203125 45.796875 21.1875 \nQ 45.796875 27.640625 41.28125 31.265625 \nQ 36.765625 34.90625 28.71875 34.90625 \nL 20.21875 34.90625 \nL 20.21875 43.015625 \nL 29.109375 43.015625 \nQ 36.375 43.015625 40.234375 45.921875 \nQ 44.09375 48.828125 44.09375 54.296875 \nQ 44.09375 59.90625 40.109375 62.90625 \nQ 36.140625 65.921875 28.71875 65.921875 \nQ 24.65625 65.921875 20.015625 65.03125 \nQ 15.375 64.15625 9.8125 62.3125 \nL 9.8125 71.09375 \nQ 15.4375 72.65625 20.34375 73.4375 \nQ 25.25 74.21875 29.59375 74.21875 \nQ 40.828125 74.21875 47.359375 69.109375 \nQ 53.90625 64.015625 53.90625 55.328125 \nQ 53.90625 49.265625 50.4375 45.09375 \nQ 46.96875 40.921875 40.578125 39.3125 \nz\n\" id=\"DejaVuSans-51\"/>\n      </defs>\n      <g transform=\"translate(311.046733 254.356562)scale(0.1 -0.1)\">\n       <use xlink:href=\"#DejaVuSans-48\"/>\n       <use x=\"63.623047\" xlink:href=\"#DejaVuSans-46\"/>\n       <use x=\"95.410156\" xlink:href=\"#DejaVuSans-48\"/>\n       <use x=\"159.033203\" xlink:href=\"#DejaVuSans-51\"/>\n       <use x=\"222.65625\" xlink:href=\"#DejaVuSans-48\"/>\n      </g>\n     </g>\n    </g>\n    <g id=\"xtick_7\">\n     <g id=\"line2d_7\">\n      <g>\n       <use style=\"stroke:#000000;stroke-width:0.8;\" x=\"376.088068\" xlink:href=\"#mac4b82ce34\" y=\"239.758125\"/>\n      </g>\n     </g>\n     <g id=\"text_7\">\n      <!-- 0.035 -->\n      <g transform=\"translate(361.774006 254.356562)scale(0.1 -0.1)\">\n       <use xlink:href=\"#DejaVuSans-48\"/>\n       <use x=\"63.623047\" xlink:href=\"#DejaVuSans-46\"/>\n       <use x=\"95.410156\" xlink:href=\"#DejaVuSans-48\"/>\n       <use x=\"159.033203\" xlink:href=\"#DejaVuSans-51\"/>\n       <use x=\"222.65625\" xlink:href=\"#DejaVuSans-53\"/>\n      </g>\n     </g>\n    </g>\n    <g id=\"text_8\">\n     <!-- Actual crack length a [m] -->\n     <defs>\n      <path d=\"M 34.1875 63.1875 \nL 20.796875 26.90625 \nL 47.609375 26.90625 \nz\nM 28.609375 72.90625 \nL 39.796875 72.90625 \nL 67.578125 0 \nL 57.328125 0 \nL 50.6875 18.703125 \nL 17.828125 18.703125 \nL 11.1875 0 \nL 0.78125 0 \nz\n\" id=\"DejaVuSans-65\"/>\n      <path d=\"M 48.78125 52.59375 \nL 48.78125 44.1875 \nQ 44.96875 46.296875 41.140625 47.34375 \nQ 37.3125 48.390625 33.40625 48.390625 \nQ 24.65625 48.390625 19.8125 42.84375 \nQ 14.984375 37.3125 14.984375 27.296875 \nQ 14.984375 17.28125 19.8125 11.734375 \nQ 24.65625 6.203125 33.40625 6.203125 \nQ 37.3125 6.203125 41.140625 7.25 \nQ 44.96875 8.296875 48.78125 10.40625 \nL 48.78125 2.09375 \nQ 45.015625 0.34375 40.984375 -0.53125 \nQ 36.96875 -1.421875 32.421875 -1.421875 \nQ 20.0625 -1.421875 12.78125 6.34375 \nQ 5.515625 14.109375 5.515625 27.296875 \nQ 5.515625 40.671875 12.859375 48.328125 \nQ 20.21875 56 33.015625 56 \nQ 37.15625 56 41.109375 55.140625 \nQ 45.0625 54.296875 48.78125 52.59375 \nz\n\" id=\"DejaVuSans-99\"/>\n      <path d=\"M 18.3125 70.21875 \nL 18.3125 54.6875 \nL 36.8125 54.6875 \nL 36.8125 47.703125 \nL 18.3125 47.703125 \nL 18.3125 18.015625 \nQ 18.3125 11.328125 20.140625 9.421875 \nQ 21.96875 7.515625 27.59375 7.515625 \nL 36.8125 7.515625 \nL 36.8125 0 \nL 27.59375 0 \nQ 17.1875 0 13.234375 3.875 \nQ 9.28125 7.765625 9.28125 18.015625 \nL 9.28125 47.703125 \nL 2.6875 47.703125 \nL 2.6875 54.6875 \nL 9.28125 54.6875 \nL 9.28125 70.21875 \nz\n\" id=\"DejaVuSans-116\"/>\n      <path d=\"M 8.5 21.578125 \nL 8.5 54.6875 \nL 17.484375 54.6875 \nL 17.484375 21.921875 \nQ 17.484375 14.15625 20.5 10.265625 \nQ 23.53125 6.390625 29.59375 6.390625 \nQ 36.859375 6.390625 41.078125 11.03125 \nQ 45.3125 15.671875 45.3125 23.6875 \nL 45.3125 54.6875 \nL 54.296875 54.6875 \nL 54.296875 0 \nL 45.3125 0 \nL 45.3125 8.40625 \nQ 42.046875 3.421875 37.71875 1 \nQ 33.40625 -1.421875 27.6875 -1.421875 \nQ 18.265625 -1.421875 13.375 4.4375 \nQ 8.5 10.296875 8.5 21.578125 \nz\nM 31.109375 56 \nz\n\" id=\"DejaVuSans-117\"/>\n      <path d=\"M 34.28125 27.484375 \nQ 23.390625 27.484375 19.1875 25 \nQ 14.984375 22.515625 14.984375 16.5 \nQ 14.984375 11.71875 18.140625 8.90625 \nQ 21.296875 6.109375 26.703125 6.109375 \nQ 34.1875 6.109375 38.703125 11.40625 \nQ 43.21875 16.703125 43.21875 25.484375 \nL 43.21875 27.484375 \nz\nM 52.203125 31.203125 \nL 52.203125 0 \nL 43.21875 0 \nL 43.21875 8.296875 \nQ 40.140625 3.328125 35.546875 0.953125 \nQ 30.953125 -1.421875 24.3125 -1.421875 \nQ 15.921875 -1.421875 10.953125 3.296875 \nQ 6 8.015625 6 15.921875 \nQ 6 25.140625 12.171875 29.828125 \nQ 18.359375 34.515625 30.609375 34.515625 \nL 43.21875 34.515625 \nL 43.21875 35.40625 \nQ 43.21875 41.609375 39.140625 45 \nQ 35.0625 48.390625 27.6875 48.390625 \nQ 23 48.390625 18.546875 47.265625 \nQ 14.109375 46.140625 10.015625 43.890625 \nL 10.015625 52.203125 \nQ 14.9375 54.109375 19.578125 55.046875 \nQ 24.21875 56 28.609375 56 \nQ 40.484375 56 46.34375 49.84375 \nQ 52.203125 43.703125 52.203125 31.203125 \nz\n\" id=\"DejaVuSans-97\"/>\n      <path d=\"M 9.421875 75.984375 \nL 18.40625 75.984375 \nL 18.40625 0 \nL 9.421875 0 \nz\n\" id=\"DejaVuSans-108\"/>\n      <path id=\"DejaVuSans-32\"/>\n      <path d=\"M 41.109375 46.296875 \nQ 39.59375 47.171875 37.8125 47.578125 \nQ 36.03125 48 33.890625 48 \nQ 26.265625 48 22.1875 43.046875 \nQ 18.109375 38.09375 18.109375 28.8125 \nL 18.109375 0 \nL 9.078125 0 \nL 9.078125 54.6875 \nL 18.109375 54.6875 \nL 18.109375 46.1875 \nQ 20.953125 51.171875 25.484375 53.578125 \nQ 30.03125 56 36.53125 56 \nQ 37.453125 56 38.578125 55.875 \nQ 39.703125 55.765625 41.0625 55.515625 \nz\n\" id=\"DejaVuSans-114\"/>\n      <path d=\"M 9.078125 75.984375 \nL 18.109375 75.984375 \nL 18.109375 31.109375 \nL 44.921875 54.6875 \nL 56.390625 54.6875 \nL 27.390625 29.109375 \nL 57.625 0 \nL 45.90625 0 \nL 18.109375 26.703125 \nL 18.109375 0 \nL 9.078125 0 \nz\n\" id=\"DejaVuSans-107\"/>\n      <path d=\"M 56.203125 29.59375 \nL 56.203125 25.203125 \nL 14.890625 25.203125 \nQ 15.484375 15.921875 20.484375 11.0625 \nQ 25.484375 6.203125 34.421875 6.203125 \nQ 39.59375 6.203125 44.453125 7.46875 \nQ 49.3125 8.734375 54.109375 11.28125 \nL 54.109375 2.78125 \nQ 49.265625 0.734375 44.1875 -0.34375 \nQ 39.109375 -1.421875 33.890625 -1.421875 \nQ 20.796875 -1.421875 13.15625 6.1875 \nQ 5.515625 13.8125 5.515625 26.8125 \nQ 5.515625 40.234375 12.765625 48.109375 \nQ 20.015625 56 32.328125 56 \nQ 43.359375 56 49.78125 48.890625 \nQ 56.203125 41.796875 56.203125 29.59375 \nz\nM 47.21875 32.234375 \nQ 47.125 39.59375 43.09375 43.984375 \nQ 39.0625 48.390625 32.421875 48.390625 \nQ 24.90625 48.390625 20.390625 44.140625 \nQ 15.875 39.890625 15.1875 32.171875 \nz\n\" id=\"DejaVuSans-101\"/>\n      <path d=\"M 54.890625 33.015625 \nL 54.890625 0 \nL 45.90625 0 \nL 45.90625 32.71875 \nQ 45.90625 40.484375 42.875 44.328125 \nQ 39.84375 48.1875 33.796875 48.1875 \nQ 26.515625 48.1875 22.3125 43.546875 \nQ 18.109375 38.921875 18.109375 30.90625 \nL 18.109375 0 \nL 9.078125 0 \nL 9.078125 54.6875 \nL 18.109375 54.6875 \nL 18.109375 46.1875 \nQ 21.34375 51.125 25.703125 53.5625 \nQ 30.078125 56 35.796875 56 \nQ 45.21875 56 50.046875 50.171875 \nQ 54.890625 44.34375 54.890625 33.015625 \nz\n\" id=\"DejaVuSans-110\"/>\n      <path d=\"M 45.40625 27.984375 \nQ 45.40625 37.75 41.375 43.109375 \nQ 37.359375 48.484375 30.078125 48.484375 \nQ 22.859375 48.484375 18.828125 43.109375 \nQ 14.796875 37.75 14.796875 27.984375 \nQ 14.796875 18.265625 18.828125 12.890625 \nQ 22.859375 7.515625 30.078125 7.515625 \nQ 37.359375 7.515625 41.375 12.890625 \nQ 45.40625 18.265625 45.40625 27.984375 \nz\nM 54.390625 6.78125 \nQ 54.390625 -7.171875 48.1875 -13.984375 \nQ 42 -20.796875 29.203125 -20.796875 \nQ 24.46875 -20.796875 20.265625 -20.09375 \nQ 16.0625 -19.390625 12.109375 -17.921875 \nL 12.109375 -9.1875 \nQ 16.0625 -11.328125 19.921875 -12.34375 \nQ 23.78125 -13.375 27.78125 -13.375 \nQ 36.625 -13.375 41.015625 -8.765625 \nQ 45.40625 -4.15625 45.40625 5.171875 \nL 45.40625 9.625 \nQ 42.625 4.78125 38.28125 2.390625 \nQ 33.9375 0 27.875 0 \nQ 17.828125 0 11.671875 7.65625 \nQ 5.515625 15.328125 5.515625 27.984375 \nQ 5.515625 40.671875 11.671875 48.328125 \nQ 17.828125 56 27.875 56 \nQ 33.9375 56 38.28125 53.609375 \nQ 42.625 51.21875 45.40625 46.390625 \nL 45.40625 54.6875 \nL 54.390625 54.6875 \nz\n\" id=\"DejaVuSans-103\"/>\n      <path d=\"M 54.890625 33.015625 \nL 54.890625 0 \nL 45.90625 0 \nL 45.90625 32.71875 \nQ 45.90625 40.484375 42.875 44.328125 \nQ 39.84375 48.1875 33.796875 48.1875 \nQ 26.515625 48.1875 22.3125 43.546875 \nQ 18.109375 38.921875 18.109375 30.90625 \nL 18.109375 0 \nL 9.078125 0 \nL 9.078125 75.984375 \nL 18.109375 75.984375 \nL 18.109375 46.1875 \nQ 21.34375 51.125 25.703125 53.5625 \nQ 30.078125 56 35.796875 56 \nQ 45.21875 56 50.046875 50.171875 \nQ 54.890625 44.34375 54.890625 33.015625 \nz\n\" id=\"DejaVuSans-104\"/>\n      <path d=\"M 8.59375 75.984375 \nL 29.296875 75.984375 \nL 29.296875 69 \nL 17.578125 69 \nL 17.578125 -6.203125 \nL 29.296875 -6.203125 \nL 29.296875 -13.1875 \nL 8.59375 -13.1875 \nz\n\" id=\"DejaVuSans-91\"/>\n      <path d=\"M 52 44.1875 \nQ 55.375 50.25 60.0625 53.125 \nQ 64.75 56 71.09375 56 \nQ 79.640625 56 84.28125 50.015625 \nQ 88.921875 44.046875 88.921875 33.015625 \nL 88.921875 0 \nL 79.890625 0 \nL 79.890625 32.71875 \nQ 79.890625 40.578125 77.09375 44.375 \nQ 74.3125 48.1875 68.609375 48.1875 \nQ 61.625 48.1875 57.5625 43.546875 \nQ 53.515625 38.921875 53.515625 30.90625 \nL 53.515625 0 \nL 44.484375 0 \nL 44.484375 32.71875 \nQ 44.484375 40.625 41.703125 44.40625 \nQ 38.921875 48.1875 33.109375 48.1875 \nQ 26.21875 48.1875 22.15625 43.53125 \nQ 18.109375 38.875 18.109375 30.90625 \nL 18.109375 0 \nL 9.078125 0 \nL 9.078125 54.6875 \nL 18.109375 54.6875 \nL 18.109375 46.1875 \nQ 21.1875 51.21875 25.484375 53.609375 \nQ 29.78125 56 35.6875 56 \nQ 41.65625 56 45.828125 52.96875 \nQ 50 49.953125 52 44.1875 \nz\n\" id=\"DejaVuSans-109\"/>\n      <path d=\"M 30.421875 75.984375 \nL 30.421875 -13.1875 \nL 9.71875 -13.1875 \nL 9.71875 -6.203125 \nL 21.390625 -6.203125 \nL 21.390625 69 \nL 9.71875 69 \nL 9.71875 75.984375 \nz\n\" id=\"DejaVuSans-93\"/>\n     </defs>\n     <g transform=\"translate(160.599219 268.034687)scale(0.1 -0.1)\">\n      <use xlink:href=\"#DejaVuSans-65\"/>\n      <use x=\"66.658203\" xlink:href=\"#DejaVuSans-99\"/>\n      <use x=\"121.638672\" xlink:href=\"#DejaVuSans-116\"/>\n      <use x=\"160.847656\" xlink:href=\"#DejaVuSans-117\"/>\n      <use x=\"224.226562\" xlink:href=\"#DejaVuSans-97\"/>\n      <use x=\"285.505859\" xlink:href=\"#DejaVuSans-108\"/>\n      <use x=\"313.289062\" xlink:href=\"#DejaVuSans-32\"/>\n      <use x=\"345.076172\" xlink:href=\"#DejaVuSans-99\"/>\n      <use x=\"400.056641\" xlink:href=\"#DejaVuSans-114\"/>\n      <use x=\"441.169922\" xlink:href=\"#DejaVuSans-97\"/>\n      <use x=\"502.449219\" xlink:href=\"#DejaVuSans-99\"/>\n      <use x=\"557.429688\" xlink:href=\"#DejaVuSans-107\"/>\n      <use x=\"615.339844\" xlink:href=\"#DejaVuSans-32\"/>\n      <use x=\"647.126953\" xlink:href=\"#DejaVuSans-108\"/>\n      <use x=\"674.910156\" xlink:href=\"#DejaVuSans-101\"/>\n      <use x=\"736.433594\" xlink:href=\"#DejaVuSans-110\"/>\n      <use x=\"799.8125\" xlink:href=\"#DejaVuSans-103\"/>\n      <use x=\"863.289062\" xlink:href=\"#DejaVuSans-116\"/>\n      <use x=\"902.498047\" xlink:href=\"#DejaVuSans-104\"/>\n      <use x=\"965.876953\" xlink:href=\"#DejaVuSans-32\"/>\n      <use x=\"997.664062\" xlink:href=\"#DejaVuSans-97\"/>\n      <use x=\"1058.943359\" xlink:href=\"#DejaVuSans-32\"/>\n      <use x=\"1090.730469\" xlink:href=\"#DejaVuSans-91\"/>\n      <use x=\"1129.744141\" xlink:href=\"#DejaVuSans-109\"/>\n      <use x=\"1227.15625\" xlink:href=\"#DejaVuSans-93\"/>\n     </g>\n    </g>\n   </g>\n   <g id=\"matplotlib.axis_2\">\n    <g id=\"ytick_1\">\n     <g id=\"line2d_8\">\n      <defs>\n       <path d=\"M 0 0 \nL -3.5 0 \n\" id=\"m9262d27f5f\" style=\"stroke:#000000;stroke-width:0.8;\"/>\n      </defs>\n      <g>\n       <use style=\"stroke:#000000;stroke-width:0.8;\" x=\"56.50625\" xlink:href=\"#m9262d27f5f\" y=\"229.874489\"/>\n      </g>\n     </g>\n     <g id=\"text_9\">\n      <!-- 0.005 -->\n      <g transform=\"translate(20.878125 233.673707)scale(0.1 -0.1)\">\n       <use xlink:href=\"#DejaVuSans-48\"/>\n       <use x=\"63.623047\" xlink:href=\"#DejaVuSans-46\"/>\n       <use x=\"95.410156\" xlink:href=\"#DejaVuSans-48\"/>\n       <use x=\"159.033203\" xlink:href=\"#DejaVuSans-48\"/>\n       <use x=\"222.65625\" xlink:href=\"#DejaVuSans-53\"/>\n      </g>\n     </g>\n    </g>\n    <g id=\"ytick_2\">\n     <g id=\"line2d_9\">\n      <g>\n       <use style=\"stroke:#000000;stroke-width:0.8;\" x=\"56.50625\" xlink:href=\"#m9262d27f5f\" y=\"196.929034\"/>\n      </g>\n     </g>\n     <g id=\"text_10\">\n      <!-- 0.010 -->\n      <g transform=\"translate(20.878125 200.728253)scale(0.1 -0.1)\">\n       <use xlink:href=\"#DejaVuSans-48\"/>\n       <use x=\"63.623047\" xlink:href=\"#DejaVuSans-46\"/>\n       <use x=\"95.410156\" xlink:href=\"#DejaVuSans-48\"/>\n       <use x=\"159.033203\" xlink:href=\"#DejaVuSans-49\"/>\n       <use x=\"222.65625\" xlink:href=\"#DejaVuSans-48\"/>\n      </g>\n     </g>\n    </g>\n    <g id=\"ytick_3\">\n     <g id=\"line2d_10\">\n      <g>\n       <use style=\"stroke:#000000;stroke-width:0.8;\" x=\"56.50625\" xlink:href=\"#m9262d27f5f\" y=\"163.98358\"/>\n      </g>\n     </g>\n     <g id=\"text_11\">\n      <!-- 0.015 -->\n      <g transform=\"translate(20.878125 167.782798)scale(0.1 -0.1)\">\n       <use xlink:href=\"#DejaVuSans-48\"/>\n       <use x=\"63.623047\" xlink:href=\"#DejaVuSans-46\"/>\n       <use x=\"95.410156\" xlink:href=\"#DejaVuSans-48\"/>\n       <use x=\"159.033203\" xlink:href=\"#DejaVuSans-49\"/>\n       <use x=\"222.65625\" xlink:href=\"#DejaVuSans-53\"/>\n      </g>\n     </g>\n    </g>\n    <g id=\"ytick_4\">\n     <g id=\"line2d_11\">\n      <g>\n       <use style=\"stroke:#000000;stroke-width:0.8;\" x=\"56.50625\" xlink:href=\"#m9262d27f5f\" y=\"131.038125\"/>\n      </g>\n     </g>\n     <g id=\"text_12\">\n      <!-- 0.020 -->\n      <g transform=\"translate(20.878125 134.837344)scale(0.1 -0.1)\">\n       <use xlink:href=\"#DejaVuSans-48\"/>\n       <use x=\"63.623047\" xlink:href=\"#DejaVuSans-46\"/>\n       <use x=\"95.410156\" xlink:href=\"#DejaVuSans-48\"/>\n       <use x=\"159.033203\" xlink:href=\"#DejaVuSans-50\"/>\n       <use x=\"222.65625\" xlink:href=\"#DejaVuSans-48\"/>\n      </g>\n     </g>\n    </g>\n    <g id=\"ytick_5\">\n     <g id=\"line2d_12\">\n      <g>\n       <use style=\"stroke:#000000;stroke-width:0.8;\" x=\"56.50625\" xlink:href=\"#m9262d27f5f\" y=\"98.09267\"/>\n      </g>\n     </g>\n     <g id=\"text_13\">\n      <!-- 0.025 -->\n      <g transform=\"translate(20.878125 101.891889)scale(0.1 -0.1)\">\n       <use xlink:href=\"#DejaVuSans-48\"/>\n       <use x=\"63.623047\" xlink:href=\"#DejaVuSans-46\"/>\n       <use x=\"95.410156\" xlink:href=\"#DejaVuSans-48\"/>\n       <use x=\"159.033203\" xlink:href=\"#DejaVuSans-50\"/>\n       <use x=\"222.65625\" xlink:href=\"#DejaVuSans-53\"/>\n      </g>\n     </g>\n    </g>\n    <g id=\"ytick_6\">\n     <g id=\"line2d_13\">\n      <g>\n       <use style=\"stroke:#000000;stroke-width:0.8;\" x=\"56.50625\" xlink:href=\"#m9262d27f5f\" y=\"65.147216\"/>\n      </g>\n     </g>\n     <g id=\"text_14\">\n      <!-- 0.030 -->\n      <g transform=\"translate(20.878125 68.946435)scale(0.1 -0.1)\">\n       <use xlink:href=\"#DejaVuSans-48\"/>\n       <use x=\"63.623047\" xlink:href=\"#DejaVuSans-46\"/>\n       <use x=\"95.410156\" xlink:href=\"#DejaVuSans-48\"/>\n       <use x=\"159.033203\" xlink:href=\"#DejaVuSans-51\"/>\n       <use x=\"222.65625\" xlink:href=\"#DejaVuSans-48\"/>\n      </g>\n     </g>\n    </g>\n    <g id=\"ytick_7\">\n     <g id=\"line2d_14\">\n      <g>\n       <use style=\"stroke:#000000;stroke-width:0.8;\" x=\"56.50625\" xlink:href=\"#m9262d27f5f\" y=\"32.201761\"/>\n      </g>\n     </g>\n     <g id=\"text_15\">\n      <!-- 0.035 -->\n      <g transform=\"translate(20.878125 36.00098)scale(0.1 -0.1)\">\n       <use xlink:href=\"#DejaVuSans-48\"/>\n       <use x=\"63.623047\" xlink:href=\"#DejaVuSans-46\"/>\n       <use x=\"95.410156\" xlink:href=\"#DejaVuSans-48\"/>\n       <use x=\"159.033203\" xlink:href=\"#DejaVuSans-51\"/>\n       <use x=\"222.65625\" xlink:href=\"#DejaVuSans-53\"/>\n      </g>\n     </g>\n    </g>\n    <g id=\"text_16\">\n     <!-- Predicted crack length a [m] -->\n     <defs>\n      <path d=\"M 19.671875 64.796875 \nL 19.671875 37.40625 \nL 32.078125 37.40625 \nQ 38.96875 37.40625 42.71875 40.96875 \nQ 46.484375 44.53125 46.484375 51.125 \nQ 46.484375 57.671875 42.71875 61.234375 \nQ 38.96875 64.796875 32.078125 64.796875 \nz\nM 9.8125 72.90625 \nL 32.078125 72.90625 \nQ 44.34375 72.90625 50.609375 67.359375 \nQ 56.890625 61.8125 56.890625 51.125 \nQ 56.890625 40.328125 50.609375 34.8125 \nQ 44.34375 29.296875 32.078125 29.296875 \nL 19.671875 29.296875 \nL 19.671875 0 \nL 9.8125 0 \nz\n\" id=\"DejaVuSans-80\"/>\n      <path d=\"M 45.40625 46.390625 \nL 45.40625 75.984375 \nL 54.390625 75.984375 \nL 54.390625 0 \nL 45.40625 0 \nL 45.40625 8.203125 \nQ 42.578125 3.328125 38.25 0.953125 \nQ 33.9375 -1.421875 27.875 -1.421875 \nQ 17.96875 -1.421875 11.734375 6.484375 \nQ 5.515625 14.40625 5.515625 27.296875 \nQ 5.515625 40.1875 11.734375 48.09375 \nQ 17.96875 56 27.875 56 \nQ 33.9375 56 38.25 53.625 \nQ 42.578125 51.265625 45.40625 46.390625 \nz\nM 14.796875 27.296875 \nQ 14.796875 17.390625 18.875 11.75 \nQ 22.953125 6.109375 30.078125 6.109375 \nQ 37.203125 6.109375 41.296875 11.75 \nQ 45.40625 17.390625 45.40625 27.296875 \nQ 45.40625 37.203125 41.296875 42.84375 \nQ 37.203125 48.484375 30.078125 48.484375 \nQ 22.953125 48.484375 18.875 42.84375 \nQ 14.796875 37.203125 14.796875 27.296875 \nz\n\" id=\"DejaVuSans-100\"/>\n      <path d=\"M 9.421875 54.6875 \nL 18.40625 54.6875 \nL 18.40625 0 \nL 9.421875 0 \nz\nM 9.421875 75.984375 \nL 18.40625 75.984375 \nL 18.40625 64.59375 \nL 9.421875 64.59375 \nz\n\" id=\"DejaVuSans-105\"/>\n     </defs>\n     <g transform=\"translate(14.798438 202.151406)rotate(-90)scale(0.1 -0.1)\">\n      <use xlink:href=\"#DejaVuSans-80\"/>\n      <use x=\"58.552734\" xlink:href=\"#DejaVuSans-114\"/>\n      <use x=\"97.416016\" xlink:href=\"#DejaVuSans-101\"/>\n      <use x=\"158.939453\" xlink:href=\"#DejaVuSans-100\"/>\n      <use x=\"222.416016\" xlink:href=\"#DejaVuSans-105\"/>\n      <use x=\"250.199219\" xlink:href=\"#DejaVuSans-99\"/>\n      <use x=\"305.179688\" xlink:href=\"#DejaVuSans-116\"/>\n      <use x=\"344.388672\" xlink:href=\"#DejaVuSans-101\"/>\n      <use x=\"405.912109\" xlink:href=\"#DejaVuSans-100\"/>\n      <use x=\"469.388672\" xlink:href=\"#DejaVuSans-32\"/>\n      <use x=\"501.175781\" xlink:href=\"#DejaVuSans-99\"/>\n      <use x=\"556.15625\" xlink:href=\"#DejaVuSans-114\"/>\n      <use x=\"597.269531\" xlink:href=\"#DejaVuSans-97\"/>\n      <use x=\"658.548828\" xlink:href=\"#DejaVuSans-99\"/>\n      <use x=\"713.529297\" xlink:href=\"#DejaVuSans-107\"/>\n      <use x=\"771.439453\" xlink:href=\"#DejaVuSans-32\"/>\n      <use x=\"803.226562\" xlink:href=\"#DejaVuSans-108\"/>\n      <use x=\"831.009766\" xlink:href=\"#DejaVuSans-101\"/>\n      <use x=\"892.533203\" xlink:href=\"#DejaVuSans-110\"/>\n      <use x=\"955.912109\" xlink:href=\"#DejaVuSans-103\"/>\n      <use x=\"1019.388672\" xlink:href=\"#DejaVuSans-116\"/>\n      <use x=\"1058.597656\" xlink:href=\"#DejaVuSans-104\"/>\n      <use x=\"1121.976562\" xlink:href=\"#DejaVuSans-32\"/>\n      <use x=\"1153.763672\" xlink:href=\"#DejaVuSans-97\"/>\n      <use x=\"1215.042969\" xlink:href=\"#DejaVuSans-32\"/>\n      <use x=\"1246.830078\" xlink:href=\"#DejaVuSans-91\"/>\n      <use x=\"1285.84375\" xlink:href=\"#DejaVuSans-109\"/>\n      <use x=\"1383.255859\" xlink:href=\"#DejaVuSans-93\"/>\n     </g>\n    </g>\n   </g>\n   <g id=\"line2d_15\">\n    <path clip-path=\"url(#p4f8dac3814)\" d=\"M 71.724432 229.874489 \nL 376.088068 32.201761 \n\" style=\"fill:none;stroke:#000000;stroke-dasharray:5.55,2.4;stroke-dashoffset:0;stroke-width:1.5;\"/>\n   </g>\n   <g id=\"line2d_16\">\n    <defs>\n     <path d=\"M 0 3 \nC 0.795609 3 1.55874 2.683901 2.12132 2.12132 \nC 2.683901 1.55874 3 0.795609 3 0 \nC 3 -0.795609 2.683901 -1.55874 2.12132 -2.12132 \nC 1.55874 -2.683901 0.795609 -3 0 -3 \nC -0.795609 -3 -1.55874 -2.683901 -2.12132 -2.12132 \nC -2.683901 -1.55874 -3 -0.795609 -3 0 \nC -3 0.795609 -2.683901 1.55874 -2.12132 2.12132 \nC -1.55874 2.683901 -0.795609 3 0 3 \nz\n\" id=\"md771aa3177\" style=\"stroke:#1f77b4;\"/>\n    </defs>\n    <g clip-path=\"url(#p4f8dac3814)\">\n     <use style=\"fill:#1f77b4;stroke:#1f77b4;\" x=\"333.355445\" xlink:href=\"#md771aa3177\" y=\"70.865202\"/>\n     <use style=\"fill:#1f77b4;stroke:#1f77b4;\" x=\"322.770169\" xlink:href=\"#md771aa3177\" y=\"76.962374\"/>\n     <use style=\"fill:#1f77b4;stroke:#1f77b4;\" x=\"315.247922\" xlink:href=\"#md771aa3177\" y=\"82.512889\"/>\n     <use style=\"fill:#1f77b4;stroke:#1f77b4;\" x=\"300.205454\" xlink:href=\"#md771aa3177\" y=\"85.513953\"/>\n     <use style=\"fill:#1f77b4;stroke:#1f77b4;\" x=\"293.338562\" xlink:href=\"#md771aa3177\" y=\"91.723327\"/>\n     <use style=\"fill:#1f77b4;stroke:#1f77b4;\" x=\"288.178511\" xlink:href=\"#md771aa3177\" y=\"95.754377\"/>\n     <use style=\"fill:#1f77b4;stroke:#1f77b4;\" x=\"282.477146\" xlink:href=\"#md771aa3177\" y=\"99.674798\"/>\n     <use style=\"fill:#1f77b4;stroke:#1f77b4;\" x=\"272.404663\" xlink:href=\"#md771aa3177\" y=\"105.311544\"/>\n     <use style=\"fill:#1f77b4;stroke:#1f77b4;\" x=\"264.394176\" xlink:href=\"#md771aa3177\" y=\"106.764303\"/>\n     <use style=\"fill:#1f77b4;stroke:#1f77b4;\" x=\"260.62835\" xlink:href=\"#md771aa3177\" y=\"115.382243\"/>\n     <use style=\"fill:#1f77b4;stroke:#1f77b4;\" x=\"255.195252\" xlink:href=\"#md771aa3177\" y=\"110.79625\"/>\n     <use style=\"fill:#1f77b4;stroke:#1f77b4;\" x=\"248.468387\" xlink:href=\"#md771aa3177\" y=\"119.494751\"/>\n     <use style=\"fill:#1f77b4;stroke:#1f77b4;\" x=\"247.714099\" xlink:href=\"#md771aa3177\" y=\"123.502617\"/>\n     <use style=\"fill:#1f77b4;stroke:#1f77b4;\" x=\"238.976465\" xlink:href=\"#md771aa3177\" y=\"124.14449\"/>\n     <use style=\"fill:#1f77b4;stroke:#1f77b4;\" x=\"229.222903\" xlink:href=\"#md771aa3177\" y=\"133.307149\"/>\n     <use style=\"fill:#1f77b4;stroke:#1f77b4;\" x=\"227.636792\" xlink:href=\"#md771aa3177\" y=\"132.319358\"/>\n     <use style=\"fill:#1f77b4;stroke:#1f77b4;\" x=\"225.573791\" xlink:href=\"#md771aa3177\" y=\"137.96856\"/>\n     <use style=\"fill:#1f77b4;stroke:#1f77b4;\" x=\"218.621166\" xlink:href=\"#md771aa3177\" y=\"137.553287\"/>\n     <use style=\"fill:#1f77b4;stroke:#1f77b4;\" x=\"211.905925\" xlink:href=\"#md771aa3177\" y=\"144.014419\"/>\n     <use style=\"fill:#1f77b4;stroke:#1f77b4;\" x=\"205.968212\" xlink:href=\"#md771aa3177\" y=\"146.351642\"/>\n     <use style=\"fill:#1f77b4;stroke:#1f77b4;\" x=\"205.925355\" xlink:href=\"#md771aa3177\" y=\"147.896646\"/>\n     <use style=\"fill:#1f77b4;stroke:#1f77b4;\" x=\"202.57696\" xlink:href=\"#md771aa3177\" y=\"151.024283\"/>\n     <use style=\"fill:#1f77b4;stroke:#1f77b4;\" x=\"196.914611\" xlink:href=\"#md771aa3177\" y=\"153.738635\"/>\n     <use style=\"fill:#1f77b4;stroke:#1f77b4;\" x=\"194.570941\" xlink:href=\"#md771aa3177\" y=\"155.215707\"/>\n     <use style=\"fill:#1f77b4;stroke:#1f77b4;\" x=\"195.178293\" xlink:href=\"#md771aa3177\" y=\"155.388231\"/>\n     <use style=\"fill:#1f77b4;stroke:#1f77b4;\" x=\"186.987152\" xlink:href=\"#md771aa3177\" y=\"160.744197\"/>\n     <use style=\"fill:#1f77b4;stroke:#1f77b4;\" x=\"186.141916\" xlink:href=\"#md771aa3177\" y=\"161.532071\"/>\n     <use style=\"fill:#1f77b4;stroke:#1f77b4;\" x=\"182.393082\" xlink:href=\"#md771aa3177\" y=\"161.050713\"/>\n     <use style=\"fill:#1f77b4;stroke:#1f77b4;\" x=\"179.188297\" xlink:href=\"#md771aa3177\" y=\"163.585067\"/>\n     <use style=\"fill:#1f77b4;stroke:#1f77b4;\" x=\"175.433445\" xlink:href=\"#md771aa3177\" y=\"168.630542\"/>\n     <use style=\"fill:#1f77b4;stroke:#1f77b4;\" x=\"177.266253\" xlink:href=\"#md771aa3177\" y=\"165.808487\"/>\n     <use style=\"fill:#1f77b4;stroke:#1f77b4;\" x=\"170.935784\" xlink:href=\"#md771aa3177\" y=\"168.980719\"/>\n     <use style=\"fill:#1f77b4;stroke:#1f77b4;\" x=\"170.679718\" xlink:href=\"#md771aa3177\" y=\"169.571996\"/>\n     <use style=\"fill:#1f77b4;stroke:#1f77b4;\" x=\"166.315837\" xlink:href=\"#md771aa3177\" y=\"174.342503\"/>\n     <use style=\"fill:#1f77b4;stroke:#1f77b4;\" x=\"164.880629\" xlink:href=\"#md771aa3177\" y=\"172.708347\"/>\n     <use style=\"fill:#1f77b4;stroke:#1f77b4;\" x=\"161.155803\" xlink:href=\"#md771aa3177\" y=\"176.051366\"/>\n     <use style=\"fill:#1f77b4;stroke:#1f77b4;\" x=\"159.699687\" xlink:href=\"#md771aa3177\" y=\"176.719957\"/>\n     <use style=\"fill:#1f77b4;stroke:#1f77b4;\" x=\"155.440405\" xlink:href=\"#md771aa3177\" y=\"181.351791\"/>\n     <use style=\"fill:#1f77b4;stroke:#1f77b4;\" x=\"154.678298\" xlink:href=\"#md771aa3177\" y=\"180.403175\"/>\n     <use style=\"fill:#1f77b4;stroke:#1f77b4;\" x=\"154.300438\" xlink:href=\"#md771aa3177\" y=\"181.064888\"/>\n     <use style=\"fill:#1f77b4;stroke:#1f77b4;\" x=\"150.402716\" xlink:href=\"#md771aa3177\" y=\"183.869005\"/>\n     <use style=\"fill:#1f77b4;stroke:#1f77b4;\" x=\"149.928832\" xlink:href=\"#md771aa3177\" y=\"182.870776\"/>\n     <use style=\"fill:#1f77b4;stroke:#1f77b4;\" x=\"146.361142\" xlink:href=\"#md771aa3177\" y=\"185.756233\"/>\n     <use style=\"fill:#1f77b4;stroke:#1f77b4;\" x=\"145.26836\" xlink:href=\"#md771aa3177\" y=\"186.39548\"/>\n     <use style=\"fill:#1f77b4;stroke:#1f77b4;\" x=\"144.17956\" xlink:href=\"#md771aa3177\" y=\"186.815497\"/>\n     <use style=\"fill:#1f77b4;stroke:#1f77b4;\" x=\"141.473529\" xlink:href=\"#md771aa3177\" y=\"187.360081\"/>\n     <use style=\"fill:#1f77b4;stroke:#1f77b4;\" x=\"139.278821\" xlink:href=\"#md771aa3177\" y=\"191.165048\"/>\n     <use style=\"fill:#1f77b4;stroke:#1f77b4;\" x=\"135.329785\" xlink:href=\"#md771aa3177\" y=\"191.172424\"/>\n     <use style=\"fill:#1f77b4;stroke:#1f77b4;\" x=\"137.022102\" xlink:href=\"#md771aa3177\" y=\"191.476841\"/>\n     <use style=\"fill:#1f77b4;stroke:#1f77b4;\" x=\"136.053475\" xlink:href=\"#md771aa3177\" y=\"191.834174\"/>\n     <use style=\"fill:#1f77b4;stroke:#1f77b4;\" x=\"134.698875\" xlink:href=\"#md771aa3177\" y=\"192.128661\"/>\n     <use style=\"fill:#1f77b4;stroke:#1f77b4;\" x=\"132.811517\" xlink:href=\"#md771aa3177\" y=\"194.508202\"/>\n     <use style=\"fill:#1f77b4;stroke:#1f77b4;\" x=\"129.55116\" xlink:href=\"#md771aa3177\" y=\"193.886604\"/>\n     <use style=\"fill:#1f77b4;stroke:#1f77b4;\" x=\"128.465772\" xlink:href=\"#md771aa3177\" y=\"197.008559\"/>\n     <use style=\"fill:#1f77b4;stroke:#1f77b4;\" x=\"127.648335\" xlink:href=\"#md771aa3177\" y=\"196.888129\"/>\n     <use style=\"fill:#1f77b4;stroke:#1f77b4;\" x=\"126.264865\" xlink:href=\"#md771aa3177\" y=\"197.548283\"/>\n     <use style=\"fill:#1f77b4;stroke:#1f77b4;\" x=\"124.036351\" xlink:href=\"#md771aa3177\" y=\"200.632154\"/>\n     <use style=\"fill:#1f77b4;stroke:#1f77b4;\" x=\"127.121987\" xlink:href=\"#md771aa3177\" y=\"196.692937\"/>\n     <use style=\"fill:#1f77b4;stroke:#1f77b4;\" x=\"122.679452\" xlink:href=\"#md771aa3177\" y=\"198.283119\"/>\n     <use style=\"fill:#1f77b4;stroke:#1f77b4;\" x=\"121.015058\" xlink:href=\"#md771aa3177\" y=\"199.791776\"/>\n     <use style=\"fill:#1f77b4;stroke:#1f77b4;\" x=\"120.818729\" xlink:href=\"#md771aa3177\" y=\"200.39478\"/>\n     <use style=\"fill:#1f77b4;stroke:#1f77b4;\" x=\"118.27686\" xlink:href=\"#md771aa3177\" y=\"202.034999\"/>\n     <use style=\"fill:#1f77b4;stroke:#1f77b4;\" x=\"118.36017\" xlink:href=\"#md771aa3177\" y=\"202.071591\"/>\n     <use style=\"fill:#1f77b4;stroke:#1f77b4;\" x=\"117.59255\" xlink:href=\"#md771aa3177\" y=\"202.115934\"/>\n     <use style=\"fill:#1f77b4;stroke:#1f77b4;\" x=\"116.925144\" xlink:href=\"#md771aa3177\" y=\"202.836735\"/>\n     <use style=\"fill:#1f77b4;stroke:#1f77b4;\" x=\"115.162236\" xlink:href=\"#md771aa3177\" y=\"205.476239\"/>\n     <use style=\"fill:#1f77b4;stroke:#1f77b4;\" x=\"113.161487\" xlink:href=\"#md771aa3177\" y=\"205.639147\"/>\n     <use style=\"fill:#1f77b4;stroke:#1f77b4;\" x=\"112.995375\" xlink:href=\"#md771aa3177\" y=\"204.898334\"/>\n     <use style=\"fill:#1f77b4;stroke:#1f77b4;\" x=\"111.495697\" xlink:href=\"#md771aa3177\" y=\"205.760939\"/>\n     <use style=\"fill:#1f77b4;stroke:#1f77b4;\" x=\"112.197198\" xlink:href=\"#md771aa3177\" y=\"206.026867\"/>\n     <use style=\"fill:#1f77b4;stroke:#1f77b4;\" x=\"110.560365\" xlink:href=\"#md771aa3177\" y=\"206.211713\"/>\n     <use style=\"fill:#1f77b4;stroke:#1f77b4;\" x=\"108.998618\" xlink:href=\"#md771aa3177\" y=\"206.524973\"/>\n     <use style=\"fill:#1f77b4;stroke:#1f77b4;\" x=\"108.104592\" xlink:href=\"#md771aa3177\" y=\"207.979027\"/>\n     <use style=\"fill:#1f77b4;stroke:#1f77b4;\" x=\"106.340445\" xlink:href=\"#md771aa3177\" y=\"208.775486\"/>\n     <use style=\"fill:#1f77b4;stroke:#1f77b4;\" x=\"107.136249\" xlink:href=\"#md771aa3177\" y=\"209.149823\"/>\n     <use style=\"fill:#1f77b4;stroke:#1f77b4;\" x=\"104.863444\" xlink:href=\"#md771aa3177\" y=\"209.751955\"/>\n     <use style=\"fill:#1f77b4;stroke:#1f77b4;\" x=\"104.93891\" xlink:href=\"#md771aa3177\" y=\"209.742094\"/>\n     <use style=\"fill:#1f77b4;stroke:#1f77b4;\" x=\"102.962463\" xlink:href=\"#md771aa3177\" y=\"210.663616\"/>\n     <use style=\"fill:#1f77b4;stroke:#1f77b4;\" x=\"102.841393\" xlink:href=\"#md771aa3177\" y=\"211.425391\"/>\n     <use style=\"fill:#1f77b4;stroke:#1f77b4;\" x=\"102.973987\" xlink:href=\"#md771aa3177\" y=\"210.42977\"/>\n     <use style=\"fill:#1f77b4;stroke:#1f77b4;\" x=\"101.149678\" xlink:href=\"#md771aa3177\" y=\"212.207979\"/>\n     <use style=\"fill:#1f77b4;stroke:#1f77b4;\" x=\"100.022229\" xlink:href=\"#md771aa3177\" y=\"212.736657\"/>\n     <use style=\"fill:#1f77b4;stroke:#1f77b4;\" x=\"99.725779\" xlink:href=\"#md771aa3177\" y=\"211.642077\"/>\n     <use style=\"fill:#1f77b4;stroke:#1f77b4;\" x=\"98.7975\" xlink:href=\"#md771aa3177\" y=\"213.448044\"/>\n     <use style=\"fill:#1f77b4;stroke:#1f77b4;\" x=\"97.939143\" xlink:href=\"#md771aa3177\" y=\"213.716074\"/>\n     <use style=\"fill:#1f77b4;stroke:#1f77b4;\" x=\"97.851738\" xlink:href=\"#md771aa3177\" y=\"213.119431\"/>\n     <use style=\"fill:#1f77b4;stroke:#1f77b4;\" x=\"97.058265\" xlink:href=\"#md771aa3177\" y=\"214.516857\"/>\n     <use style=\"fill:#1f77b4;stroke:#1f77b4;\" x=\"96.386817\" xlink:href=\"#md771aa3177\" y=\"214.499036\"/>\n     <use style=\"fill:#1f77b4;stroke:#1f77b4;\" x=\"95.301299\" xlink:href=\"#md771aa3177\" y=\"215.446363\"/>\n     <use style=\"fill:#1f77b4;stroke:#1f77b4;\" x=\"94.758403\" xlink:href=\"#md771aa3177\" y=\"215.826882\"/>\n     <use style=\"fill:#1f77b4;stroke:#1f77b4;\" x=\"93.83477\" xlink:href=\"#md771aa3177\" y=\"216.35302\"/>\n     <use style=\"fill:#1f77b4;stroke:#1f77b4;\" x=\"93.523676\" xlink:href=\"#md771aa3177\" y=\"216.366664\"/>\n     <use style=\"fill:#1f77b4;stroke:#1f77b4;\" x=\"92.753897\" xlink:href=\"#md771aa3177\" y=\"216.936343\"/>\n     <use style=\"fill:#1f77b4;stroke:#1f77b4;\" x=\"91.978543\" xlink:href=\"#md771aa3177\" y=\"217.35043\"/>\n     <use style=\"fill:#1f77b4;stroke:#1f77b4;\" x=\"91.393924\" xlink:href=\"#md771aa3177\" y=\"217.379913\"/>\n     <use style=\"fill:#1f77b4;stroke:#1f77b4;\" x=\"90.633377\" xlink:href=\"#md771aa3177\" y=\"218.004794\"/>\n     <use style=\"fill:#1f77b4;stroke:#1f77b4;\" x=\"89.905823\" xlink:href=\"#md771aa3177\" y=\"218.662106\"/>\n     <use style=\"fill:#1f77b4;stroke:#1f77b4;\" x=\"89.57304\" xlink:href=\"#md771aa3177\" y=\"219.11705\"/>\n     <use style=\"fill:#1f77b4;stroke:#1f77b4;\" x=\"89.218726\" xlink:href=\"#md771aa3177\" y=\"219.286827\"/>\n     <use style=\"fill:#1f77b4;stroke:#1f77b4;\" x=\"88.534307\" xlink:href=\"#md771aa3177\" y=\"219.641306\"/>\n     <use style=\"fill:#1f77b4;stroke:#1f77b4;\" x=\"87.990323\" xlink:href=\"#md771aa3177\" y=\"219.987007\"/>\n     <use style=\"fill:#1f77b4;stroke:#1f77b4;\" x=\"115.361069\" xlink:href=\"#md771aa3177\" y=\"201.908291\"/>\n     <use style=\"fill:#1f77b4;stroke:#1f77b4;\" x=\"115.048211\" xlink:href=\"#md771aa3177\" y=\"201.920355\"/>\n     <use style=\"fill:#1f77b4;stroke:#1f77b4;\" x=\"114.63577\" xlink:href=\"#md771aa3177\" y=\"202.35572\"/>\n     <use style=\"fill:#1f77b4;stroke:#1f77b4;\" x=\"114.683438\" xlink:href=\"#md771aa3177\" y=\"202.738722\"/>\n     <use style=\"fill:#1f77b4;stroke:#1f77b4;\" x=\"114.165932\" xlink:href=\"#md771aa3177\" y=\"202.862926\"/>\n     <use style=\"fill:#1f77b4;stroke:#1f77b4;\" x=\"113.937361\" xlink:href=\"#md771aa3177\" y=\"203.329581\"/>\n     <use style=\"fill:#1f77b4;stroke:#1f77b4;\" x=\"113.737841\" xlink:href=\"#md771aa3177\" y=\"203.245983\"/>\n     <use style=\"fill:#1f77b4;stroke:#1f77b4;\" x=\"113.534732\" xlink:href=\"#md771aa3177\" y=\"203.349421\"/>\n     <use style=\"fill:#1f77b4;stroke:#1f77b4;\" x=\"113.262944\" xlink:href=\"#md771aa3177\" y=\"203.884763\"/>\n     <use style=\"fill:#1f77b4;stroke:#1f77b4;\" x=\"113.262943\" xlink:href=\"#md771aa3177\" y=\"203.726354\"/>\n     <use style=\"fill:#1f77b4;stroke:#1f77b4;\" x=\"113.060901\" xlink:href=\"#md771aa3177\" y=\"204.602521\"/>\n     <use style=\"fill:#1f77b4;stroke:#1f77b4;\" x=\"112.897365\" xlink:href=\"#md771aa3177\" y=\"203.889948\"/>\n     <use style=\"fill:#1f77b4;stroke:#1f77b4;\" x=\"112.532811\" xlink:href=\"#md771aa3177\" y=\"204.227417\"/>\n     <use style=\"fill:#1f77b4;stroke:#1f77b4;\" x=\"112.034683\" xlink:href=\"#md771aa3177\" y=\"204.872812\"/>\n     <use style=\"fill:#1f77b4;stroke:#1f77b4;\" x=\"111.883042\" xlink:href=\"#md771aa3177\" y=\"204.3365\"/>\n     <use style=\"fill:#1f77b4;stroke:#1f77b4;\" x=\"111.85981\" xlink:href=\"#md771aa3177\" y=\"204.846235\"/>\n     <use style=\"fill:#1f77b4;stroke:#1f77b4;\" x=\"111.658346\" xlink:href=\"#md771aa3177\" y=\"205.136347\"/>\n     <use style=\"fill:#1f77b4;stroke:#1f77b4;\" x=\"111.446224\" xlink:href=\"#md771aa3177\" y=\"204.936915\"/>\n     <use style=\"fill:#1f77b4;stroke:#1f77b4;\" x=\"110.943749\" xlink:href=\"#md771aa3177\" y=\"205.604935\"/>\n     <use style=\"fill:#1f77b4;stroke:#1f77b4;\" x=\"110.746302\" xlink:href=\"#md771aa3177\" y=\"205.57367\"/>\n     <use style=\"fill:#1f77b4;stroke:#1f77b4;\" x=\"110.735144\" xlink:href=\"#md771aa3177\" y=\"205.11185\"/>\n     <use style=\"fill:#1f77b4;stroke:#1f77b4;\" x=\"110.650268\" xlink:href=\"#md771aa3177\" y=\"205.665503\"/>\n     <use style=\"fill:#1f77b4;stroke:#1f77b4;\" x=\"110.261251\" xlink:href=\"#md771aa3177\" y=\"205.843047\"/>\n     <use style=\"fill:#1f77b4;stroke:#1f77b4;\" x=\"109.765312\" xlink:href=\"#md771aa3177\" y=\"206.24301\"/>\n     <use style=\"fill:#1f77b4;stroke:#1f77b4;\" x=\"109.982191\" xlink:href=\"#md771aa3177\" y=\"206.458213\"/>\n     <use style=\"fill:#1f77b4;stroke:#1f77b4;\" x=\"109.641239\" xlink:href=\"#md771aa3177\" y=\"206.716477\"/>\n     <use style=\"fill:#1f77b4;stroke:#1f77b4;\" x=\"109.416768\" xlink:href=\"#md771aa3177\" y=\"206.778487\"/>\n     <use style=\"fill:#1f77b4;stroke:#1f77b4;\" x=\"109.099018\" xlink:href=\"#md771aa3177\" y=\"206.85369\"/>\n     <use style=\"fill:#1f77b4;stroke:#1f77b4;\" x=\"109.032905\" xlink:href=\"#md771aa3177\" y=\"206.632234\"/>\n     <use style=\"fill:#1f77b4;stroke:#1f77b4;\" x=\"108.765554\" xlink:href=\"#md771aa3177\" y=\"207.192797\"/>\n     <use style=\"fill:#1f77b4;stroke:#1f77b4;\" x=\"108.415435\" xlink:href=\"#md771aa3177\" y=\"207.620399\"/>\n     <use style=\"fill:#1f77b4;stroke:#1f77b4;\" x=\"108.334756\" xlink:href=\"#md771aa3177\" y=\"207.121361\"/>\n     <use style=\"fill:#1f77b4;stroke:#1f77b4;\" x=\"108.207044\" xlink:href=\"#md771aa3177\" y=\"207.563955\"/>\n     <use style=\"fill:#1f77b4;stroke:#1f77b4;\" x=\"108.054778\" xlink:href=\"#md771aa3177\" y=\"207.564446\"/>\n     <use style=\"fill:#1f77b4;stroke:#1f77b4;\" x=\"107.735186\" xlink:href=\"#md771aa3177\" y=\"208.021884\"/>\n     <use style=\"fill:#1f77b4;stroke:#1f77b4;\" x=\"107.210171\" xlink:href=\"#md771aa3177\" y=\"207.817297\"/>\n     <use style=\"fill:#1f77b4;stroke:#1f77b4;\" x=\"107.151232\" xlink:href=\"#md771aa3177\" y=\"208.235406\"/>\n     <use style=\"fill:#1f77b4;stroke:#1f77b4;\" x=\"107.078261\" xlink:href=\"#md771aa3177\" y=\"207.621756\"/>\n     <use style=\"fill:#1f77b4;stroke:#1f77b4;\" x=\"106.736996\" xlink:href=\"#md771aa3177\" y=\"208.381199\"/>\n     <use style=\"fill:#1f77b4;stroke:#1f77b4;\" x=\"106.859313\" xlink:href=\"#md771aa3177\" y=\"208.596439\"/>\n     <use style=\"fill:#1f77b4;stroke:#1f77b4;\" x=\"106.489633\" xlink:href=\"#md771aa3177\" y=\"208.879752\"/>\n     <use style=\"fill:#1f77b4;stroke:#1f77b4;\" x=\"105.850657\" xlink:href=\"#md771aa3177\" y=\"209.018341\"/>\n     <use style=\"fill:#1f77b4;stroke:#1f77b4;\" x=\"106.105521\" xlink:href=\"#md771aa3177\" y=\"209.52454\"/>\n     <use style=\"fill:#1f77b4;stroke:#1f77b4;\" x=\"106.032256\" xlink:href=\"#md771aa3177\" y=\"209.004901\"/>\n     <use style=\"fill:#1f77b4;stroke:#1f77b4;\" x=\"105.474347\" xlink:href=\"#md771aa3177\" y=\"209.163648\"/>\n     <use style=\"fill:#1f77b4;stroke:#1f77b4;\" x=\"105.25327\" xlink:href=\"#md771aa3177\" y=\"209.604892\"/>\n     <use style=\"fill:#1f77b4;stroke:#1f77b4;\" x=\"105.160334\" xlink:href=\"#md771aa3177\" y=\"209.733711\"/>\n     <use style=\"fill:#1f77b4;stroke:#1f77b4;\" x=\"104.882238\" xlink:href=\"#md771aa3177\" y=\"209.667835\"/>\n     <use style=\"fill:#1f77b4;stroke:#1f77b4;\" x=\"104.900201\" xlink:href=\"#md771aa3177\" y=\"209.967809\"/>\n     <use style=\"fill:#1f77b4;stroke:#1f77b4;\" x=\"104.504737\" xlink:href=\"#md771aa3177\" y=\"210.686561\"/>\n     <use style=\"fill:#1f77b4;stroke:#1f77b4;\" x=\"104.732746\" xlink:href=\"#md771aa3177\" y=\"209.7678\"/>\n     <use style=\"fill:#1f77b4;stroke:#1f77b4;\" x=\"104.62118\" xlink:href=\"#md771aa3177\" y=\"210.356861\"/>\n     <use style=\"fill:#1f77b4;stroke:#1f77b4;\" x=\"104.387612\" xlink:href=\"#md771aa3177\" y=\"210.353744\"/>\n     <use style=\"fill:#1f77b4;stroke:#1f77b4;\" x=\"103.758886\" xlink:href=\"#md771aa3177\" y=\"211.16004\"/>\n     <use style=\"fill:#1f77b4;stroke:#1f77b4;\" x=\"103.598984\" xlink:href=\"#md771aa3177\" y=\"210.686432\"/>\n     <use style=\"fill:#1f77b4;stroke:#1f77b4;\" x=\"103.748749\" xlink:href=\"#md771aa3177\" y=\"210.805021\"/>\n     <use style=\"fill:#1f77b4;stroke:#1f77b4;\" x=\"103.573593\" xlink:href=\"#md771aa3177\" y=\"210.615413\"/>\n     <use style=\"fill:#1f77b4;stroke:#1f77b4;\" x=\"103.226586\" xlink:href=\"#md771aa3177\" y=\"211.369812\"/>\n     <use style=\"fill:#1f77b4;stroke:#1f77b4;\" x=\"103.014148\" xlink:href=\"#md771aa3177\" y=\"211.160445\"/>\n     <use style=\"fill:#1f77b4;stroke:#1f77b4;\" x=\"102.863988\" xlink:href=\"#md771aa3177\" y=\"210.954269\"/>\n     <use style=\"fill:#1f77b4;stroke:#1f77b4;\" x=\"102.930078\" xlink:href=\"#md771aa3177\" y=\"211.344613\"/>\n     <use style=\"fill:#1f77b4;stroke:#1f77b4;\" x=\"102.379276\" xlink:href=\"#md771aa3177\" y=\"211.99816\"/>\n     <use style=\"fill:#1f77b4;stroke:#1f77b4;\" x=\"102.404999\" xlink:href=\"#md771aa3177\" y=\"211.586605\"/>\n     <use style=\"fill:#1f77b4;stroke:#1f77b4;\" x=\"102.256976\" xlink:href=\"#md771aa3177\" y=\"211.538427\"/>\n     <use style=\"fill:#1f77b4;stroke:#1f77b4;\" x=\"102.000541\" xlink:href=\"#md771aa3177\" y=\"212.035995\"/>\n     <use style=\"fill:#1f77b4;stroke:#1f77b4;\" x=\"101.814326\" xlink:href=\"#md771aa3177\" y=\"212.282188\"/>\n     <use style=\"fill:#1f77b4;stroke:#1f77b4;\" x=\"101.783089\" xlink:href=\"#md771aa3177\" y=\"212.152652\"/>\n     <use style=\"fill:#1f77b4;stroke:#1f77b4;\" x=\"101.443764\" xlink:href=\"#md771aa3177\" y=\"212.216269\"/>\n     <use style=\"fill:#1f77b4;stroke:#1f77b4;\" x=\"101.07434\" xlink:href=\"#md771aa3177\" y=\"212.706274\"/>\n     <use style=\"fill:#1f77b4;stroke:#1f77b4;\" x=\"101.034584\" xlink:href=\"#md771aa3177\" y=\"212.615116\"/>\n     <use style=\"fill:#1f77b4;stroke:#1f77b4;\" x=\"100.889133\" xlink:href=\"#md771aa3177\" y=\"212.692602\"/>\n     <use style=\"fill:#1f77b4;stroke:#1f77b4;\" x=\"101.029079\" xlink:href=\"#md771aa3177\" y=\"212.906943\"/>\n     <use style=\"fill:#1f77b4;stroke:#1f77b4;\" x=\"100.770643\" xlink:href=\"#md771aa3177\" y=\"212.58493\"/>\n     <use style=\"fill:#1f77b4;stroke:#1f77b4;\" x=\"100.403754\" xlink:href=\"#md771aa3177\" y=\"212.809065\"/>\n     <use style=\"fill:#1f77b4;stroke:#1f77b4;\" x=\"100.526214\" xlink:href=\"#md771aa3177\" y=\"212.856369\"/>\n     <use style=\"fill:#1f77b4;stroke:#1f77b4;\" x=\"100.084256\" xlink:href=\"#md771aa3177\" y=\"213.762869\"/>\n     <use style=\"fill:#1f77b4;stroke:#1f77b4;\" x=\"99.848077\" xlink:href=\"#md771aa3177\" y=\"213.60337\"/>\n     <use style=\"fill:#1f77b4;stroke:#1f77b4;\" x=\"99.697829\" xlink:href=\"#md771aa3177\" y=\"213.42001\"/>\n     <use style=\"fill:#1f77b4;stroke:#1f77b4;\" x=\"99.49979\" xlink:href=\"#md771aa3177\" y=\"214.038772\"/>\n     <use style=\"fill:#1f77b4;stroke:#1f77b4;\" x=\"99.416649\" xlink:href=\"#md771aa3177\" y=\"213.748426\"/>\n     <use style=\"fill:#1f77b4;stroke:#1f77b4;\" x=\"99.306869\" xlink:href=\"#md771aa3177\" y=\"213.873729\"/>\n     <use style=\"fill:#1f77b4;stroke:#1f77b4;\" x=\"99.102704\" xlink:href=\"#md771aa3177\" y=\"213.997976\"/>\n     <use style=\"fill:#1f77b4;stroke:#1f77b4;\" x=\"99.183197\" xlink:href=\"#md771aa3177\" y=\"214.084032\"/>\n     <use style=\"fill:#1f77b4;stroke:#1f77b4;\" x=\"98.642305\" xlink:href=\"#md771aa3177\" y=\"214.475147\"/>\n     <use style=\"fill:#1f77b4;stroke:#1f77b4;\" x=\"98.311306\" xlink:href=\"#md771aa3177\" y=\"214.786013\"/>\n     <use style=\"fill:#1f77b4;stroke:#1f77b4;\" x=\"98.342308\" xlink:href=\"#md771aa3177\" y=\"214.256967\"/>\n     <use style=\"fill:#1f77b4;stroke:#1f77b4;\" x=\"98.351188\" xlink:href=\"#md771aa3177\" y=\"214.484582\"/>\n     <use style=\"fill:#1f77b4;stroke:#1f77b4;\" x=\"98.089446\" xlink:href=\"#md771aa3177\" y=\"214.40241\"/>\n     <use style=\"fill:#1f77b4;stroke:#1f77b4;\" x=\"98.038094\" xlink:href=\"#md771aa3177\" y=\"214.807822\"/>\n     <use style=\"fill:#1f77b4;stroke:#1f77b4;\" x=\"97.598594\" xlink:href=\"#md771aa3177\" y=\"214.861161\"/>\n     <use style=\"fill:#1f77b4;stroke:#1f77b4;\" x=\"97.671736\" xlink:href=\"#md771aa3177\" y=\"214.94009\"/>\n     <use style=\"fill:#1f77b4;stroke:#1f77b4;\" x=\"97.401641\" xlink:href=\"#md771aa3177\" y=\"214.920545\"/>\n     <use style=\"fill:#1f77b4;stroke:#1f77b4;\" x=\"97.247381\" xlink:href=\"#md771aa3177\" y=\"215.052441\"/>\n     <use style=\"fill:#1f77b4;stroke:#1f77b4;\" x=\"96.962551\" xlink:href=\"#md771aa3177\" y=\"215.256909\"/>\n     <use style=\"fill:#1f77b4;stroke:#1f77b4;\" x=\"96.981604\" xlink:href=\"#md771aa3177\" y=\"215.542934\"/>\n     <use style=\"fill:#1f77b4;stroke:#1f77b4;\" x=\"96.993896\" xlink:href=\"#md771aa3177\" y=\"215.393555\"/>\n     <use style=\"fill:#1f77b4;stroke:#1f77b4;\" x=\"96.651678\" xlink:href=\"#md771aa3177\" y=\"215.690875\"/>\n     <use style=\"fill:#1f77b4;stroke:#1f77b4;\" x=\"96.598982\" xlink:href=\"#md771aa3177\" y=\"215.615873\"/>\n     <use style=\"fill:#1f77b4;stroke:#1f77b4;\" x=\"96.468755\" xlink:href=\"#md771aa3177\" y=\"215.774083\"/>\n     <use style=\"fill:#1f77b4;stroke:#1f77b4;\" x=\"96.249036\" xlink:href=\"#md771aa3177\" y=\"215.95544\"/>\n     <use style=\"fill:#1f77b4;stroke:#1f77b4;\" x=\"95.986478\" xlink:href=\"#md771aa3177\" y=\"216.173003\"/>\n     <use style=\"fill:#1f77b4;stroke:#1f77b4;\" x=\"114.949507\" xlink:href=\"#md771aa3177\" y=\"202.563449\"/>\n     <use style=\"fill:#1f77b4;stroke:#1f77b4;\" x=\"114.863447\" xlink:href=\"#md771aa3177\" y=\"202.411336\"/>\n     <use style=\"fill:#1f77b4;stroke:#1f77b4;\" x=\"114.166901\" xlink:href=\"#md771aa3177\" y=\"203.153321\"/>\n     <use style=\"fill:#1f77b4;stroke:#1f77b4;\" x=\"114.441201\" xlink:href=\"#md771aa3177\" y=\"202.706965\"/>\n     <use style=\"fill:#1f77b4;stroke:#1f77b4;\" x=\"114.457284\" xlink:href=\"#md771aa3177\" y=\"202.790208\"/>\n     <use style=\"fill:#1f77b4;stroke:#1f77b4;\" x=\"114.066354\" xlink:href=\"#md771aa3177\" y=\"202.653264\"/>\n     <use style=\"fill:#1f77b4;stroke:#1f77b4;\" x=\"113.729985\" xlink:href=\"#md771aa3177\" y=\"203.044556\"/>\n     <use style=\"fill:#1f77b4;stroke:#1f77b4;\" x=\"113.394142\" xlink:href=\"#md771aa3177\" y=\"203.784854\"/>\n     <use style=\"fill:#1f77b4;stroke:#1f77b4;\" x=\"113.051812\" xlink:href=\"#md771aa3177\" y=\"203.844114\"/>\n     <use style=\"fill:#1f77b4;stroke:#1f77b4;\" x=\"113.280974\" xlink:href=\"#md771aa3177\" y=\"203.345948\"/>\n     <use style=\"fill:#1f77b4;stroke:#1f77b4;\" x=\"112.889557\" xlink:href=\"#md771aa3177\" y=\"204.07858\"/>\n     <use style=\"fill:#1f77b4;stroke:#1f77b4;\" x=\"112.655914\" xlink:href=\"#md771aa3177\" y=\"203.956782\"/>\n     <use style=\"fill:#1f77b4;stroke:#1f77b4;\" x=\"112.293846\" xlink:href=\"#md771aa3177\" y=\"204.123003\"/>\n     <use style=\"fill:#1f77b4;stroke:#1f77b4;\" x=\"111.995904\" xlink:href=\"#md771aa3177\" y=\"204.687334\"/>\n     <use style=\"fill:#1f77b4;stroke:#1f77b4;\" x=\"112.061039\" xlink:href=\"#md771aa3177\" y=\"204.602735\"/>\n     <use style=\"fill:#1f77b4;stroke:#1f77b4;\" x=\"111.784547\" xlink:href=\"#md771aa3177\" y=\"204.583878\"/>\n     <use style=\"fill:#1f77b4;stroke:#1f77b4;\" x=\"111.426118\" xlink:href=\"#md771aa3177\" y=\"204.834968\"/>\n     <use style=\"fill:#1f77b4;stroke:#1f77b4;\" x=\"111.398563\" xlink:href=\"#md771aa3177\" y=\"205.124737\"/>\n     <use style=\"fill:#1f77b4;stroke:#1f77b4;\" x=\"111.23092\" xlink:href=\"#md771aa3177\" y=\"205.642246\"/>\n     <use style=\"fill:#1f77b4;stroke:#1f77b4;\" x=\"110.978901\" xlink:href=\"#md771aa3177\" y=\"205.267381\"/>\n     <use style=\"fill:#1f77b4;stroke:#1f77b4;\" x=\"110.516337\" xlink:href=\"#md771aa3177\" y=\"204.976649\"/>\n     <use style=\"fill:#1f77b4;stroke:#1f77b4;\" x=\"110.871439\" xlink:href=\"#md771aa3177\" y=\"205.269142\"/>\n     <use style=\"fill:#1f77b4;stroke:#1f77b4;\" x=\"110.415129\" xlink:href=\"#md771aa3177\" y=\"205.186968\"/>\n     <use style=\"fill:#1f77b4;stroke:#1f77b4;\" x=\"109.830127\" xlink:href=\"#md771aa3177\" y=\"205.994301\"/>\n     <use style=\"fill:#1f77b4;stroke:#1f77b4;\" x=\"110.007721\" xlink:href=\"#md771aa3177\" y=\"206.113682\"/>\n     <use style=\"fill:#1f77b4;stroke:#1f77b4;\" x=\"109.657954\" xlink:href=\"#md771aa3177\" y=\"206.451039\"/>\n     <use style=\"fill:#1f77b4;stroke:#1f77b4;\" x=\"109.327704\" xlink:href=\"#md771aa3177\" y=\"206.355616\"/>\n     <use style=\"fill:#1f77b4;stroke:#1f77b4;\" x=\"109.239946\" xlink:href=\"#md771aa3177\" y=\"206.958061\"/>\n     <use style=\"fill:#1f77b4;stroke:#1f77b4;\" x=\"109.011193\" xlink:href=\"#md771aa3177\" y=\"206.65327\"/>\n     <use style=\"fill:#1f77b4;stroke:#1f77b4;\" x=\"108.954834\" xlink:href=\"#md771aa3177\" y=\"206.938301\"/>\n     <use style=\"fill:#1f77b4;stroke:#1f77b4;\" x=\"108.419394\" xlink:href=\"#md771aa3177\" y=\"207.461438\"/>\n     <use style=\"fill:#1f77b4;stroke:#1f77b4;\" x=\"107.911058\" xlink:href=\"#md771aa3177\" y=\"207.619669\"/>\n     <use style=\"fill:#1f77b4;stroke:#1f77b4;\" x=\"108.240916\" xlink:href=\"#md771aa3177\" y=\"207.043863\"/>\n     <use style=\"fill:#1f77b4;stroke:#1f77b4;\" x=\"107.589942\" xlink:href=\"#md771aa3177\" y=\"207.81866\"/>\n     <use style=\"fill:#1f77b4;stroke:#1f77b4;\" x=\"107.907927\" xlink:href=\"#md771aa3177\" y=\"207.998694\"/>\n     <use style=\"fill:#1f77b4;stroke:#1f77b4;\" x=\"107.618585\" xlink:href=\"#md771aa3177\" y=\"207.843439\"/>\n     <use style=\"fill:#1f77b4;stroke:#1f77b4;\" x=\"107.400302\" xlink:href=\"#md771aa3177\" y=\"208.032851\"/>\n     <use style=\"fill:#1f77b4;stroke:#1f77b4;\" x=\"106.541826\" xlink:href=\"#md771aa3177\" y=\"209.010167\"/>\n     <use style=\"fill:#1f77b4;stroke:#1f77b4;\" x=\"106.821674\" xlink:href=\"#md771aa3177\" y=\"208.75691\"/>\n     <use style=\"fill:#1f77b4;stroke:#1f77b4;\" x=\"106.519925\" xlink:href=\"#md771aa3177\" y=\"209.044992\"/>\n     <use style=\"fill:#1f77b4;stroke:#1f77b4;\" x=\"106.630833\" xlink:href=\"#md771aa3177\" y=\"208.763151\"/>\n     <use style=\"fill:#1f77b4;stroke:#1f77b4;\" x=\"106.38554\" xlink:href=\"#md771aa3177\" y=\"209.125461\"/>\n     <use style=\"fill:#1f77b4;stroke:#1f77b4;\" x=\"106.108698\" xlink:href=\"#md771aa3177\" y=\"209.180119\"/>\n     <use style=\"fill:#1f77b4;stroke:#1f77b4;\" x=\"105.973654\" xlink:href=\"#md771aa3177\" y=\"208.991996\"/>\n     <use style=\"fill:#1f77b4;stroke:#1f77b4;\" x=\"105.612566\" xlink:href=\"#md771aa3177\" y=\"209.127572\"/>\n     <use style=\"fill:#1f77b4;stroke:#1f77b4;\" x=\"105.57655\" xlink:href=\"#md771aa3177\" y=\"209.303163\"/>\n     <use style=\"fill:#1f77b4;stroke:#1f77b4;\" x=\"105.506978\" xlink:href=\"#md771aa3177\" y=\"209.242019\"/>\n     <use style=\"fill:#1f77b4;stroke:#1f77b4;\" x=\"104.964567\" xlink:href=\"#md771aa3177\" y=\"209.588004\"/>\n     <use style=\"fill:#1f77b4;stroke:#1f77b4;\" x=\"104.748346\" xlink:href=\"#md771aa3177\" y=\"209.714792\"/>\n     <use style=\"fill:#1f77b4;stroke:#1f77b4;\" x=\"104.658932\" xlink:href=\"#md771aa3177\" y=\"210.081213\"/>\n     <use style=\"fill:#1f77b4;stroke:#1f77b4;\" x=\"104.494525\" xlink:href=\"#md771aa3177\" y=\"210.846977\"/>\n     <use style=\"fill:#1f77b4;stroke:#1f77b4;\" x=\"104.180674\" xlink:href=\"#md771aa3177\" y=\"210.438244\"/>\n     <use style=\"fill:#1f77b4;stroke:#1f77b4;\" x=\"104.442436\" xlink:href=\"#md771aa3177\" y=\"209.978701\"/>\n     <use style=\"fill:#1f77b4;stroke:#1f77b4;\" x=\"104.150198\" xlink:href=\"#md771aa3177\" y=\"210.623017\"/>\n     <use style=\"fill:#1f77b4;stroke:#1f77b4;\" x=\"103.959362\" xlink:href=\"#md771aa3177\" y=\"210.575004\"/>\n     <use style=\"fill:#1f77b4;stroke:#1f77b4;\" x=\"103.483814\" xlink:href=\"#md771aa3177\" y=\"211.032866\"/>\n     <use style=\"fill:#1f77b4;stroke:#1f77b4;\" x=\"103.435156\" xlink:href=\"#md771aa3177\" y=\"211.067814\"/>\n     <use style=\"fill:#1f77b4;stroke:#1f77b4;\" x=\"103.118851\" xlink:href=\"#md771aa3177\" y=\"211.362458\"/>\n     <use style=\"fill:#1f77b4;stroke:#1f77b4;\" x=\"103.260682\" xlink:href=\"#md771aa3177\" y=\"210.891504\"/>\n     <use style=\"fill:#1f77b4;stroke:#1f77b4;\" x=\"103.108846\" xlink:href=\"#md771aa3177\" y=\"211.05724\"/>\n     <use style=\"fill:#1f77b4;stroke:#1f77b4;\" x=\"102.670613\" xlink:href=\"#md771aa3177\" y=\"211.709195\"/>\n     <use style=\"fill:#1f77b4;stroke:#1f77b4;\" x=\"102.460172\" xlink:href=\"#md771aa3177\" y=\"211.750126\"/>\n     <use style=\"fill:#1f77b4;stroke:#1f77b4;\" x=\"102.452235\" xlink:href=\"#md771aa3177\" y=\"211.760559\"/>\n     <use style=\"fill:#1f77b4;stroke:#1f77b4;\" x=\"102.400894\" xlink:href=\"#md771aa3177\" y=\"211.685499\"/>\n     <use style=\"fill:#1f77b4;stroke:#1f77b4;\" x=\"102.205513\" xlink:href=\"#md771aa3177\" y=\"211.52874\"/>\n     <use style=\"fill:#1f77b4;stroke:#1f77b4;\" x=\"101.951167\" xlink:href=\"#md771aa3177\" y=\"211.870606\"/>\n     <use style=\"fill:#1f77b4;stroke:#1f77b4;\" x=\"101.572516\" xlink:href=\"#md771aa3177\" y=\"211.791312\"/>\n     <use style=\"fill:#1f77b4;stroke:#1f77b4;\" x=\"101.333275\" xlink:href=\"#md771aa3177\" y=\"212.673579\"/>\n     <use style=\"fill:#1f77b4;stroke:#1f77b4;\" x=\"101.286863\" xlink:href=\"#md771aa3177\" y=\"212.585166\"/>\n     <use style=\"fill:#1f77b4;stroke:#1f77b4;\" x=\"101.066645\" xlink:href=\"#md771aa3177\" y=\"212.500672\"/>\n     <use style=\"fill:#1f77b4;stroke:#1f77b4;\" x=\"101.115757\" xlink:href=\"#md771aa3177\" y=\"212.765655\"/>\n     <use style=\"fill:#1f77b4;stroke:#1f77b4;\" x=\"100.908149\" xlink:href=\"#md771aa3177\" y=\"212.863815\"/>\n     <use style=\"fill:#1f77b4;stroke:#1f77b4;\" x=\"100.556849\" xlink:href=\"#md771aa3177\" y=\"212.641239\"/>\n     <use style=\"fill:#1f77b4;stroke:#1f77b4;\" x=\"100.452135\" xlink:href=\"#md771aa3177\" y=\"213.021412\"/>\n     <use style=\"fill:#1f77b4;stroke:#1f77b4;\" x=\"100.471893\" xlink:href=\"#md771aa3177\" y=\"213.107183\"/>\n     <use style=\"fill:#1f77b4;stroke:#1f77b4;\" x=\"100.007089\" xlink:href=\"#md771aa3177\" y=\"213.583534\"/>\n     <use style=\"fill:#1f77b4;stroke:#1f77b4;\" x=\"99.920949\" xlink:href=\"#md771aa3177\" y=\"213.507913\"/>\n     <use style=\"fill:#1f77b4;stroke:#1f77b4;\" x=\"99.69289\" xlink:href=\"#md771aa3177\" y=\"213.447305\"/>\n     <use style=\"fill:#1f77b4;stroke:#1f77b4;\" x=\"99.452474\" xlink:href=\"#md771aa3177\" y=\"214.034501\"/>\n     <use style=\"fill:#1f77b4;stroke:#1f77b4;\" x=\"99.488449\" xlink:href=\"#md771aa3177\" y=\"213.684078\"/>\n     <use style=\"fill:#1f77b4;stroke:#1f77b4;\" x=\"99.210387\" xlink:href=\"#md771aa3177\" y=\"213.944419\"/>\n     <use style=\"fill:#1f77b4;stroke:#1f77b4;\" x=\"99.077437\" xlink:href=\"#md771aa3177\" y=\"214.05929\"/>\n     <use style=\"fill:#1f77b4;stroke:#1f77b4;\" x=\"99.038443\" xlink:href=\"#md771aa3177\" y=\"214.174666\"/>\n     <use style=\"fill:#1f77b4;stroke:#1f77b4;\" x=\"98.510657\" xlink:href=\"#md771aa3177\" y=\"214.480108\"/>\n     <use style=\"fill:#1f77b4;stroke:#1f77b4;\" x=\"98.599345\" xlink:href=\"#md771aa3177\" y=\"214.439938\"/>\n     <use style=\"fill:#1f77b4;stroke:#1f77b4;\" x=\"98.320579\" xlink:href=\"#md771aa3177\" y=\"214.580159\"/>\n     <use style=\"fill:#1f77b4;stroke:#1f77b4;\" x=\"98.201038\" xlink:href=\"#md771aa3177\" y=\"214.754584\"/>\n     <use style=\"fill:#1f77b4;stroke:#1f77b4;\" x=\"98.137348\" xlink:href=\"#md771aa3177\" y=\"214.539519\"/>\n     <use style=\"fill:#1f77b4;stroke:#1f77b4;\" x=\"97.983228\" xlink:href=\"#md771aa3177\" y=\"214.735398\"/>\n     <use style=\"fill:#1f77b4;stroke:#1f77b4;\" x=\"97.794676\" xlink:href=\"#md771aa3177\" y=\"214.680669\"/>\n     <use style=\"fill:#1f77b4;stroke:#1f77b4;\" x=\"97.727759\" xlink:href=\"#md771aa3177\" y=\"215.025505\"/>\n     <use style=\"fill:#1f77b4;stroke:#1f77b4;\" x=\"97.71204\" xlink:href=\"#md771aa3177\" y=\"214.973905\"/>\n     <use style=\"fill:#1f77b4;stroke:#1f77b4;\" x=\"97.319497\" xlink:href=\"#md771aa3177\" y=\"214.981567\"/>\n     <use style=\"fill:#1f77b4;stroke:#1f77b4;\" x=\"97.046653\" xlink:href=\"#md771aa3177\" y=\"215.512721\"/>\n     <use style=\"fill:#1f77b4;stroke:#1f77b4;\" x=\"97.021464\" xlink:href=\"#md771aa3177\" y=\"215.364007\"/>\n     <use style=\"fill:#1f77b4;stroke:#1f77b4;\" x=\"96.838028\" xlink:href=\"#md771aa3177\" y=\"215.351464\"/>\n     <use style=\"fill:#1f77b4;stroke:#1f77b4;\" x=\"96.794126\" xlink:href=\"#md771aa3177\" y=\"215.53608\"/>\n     <use style=\"fill:#1f77b4;stroke:#1f77b4;\" x=\"96.493002\" xlink:href=\"#md771aa3177\" y=\"215.69359\"/>\n    </g>\n   </g>\n   <g id=\"patch_3\">\n    <path d=\"M 56.50625 239.758125 \nL 56.50625 22.318125 \n\" style=\"fill:none;stroke:#000000;stroke-linecap:square;stroke-linejoin:miter;stroke-width:0.8;\"/>\n   </g>\n   <g id=\"patch_4\">\n    <path d=\"M 391.30625 239.758125 \nL 391.30625 22.318125 \n\" style=\"fill:none;stroke:#000000;stroke-linecap:square;stroke-linejoin:miter;stroke-width:0.8;\"/>\n   </g>\n   <g id=\"patch_5\">\n    <path d=\"M 56.50625 239.758125 \nL 391.30625 239.758125 \n\" style=\"fill:none;stroke:#000000;stroke-linecap:square;stroke-linejoin:miter;stroke-width:0.8;\"/>\n   </g>\n   <g id=\"patch_6\">\n    <path d=\"M 56.50625 22.318125 \nL 391.30625 22.318125 \n\" style=\"fill:none;stroke:#000000;stroke-linecap:square;stroke-linejoin:miter;stroke-width:0.8;\"/>\n   </g>\n   <g id=\"text_17\">\n    <!-- Physics-informed neural net -->\n    <defs>\n     <path d=\"M 32.171875 -5.078125 \nQ 28.375 -14.84375 24.75 -17.8125 \nQ 21.140625 -20.796875 15.09375 -20.796875 \nL 7.90625 -20.796875 \nL 7.90625 -13.28125 \nL 13.1875 -13.28125 \nQ 16.890625 -13.28125 18.9375 -11.515625 \nQ 21 -9.765625 23.484375 -3.21875 \nL 25.09375 0.875 \nL 2.984375 54.6875 \nL 12.5 54.6875 \nL 29.59375 11.921875 \nL 46.6875 54.6875 \nL 56.203125 54.6875 \nz\n\" id=\"DejaVuSans-121\"/>\n     <path d=\"M 44.28125 53.078125 \nL 44.28125 44.578125 \nQ 40.484375 46.53125 36.375 47.5 \nQ 32.28125 48.484375 27.875 48.484375 \nQ 21.1875 48.484375 17.84375 46.4375 \nQ 14.5 44.390625 14.5 40.28125 \nQ 14.5 37.15625 16.890625 35.375 \nQ 19.28125 33.59375 26.515625 31.984375 \nL 29.59375 31.296875 \nQ 39.15625 29.25 43.1875 25.515625 \nQ 47.21875 21.78125 47.21875 15.09375 \nQ 47.21875 7.46875 41.1875 3.015625 \nQ 35.15625 -1.421875 24.609375 -1.421875 \nQ 20.21875 -1.421875 15.453125 -0.5625 \nQ 10.6875 0.296875 5.421875 2 \nL 5.421875 11.28125 \nQ 10.40625 8.6875 15.234375 7.390625 \nQ 20.0625 6.109375 24.8125 6.109375 \nQ 31.15625 6.109375 34.5625 8.28125 \nQ 37.984375 10.453125 37.984375 14.40625 \nQ 37.984375 18.0625 35.515625 20.015625 \nQ 33.0625 21.96875 24.703125 23.78125 \nL 21.578125 24.515625 \nQ 13.234375 26.265625 9.515625 29.90625 \nQ 5.8125 33.546875 5.8125 39.890625 \nQ 5.8125 47.609375 11.28125 51.796875 \nQ 16.75 56 26.8125 56 \nQ 31.78125 56 36.171875 55.265625 \nQ 40.578125 54.546875 44.28125 53.078125 \nz\n\" id=\"DejaVuSans-115\"/>\n     <path d=\"M 4.890625 31.390625 \nL 31.203125 31.390625 \nL 31.203125 23.390625 \nL 4.890625 23.390625 \nz\n\" id=\"DejaVuSans-45\"/>\n     <path d=\"M 37.109375 75.984375 \nL 37.109375 68.5 \nL 28.515625 68.5 \nQ 23.6875 68.5 21.796875 66.546875 \nQ 19.921875 64.59375 19.921875 59.515625 \nL 19.921875 54.6875 \nL 34.71875 54.6875 \nL 34.71875 47.703125 \nL 19.921875 47.703125 \nL 19.921875 0 \nL 10.890625 0 \nL 10.890625 47.703125 \nL 2.296875 47.703125 \nL 2.296875 54.6875 \nL 10.890625 54.6875 \nL 10.890625 58.5 \nQ 10.890625 67.625 15.140625 71.796875 \nQ 19.390625 75.984375 28.609375 75.984375 \nz\n\" id=\"DejaVuSans-102\"/>\n     <path d=\"M 30.609375 48.390625 \nQ 23.390625 48.390625 19.1875 42.75 \nQ 14.984375 37.109375 14.984375 27.296875 \nQ 14.984375 17.484375 19.15625 11.84375 \nQ 23.34375 6.203125 30.609375 6.203125 \nQ 37.796875 6.203125 41.984375 11.859375 \nQ 46.1875 17.53125 46.1875 27.296875 \nQ 46.1875 37.015625 41.984375 42.703125 \nQ 37.796875 48.390625 30.609375 48.390625 \nz\nM 30.609375 56 \nQ 42.328125 56 49.015625 48.375 \nQ 55.71875 40.765625 55.71875 27.296875 \nQ 55.71875 13.875 49.015625 6.21875 \nQ 42.328125 -1.421875 30.609375 -1.421875 \nQ 18.84375 -1.421875 12.171875 6.21875 \nQ 5.515625 13.875 5.515625 27.296875 \nQ 5.515625 40.765625 12.171875 48.375 \nQ 18.84375 56 30.609375 56 \nz\n\" id=\"DejaVuSans-111\"/>\n    </defs>\n    <g transform=\"translate(139.825625 16.318125)scale(0.12 -0.12)\">\n     <use xlink:href=\"#DejaVuSans-80\"/>\n     <use x=\"60.302734\" xlink:href=\"#DejaVuSans-104\"/>\n     <use x=\"123.681641\" xlink:href=\"#DejaVuSans-121\"/>\n     <use x=\"182.861328\" xlink:href=\"#DejaVuSans-115\"/>\n     <use x=\"234.960938\" xlink:href=\"#DejaVuSans-105\"/>\n     <use x=\"262.744141\" xlink:href=\"#DejaVuSans-99\"/>\n     <use x=\"317.724609\" xlink:href=\"#DejaVuSans-115\"/>\n     <use x=\"369.824219\" xlink:href=\"#DejaVuSans-45\"/>\n     <use x=\"405.908203\" xlink:href=\"#DejaVuSans-105\"/>\n     <use x=\"433.691406\" xlink:href=\"#DejaVuSans-110\"/>\n     <use x=\"497.070312\" xlink:href=\"#DejaVuSans-102\"/>\n     <use x=\"532.275391\" xlink:href=\"#DejaVuSans-111\"/>\n     <use x=\"593.457031\" xlink:href=\"#DejaVuSans-114\"/>\n     <use x=\"632.820312\" xlink:href=\"#DejaVuSans-109\"/>\n     <use x=\"730.232422\" xlink:href=\"#DejaVuSans-101\"/>\n     <use x=\"791.755859\" xlink:href=\"#DejaVuSans-100\"/>\n     <use x=\"855.232422\" xlink:href=\"#DejaVuSans-32\"/>\n     <use x=\"887.019531\" xlink:href=\"#DejaVuSans-110\"/>\n     <use x=\"950.398438\" xlink:href=\"#DejaVuSans-101\"/>\n     <use x=\"1011.921875\" xlink:href=\"#DejaVuSans-117\"/>\n     <use x=\"1075.300781\" xlink:href=\"#DejaVuSans-114\"/>\n     <use x=\"1116.414062\" xlink:href=\"#DejaVuSans-97\"/>\n     <use x=\"1177.693359\" xlink:href=\"#DejaVuSans-108\"/>\n     <use x=\"1205.476562\" xlink:href=\"#DejaVuSans-32\"/>\n     <use x=\"1237.263672\" xlink:href=\"#DejaVuSans-110\"/>\n     <use x=\"1300.642578\" xlink:href=\"#DejaVuSans-101\"/>\n     <use x=\"1362.166016\" xlink:href=\"#DejaVuSans-116\"/>\n    </g>\n   </g>\n  </g>\n </g>\n <defs>\n  <clipPath id=\"p4f8dac3814\">\n   <rect height=\"217.44\" width=\"334.8\" x=\"56.50625\" y=\"22.318125\"/>\n  </clipPath>\n </defs>\n</svg>\n"
          },
          "metadata": {
            "needs_background": "light"
          }
        }
      ],
      "source": [
        "plt.plot([0.005, 0.035], [0.005, 0.035], '--k')\n",
        "plt.plot(a[:,-1:].squeeze(-1),preds.squeeze(-1),'o')\n",
        "plt.title(\"Physics-informed neural net\")\n",
        "plt.ylabel('Predicted crack length a [m]')\n",
        "plt.xlabel('Actual crack length a [m]')"
      ]
    },
    {
      "cell_type": "code",
      "source": [
        "print(np.mean((preds.squeeze(-1)-a[:,-1:].squeeze(-1))**2))"
      ],
      "metadata": {
        "colab": {
          "base_uri": "https://localhost:8080/"
        },
        "id": "MvF2KZp7Bbca",
        "outputId": "bd7d2890-d45f-4d4c-efb7-a75ac7a65b81"
      },
      "execution_count": 20,
      "outputs": [
        {
          "output_type": "stream",
          "name": "stdout",
          "text": [
            "1.65238564893582e-07\n"
          ]
        }
      ]
    }
  ]
}