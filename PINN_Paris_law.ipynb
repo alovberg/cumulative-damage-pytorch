{
  "nbformat": 4,
  "nbformat_minor": 0,
  "metadata": {
    "colab": {
      "name": "PINN Paris law.ipynb",
      "provenance": [],
      "collapsed_sections": [],
      "authorship_tag": "ABX9TyNx9qBHShV8L3mVLq6RKUXB",
      "include_colab_link": true
    },
    "kernelspec": {
      "name": "python3",
      "display_name": "Python 3"
    },
    "language_info": {
      "name": "python"
    },
    "accelerator": "GPU",
    "widgets": {
      "application/vnd.jupyter.widget-state+json": {
        "b42096fb319b4fb881371fae7344beeb": {
          "model_module": "@jupyter-widgets/controls",
          "model_name": "HBoxModel",
          "model_module_version": "1.5.0",
          "state": {
            "_view_name": "HBoxView",
            "_dom_classes": [],
            "_model_name": "HBoxModel",
            "_view_module": "@jupyter-widgets/controls",
            "_model_module_version": "1.5.0",
            "_view_count": null,
            "_view_module_version": "1.5.0",
            "box_style": "",
            "layout": "IPY_MODEL_2b17384c3707474c9a983856d7273d86",
            "_model_module": "@jupyter-widgets/controls",
            "children": [
              "IPY_MODEL_4bb8e06644b0432f9c351f30ea4580a1",
              "IPY_MODEL_52f11c1e1d9c49bcbc41ceb60bef7f26",
              "IPY_MODEL_f3f453a7727940f4a8f1e13a66ecb2cc"
            ]
          }
        },
        "2b17384c3707474c9a983856d7273d86": {
          "model_module": "@jupyter-widgets/base",
          "model_name": "LayoutModel",
          "model_module_version": "1.2.0",
          "state": {
            "_view_name": "LayoutView",
            "grid_template_rows": null,
            "right": null,
            "justify_content": null,
            "_view_module": "@jupyter-widgets/base",
            "overflow": null,
            "_model_module_version": "1.2.0",
            "_view_count": null,
            "flex_flow": null,
            "width": null,
            "min_width": null,
            "border": null,
            "align_items": null,
            "bottom": null,
            "_model_module": "@jupyter-widgets/base",
            "top": null,
            "grid_column": null,
            "overflow_y": null,
            "overflow_x": null,
            "grid_auto_flow": null,
            "grid_area": null,
            "grid_template_columns": null,
            "flex": null,
            "_model_name": "LayoutModel",
            "justify_items": null,
            "grid_row": null,
            "max_height": null,
            "align_content": null,
            "visibility": null,
            "align_self": null,
            "height": null,
            "min_height": null,
            "padding": null,
            "grid_auto_rows": null,
            "grid_gap": null,
            "max_width": null,
            "order": null,
            "_view_module_version": "1.2.0",
            "grid_template_areas": null,
            "object_position": null,
            "object_fit": null,
            "grid_auto_columns": null,
            "margin": null,
            "display": null,
            "left": null
          }
        },
        "4bb8e06644b0432f9c351f30ea4580a1": {
          "model_module": "@jupyter-widgets/controls",
          "model_name": "HTMLModel",
          "model_module_version": "1.5.0",
          "state": {
            "_view_name": "HTMLView",
            "style": "IPY_MODEL_bb5f92f89858429fbba3036cb9432bbd",
            "_dom_classes": [],
            "description": "",
            "_model_name": "HTMLModel",
            "placeholder": "​",
            "_view_module": "@jupyter-widgets/controls",
            "_model_module_version": "1.5.0",
            "value": "Epoch [499 / 500]: 100%",
            "_view_count": null,
            "_view_module_version": "1.5.0",
            "description_tooltip": null,
            "_model_module": "@jupyter-widgets/controls",
            "layout": "IPY_MODEL_cd6889f71a4c4cc7b1078342f18ee873"
          }
        },
        "52f11c1e1d9c49bcbc41ceb60bef7f26": {
          "model_module": "@jupyter-widgets/controls",
          "model_name": "FloatProgressModel",
          "model_module_version": "1.5.0",
          "state": {
            "_view_name": "ProgressView",
            "style": "IPY_MODEL_d0ca024e13544b8f90ec331a0b130451",
            "_dom_classes": [],
            "description": "",
            "_model_name": "FloatProgressModel",
            "bar_style": "",
            "max": 500,
            "_view_module": "@jupyter-widgets/controls",
            "_model_module_version": "1.5.0",
            "value": 500,
            "_view_count": null,
            "_view_module_version": "1.5.0",
            "orientation": "horizontal",
            "min": 0,
            "description_tooltip": null,
            "_model_module": "@jupyter-widgets/controls",
            "layout": "IPY_MODEL_fdf919a5636a404581137699aa944dd5"
          }
        },
        "f3f453a7727940f4a8f1e13a66ecb2cc": {
          "model_module": "@jupyter-widgets/controls",
          "model_name": "HTMLModel",
          "model_module_version": "1.5.0",
          "state": {
            "_view_name": "HTMLView",
            "style": "IPY_MODEL_6eb8e44e3a0342c1a2930e29149a6ecb",
            "_dom_classes": [],
            "description": "",
            "_model_name": "HTMLModel",
            "placeholder": "​",
            "_view_module": "@jupyter-widgets/controls",
            "_model_module_version": "1.5.0",
            "value": " 500/500 [02:52&lt;00:00,  2.88it/s, loss=7.23e-5]",
            "_view_count": null,
            "_view_module_version": "1.5.0",
            "description_tooltip": null,
            "_model_module": "@jupyter-widgets/controls",
            "layout": "IPY_MODEL_9b104afe887a45eca7f3f4edda4c1c52"
          }
        },
        "bb5f92f89858429fbba3036cb9432bbd": {
          "model_module": "@jupyter-widgets/controls",
          "model_name": "DescriptionStyleModel",
          "model_module_version": "1.5.0",
          "state": {
            "_view_name": "StyleView",
            "_model_name": "DescriptionStyleModel",
            "description_width": "",
            "_view_module": "@jupyter-widgets/base",
            "_model_module_version": "1.5.0",
            "_view_count": null,
            "_view_module_version": "1.2.0",
            "_model_module": "@jupyter-widgets/controls"
          }
        },
        "cd6889f71a4c4cc7b1078342f18ee873": {
          "model_module": "@jupyter-widgets/base",
          "model_name": "LayoutModel",
          "model_module_version": "1.2.0",
          "state": {
            "_view_name": "LayoutView",
            "grid_template_rows": null,
            "right": null,
            "justify_content": null,
            "_view_module": "@jupyter-widgets/base",
            "overflow": null,
            "_model_module_version": "1.2.0",
            "_view_count": null,
            "flex_flow": null,
            "width": null,
            "min_width": null,
            "border": null,
            "align_items": null,
            "bottom": null,
            "_model_module": "@jupyter-widgets/base",
            "top": null,
            "grid_column": null,
            "overflow_y": null,
            "overflow_x": null,
            "grid_auto_flow": null,
            "grid_area": null,
            "grid_template_columns": null,
            "flex": null,
            "_model_name": "LayoutModel",
            "justify_items": null,
            "grid_row": null,
            "max_height": null,
            "align_content": null,
            "visibility": null,
            "align_self": null,
            "height": null,
            "min_height": null,
            "padding": null,
            "grid_auto_rows": null,
            "grid_gap": null,
            "max_width": null,
            "order": null,
            "_view_module_version": "1.2.0",
            "grid_template_areas": null,
            "object_position": null,
            "object_fit": null,
            "grid_auto_columns": null,
            "margin": null,
            "display": null,
            "left": null
          }
        },
        "d0ca024e13544b8f90ec331a0b130451": {
          "model_module": "@jupyter-widgets/controls",
          "model_name": "ProgressStyleModel",
          "model_module_version": "1.5.0",
          "state": {
            "_view_name": "StyleView",
            "_model_name": "ProgressStyleModel",
            "description_width": "",
            "_view_module": "@jupyter-widgets/base",
            "_model_module_version": "1.5.0",
            "_view_count": null,
            "_view_module_version": "1.2.0",
            "bar_color": null,
            "_model_module": "@jupyter-widgets/controls"
          }
        },
        "fdf919a5636a404581137699aa944dd5": {
          "model_module": "@jupyter-widgets/base",
          "model_name": "LayoutModel",
          "model_module_version": "1.2.0",
          "state": {
            "_view_name": "LayoutView",
            "grid_template_rows": null,
            "right": null,
            "justify_content": null,
            "_view_module": "@jupyter-widgets/base",
            "overflow": null,
            "_model_module_version": "1.2.0",
            "_view_count": null,
            "flex_flow": null,
            "width": null,
            "min_width": null,
            "border": null,
            "align_items": null,
            "bottom": null,
            "_model_module": "@jupyter-widgets/base",
            "top": null,
            "grid_column": null,
            "overflow_y": null,
            "overflow_x": null,
            "grid_auto_flow": null,
            "grid_area": null,
            "grid_template_columns": null,
            "flex": null,
            "_model_name": "LayoutModel",
            "justify_items": null,
            "grid_row": null,
            "max_height": null,
            "align_content": null,
            "visibility": null,
            "align_self": null,
            "height": null,
            "min_height": null,
            "padding": null,
            "grid_auto_rows": null,
            "grid_gap": null,
            "max_width": null,
            "order": null,
            "_view_module_version": "1.2.0",
            "grid_template_areas": null,
            "object_position": null,
            "object_fit": null,
            "grid_auto_columns": null,
            "margin": null,
            "display": null,
            "left": null
          }
        },
        "6eb8e44e3a0342c1a2930e29149a6ecb": {
          "model_module": "@jupyter-widgets/controls",
          "model_name": "DescriptionStyleModel",
          "model_module_version": "1.5.0",
          "state": {
            "_view_name": "StyleView",
            "_model_name": "DescriptionStyleModel",
            "description_width": "",
            "_view_module": "@jupyter-widgets/base",
            "_model_module_version": "1.5.0",
            "_view_count": null,
            "_view_module_version": "1.2.0",
            "_model_module": "@jupyter-widgets/controls"
          }
        },
        "9b104afe887a45eca7f3f4edda4c1c52": {
          "model_module": "@jupyter-widgets/base",
          "model_name": "LayoutModel",
          "model_module_version": "1.2.0",
          "state": {
            "_view_name": "LayoutView",
            "grid_template_rows": null,
            "right": null,
            "justify_content": null,
            "_view_module": "@jupyter-widgets/base",
            "overflow": null,
            "_model_module_version": "1.2.0",
            "_view_count": null,
            "flex_flow": null,
            "width": null,
            "min_width": null,
            "border": null,
            "align_items": null,
            "bottom": null,
            "_model_module": "@jupyter-widgets/base",
            "top": null,
            "grid_column": null,
            "overflow_y": null,
            "overflow_x": null,
            "grid_auto_flow": null,
            "grid_area": null,
            "grid_template_columns": null,
            "flex": null,
            "_model_name": "LayoutModel",
            "justify_items": null,
            "grid_row": null,
            "max_height": null,
            "align_content": null,
            "visibility": null,
            "align_self": null,
            "height": null,
            "min_height": null,
            "padding": null,
            "grid_auto_rows": null,
            "grid_gap": null,
            "max_width": null,
            "order": null,
            "_view_module_version": "1.2.0",
            "grid_template_areas": null,
            "object_position": null,
            "object_fit": null,
            "grid_auto_columns": null,
            "margin": null,
            "display": null,
            "left": null
          }
        },
        "449b587ee7e547a18a1b475308b46f21": {
          "model_module": "@jupyter-widgets/controls",
          "model_name": "HBoxModel",
          "model_module_version": "1.5.0",
          "state": {
            "_view_name": "HBoxView",
            "_dom_classes": [],
            "_model_name": "HBoxModel",
            "_view_module": "@jupyter-widgets/controls",
            "_model_module_version": "1.5.0",
            "_view_count": null,
            "_view_module_version": "1.5.0",
            "box_style": "",
            "layout": "IPY_MODEL_c889864395c64d70aab7d69bd87b41b8",
            "_model_module": "@jupyter-widgets/controls",
            "children": [
              "IPY_MODEL_3c8ea402ef6b49eeb18184482b59da61",
              "IPY_MODEL_48d55b2a6e9e4748b7d91ca6518a935c",
              "IPY_MODEL_d226bdc6b03b4456958d7bf73000f785"
            ]
          }
        },
        "c889864395c64d70aab7d69bd87b41b8": {
          "model_module": "@jupyter-widgets/base",
          "model_name": "LayoutModel",
          "model_module_version": "1.2.0",
          "state": {
            "_view_name": "LayoutView",
            "grid_template_rows": null,
            "right": null,
            "justify_content": null,
            "_view_module": "@jupyter-widgets/base",
            "overflow": null,
            "_model_module_version": "1.2.0",
            "_view_count": null,
            "flex_flow": null,
            "width": null,
            "min_width": null,
            "border": null,
            "align_items": null,
            "bottom": null,
            "_model_module": "@jupyter-widgets/base",
            "top": null,
            "grid_column": null,
            "overflow_y": null,
            "overflow_x": null,
            "grid_auto_flow": null,
            "grid_area": null,
            "grid_template_columns": null,
            "flex": null,
            "_model_name": "LayoutModel",
            "justify_items": null,
            "grid_row": null,
            "max_height": null,
            "align_content": null,
            "visibility": null,
            "align_self": null,
            "height": null,
            "min_height": null,
            "padding": null,
            "grid_auto_rows": null,
            "grid_gap": null,
            "max_width": null,
            "order": null,
            "_view_module_version": "1.2.0",
            "grid_template_areas": null,
            "object_position": null,
            "object_fit": null,
            "grid_auto_columns": null,
            "margin": null,
            "display": null,
            "left": null
          }
        },
        "3c8ea402ef6b49eeb18184482b59da61": {
          "model_module": "@jupyter-widgets/controls",
          "model_name": "HTMLModel",
          "model_module_version": "1.5.0",
          "state": {
            "_view_name": "HTMLView",
            "style": "IPY_MODEL_9f5c71ec0f10439888e0eca60376fe87",
            "_dom_classes": [],
            "description": "",
            "_model_name": "HTMLModel",
            "placeholder": "​",
            "_view_module": "@jupyter-widgets/controls",
            "_model_module_version": "1.5.0",
            "value": "100%",
            "_view_count": null,
            "_view_module_version": "1.5.0",
            "description_tooltip": null,
            "_model_module": "@jupyter-widgets/controls",
            "layout": "IPY_MODEL_6d01ab14eaa64375be1f87ad096c4c0e"
          }
        },
        "48d55b2a6e9e4748b7d91ca6518a935c": {
          "model_module": "@jupyter-widgets/controls",
          "model_name": "FloatProgressModel",
          "model_module_version": "1.5.0",
          "state": {
            "_view_name": "ProgressView",
            "style": "IPY_MODEL_9c7603d5876e4236bcb84af72e2a7509",
            "_dom_classes": [],
            "description": "",
            "_model_name": "FloatProgressModel",
            "bar_style": "success",
            "max": 30,
            "_view_module": "@jupyter-widgets/controls",
            "_model_module_version": "1.5.0",
            "value": 30,
            "_view_count": null,
            "_view_module_version": "1.5.0",
            "orientation": "horizontal",
            "min": 0,
            "description_tooltip": null,
            "_model_module": "@jupyter-widgets/controls",
            "layout": "IPY_MODEL_981a36356b9b4c3db55784797e5ee8c6"
          }
        },
        "d226bdc6b03b4456958d7bf73000f785": {
          "model_module": "@jupyter-widgets/controls",
          "model_name": "HTMLModel",
          "model_module_version": "1.5.0",
          "state": {
            "_view_name": "HTMLView",
            "style": "IPY_MODEL_f4788ea4bbb14c6aaa9a023463454073",
            "_dom_classes": [],
            "description": "",
            "_model_name": "HTMLModel",
            "placeholder": "​",
            "_view_module": "@jupyter-widgets/controls",
            "_model_module_version": "1.5.0",
            "value": " 30/30 [00:04&lt;00:00,  6.41it/s]",
            "_view_count": null,
            "_view_module_version": "1.5.0",
            "description_tooltip": null,
            "_model_module": "@jupyter-widgets/controls",
            "layout": "IPY_MODEL_c58538cb63454226933701feaacd7704"
          }
        },
        "9f5c71ec0f10439888e0eca60376fe87": {
          "model_module": "@jupyter-widgets/controls",
          "model_name": "DescriptionStyleModel",
          "model_module_version": "1.5.0",
          "state": {
            "_view_name": "StyleView",
            "_model_name": "DescriptionStyleModel",
            "description_width": "",
            "_view_module": "@jupyter-widgets/base",
            "_model_module_version": "1.5.0",
            "_view_count": null,
            "_view_module_version": "1.2.0",
            "_model_module": "@jupyter-widgets/controls"
          }
        },
        "6d01ab14eaa64375be1f87ad096c4c0e": {
          "model_module": "@jupyter-widgets/base",
          "model_name": "LayoutModel",
          "model_module_version": "1.2.0",
          "state": {
            "_view_name": "LayoutView",
            "grid_template_rows": null,
            "right": null,
            "justify_content": null,
            "_view_module": "@jupyter-widgets/base",
            "overflow": null,
            "_model_module_version": "1.2.0",
            "_view_count": null,
            "flex_flow": null,
            "width": null,
            "min_width": null,
            "border": null,
            "align_items": null,
            "bottom": null,
            "_model_module": "@jupyter-widgets/base",
            "top": null,
            "grid_column": null,
            "overflow_y": null,
            "overflow_x": null,
            "grid_auto_flow": null,
            "grid_area": null,
            "grid_template_columns": null,
            "flex": null,
            "_model_name": "LayoutModel",
            "justify_items": null,
            "grid_row": null,
            "max_height": null,
            "align_content": null,
            "visibility": null,
            "align_self": null,
            "height": null,
            "min_height": null,
            "padding": null,
            "grid_auto_rows": null,
            "grid_gap": null,
            "max_width": null,
            "order": null,
            "_view_module_version": "1.2.0",
            "grid_template_areas": null,
            "object_position": null,
            "object_fit": null,
            "grid_auto_columns": null,
            "margin": null,
            "display": null,
            "left": null
          }
        },
        "9c7603d5876e4236bcb84af72e2a7509": {
          "model_module": "@jupyter-widgets/controls",
          "model_name": "ProgressStyleModel",
          "model_module_version": "1.5.0",
          "state": {
            "_view_name": "StyleView",
            "_model_name": "ProgressStyleModel",
            "description_width": "",
            "_view_module": "@jupyter-widgets/base",
            "_model_module_version": "1.5.0",
            "_view_count": null,
            "_view_module_version": "1.2.0",
            "bar_color": null,
            "_model_module": "@jupyter-widgets/controls"
          }
        },
        "981a36356b9b4c3db55784797e5ee8c6": {
          "model_module": "@jupyter-widgets/base",
          "model_name": "LayoutModel",
          "model_module_version": "1.2.0",
          "state": {
            "_view_name": "LayoutView",
            "grid_template_rows": null,
            "right": null,
            "justify_content": null,
            "_view_module": "@jupyter-widgets/base",
            "overflow": null,
            "_model_module_version": "1.2.0",
            "_view_count": null,
            "flex_flow": null,
            "width": null,
            "min_width": null,
            "border": null,
            "align_items": null,
            "bottom": null,
            "_model_module": "@jupyter-widgets/base",
            "top": null,
            "grid_column": null,
            "overflow_y": null,
            "overflow_x": null,
            "grid_auto_flow": null,
            "grid_area": null,
            "grid_template_columns": null,
            "flex": null,
            "_model_name": "LayoutModel",
            "justify_items": null,
            "grid_row": null,
            "max_height": null,
            "align_content": null,
            "visibility": null,
            "align_self": null,
            "height": null,
            "min_height": null,
            "padding": null,
            "grid_auto_rows": null,
            "grid_gap": null,
            "max_width": null,
            "order": null,
            "_view_module_version": "1.2.0",
            "grid_template_areas": null,
            "object_position": null,
            "object_fit": null,
            "grid_auto_columns": null,
            "margin": null,
            "display": null,
            "left": null
          }
        },
        "f4788ea4bbb14c6aaa9a023463454073": {
          "model_module": "@jupyter-widgets/controls",
          "model_name": "DescriptionStyleModel",
          "model_module_version": "1.5.0",
          "state": {
            "_view_name": "StyleView",
            "_model_name": "DescriptionStyleModel",
            "description_width": "",
            "_view_module": "@jupyter-widgets/base",
            "_model_module_version": "1.5.0",
            "_view_count": null,
            "_view_module_version": "1.2.0",
            "_model_module": "@jupyter-widgets/controls"
          }
        },
        "c58538cb63454226933701feaacd7704": {
          "model_module": "@jupyter-widgets/base",
          "model_name": "LayoutModel",
          "model_module_version": "1.2.0",
          "state": {
            "_view_name": "LayoutView",
            "grid_template_rows": null,
            "right": null,
            "justify_content": null,
            "_view_module": "@jupyter-widgets/base",
            "overflow": null,
            "_model_module_version": "1.2.0",
            "_view_count": null,
            "flex_flow": null,
            "width": null,
            "min_width": null,
            "border": null,
            "align_items": null,
            "bottom": null,
            "_model_module": "@jupyter-widgets/base",
            "top": null,
            "grid_column": null,
            "overflow_y": null,
            "overflow_x": null,
            "grid_auto_flow": null,
            "grid_area": null,
            "grid_template_columns": null,
            "flex": null,
            "_model_name": "LayoutModel",
            "justify_items": null,
            "grid_row": null,
            "max_height": null,
            "align_content": null,
            "visibility": null,
            "align_self": null,
            "height": null,
            "min_height": null,
            "padding": null,
            "grid_auto_rows": null,
            "grid_gap": null,
            "max_width": null,
            "order": null,
            "_view_module_version": "1.2.0",
            "grid_template_areas": null,
            "object_position": null,
            "object_fit": null,
            "grid_auto_columns": null,
            "margin": null,
            "display": null,
            "left": null
          }
        },
        "3635e959320a48b08669e82e7da849bb": {
          "model_module": "@jupyter-widgets/controls",
          "model_name": "HBoxModel",
          "model_module_version": "1.5.0",
          "state": {
            "_view_name": "HBoxView",
            "_dom_classes": [],
            "_model_name": "HBoxModel",
            "_view_module": "@jupyter-widgets/controls",
            "_model_module_version": "1.5.0",
            "_view_count": null,
            "_view_module_version": "1.5.0",
            "box_style": "",
            "layout": "IPY_MODEL_6514453a39aa4f3ba7d17bb5554776cb",
            "_model_module": "@jupyter-widgets/controls",
            "children": [
              "IPY_MODEL_48645e02d220490583c4526d90fb2510",
              "IPY_MODEL_771f43a3bbc3406fa92b1afc20f4b172",
              "IPY_MODEL_1a80231bab484d20beefd96f50995f77"
            ]
          }
        },
        "6514453a39aa4f3ba7d17bb5554776cb": {
          "model_module": "@jupyter-widgets/base",
          "model_name": "LayoutModel",
          "model_module_version": "1.2.0",
          "state": {
            "_view_name": "LayoutView",
            "grid_template_rows": null,
            "right": null,
            "justify_content": null,
            "_view_module": "@jupyter-widgets/base",
            "overflow": null,
            "_model_module_version": "1.2.0",
            "_view_count": null,
            "flex_flow": null,
            "width": null,
            "min_width": null,
            "border": null,
            "align_items": null,
            "bottom": null,
            "_model_module": "@jupyter-widgets/base",
            "top": null,
            "grid_column": null,
            "overflow_y": null,
            "overflow_x": null,
            "grid_auto_flow": null,
            "grid_area": null,
            "grid_template_columns": null,
            "flex": null,
            "_model_name": "LayoutModel",
            "justify_items": null,
            "grid_row": null,
            "max_height": null,
            "align_content": null,
            "visibility": null,
            "align_self": null,
            "height": null,
            "min_height": null,
            "padding": null,
            "grid_auto_rows": null,
            "grid_gap": null,
            "max_width": null,
            "order": null,
            "_view_module_version": "1.2.0",
            "grid_template_areas": null,
            "object_position": null,
            "object_fit": null,
            "grid_auto_columns": null,
            "margin": null,
            "display": null,
            "left": null
          }
        },
        "48645e02d220490583c4526d90fb2510": {
          "model_module": "@jupyter-widgets/controls",
          "model_name": "HTMLModel",
          "model_module_version": "1.5.0",
          "state": {
            "_view_name": "HTMLView",
            "style": "IPY_MODEL_c1e48df2417849d0a6a469273706b4b0",
            "_dom_classes": [],
            "description": "",
            "_model_name": "HTMLModel",
            "placeholder": "​",
            "_view_module": "@jupyter-widgets/controls",
            "_model_module_version": "1.5.0",
            "value": "Epoch [499 / 500]: 100%",
            "_view_count": null,
            "_view_module_version": "1.5.0",
            "description_tooltip": null,
            "_model_module": "@jupyter-widgets/controls",
            "layout": "IPY_MODEL_dd5159c1352e4e95bdc465ce62b36862"
          }
        },
        "771f43a3bbc3406fa92b1afc20f4b172": {
          "model_module": "@jupyter-widgets/controls",
          "model_name": "FloatProgressModel",
          "model_module_version": "1.5.0",
          "state": {
            "_view_name": "ProgressView",
            "style": "IPY_MODEL_9b65f13105b04defaf9a6eaa02968346",
            "_dom_classes": [],
            "description": "",
            "_model_name": "FloatProgressModel",
            "bar_style": "",
            "max": 500,
            "_view_module": "@jupyter-widgets/controls",
            "_model_module_version": "1.5.0",
            "value": 500,
            "_view_count": null,
            "_view_module_version": "1.5.0",
            "orientation": "horizontal",
            "min": 0,
            "description_tooltip": null,
            "_model_module": "@jupyter-widgets/controls",
            "layout": "IPY_MODEL_31de976b80a9478c9e976c9df048c2bf"
          }
        },
        "1a80231bab484d20beefd96f50995f77": {
          "model_module": "@jupyter-widgets/controls",
          "model_name": "HTMLModel",
          "model_module_version": "1.5.0",
          "state": {
            "_view_name": "HTMLView",
            "style": "IPY_MODEL_7a1628a7dbdf47b79d2ba738d613a03b",
            "_dom_classes": [],
            "description": "",
            "_model_name": "HTMLModel",
            "placeholder": "​",
            "_view_module": "@jupyter-widgets/controls",
            "_model_module_version": "1.5.0",
            "value": " 500/500 [05:54&lt;00:00,  1.40it/s, loss=1.45e-8]",
            "_view_count": null,
            "_view_module_version": "1.5.0",
            "description_tooltip": null,
            "_model_module": "@jupyter-widgets/controls",
            "layout": "IPY_MODEL_29ba5f36dcbd41f68cf59040c9c7c6dc"
          }
        },
        "c1e48df2417849d0a6a469273706b4b0": {
          "model_module": "@jupyter-widgets/controls",
          "model_name": "DescriptionStyleModel",
          "model_module_version": "1.5.0",
          "state": {
            "_view_name": "StyleView",
            "_model_name": "DescriptionStyleModel",
            "description_width": "",
            "_view_module": "@jupyter-widgets/base",
            "_model_module_version": "1.5.0",
            "_view_count": null,
            "_view_module_version": "1.2.0",
            "_model_module": "@jupyter-widgets/controls"
          }
        },
        "dd5159c1352e4e95bdc465ce62b36862": {
          "model_module": "@jupyter-widgets/base",
          "model_name": "LayoutModel",
          "model_module_version": "1.2.0",
          "state": {
            "_view_name": "LayoutView",
            "grid_template_rows": null,
            "right": null,
            "justify_content": null,
            "_view_module": "@jupyter-widgets/base",
            "overflow": null,
            "_model_module_version": "1.2.0",
            "_view_count": null,
            "flex_flow": null,
            "width": null,
            "min_width": null,
            "border": null,
            "align_items": null,
            "bottom": null,
            "_model_module": "@jupyter-widgets/base",
            "top": null,
            "grid_column": null,
            "overflow_y": null,
            "overflow_x": null,
            "grid_auto_flow": null,
            "grid_area": null,
            "grid_template_columns": null,
            "flex": null,
            "_model_name": "LayoutModel",
            "justify_items": null,
            "grid_row": null,
            "max_height": null,
            "align_content": null,
            "visibility": null,
            "align_self": null,
            "height": null,
            "min_height": null,
            "padding": null,
            "grid_auto_rows": null,
            "grid_gap": null,
            "max_width": null,
            "order": null,
            "_view_module_version": "1.2.0",
            "grid_template_areas": null,
            "object_position": null,
            "object_fit": null,
            "grid_auto_columns": null,
            "margin": null,
            "display": null,
            "left": null
          }
        },
        "9b65f13105b04defaf9a6eaa02968346": {
          "model_module": "@jupyter-widgets/controls",
          "model_name": "ProgressStyleModel",
          "model_module_version": "1.5.0",
          "state": {
            "_view_name": "StyleView",
            "_model_name": "ProgressStyleModel",
            "description_width": "",
            "_view_module": "@jupyter-widgets/base",
            "_model_module_version": "1.5.0",
            "_view_count": null,
            "_view_module_version": "1.2.0",
            "bar_color": null,
            "_model_module": "@jupyter-widgets/controls"
          }
        },
        "31de976b80a9478c9e976c9df048c2bf": {
          "model_module": "@jupyter-widgets/base",
          "model_name": "LayoutModel",
          "model_module_version": "1.2.0",
          "state": {
            "_view_name": "LayoutView",
            "grid_template_rows": null,
            "right": null,
            "justify_content": null,
            "_view_module": "@jupyter-widgets/base",
            "overflow": null,
            "_model_module_version": "1.2.0",
            "_view_count": null,
            "flex_flow": null,
            "width": null,
            "min_width": null,
            "border": null,
            "align_items": null,
            "bottom": null,
            "_model_module": "@jupyter-widgets/base",
            "top": null,
            "grid_column": null,
            "overflow_y": null,
            "overflow_x": null,
            "grid_auto_flow": null,
            "grid_area": null,
            "grid_template_columns": null,
            "flex": null,
            "_model_name": "LayoutModel",
            "justify_items": null,
            "grid_row": null,
            "max_height": null,
            "align_content": null,
            "visibility": null,
            "align_self": null,
            "height": null,
            "min_height": null,
            "padding": null,
            "grid_auto_rows": null,
            "grid_gap": null,
            "max_width": null,
            "order": null,
            "_view_module_version": "1.2.0",
            "grid_template_areas": null,
            "object_position": null,
            "object_fit": null,
            "grid_auto_columns": null,
            "margin": null,
            "display": null,
            "left": null
          }
        },
        "7a1628a7dbdf47b79d2ba738d613a03b": {
          "model_module": "@jupyter-widgets/controls",
          "model_name": "DescriptionStyleModel",
          "model_module_version": "1.5.0",
          "state": {
            "_view_name": "StyleView",
            "_model_name": "DescriptionStyleModel",
            "description_width": "",
            "_view_module": "@jupyter-widgets/base",
            "_model_module_version": "1.5.0",
            "_view_count": null,
            "_view_module_version": "1.2.0",
            "_model_module": "@jupyter-widgets/controls"
          }
        },
        "29ba5f36dcbd41f68cf59040c9c7c6dc": {
          "model_module": "@jupyter-widgets/base",
          "model_name": "LayoutModel",
          "model_module_version": "1.2.0",
          "state": {
            "_view_name": "LayoutView",
            "grid_template_rows": null,
            "right": null,
            "justify_content": null,
            "_view_module": "@jupyter-widgets/base",
            "overflow": null,
            "_model_module_version": "1.2.0",
            "_view_count": null,
            "flex_flow": null,
            "width": null,
            "min_width": null,
            "border": null,
            "align_items": null,
            "bottom": null,
            "_model_module": "@jupyter-widgets/base",
            "top": null,
            "grid_column": null,
            "overflow_y": null,
            "overflow_x": null,
            "grid_auto_flow": null,
            "grid_area": null,
            "grid_template_columns": null,
            "flex": null,
            "_model_name": "LayoutModel",
            "justify_items": null,
            "grid_row": null,
            "max_height": null,
            "align_content": null,
            "visibility": null,
            "align_self": null,
            "height": null,
            "min_height": null,
            "padding": null,
            "grid_auto_rows": null,
            "grid_gap": null,
            "max_width": null,
            "order": null,
            "_view_module_version": "1.2.0",
            "grid_template_areas": null,
            "object_position": null,
            "object_fit": null,
            "grid_auto_columns": null,
            "margin": null,
            "display": null,
            "left": null
          }
        },
        "3d96b629165c452b975d179e21618f5f": {
          "model_module": "@jupyter-widgets/controls",
          "model_name": "HBoxModel",
          "model_module_version": "1.5.0",
          "state": {
            "_view_name": "HBoxView",
            "_dom_classes": [],
            "_model_name": "HBoxModel",
            "_view_module": "@jupyter-widgets/controls",
            "_model_module_version": "1.5.0",
            "_view_count": null,
            "_view_module_version": "1.5.0",
            "box_style": "",
            "layout": "IPY_MODEL_160be361065744ae9e6b92ec0afd385a",
            "_model_module": "@jupyter-widgets/controls",
            "children": [
              "IPY_MODEL_e08700cfeb4e40f28b68b7dd73751708",
              "IPY_MODEL_721c70aa61af4a5f98819ee81bd7d777",
              "IPY_MODEL_43e931c90abf4214aaea0895251e809c"
            ]
          }
        },
        "160be361065744ae9e6b92ec0afd385a": {
          "model_module": "@jupyter-widgets/base",
          "model_name": "LayoutModel",
          "model_module_version": "1.2.0",
          "state": {
            "_view_name": "LayoutView",
            "grid_template_rows": null,
            "right": null,
            "justify_content": null,
            "_view_module": "@jupyter-widgets/base",
            "overflow": null,
            "_model_module_version": "1.2.0",
            "_view_count": null,
            "flex_flow": null,
            "width": null,
            "min_width": null,
            "border": null,
            "align_items": null,
            "bottom": null,
            "_model_module": "@jupyter-widgets/base",
            "top": null,
            "grid_column": null,
            "overflow_y": null,
            "overflow_x": null,
            "grid_auto_flow": null,
            "grid_area": null,
            "grid_template_columns": null,
            "flex": null,
            "_model_name": "LayoutModel",
            "justify_items": null,
            "grid_row": null,
            "max_height": null,
            "align_content": null,
            "visibility": null,
            "align_self": null,
            "height": null,
            "min_height": null,
            "padding": null,
            "grid_auto_rows": null,
            "grid_gap": null,
            "max_width": null,
            "order": null,
            "_view_module_version": "1.2.0",
            "grid_template_areas": null,
            "object_position": null,
            "object_fit": null,
            "grid_auto_columns": null,
            "margin": null,
            "display": null,
            "left": null
          }
        },
        "e08700cfeb4e40f28b68b7dd73751708": {
          "model_module": "@jupyter-widgets/controls",
          "model_name": "HTMLModel",
          "model_module_version": "1.5.0",
          "state": {
            "_view_name": "HTMLView",
            "style": "IPY_MODEL_c43daab145c546b9849418db3f88cff3",
            "_dom_classes": [],
            "description": "",
            "_model_name": "HTMLModel",
            "placeholder": "​",
            "_view_module": "@jupyter-widgets/controls",
            "_model_module_version": "1.5.0",
            "value": "100%",
            "_view_count": null,
            "_view_module_version": "1.5.0",
            "description_tooltip": null,
            "_model_module": "@jupyter-widgets/controls",
            "layout": "IPY_MODEL_f11c7dc8ee5049339470b2f58c58031a"
          }
        },
        "721c70aa61af4a5f98819ee81bd7d777": {
          "model_module": "@jupyter-widgets/controls",
          "model_name": "FloatProgressModel",
          "model_module_version": "1.5.0",
          "state": {
            "_view_name": "ProgressView",
            "style": "IPY_MODEL_a4ce723835e44ba6bf8f8db67217f7c8",
            "_dom_classes": [],
            "description": "",
            "_model_name": "FloatProgressModel",
            "bar_style": "success",
            "max": 30,
            "_view_module": "@jupyter-widgets/controls",
            "_model_module_version": "1.5.0",
            "value": 30,
            "_view_count": null,
            "_view_module_version": "1.5.0",
            "orientation": "horizontal",
            "min": 0,
            "description_tooltip": null,
            "_model_module": "@jupyter-widgets/controls",
            "layout": "IPY_MODEL_6ea0b33cb33647d2a7c8d01115f43f4d"
          }
        },
        "43e931c90abf4214aaea0895251e809c": {
          "model_module": "@jupyter-widgets/controls",
          "model_name": "HTMLModel",
          "model_module_version": "1.5.0",
          "state": {
            "_view_name": "HTMLView",
            "style": "IPY_MODEL_4e7a67cd03914521a1ea182f838bd45c",
            "_dom_classes": [],
            "description": "",
            "_model_name": "HTMLModel",
            "placeholder": "​",
            "_view_module": "@jupyter-widgets/controls",
            "_model_module_version": "1.5.0",
            "value": " 30/30 [00:08&lt;00:00,  3.51it/s]",
            "_view_count": null,
            "_view_module_version": "1.5.0",
            "description_tooltip": null,
            "_model_module": "@jupyter-widgets/controls",
            "layout": "IPY_MODEL_1a07b68aea134d878f30c9d39953b9e7"
          }
        },
        "c43daab145c546b9849418db3f88cff3": {
          "model_module": "@jupyter-widgets/controls",
          "model_name": "DescriptionStyleModel",
          "model_module_version": "1.5.0",
          "state": {
            "_view_name": "StyleView",
            "_model_name": "DescriptionStyleModel",
            "description_width": "",
            "_view_module": "@jupyter-widgets/base",
            "_model_module_version": "1.5.0",
            "_view_count": null,
            "_view_module_version": "1.2.0",
            "_model_module": "@jupyter-widgets/controls"
          }
        },
        "f11c7dc8ee5049339470b2f58c58031a": {
          "model_module": "@jupyter-widgets/base",
          "model_name": "LayoutModel",
          "model_module_version": "1.2.0",
          "state": {
            "_view_name": "LayoutView",
            "grid_template_rows": null,
            "right": null,
            "justify_content": null,
            "_view_module": "@jupyter-widgets/base",
            "overflow": null,
            "_model_module_version": "1.2.0",
            "_view_count": null,
            "flex_flow": null,
            "width": null,
            "min_width": null,
            "border": null,
            "align_items": null,
            "bottom": null,
            "_model_module": "@jupyter-widgets/base",
            "top": null,
            "grid_column": null,
            "overflow_y": null,
            "overflow_x": null,
            "grid_auto_flow": null,
            "grid_area": null,
            "grid_template_columns": null,
            "flex": null,
            "_model_name": "LayoutModel",
            "justify_items": null,
            "grid_row": null,
            "max_height": null,
            "align_content": null,
            "visibility": null,
            "align_self": null,
            "height": null,
            "min_height": null,
            "padding": null,
            "grid_auto_rows": null,
            "grid_gap": null,
            "max_width": null,
            "order": null,
            "_view_module_version": "1.2.0",
            "grid_template_areas": null,
            "object_position": null,
            "object_fit": null,
            "grid_auto_columns": null,
            "margin": null,
            "display": null,
            "left": null
          }
        },
        "a4ce723835e44ba6bf8f8db67217f7c8": {
          "model_module": "@jupyter-widgets/controls",
          "model_name": "ProgressStyleModel",
          "model_module_version": "1.5.0",
          "state": {
            "_view_name": "StyleView",
            "_model_name": "ProgressStyleModel",
            "description_width": "",
            "_view_module": "@jupyter-widgets/base",
            "_model_module_version": "1.5.0",
            "_view_count": null,
            "_view_module_version": "1.2.0",
            "bar_color": null,
            "_model_module": "@jupyter-widgets/controls"
          }
        },
        "6ea0b33cb33647d2a7c8d01115f43f4d": {
          "model_module": "@jupyter-widgets/base",
          "model_name": "LayoutModel",
          "model_module_version": "1.2.0",
          "state": {
            "_view_name": "LayoutView",
            "grid_template_rows": null,
            "right": null,
            "justify_content": null,
            "_view_module": "@jupyter-widgets/base",
            "overflow": null,
            "_model_module_version": "1.2.0",
            "_view_count": null,
            "flex_flow": null,
            "width": null,
            "min_width": null,
            "border": null,
            "align_items": null,
            "bottom": null,
            "_model_module": "@jupyter-widgets/base",
            "top": null,
            "grid_column": null,
            "overflow_y": null,
            "overflow_x": null,
            "grid_auto_flow": null,
            "grid_area": null,
            "grid_template_columns": null,
            "flex": null,
            "_model_name": "LayoutModel",
            "justify_items": null,
            "grid_row": null,
            "max_height": null,
            "align_content": null,
            "visibility": null,
            "align_self": null,
            "height": null,
            "min_height": null,
            "padding": null,
            "grid_auto_rows": null,
            "grid_gap": null,
            "max_width": null,
            "order": null,
            "_view_module_version": "1.2.0",
            "grid_template_areas": null,
            "object_position": null,
            "object_fit": null,
            "grid_auto_columns": null,
            "margin": null,
            "display": null,
            "left": null
          }
        },
        "4e7a67cd03914521a1ea182f838bd45c": {
          "model_module": "@jupyter-widgets/controls",
          "model_name": "DescriptionStyleModel",
          "model_module_version": "1.5.0",
          "state": {
            "_view_name": "StyleView",
            "_model_name": "DescriptionStyleModel",
            "description_width": "",
            "_view_module": "@jupyter-widgets/base",
            "_model_module_version": "1.5.0",
            "_view_count": null,
            "_view_module_version": "1.2.0",
            "_model_module": "@jupyter-widgets/controls"
          }
        },
        "1a07b68aea134d878f30c9d39953b9e7": {
          "model_module": "@jupyter-widgets/base",
          "model_name": "LayoutModel",
          "model_module_version": "1.2.0",
          "state": {
            "_view_name": "LayoutView",
            "grid_template_rows": null,
            "right": null,
            "justify_content": null,
            "_view_module": "@jupyter-widgets/base",
            "overflow": null,
            "_model_module_version": "1.2.0",
            "_view_count": null,
            "flex_flow": null,
            "width": null,
            "min_width": null,
            "border": null,
            "align_items": null,
            "bottom": null,
            "_model_module": "@jupyter-widgets/base",
            "top": null,
            "grid_column": null,
            "overflow_y": null,
            "overflow_x": null,
            "grid_auto_flow": null,
            "grid_area": null,
            "grid_template_columns": null,
            "flex": null,
            "_model_name": "LayoutModel",
            "justify_items": null,
            "grid_row": null,
            "max_height": null,
            "align_content": null,
            "visibility": null,
            "align_self": null,
            "height": null,
            "min_height": null,
            "padding": null,
            "grid_auto_rows": null,
            "grid_gap": null,
            "max_width": null,
            "order": null,
            "_view_module_version": "1.2.0",
            "grid_template_areas": null,
            "object_position": null,
            "object_fit": null,
            "grid_auto_columns": null,
            "margin": null,
            "display": null,
            "left": null
          }
        }
      }
    }
  },
  "cells": [
    {
      "cell_type": "markdown",
      "metadata": {
        "id": "view-in-github",
        "colab_type": "text"
      },
      "source": [
        "<a href=\"https://colab.research.google.com/github/alovberg/cumulative-damage-pytorch/blob/main/PINN_Paris_law.ipynb\" target=\"_parent\"><img src=\"https://colab.research.google.com/assets/colab-badge.svg\" alt=\"Open In Colab\"/></a>"
      ]
    },
    {
      "cell_type": "markdown",
      "source": [
        "## Cumulative damage modeling with physics-informed neural networks (PINNs)\n",
        "\n",
        "\n",
        "In this notebook we implement the paper [Cumulative Damage Modeling with Recurrent Neural Networks](https://arc.aiaa.org/doi/abs/10.2514/1.J059250) by RG Nascimento et al. with some (slight) modifications.\n",
        "\n",
        "Original tensorflow implementation can be found [here](https://github.com/PML-UCF/pinn/tree/master/samples/cumulative_damage/airplane_fleet_crack_growth).\n",
        "\n",
        "The dataset consists of fatigue crack growth measurements on aircraft fuselage panels. The far-field stress $\\Delta S$ is continueously measured 4 times per day. In total, there are 300 aircrafts in the dataset with various mission profiles (varying $\\Delta S$). The data is collected over the course of 5 years.\n",
        "\n",
        "In addition to the far-field stress, material properties for the Paris crack law $\\frac{da}{dn} = C \\Delta K^m $ is provided:\n",
        "\n",
        "$C = 1.5 \\times 10^{-11}$\n",
        "\n",
        "$m = 3.8$\n",
        "\n",
        "The initial crack length, $a_0$, is assumed to be 0.005 m and the maximum length, $a_{max}$ is 0.05 m.\n",
        "\n",
        "### Scenario\n",
        "The scenario we try to model here is the following. At the end of year 5, a small number of aircraft fuselage panels are inspected and the crack length measured. We then use these labels to create a model that maps from the far-field stress history to the crack length: $\\Delta S_{t_{0}...t} → a_{t}$. This way, we can then use that model to infer the crack lengths of the whole fleet."
      ],
      "metadata": {
        "id": "JUFItcGAE9rc"
      }
    },
    {
      "cell_type": "markdown",
      "source": [
        "### Imports"
      ],
      "metadata": {
        "id": "C-rwy9iLBpU2"
      }
    },
    {
      "cell_type": "code",
      "execution_count": 1,
      "metadata": {
        "id": "4Pt9VnhyEqmu"
      },
      "outputs": [],
      "source": [
        "import pandas as pd\n",
        "import numpy as np\n",
        "import torch\n",
        "import torch.nn as nn\n",
        "import torch.nn.functional as F\n",
        "import torch.utils.data as data_utils\n",
        "import matplotlib.pyplot as plt\n",
        "from tqdm.notebook import tqdm\n",
        "\n",
        "%config InlineBackend.figure_format = 'svg'\n",
        "\n",
        "device = torch.device(\"cuda:0\" if torch.cuda.is_available() else \"cpu\")"
      ]
    },
    {
      "cell_type": "markdown",
      "source": [
        "### Load data"
      ],
      "metadata": {
        "id": "vijbAoGlBrad"
      }
    },
    {
      "cell_type": "code",
      "source": [
        "!wget https://raw.githubusercontent.com/PML-UCF/pinn/master/samples/cumulative_damage/airplane_fleet_crack_growth/SFleet_5yrs.csv\n",
        "!wget https://raw.githubusercontent.com/PML-UCF/pinn/master/samples/cumulative_damage/airplane_fleet_crack_growth/aFleet_5yrs.csv"
      ],
      "metadata": {
        "colab": {
          "base_uri": "https://localhost:8080/"
        },
        "id": "asDT3PBvBsJv",
        "outputId": "de50918c-1ae4-4678-fe6d-407fa081ebeb"
      },
      "execution_count": 2,
      "outputs": [
        {
          "output_type": "stream",
          "name": "stdout",
          "text": [
            "--2022-01-15 11:51:21--  https://raw.githubusercontent.com/PML-UCF/pinn/master/samples/cumulative_damage/airplane_fleet_crack_growth/SFleet_5yrs.csv\n",
            "Resolving raw.githubusercontent.com (raw.githubusercontent.com)... 185.199.108.133, 185.199.109.133, 185.199.110.133, ...\n",
            "Connecting to raw.githubusercontent.com (raw.githubusercontent.com)|185.199.108.133|:443... connected.\n",
            "HTTP request sent, awaiting response... 200 OK\n",
            "Length: 40498000 (39M) [text/plain]\n",
            "Saving to: ‘SFleet_5yrs.csv.1’\n",
            "\n",
            "SFleet_5yrs.csv.1   100%[===================>]  38.62M   197MB/s    in 0.2s    \n",
            "\n",
            "2022-01-15 11:51:21 (197 MB/s) - ‘SFleet_5yrs.csv.1’ saved [40498000/40498000]\n",
            "\n",
            "--2022-01-15 11:51:21--  https://raw.githubusercontent.com/PML-UCF/pinn/master/samples/cumulative_damage/airplane_fleet_crack_growth/aFleet_5yrs.csv\n",
            "Resolving raw.githubusercontent.com (raw.githubusercontent.com)... 185.199.108.133, 185.199.109.133, 185.199.110.133, ...\n",
            "Connecting to raw.githubusercontent.com (raw.githubusercontent.com)|185.199.108.133|:443... connected.\n",
            "HTTP request sent, awaiting response... 200 OK\n",
            "Length: 45985269 (44M) [text/plain]\n",
            "Saving to: ‘aFleet_5yrs.csv.1’\n",
            "\n",
            "aFleet_5yrs.csv.1   100%[===================>]  43.85M   203MB/s    in 0.2s    \n",
            "\n",
            "2022-01-15 11:51:22 (203 MB/s) - ‘aFleet_5yrs.csv.1’ saved [45985269/45985269]\n",
            "\n"
          ]
        }
      ]
    },
    {
      "cell_type": "code",
      "source": [
        "def load_data(n_train, scale_s = False):\n",
        "    \"\"\"\n",
        "    Loads the data. Args:\n",
        "        n_train (int): number of aircrafts to use for training\n",
        "        scale_s (bool): min-max scaling of far-field stress S\n",
        "        scale_a (bool): min-max scaling of crack length a\n",
        "    \"\"\"\n",
        "\n",
        "    # Read txt files\n",
        "    a = pd.read_csv('aFleet_5yrs.csv')\n",
        "    S = pd.read_csv('SFleet_5yrs.csv')\n",
        "    S = np.transpose(np.asarray(S))\n",
        "    a = np.asarray(a)\n",
        "\n",
        "    # Physics constants\n",
        "    a0      = 0.005     # initial crack length\n",
        "    C       = 1.5e-11   # C constant in Paris law\n",
        "    m       = 3.8       # Exponent in Paris law\n",
        "\n",
        "    if scale_s:\n",
        "      S = (S - np.min(S)) / (np.max(S) - np.min(S))    \n",
        "\n",
        "    # Sample uniformly across load conditions/crack lengths\n",
        "    idx = np.argsort(a[-1, :])\n",
        "    arange = np.asarray(np.linspace(0, 299, n_train), dtype=int)\n",
        "    idxTrain = idx[arange]\n",
        "\n",
        "    # Extract training instances\n",
        "    S_train = S[idxTrain, :]\n",
        "    S_train = S_train[:, :, np.newaxis]\n",
        "    S = S[:, :, np.newaxis]\n",
        "    a_train = a[:, idxTrain]\n",
        "    a_train = np.transpose(a_train)\n",
        "    a = np.transpose(a)\n",
        "\n",
        "    a_train_scaled = (a_train - 0.005) / (0.05 - 0.005)\n",
        "    a_scaled = (a - 0.005) / (0.05 - 0.005)\n",
        "\n",
        "    return S, S_train, a, a_scaled, a_train, a_train_scaled, a0, C, m"
      ],
      "metadata": {
        "id": "ItP90q0IB6Vt"
      },
      "execution_count": 3,
      "outputs": []
    },
    {
      "cell_type": "code",
      "source": [
        "n_train = 10\n",
        "\n",
        "S, S_train, a, a_scaled, a_train, a_train_scaled, a0, C, m = load_data(n_train, scale_s=True)\n",
        "print(S.shape, S_train.shape, a.shape, a_scaled.shape, a_train.shape, a_train_scaled.shape)"
      ],
      "metadata": {
        "colab": {
          "base_uri": "https://localhost:8080/"
        },
        "id": "HUKrt5WGOIH3",
        "outputId": "47ab6458-333a-476f-bd81-680f32a90220"
      },
      "execution_count": 4,
      "outputs": [
        {
          "output_type": "stream",
          "name": "stdout",
          "text": [
            "(300, 7300, 1) (10, 7300, 1) (300, 7300) (300, 7300) (10, 7300) (10, 7300)\n"
          ]
        }
      ]
    },
    {
      "cell_type": "code",
      "source": [
        "# Train DataLoader\n",
        "X = torch.from_numpy(S_train).to(device)\n",
        "y = torch.from_numpy(a_train_scaled).to(device)\n",
        "\n",
        "batch_size = n_train\n",
        "train_loader = data_utils.DataLoader(data_utils.TensorDataset(X, y),\n",
        "                                     batch_size=batch_size, shuffle=True)"
      ],
      "metadata": {
        "id": "XH5bGX3_yHdj"
      },
      "execution_count": 5,
      "outputs": []
    },
    {
      "cell_type": "code",
      "source": [
        "# Test DataLoader\n",
        "X_test = torch.from_numpy(S).to(device)\n",
        "y_test = torch.from_numpy(a_scaled).to(device)\n",
        "\n",
        "test_loader = data_utils.DataLoader(data_utils.TensorDataset(X_test, y_test),\n",
        "                                     batch_size=batch_size, shuffle=False)"
      ],
      "metadata": {
        "id": "M_BHtHf0yMtk"
      },
      "execution_count": 6,
      "outputs": []
    },
    {
      "cell_type": "markdown",
      "source": [
        "## Data-driven model\n",
        "\n",
        "2-layer gated recurrent unit (GRU). For this model, we do not use any physics-knowledge."
      ],
      "metadata": {
        "id": "MEsD6VeOyhns"
      }
    },
    {
      "cell_type": "code",
      "source": [
        "class RNN(nn.Module):\n",
        "    def __init__(self, input_dim, hidden_dim, num_layers):\n",
        "        super().__init__()\n",
        "        self.rnn = nn.GRU(input_dim,hidden_dim,\n",
        "                           num_layers=num_layers,\n",
        "                           batch_first=True)\n",
        "        self.out = nn.Linear(hidden_dim,1)\n",
        "\n",
        "    def forward(self,x):\n",
        "        x,_ = self.rnn(x)\n",
        "        return self.out(x)"
      ],
      "metadata": {
        "id": "qC6fFghDLi9m"
      },
      "execution_count": 7,
      "outputs": []
    },
    {
      "cell_type": "code",
      "source": [
        "lr = 1e-3\n",
        "wd = 0.0\n",
        "\n",
        "model = RNN(1,64,2).to(device)\n",
        "optimizer = torch.optim.AdamW(model.parameters(),lr=lr,weight_decay=wd)"
      ],
      "metadata": {
        "id": "-7Uqyfyi6Z2C"
      },
      "execution_count": 8,
      "outputs": []
    },
    {
      "cell_type": "code",
      "source": [
        "# Training loop\n",
        "n_epochs = 500\n",
        "loss_fn = nn.MSELoss()\n",
        "model.train()\n",
        "\n",
        "loop = tqdm(range(n_epochs),leave=False)\n",
        "for epoch in loop:\n",
        "    epoch_loss = 0.\n",
        "    for batch in train_loader:\n",
        "        \n",
        "        # Get inputs and targets\n",
        "        inputs, targets = batch\n",
        "        inputs = inputs.float().to(device)\n",
        "        targets = targets.float().to(device)\n",
        "\n",
        "        # Set optimizer grads to zero\n",
        "        optimizer.zero_grad()\n",
        "\n",
        "        # Get outpute of model\n",
        "        output = model(inputs)\n",
        "        output = output.squeeze(-1)\n",
        "\n",
        "        # Inspection point is at year 5, thus we only use the last label\n",
        "        output = output[:,-1:]\n",
        "        targets = targets[:,-1:]\n",
        "        \n",
        "        # Calculate loss\n",
        "        loss = loss_fn(output,targets)\n",
        "        epoch_loss += loss.item()\n",
        "\n",
        "        # Backprop & step optimizer\n",
        "        loss.backward()\n",
        "        optimizer.step()\n",
        "\n",
        "        # Update progress bar\n",
        "        loop.set_description(f\"Epoch [{epoch} / {n_epochs}]\")\n",
        "        loop.set_postfix(loss = loss.item())\n",
        "\n",
        "print('training done')\n",
        "print(f\"Final epoch loss: {loss.item()}\")"
      ],
      "metadata": {
        "colab": {
          "base_uri": "https://localhost:8080/",
          "height": 52,
          "referenced_widgets": [
            "b42096fb319b4fb881371fae7344beeb",
            "2b17384c3707474c9a983856d7273d86",
            "4bb8e06644b0432f9c351f30ea4580a1",
            "52f11c1e1d9c49bcbc41ceb60bef7f26",
            "f3f453a7727940f4a8f1e13a66ecb2cc",
            "bb5f92f89858429fbba3036cb9432bbd",
            "cd6889f71a4c4cc7b1078342f18ee873",
            "d0ca024e13544b8f90ec331a0b130451",
            "fdf919a5636a404581137699aa944dd5",
            "6eb8e44e3a0342c1a2930e29149a6ecb",
            "9b104afe887a45eca7f3f4edda4c1c52"
          ]
        },
        "id": "9i3llA4VLjCK",
        "outputId": "70842797-e7d7-4bd6-d153-f692892f803c"
      },
      "execution_count": 9,
      "outputs": [
        {
          "output_type": "display_data",
          "data": {
            "application/vnd.jupyter.widget-view+json": {
              "model_id": "b42096fb319b4fb881371fae7344beeb",
              "version_minor": 0,
              "version_major": 2
            },
            "text/plain": [
              "  0%|          | 0/500 [00:00<?, ?it/s]"
            ]
          },
          "metadata": {}
        },
        {
          "output_type": "stream",
          "name": "stdout",
          "text": [
            "training done\n",
            "Final epoch loss: 7.23140110494569e-05\n"
          ]
        }
      ]
    },
    {
      "cell_type": "code",
      "source": [
        "model.eval()\n",
        "\n",
        "preds = []\n",
        "\n",
        "for test_batch in tqdm(test_loader):\n",
        "    \n",
        "    # Get inputs and targets\n",
        "    inputs, targets = test_batch\n",
        "    inputs = inputs.type(torch.cuda.FloatTensor)\n",
        "    targets = targets.type(torch.cuda.FloatTensor)\n",
        "\n",
        "    # Get outpute of model\n",
        "    predictions = model(inputs)\n",
        "    predictions = predictions[:,-1:,:].squeeze(1)\n",
        "    predictions = predictions.detach().cpu().numpy()\n",
        "    preds.append(predictions)\n",
        "\n",
        "preds = np.concatenate(preds,0)"
      ],
      "metadata": {
        "id": "m3CBJHgELjGW",
        "colab": {
          "base_uri": "https://localhost:8080/",
          "height": 49,
          "referenced_widgets": [
            "449b587ee7e547a18a1b475308b46f21",
            "c889864395c64d70aab7d69bd87b41b8",
            "3c8ea402ef6b49eeb18184482b59da61",
            "48d55b2a6e9e4748b7d91ca6518a935c",
            "d226bdc6b03b4456958d7bf73000f785",
            "9f5c71ec0f10439888e0eca60376fe87",
            "6d01ab14eaa64375be1f87ad096c4c0e",
            "9c7603d5876e4236bcb84af72e2a7509",
            "981a36356b9b4c3db55784797e5ee8c6",
            "f4788ea4bbb14c6aaa9a023463454073",
            "c58538cb63454226933701feaacd7704"
          ]
        },
        "outputId": "7038935d-19cc-49d9-fbdc-140bbfd59105"
      },
      "execution_count": 10,
      "outputs": [
        {
          "output_type": "display_data",
          "data": {
            "application/vnd.jupyter.widget-view+json": {
              "model_id": "449b587ee7e547a18a1b475308b46f21",
              "version_minor": 0,
              "version_major": 2
            },
            "text/plain": [
              "  0%|          | 0/30 [00:00<?, ?it/s]"
            ]
          },
          "metadata": {}
        }
      ]
    },
    {
      "cell_type": "code",
      "source": [
        "preds = preds.squeeze(-1)\n",
        "# Re-scale crack length to original scale\n",
        "preds = 0.005 + preds * (0.05 - 0.005)"
      ],
      "metadata": {
        "id": "aju-k-Ik655i"
      },
      "execution_count": 11,
      "outputs": []
    },
    {
      "cell_type": "code",
      "source": [
        "plt.plot([0.005, 0.035], [0.005, 0.035], '--k')\n",
        "plt.plot(a[:,-1:].squeeze(-1), preds, 'o')\n",
        "plt.title(\"2-layer Gated Recurrent Unit\")\n",
        "plt.ylabel('Predicted crack length a [m]')\n",
        "plt.xlabel('Actual crack length a [m]')"
      ],
      "metadata": {
        "colab": {
          "base_uri": "https://localhost:8080/",
          "height": 408
        },
        "id": "KuWP2MxVNypa",
        "outputId": "268c7992-5fe0-4b20-eac6-fc04c632c422"
      },
      "execution_count": 12,
      "outputs": [
        {
          "output_type": "execute_result",
          "data": {
            "text/plain": [
              "Text(0.5, 0, 'Actual crack length a [m]')"
            ]
          },
          "metadata": {},
          "execution_count": 12
        },
        {
          "output_type": "display_data",
          "data": {
            "text/plain": [
              "<Figure size 432x288 with 1 Axes>"
            ],
            "image/svg+xml": "<?xml version=\"1.0\" encoding=\"utf-8\" standalone=\"no\"?>\n<!DOCTYPE svg PUBLIC \"-//W3C//DTD SVG 1.1//EN\"\n  \"http://www.w3.org/Graphics/SVG/1.1/DTD/svg11.dtd\">\n<!-- Created with matplotlib (https://matplotlib.org/) -->\n<svg height=\"277.314375pt\" version=\"1.1\" viewBox=\"0 0 398.50625 277.314375\" width=\"398.50625pt\" xmlns=\"http://www.w3.org/2000/svg\" xmlns:xlink=\"http://www.w3.org/1999/xlink\">\n <defs>\n  <style type=\"text/css\">\n*{stroke-linecap:butt;stroke-linejoin:round;}\n  </style>\n </defs>\n <g id=\"figure_1\">\n  <g id=\"patch_1\">\n   <path d=\"M 0 277.314375 \nL 398.50625 277.314375 \nL 398.50625 0 \nL 0 0 \nz\n\" style=\"fill:none;\"/>\n  </g>\n  <g id=\"axes_1\">\n   <g id=\"patch_2\">\n    <path d=\"M 56.50625 239.758125 \nL 391.30625 239.758125 \nL 391.30625 22.318125 \nL 56.50625 22.318125 \nz\n\" style=\"fill:#ffffff;\"/>\n   </g>\n   <g id=\"matplotlib.axis_1\">\n    <g id=\"xtick_1\">\n     <g id=\"line2d_1\">\n      <defs>\n       <path d=\"M 0 0 \nL 0 3.5 \n\" id=\"m15877bc471\" style=\"stroke:#000000;stroke-width:0.8;\"/>\n      </defs>\n      <g>\n       <use style=\"stroke:#000000;stroke-width:0.8;\" x=\"71.724432\" xlink:href=\"#m15877bc471\" y=\"239.758125\"/>\n      </g>\n     </g>\n     <g id=\"text_1\">\n      <!-- 0.005 -->\n      <defs>\n       <path d=\"M 31.78125 66.40625 \nQ 24.171875 66.40625 20.328125 58.90625 \nQ 16.5 51.421875 16.5 36.375 \nQ 16.5 21.390625 20.328125 13.890625 \nQ 24.171875 6.390625 31.78125 6.390625 \nQ 39.453125 6.390625 43.28125 13.890625 \nQ 47.125 21.390625 47.125 36.375 \nQ 47.125 51.421875 43.28125 58.90625 \nQ 39.453125 66.40625 31.78125 66.40625 \nz\nM 31.78125 74.21875 \nQ 44.046875 74.21875 50.515625 64.515625 \nQ 56.984375 54.828125 56.984375 36.375 \nQ 56.984375 17.96875 50.515625 8.265625 \nQ 44.046875 -1.421875 31.78125 -1.421875 \nQ 19.53125 -1.421875 13.0625 8.265625 \nQ 6.59375 17.96875 6.59375 36.375 \nQ 6.59375 54.828125 13.0625 64.515625 \nQ 19.53125 74.21875 31.78125 74.21875 \nz\n\" id=\"DejaVuSans-48\"/>\n       <path d=\"M 10.6875 12.40625 \nL 21 12.40625 \nL 21 0 \nL 10.6875 0 \nz\n\" id=\"DejaVuSans-46\"/>\n       <path d=\"M 10.796875 72.90625 \nL 49.515625 72.90625 \nL 49.515625 64.59375 \nL 19.828125 64.59375 \nL 19.828125 46.734375 \nQ 21.96875 47.46875 24.109375 47.828125 \nQ 26.265625 48.1875 28.421875 48.1875 \nQ 40.625 48.1875 47.75 41.5 \nQ 54.890625 34.8125 54.890625 23.390625 \nQ 54.890625 11.625 47.5625 5.09375 \nQ 40.234375 -1.421875 26.90625 -1.421875 \nQ 22.3125 -1.421875 17.546875 -0.640625 \nQ 12.796875 0.140625 7.71875 1.703125 \nL 7.71875 11.625 \nQ 12.109375 9.234375 16.796875 8.0625 \nQ 21.484375 6.890625 26.703125 6.890625 \nQ 35.15625 6.890625 40.078125 11.328125 \nQ 45.015625 15.765625 45.015625 23.390625 \nQ 45.015625 31 40.078125 35.4375 \nQ 35.15625 39.890625 26.703125 39.890625 \nQ 22.75 39.890625 18.8125 39.015625 \nQ 14.890625 38.140625 10.796875 36.28125 \nz\n\" id=\"DejaVuSans-53\"/>\n      </defs>\n      <g transform=\"translate(57.410369 254.356562)scale(0.1 -0.1)\">\n       <use xlink:href=\"#DejaVuSans-48\"/>\n       <use x=\"63.623047\" xlink:href=\"#DejaVuSans-46\"/>\n       <use x=\"95.410156\" xlink:href=\"#DejaVuSans-48\"/>\n       <use x=\"159.033203\" xlink:href=\"#DejaVuSans-48\"/>\n       <use x=\"222.65625\" xlink:href=\"#DejaVuSans-53\"/>\n      </g>\n     </g>\n    </g>\n    <g id=\"xtick_2\">\n     <g id=\"line2d_2\">\n      <g>\n       <use style=\"stroke:#000000;stroke-width:0.8;\" x=\"122.451705\" xlink:href=\"#m15877bc471\" y=\"239.758125\"/>\n      </g>\n     </g>\n     <g id=\"text_2\">\n      <!-- 0.010 -->\n      <defs>\n       <path d=\"M 12.40625 8.296875 \nL 28.515625 8.296875 \nL 28.515625 63.921875 \nL 10.984375 60.40625 \nL 10.984375 69.390625 \nL 28.421875 72.90625 \nL 38.28125 72.90625 \nL 38.28125 8.296875 \nL 54.390625 8.296875 \nL 54.390625 0 \nL 12.40625 0 \nz\n\" id=\"DejaVuSans-49\"/>\n      </defs>\n      <g transform=\"translate(108.137642 254.356562)scale(0.1 -0.1)\">\n       <use xlink:href=\"#DejaVuSans-48\"/>\n       <use x=\"63.623047\" xlink:href=\"#DejaVuSans-46\"/>\n       <use x=\"95.410156\" xlink:href=\"#DejaVuSans-48\"/>\n       <use x=\"159.033203\" xlink:href=\"#DejaVuSans-49\"/>\n       <use x=\"222.65625\" xlink:href=\"#DejaVuSans-48\"/>\n      </g>\n     </g>\n    </g>\n    <g id=\"xtick_3\">\n     <g id=\"line2d_3\">\n      <g>\n       <use style=\"stroke:#000000;stroke-width:0.8;\" x=\"173.178977\" xlink:href=\"#m15877bc471\" y=\"239.758125\"/>\n      </g>\n     </g>\n     <g id=\"text_3\">\n      <!-- 0.015 -->\n      <g transform=\"translate(158.864915 254.356562)scale(0.1 -0.1)\">\n       <use xlink:href=\"#DejaVuSans-48\"/>\n       <use x=\"63.623047\" xlink:href=\"#DejaVuSans-46\"/>\n       <use x=\"95.410156\" xlink:href=\"#DejaVuSans-48\"/>\n       <use x=\"159.033203\" xlink:href=\"#DejaVuSans-49\"/>\n       <use x=\"222.65625\" xlink:href=\"#DejaVuSans-53\"/>\n      </g>\n     </g>\n    </g>\n    <g id=\"xtick_4\">\n     <g id=\"line2d_4\">\n      <g>\n       <use style=\"stroke:#000000;stroke-width:0.8;\" x=\"223.90625\" xlink:href=\"#m15877bc471\" y=\"239.758125\"/>\n      </g>\n     </g>\n     <g id=\"text_4\">\n      <!-- 0.020 -->\n      <defs>\n       <path d=\"M 19.1875 8.296875 \nL 53.609375 8.296875 \nL 53.609375 0 \nL 7.328125 0 \nL 7.328125 8.296875 \nQ 12.9375 14.109375 22.625 23.890625 \nQ 32.328125 33.6875 34.8125 36.53125 \nQ 39.546875 41.84375 41.421875 45.53125 \nQ 43.3125 49.21875 43.3125 52.78125 \nQ 43.3125 58.59375 39.234375 62.25 \nQ 35.15625 65.921875 28.609375 65.921875 \nQ 23.96875 65.921875 18.8125 64.3125 \nQ 13.671875 62.703125 7.8125 59.421875 \nL 7.8125 69.390625 \nQ 13.765625 71.78125 18.9375 73 \nQ 24.125 74.21875 28.421875 74.21875 \nQ 39.75 74.21875 46.484375 68.546875 \nQ 53.21875 62.890625 53.21875 53.421875 \nQ 53.21875 48.921875 51.53125 44.890625 \nQ 49.859375 40.875 45.40625 35.40625 \nQ 44.1875 33.984375 37.640625 27.21875 \nQ 31.109375 20.453125 19.1875 8.296875 \nz\n\" id=\"DejaVuSans-50\"/>\n      </defs>\n      <g transform=\"translate(209.592188 254.356562)scale(0.1 -0.1)\">\n       <use xlink:href=\"#DejaVuSans-48\"/>\n       <use x=\"63.623047\" xlink:href=\"#DejaVuSans-46\"/>\n       <use x=\"95.410156\" xlink:href=\"#DejaVuSans-48\"/>\n       <use x=\"159.033203\" xlink:href=\"#DejaVuSans-50\"/>\n       <use x=\"222.65625\" xlink:href=\"#DejaVuSans-48\"/>\n      </g>\n     </g>\n    </g>\n    <g id=\"xtick_5\">\n     <g id=\"line2d_5\">\n      <g>\n       <use style=\"stroke:#000000;stroke-width:0.8;\" x=\"274.633523\" xlink:href=\"#m15877bc471\" y=\"239.758125\"/>\n      </g>\n     </g>\n     <g id=\"text_5\">\n      <!-- 0.025 -->\n      <g transform=\"translate(260.31946 254.356562)scale(0.1 -0.1)\">\n       <use xlink:href=\"#DejaVuSans-48\"/>\n       <use x=\"63.623047\" xlink:href=\"#DejaVuSans-46\"/>\n       <use x=\"95.410156\" xlink:href=\"#DejaVuSans-48\"/>\n       <use x=\"159.033203\" xlink:href=\"#DejaVuSans-50\"/>\n       <use x=\"222.65625\" xlink:href=\"#DejaVuSans-53\"/>\n      </g>\n     </g>\n    </g>\n    <g id=\"xtick_6\">\n     <g id=\"line2d_6\">\n      <g>\n       <use style=\"stroke:#000000;stroke-width:0.8;\" x=\"325.360795\" xlink:href=\"#m15877bc471\" y=\"239.758125\"/>\n      </g>\n     </g>\n     <g id=\"text_6\">\n      <!-- 0.030 -->\n      <defs>\n       <path d=\"M 40.578125 39.3125 \nQ 47.65625 37.796875 51.625 33 \nQ 55.609375 28.21875 55.609375 21.1875 \nQ 55.609375 10.40625 48.1875 4.484375 \nQ 40.765625 -1.421875 27.09375 -1.421875 \nQ 22.515625 -1.421875 17.65625 -0.515625 \nQ 12.796875 0.390625 7.625 2.203125 \nL 7.625 11.71875 \nQ 11.71875 9.328125 16.59375 8.109375 \nQ 21.484375 6.890625 26.8125 6.890625 \nQ 36.078125 6.890625 40.9375 10.546875 \nQ 45.796875 14.203125 45.796875 21.1875 \nQ 45.796875 27.640625 41.28125 31.265625 \nQ 36.765625 34.90625 28.71875 34.90625 \nL 20.21875 34.90625 \nL 20.21875 43.015625 \nL 29.109375 43.015625 \nQ 36.375 43.015625 40.234375 45.921875 \nQ 44.09375 48.828125 44.09375 54.296875 \nQ 44.09375 59.90625 40.109375 62.90625 \nQ 36.140625 65.921875 28.71875 65.921875 \nQ 24.65625 65.921875 20.015625 65.03125 \nQ 15.375 64.15625 9.8125 62.3125 \nL 9.8125 71.09375 \nQ 15.4375 72.65625 20.34375 73.4375 \nQ 25.25 74.21875 29.59375 74.21875 \nQ 40.828125 74.21875 47.359375 69.109375 \nQ 53.90625 64.015625 53.90625 55.328125 \nQ 53.90625 49.265625 50.4375 45.09375 \nQ 46.96875 40.921875 40.578125 39.3125 \nz\n\" id=\"DejaVuSans-51\"/>\n      </defs>\n      <g transform=\"translate(311.046733 254.356562)scale(0.1 -0.1)\">\n       <use xlink:href=\"#DejaVuSans-48\"/>\n       <use x=\"63.623047\" xlink:href=\"#DejaVuSans-46\"/>\n       <use x=\"95.410156\" xlink:href=\"#DejaVuSans-48\"/>\n       <use x=\"159.033203\" xlink:href=\"#DejaVuSans-51\"/>\n       <use x=\"222.65625\" xlink:href=\"#DejaVuSans-48\"/>\n      </g>\n     </g>\n    </g>\n    <g id=\"xtick_7\">\n     <g id=\"line2d_7\">\n      <g>\n       <use style=\"stroke:#000000;stroke-width:0.8;\" x=\"376.088068\" xlink:href=\"#m15877bc471\" y=\"239.758125\"/>\n      </g>\n     </g>\n     <g id=\"text_7\">\n      <!-- 0.035 -->\n      <g transform=\"translate(361.774006 254.356562)scale(0.1 -0.1)\">\n       <use xlink:href=\"#DejaVuSans-48\"/>\n       <use x=\"63.623047\" xlink:href=\"#DejaVuSans-46\"/>\n       <use x=\"95.410156\" xlink:href=\"#DejaVuSans-48\"/>\n       <use x=\"159.033203\" xlink:href=\"#DejaVuSans-51\"/>\n       <use x=\"222.65625\" xlink:href=\"#DejaVuSans-53\"/>\n      </g>\n     </g>\n    </g>\n    <g id=\"text_8\">\n     <!-- Actual crack length a [m] -->\n     <defs>\n      <path d=\"M 34.1875 63.1875 \nL 20.796875 26.90625 \nL 47.609375 26.90625 \nz\nM 28.609375 72.90625 \nL 39.796875 72.90625 \nL 67.578125 0 \nL 57.328125 0 \nL 50.6875 18.703125 \nL 17.828125 18.703125 \nL 11.1875 0 \nL 0.78125 0 \nz\n\" id=\"DejaVuSans-65\"/>\n      <path d=\"M 48.78125 52.59375 \nL 48.78125 44.1875 \nQ 44.96875 46.296875 41.140625 47.34375 \nQ 37.3125 48.390625 33.40625 48.390625 \nQ 24.65625 48.390625 19.8125 42.84375 \nQ 14.984375 37.3125 14.984375 27.296875 \nQ 14.984375 17.28125 19.8125 11.734375 \nQ 24.65625 6.203125 33.40625 6.203125 \nQ 37.3125 6.203125 41.140625 7.25 \nQ 44.96875 8.296875 48.78125 10.40625 \nL 48.78125 2.09375 \nQ 45.015625 0.34375 40.984375 -0.53125 \nQ 36.96875 -1.421875 32.421875 -1.421875 \nQ 20.0625 -1.421875 12.78125 6.34375 \nQ 5.515625 14.109375 5.515625 27.296875 \nQ 5.515625 40.671875 12.859375 48.328125 \nQ 20.21875 56 33.015625 56 \nQ 37.15625 56 41.109375 55.140625 \nQ 45.0625 54.296875 48.78125 52.59375 \nz\n\" id=\"DejaVuSans-99\"/>\n      <path d=\"M 18.3125 70.21875 \nL 18.3125 54.6875 \nL 36.8125 54.6875 \nL 36.8125 47.703125 \nL 18.3125 47.703125 \nL 18.3125 18.015625 \nQ 18.3125 11.328125 20.140625 9.421875 \nQ 21.96875 7.515625 27.59375 7.515625 \nL 36.8125 7.515625 \nL 36.8125 0 \nL 27.59375 0 \nQ 17.1875 0 13.234375 3.875 \nQ 9.28125 7.765625 9.28125 18.015625 \nL 9.28125 47.703125 \nL 2.6875 47.703125 \nL 2.6875 54.6875 \nL 9.28125 54.6875 \nL 9.28125 70.21875 \nz\n\" id=\"DejaVuSans-116\"/>\n      <path d=\"M 8.5 21.578125 \nL 8.5 54.6875 \nL 17.484375 54.6875 \nL 17.484375 21.921875 \nQ 17.484375 14.15625 20.5 10.265625 \nQ 23.53125 6.390625 29.59375 6.390625 \nQ 36.859375 6.390625 41.078125 11.03125 \nQ 45.3125 15.671875 45.3125 23.6875 \nL 45.3125 54.6875 \nL 54.296875 54.6875 \nL 54.296875 0 \nL 45.3125 0 \nL 45.3125 8.40625 \nQ 42.046875 3.421875 37.71875 1 \nQ 33.40625 -1.421875 27.6875 -1.421875 \nQ 18.265625 -1.421875 13.375 4.4375 \nQ 8.5 10.296875 8.5 21.578125 \nz\nM 31.109375 56 \nz\n\" id=\"DejaVuSans-117\"/>\n      <path d=\"M 34.28125 27.484375 \nQ 23.390625 27.484375 19.1875 25 \nQ 14.984375 22.515625 14.984375 16.5 \nQ 14.984375 11.71875 18.140625 8.90625 \nQ 21.296875 6.109375 26.703125 6.109375 \nQ 34.1875 6.109375 38.703125 11.40625 \nQ 43.21875 16.703125 43.21875 25.484375 \nL 43.21875 27.484375 \nz\nM 52.203125 31.203125 \nL 52.203125 0 \nL 43.21875 0 \nL 43.21875 8.296875 \nQ 40.140625 3.328125 35.546875 0.953125 \nQ 30.953125 -1.421875 24.3125 -1.421875 \nQ 15.921875 -1.421875 10.953125 3.296875 \nQ 6 8.015625 6 15.921875 \nQ 6 25.140625 12.171875 29.828125 \nQ 18.359375 34.515625 30.609375 34.515625 \nL 43.21875 34.515625 \nL 43.21875 35.40625 \nQ 43.21875 41.609375 39.140625 45 \nQ 35.0625 48.390625 27.6875 48.390625 \nQ 23 48.390625 18.546875 47.265625 \nQ 14.109375 46.140625 10.015625 43.890625 \nL 10.015625 52.203125 \nQ 14.9375 54.109375 19.578125 55.046875 \nQ 24.21875 56 28.609375 56 \nQ 40.484375 56 46.34375 49.84375 \nQ 52.203125 43.703125 52.203125 31.203125 \nz\n\" id=\"DejaVuSans-97\"/>\n      <path d=\"M 9.421875 75.984375 \nL 18.40625 75.984375 \nL 18.40625 0 \nL 9.421875 0 \nz\n\" id=\"DejaVuSans-108\"/>\n      <path id=\"DejaVuSans-32\"/>\n      <path d=\"M 41.109375 46.296875 \nQ 39.59375 47.171875 37.8125 47.578125 \nQ 36.03125 48 33.890625 48 \nQ 26.265625 48 22.1875 43.046875 \nQ 18.109375 38.09375 18.109375 28.8125 \nL 18.109375 0 \nL 9.078125 0 \nL 9.078125 54.6875 \nL 18.109375 54.6875 \nL 18.109375 46.1875 \nQ 20.953125 51.171875 25.484375 53.578125 \nQ 30.03125 56 36.53125 56 \nQ 37.453125 56 38.578125 55.875 \nQ 39.703125 55.765625 41.0625 55.515625 \nz\n\" id=\"DejaVuSans-114\"/>\n      <path d=\"M 9.078125 75.984375 \nL 18.109375 75.984375 \nL 18.109375 31.109375 \nL 44.921875 54.6875 \nL 56.390625 54.6875 \nL 27.390625 29.109375 \nL 57.625 0 \nL 45.90625 0 \nL 18.109375 26.703125 \nL 18.109375 0 \nL 9.078125 0 \nz\n\" id=\"DejaVuSans-107\"/>\n      <path d=\"M 56.203125 29.59375 \nL 56.203125 25.203125 \nL 14.890625 25.203125 \nQ 15.484375 15.921875 20.484375 11.0625 \nQ 25.484375 6.203125 34.421875 6.203125 \nQ 39.59375 6.203125 44.453125 7.46875 \nQ 49.3125 8.734375 54.109375 11.28125 \nL 54.109375 2.78125 \nQ 49.265625 0.734375 44.1875 -0.34375 \nQ 39.109375 -1.421875 33.890625 -1.421875 \nQ 20.796875 -1.421875 13.15625 6.1875 \nQ 5.515625 13.8125 5.515625 26.8125 \nQ 5.515625 40.234375 12.765625 48.109375 \nQ 20.015625 56 32.328125 56 \nQ 43.359375 56 49.78125 48.890625 \nQ 56.203125 41.796875 56.203125 29.59375 \nz\nM 47.21875 32.234375 \nQ 47.125 39.59375 43.09375 43.984375 \nQ 39.0625 48.390625 32.421875 48.390625 \nQ 24.90625 48.390625 20.390625 44.140625 \nQ 15.875 39.890625 15.1875 32.171875 \nz\n\" id=\"DejaVuSans-101\"/>\n      <path d=\"M 54.890625 33.015625 \nL 54.890625 0 \nL 45.90625 0 \nL 45.90625 32.71875 \nQ 45.90625 40.484375 42.875 44.328125 \nQ 39.84375 48.1875 33.796875 48.1875 \nQ 26.515625 48.1875 22.3125 43.546875 \nQ 18.109375 38.921875 18.109375 30.90625 \nL 18.109375 0 \nL 9.078125 0 \nL 9.078125 54.6875 \nL 18.109375 54.6875 \nL 18.109375 46.1875 \nQ 21.34375 51.125 25.703125 53.5625 \nQ 30.078125 56 35.796875 56 \nQ 45.21875 56 50.046875 50.171875 \nQ 54.890625 44.34375 54.890625 33.015625 \nz\n\" id=\"DejaVuSans-110\"/>\n      <path d=\"M 45.40625 27.984375 \nQ 45.40625 37.75 41.375 43.109375 \nQ 37.359375 48.484375 30.078125 48.484375 \nQ 22.859375 48.484375 18.828125 43.109375 \nQ 14.796875 37.75 14.796875 27.984375 \nQ 14.796875 18.265625 18.828125 12.890625 \nQ 22.859375 7.515625 30.078125 7.515625 \nQ 37.359375 7.515625 41.375 12.890625 \nQ 45.40625 18.265625 45.40625 27.984375 \nz\nM 54.390625 6.78125 \nQ 54.390625 -7.171875 48.1875 -13.984375 \nQ 42 -20.796875 29.203125 -20.796875 \nQ 24.46875 -20.796875 20.265625 -20.09375 \nQ 16.0625 -19.390625 12.109375 -17.921875 \nL 12.109375 -9.1875 \nQ 16.0625 -11.328125 19.921875 -12.34375 \nQ 23.78125 -13.375 27.78125 -13.375 \nQ 36.625 -13.375 41.015625 -8.765625 \nQ 45.40625 -4.15625 45.40625 5.171875 \nL 45.40625 9.625 \nQ 42.625 4.78125 38.28125 2.390625 \nQ 33.9375 0 27.875 0 \nQ 17.828125 0 11.671875 7.65625 \nQ 5.515625 15.328125 5.515625 27.984375 \nQ 5.515625 40.671875 11.671875 48.328125 \nQ 17.828125 56 27.875 56 \nQ 33.9375 56 38.28125 53.609375 \nQ 42.625 51.21875 45.40625 46.390625 \nL 45.40625 54.6875 \nL 54.390625 54.6875 \nz\n\" id=\"DejaVuSans-103\"/>\n      <path d=\"M 54.890625 33.015625 \nL 54.890625 0 \nL 45.90625 0 \nL 45.90625 32.71875 \nQ 45.90625 40.484375 42.875 44.328125 \nQ 39.84375 48.1875 33.796875 48.1875 \nQ 26.515625 48.1875 22.3125 43.546875 \nQ 18.109375 38.921875 18.109375 30.90625 \nL 18.109375 0 \nL 9.078125 0 \nL 9.078125 75.984375 \nL 18.109375 75.984375 \nL 18.109375 46.1875 \nQ 21.34375 51.125 25.703125 53.5625 \nQ 30.078125 56 35.796875 56 \nQ 45.21875 56 50.046875 50.171875 \nQ 54.890625 44.34375 54.890625 33.015625 \nz\n\" id=\"DejaVuSans-104\"/>\n      <path d=\"M 8.59375 75.984375 \nL 29.296875 75.984375 \nL 29.296875 69 \nL 17.578125 69 \nL 17.578125 -6.203125 \nL 29.296875 -6.203125 \nL 29.296875 -13.1875 \nL 8.59375 -13.1875 \nz\n\" id=\"DejaVuSans-91\"/>\n      <path d=\"M 52 44.1875 \nQ 55.375 50.25 60.0625 53.125 \nQ 64.75 56 71.09375 56 \nQ 79.640625 56 84.28125 50.015625 \nQ 88.921875 44.046875 88.921875 33.015625 \nL 88.921875 0 \nL 79.890625 0 \nL 79.890625 32.71875 \nQ 79.890625 40.578125 77.09375 44.375 \nQ 74.3125 48.1875 68.609375 48.1875 \nQ 61.625 48.1875 57.5625 43.546875 \nQ 53.515625 38.921875 53.515625 30.90625 \nL 53.515625 0 \nL 44.484375 0 \nL 44.484375 32.71875 \nQ 44.484375 40.625 41.703125 44.40625 \nQ 38.921875 48.1875 33.109375 48.1875 \nQ 26.21875 48.1875 22.15625 43.53125 \nQ 18.109375 38.875 18.109375 30.90625 \nL 18.109375 0 \nL 9.078125 0 \nL 9.078125 54.6875 \nL 18.109375 54.6875 \nL 18.109375 46.1875 \nQ 21.1875 51.21875 25.484375 53.609375 \nQ 29.78125 56 35.6875 56 \nQ 41.65625 56 45.828125 52.96875 \nQ 50 49.953125 52 44.1875 \nz\n\" id=\"DejaVuSans-109\"/>\n      <path d=\"M 30.421875 75.984375 \nL 30.421875 -13.1875 \nL 9.71875 -13.1875 \nL 9.71875 -6.203125 \nL 21.390625 -6.203125 \nL 21.390625 69 \nL 9.71875 69 \nL 9.71875 75.984375 \nz\n\" id=\"DejaVuSans-93\"/>\n     </defs>\n     <g transform=\"translate(160.599219 268.034687)scale(0.1 -0.1)\">\n      <use xlink:href=\"#DejaVuSans-65\"/>\n      <use x=\"66.658203\" xlink:href=\"#DejaVuSans-99\"/>\n      <use x=\"121.638672\" xlink:href=\"#DejaVuSans-116\"/>\n      <use x=\"160.847656\" xlink:href=\"#DejaVuSans-117\"/>\n      <use x=\"224.226562\" xlink:href=\"#DejaVuSans-97\"/>\n      <use x=\"285.505859\" xlink:href=\"#DejaVuSans-108\"/>\n      <use x=\"313.289062\" xlink:href=\"#DejaVuSans-32\"/>\n      <use x=\"345.076172\" xlink:href=\"#DejaVuSans-99\"/>\n      <use x=\"400.056641\" xlink:href=\"#DejaVuSans-114\"/>\n      <use x=\"441.169922\" xlink:href=\"#DejaVuSans-97\"/>\n      <use x=\"502.449219\" xlink:href=\"#DejaVuSans-99\"/>\n      <use x=\"557.429688\" xlink:href=\"#DejaVuSans-107\"/>\n      <use x=\"615.339844\" xlink:href=\"#DejaVuSans-32\"/>\n      <use x=\"647.126953\" xlink:href=\"#DejaVuSans-108\"/>\n      <use x=\"674.910156\" xlink:href=\"#DejaVuSans-101\"/>\n      <use x=\"736.433594\" xlink:href=\"#DejaVuSans-110\"/>\n      <use x=\"799.8125\" xlink:href=\"#DejaVuSans-103\"/>\n      <use x=\"863.289062\" xlink:href=\"#DejaVuSans-116\"/>\n      <use x=\"902.498047\" xlink:href=\"#DejaVuSans-104\"/>\n      <use x=\"965.876953\" xlink:href=\"#DejaVuSans-32\"/>\n      <use x=\"997.664062\" xlink:href=\"#DejaVuSans-97\"/>\n      <use x=\"1058.943359\" xlink:href=\"#DejaVuSans-32\"/>\n      <use x=\"1090.730469\" xlink:href=\"#DejaVuSans-91\"/>\n      <use x=\"1129.744141\" xlink:href=\"#DejaVuSans-109\"/>\n      <use x=\"1227.15625\" xlink:href=\"#DejaVuSans-93\"/>\n     </g>\n    </g>\n   </g>\n   <g id=\"matplotlib.axis_2\">\n    <g id=\"ytick_1\">\n     <g id=\"line2d_8\">\n      <defs>\n       <path d=\"M 0 0 \nL -3.5 0 \n\" id=\"m7a4dc78ea5\" style=\"stroke:#000000;stroke-width:0.8;\"/>\n      </defs>\n      <g>\n       <use style=\"stroke:#000000;stroke-width:0.8;\" x=\"56.50625\" xlink:href=\"#m7a4dc78ea5\" y=\"229.874489\"/>\n      </g>\n     </g>\n     <g id=\"text_9\">\n      <!-- 0.005 -->\n      <g transform=\"translate(20.878125 233.673707)scale(0.1 -0.1)\">\n       <use xlink:href=\"#DejaVuSans-48\"/>\n       <use x=\"63.623047\" xlink:href=\"#DejaVuSans-46\"/>\n       <use x=\"95.410156\" xlink:href=\"#DejaVuSans-48\"/>\n       <use x=\"159.033203\" xlink:href=\"#DejaVuSans-48\"/>\n       <use x=\"222.65625\" xlink:href=\"#DejaVuSans-53\"/>\n      </g>\n     </g>\n    </g>\n    <g id=\"ytick_2\">\n     <g id=\"line2d_9\">\n      <g>\n       <use style=\"stroke:#000000;stroke-width:0.8;\" x=\"56.50625\" xlink:href=\"#m7a4dc78ea5\" y=\"196.929034\"/>\n      </g>\n     </g>\n     <g id=\"text_10\">\n      <!-- 0.010 -->\n      <g transform=\"translate(20.878125 200.728253)scale(0.1 -0.1)\">\n       <use xlink:href=\"#DejaVuSans-48\"/>\n       <use x=\"63.623047\" xlink:href=\"#DejaVuSans-46\"/>\n       <use x=\"95.410156\" xlink:href=\"#DejaVuSans-48\"/>\n       <use x=\"159.033203\" xlink:href=\"#DejaVuSans-49\"/>\n       <use x=\"222.65625\" xlink:href=\"#DejaVuSans-48\"/>\n      </g>\n     </g>\n    </g>\n    <g id=\"ytick_3\">\n     <g id=\"line2d_10\">\n      <g>\n       <use style=\"stroke:#000000;stroke-width:0.8;\" x=\"56.50625\" xlink:href=\"#m7a4dc78ea5\" y=\"163.98358\"/>\n      </g>\n     </g>\n     <g id=\"text_11\">\n      <!-- 0.015 -->\n      <g transform=\"translate(20.878125 167.782798)scale(0.1 -0.1)\">\n       <use xlink:href=\"#DejaVuSans-48\"/>\n       <use x=\"63.623047\" xlink:href=\"#DejaVuSans-46\"/>\n       <use x=\"95.410156\" xlink:href=\"#DejaVuSans-48\"/>\n       <use x=\"159.033203\" xlink:href=\"#DejaVuSans-49\"/>\n       <use x=\"222.65625\" xlink:href=\"#DejaVuSans-53\"/>\n      </g>\n     </g>\n    </g>\n    <g id=\"ytick_4\">\n     <g id=\"line2d_11\">\n      <g>\n       <use style=\"stroke:#000000;stroke-width:0.8;\" x=\"56.50625\" xlink:href=\"#m7a4dc78ea5\" y=\"131.038125\"/>\n      </g>\n     </g>\n     <g id=\"text_12\">\n      <!-- 0.020 -->\n      <g transform=\"translate(20.878125 134.837344)scale(0.1 -0.1)\">\n       <use xlink:href=\"#DejaVuSans-48\"/>\n       <use x=\"63.623047\" xlink:href=\"#DejaVuSans-46\"/>\n       <use x=\"95.410156\" xlink:href=\"#DejaVuSans-48\"/>\n       <use x=\"159.033203\" xlink:href=\"#DejaVuSans-50\"/>\n       <use x=\"222.65625\" xlink:href=\"#DejaVuSans-48\"/>\n      </g>\n     </g>\n    </g>\n    <g id=\"ytick_5\">\n     <g id=\"line2d_12\">\n      <g>\n       <use style=\"stroke:#000000;stroke-width:0.8;\" x=\"56.50625\" xlink:href=\"#m7a4dc78ea5\" y=\"98.09267\"/>\n      </g>\n     </g>\n     <g id=\"text_13\">\n      <!-- 0.025 -->\n      <g transform=\"translate(20.878125 101.891889)scale(0.1 -0.1)\">\n       <use xlink:href=\"#DejaVuSans-48\"/>\n       <use x=\"63.623047\" xlink:href=\"#DejaVuSans-46\"/>\n       <use x=\"95.410156\" xlink:href=\"#DejaVuSans-48\"/>\n       <use x=\"159.033203\" xlink:href=\"#DejaVuSans-50\"/>\n       <use x=\"222.65625\" xlink:href=\"#DejaVuSans-53\"/>\n      </g>\n     </g>\n    </g>\n    <g id=\"ytick_6\">\n     <g id=\"line2d_13\">\n      <g>\n       <use style=\"stroke:#000000;stroke-width:0.8;\" x=\"56.50625\" xlink:href=\"#m7a4dc78ea5\" y=\"65.147216\"/>\n      </g>\n     </g>\n     <g id=\"text_14\">\n      <!-- 0.030 -->\n      <g transform=\"translate(20.878125 68.946435)scale(0.1 -0.1)\">\n       <use xlink:href=\"#DejaVuSans-48\"/>\n       <use x=\"63.623047\" xlink:href=\"#DejaVuSans-46\"/>\n       <use x=\"95.410156\" xlink:href=\"#DejaVuSans-48\"/>\n       <use x=\"159.033203\" xlink:href=\"#DejaVuSans-51\"/>\n       <use x=\"222.65625\" xlink:href=\"#DejaVuSans-48\"/>\n      </g>\n     </g>\n    </g>\n    <g id=\"ytick_7\">\n     <g id=\"line2d_14\">\n      <g>\n       <use style=\"stroke:#000000;stroke-width:0.8;\" x=\"56.50625\" xlink:href=\"#m7a4dc78ea5\" y=\"32.201761\"/>\n      </g>\n     </g>\n     <g id=\"text_15\">\n      <!-- 0.035 -->\n      <g transform=\"translate(20.878125 36.00098)scale(0.1 -0.1)\">\n       <use xlink:href=\"#DejaVuSans-48\"/>\n       <use x=\"63.623047\" xlink:href=\"#DejaVuSans-46\"/>\n       <use x=\"95.410156\" xlink:href=\"#DejaVuSans-48\"/>\n       <use x=\"159.033203\" xlink:href=\"#DejaVuSans-51\"/>\n       <use x=\"222.65625\" xlink:href=\"#DejaVuSans-53\"/>\n      </g>\n     </g>\n    </g>\n    <g id=\"text_16\">\n     <!-- Predicted crack length a [m] -->\n     <defs>\n      <path d=\"M 19.671875 64.796875 \nL 19.671875 37.40625 \nL 32.078125 37.40625 \nQ 38.96875 37.40625 42.71875 40.96875 \nQ 46.484375 44.53125 46.484375 51.125 \nQ 46.484375 57.671875 42.71875 61.234375 \nQ 38.96875 64.796875 32.078125 64.796875 \nz\nM 9.8125 72.90625 \nL 32.078125 72.90625 \nQ 44.34375 72.90625 50.609375 67.359375 \nQ 56.890625 61.8125 56.890625 51.125 \nQ 56.890625 40.328125 50.609375 34.8125 \nQ 44.34375 29.296875 32.078125 29.296875 \nL 19.671875 29.296875 \nL 19.671875 0 \nL 9.8125 0 \nz\n\" id=\"DejaVuSans-80\"/>\n      <path d=\"M 45.40625 46.390625 \nL 45.40625 75.984375 \nL 54.390625 75.984375 \nL 54.390625 0 \nL 45.40625 0 \nL 45.40625 8.203125 \nQ 42.578125 3.328125 38.25 0.953125 \nQ 33.9375 -1.421875 27.875 -1.421875 \nQ 17.96875 -1.421875 11.734375 6.484375 \nQ 5.515625 14.40625 5.515625 27.296875 \nQ 5.515625 40.1875 11.734375 48.09375 \nQ 17.96875 56 27.875 56 \nQ 33.9375 56 38.25 53.625 \nQ 42.578125 51.265625 45.40625 46.390625 \nz\nM 14.796875 27.296875 \nQ 14.796875 17.390625 18.875 11.75 \nQ 22.953125 6.109375 30.078125 6.109375 \nQ 37.203125 6.109375 41.296875 11.75 \nQ 45.40625 17.390625 45.40625 27.296875 \nQ 45.40625 37.203125 41.296875 42.84375 \nQ 37.203125 48.484375 30.078125 48.484375 \nQ 22.953125 48.484375 18.875 42.84375 \nQ 14.796875 37.203125 14.796875 27.296875 \nz\n\" id=\"DejaVuSans-100\"/>\n      <path d=\"M 9.421875 54.6875 \nL 18.40625 54.6875 \nL 18.40625 0 \nL 9.421875 0 \nz\nM 9.421875 75.984375 \nL 18.40625 75.984375 \nL 18.40625 64.59375 \nL 9.421875 64.59375 \nz\n\" id=\"DejaVuSans-105\"/>\n     </defs>\n     <g transform=\"translate(14.798438 202.151406)rotate(-90)scale(0.1 -0.1)\">\n      <use xlink:href=\"#DejaVuSans-80\"/>\n      <use x=\"58.552734\" xlink:href=\"#DejaVuSans-114\"/>\n      <use x=\"97.416016\" xlink:href=\"#DejaVuSans-101\"/>\n      <use x=\"158.939453\" xlink:href=\"#DejaVuSans-100\"/>\n      <use x=\"222.416016\" xlink:href=\"#DejaVuSans-105\"/>\n      <use x=\"250.199219\" xlink:href=\"#DejaVuSans-99\"/>\n      <use x=\"305.179688\" xlink:href=\"#DejaVuSans-116\"/>\n      <use x=\"344.388672\" xlink:href=\"#DejaVuSans-101\"/>\n      <use x=\"405.912109\" xlink:href=\"#DejaVuSans-100\"/>\n      <use x=\"469.388672\" xlink:href=\"#DejaVuSans-32\"/>\n      <use x=\"501.175781\" xlink:href=\"#DejaVuSans-99\"/>\n      <use x=\"556.15625\" xlink:href=\"#DejaVuSans-114\"/>\n      <use x=\"597.269531\" xlink:href=\"#DejaVuSans-97\"/>\n      <use x=\"658.548828\" xlink:href=\"#DejaVuSans-99\"/>\n      <use x=\"713.529297\" xlink:href=\"#DejaVuSans-107\"/>\n      <use x=\"771.439453\" xlink:href=\"#DejaVuSans-32\"/>\n      <use x=\"803.226562\" xlink:href=\"#DejaVuSans-108\"/>\n      <use x=\"831.009766\" xlink:href=\"#DejaVuSans-101\"/>\n      <use x=\"892.533203\" xlink:href=\"#DejaVuSans-110\"/>\n      <use x=\"955.912109\" xlink:href=\"#DejaVuSans-103\"/>\n      <use x=\"1019.388672\" xlink:href=\"#DejaVuSans-116\"/>\n      <use x=\"1058.597656\" xlink:href=\"#DejaVuSans-104\"/>\n      <use x=\"1121.976562\" xlink:href=\"#DejaVuSans-32\"/>\n      <use x=\"1153.763672\" xlink:href=\"#DejaVuSans-97\"/>\n      <use x=\"1215.042969\" xlink:href=\"#DejaVuSans-32\"/>\n      <use x=\"1246.830078\" xlink:href=\"#DejaVuSans-91\"/>\n      <use x=\"1285.84375\" xlink:href=\"#DejaVuSans-109\"/>\n      <use x=\"1383.255859\" xlink:href=\"#DejaVuSans-93\"/>\n     </g>\n    </g>\n   </g>\n   <g id=\"line2d_15\">\n    <path clip-path=\"url(#p6b693a6d43)\" d=\"M 71.724432 229.874489 \nL 376.088068 32.201761 \n\" style=\"fill:none;stroke:#000000;stroke-dasharray:5.55,2.4;stroke-dashoffset:0;stroke-width:1.5;\"/>\n   </g>\n   <g id=\"line2d_16\">\n    <defs>\n     <path d=\"M 0 3 \nC 0.795609 3 1.55874 2.683901 2.12132 2.12132 \nC 2.683901 1.55874 3 0.795609 3 0 \nC 3 -0.795609 2.683901 -1.55874 2.12132 -2.12132 \nC 1.55874 -2.683901 0.795609 -3 0 -3 \nC -0.795609 -3 -1.55874 -2.683901 -2.12132 -2.12132 \nC -2.683901 -1.55874 -3 -0.795609 -3 0 \nC -3 0.795609 -2.683901 1.55874 -2.12132 2.12132 \nC -1.55874 2.683901 -0.795609 3 0 3 \nz\n\" id=\"mc2137475b9\" style=\"stroke:#1f77b4;\"/>\n    </defs>\n    <g clip-path=\"url(#p6b693a6d43)\">\n     <use style=\"fill:#1f77b4;stroke:#1f77b4;\" x=\"333.355445\" xlink:href=\"#mc2137475b9\" y=\"59.953486\"/>\n     <use style=\"fill:#1f77b4;stroke:#1f77b4;\" x=\"322.770169\" xlink:href=\"#mc2137475b9\" y=\"63.899226\"/>\n     <use style=\"fill:#1f77b4;stroke:#1f77b4;\" x=\"315.247922\" xlink:href=\"#mc2137475b9\" y=\"78.583422\"/>\n     <use style=\"fill:#1f77b4;stroke:#1f77b4;\" x=\"300.205454\" xlink:href=\"#mc2137475b9\" y=\"81.525196\"/>\n     <use style=\"fill:#1f77b4;stroke:#1f77b4;\" x=\"293.338562\" xlink:href=\"#mc2137475b9\" y=\"74.257019\"/>\n     <use style=\"fill:#1f77b4;stroke:#1f77b4;\" x=\"288.178511\" xlink:href=\"#mc2137475b9\" y=\"72.554072\"/>\n     <use style=\"fill:#1f77b4;stroke:#1f77b4;\" x=\"282.477146\" xlink:href=\"#mc2137475b9\" y=\"69.009516\"/>\n     <use style=\"fill:#1f77b4;stroke:#1f77b4;\" x=\"272.404663\" xlink:href=\"#mc2137475b9\" y=\"72.910434\"/>\n     <use style=\"fill:#1f77b4;stroke:#1f77b4;\" x=\"264.394176\" xlink:href=\"#mc2137475b9\" y=\"82.129206\"/>\n     <use style=\"fill:#1f77b4;stroke:#1f77b4;\" x=\"260.62835\" xlink:href=\"#mc2137475b9\" y=\"74.341752\"/>\n     <use style=\"fill:#1f77b4;stroke:#1f77b4;\" x=\"255.195252\" xlink:href=\"#mc2137475b9\" y=\"108.856664\"/>\n     <use style=\"fill:#1f77b4;stroke:#1f77b4;\" x=\"248.468387\" xlink:href=\"#mc2137475b9\" y=\"93.525281\"/>\n     <use style=\"fill:#1f77b4;stroke:#1f77b4;\" x=\"247.714099\" xlink:href=\"#mc2137475b9\" y=\"81.43435\"/>\n     <use style=\"fill:#1f77b4;stroke:#1f77b4;\" x=\"238.976465\" xlink:href=\"#mc2137475b9\" y=\"83.509983\"/>\n     <use style=\"fill:#1f77b4;stroke:#1f77b4;\" x=\"229.222903\" xlink:href=\"#mc2137475b9\" y=\"116.987962\"/>\n     <use style=\"fill:#1f77b4;stroke:#1f77b4;\" x=\"227.636792\" xlink:href=\"#mc2137475b9\" y=\"112.150186\"/>\n     <use style=\"fill:#1f77b4;stroke:#1f77b4;\" x=\"225.573791\" xlink:href=\"#mc2137475b9\" y=\"164.076403\"/>\n     <use style=\"fill:#1f77b4;stroke:#1f77b4;\" x=\"218.621166\" xlink:href=\"#mc2137475b9\" y=\"79.858945\"/>\n     <use style=\"fill:#1f77b4;stroke:#1f77b4;\" x=\"211.905925\" xlink:href=\"#mc2137475b9\" y=\"158.296842\"/>\n     <use style=\"fill:#1f77b4;stroke:#1f77b4;\" x=\"205.968212\" xlink:href=\"#mc2137475b9\" y=\"149.035261\"/>\n     <use style=\"fill:#1f77b4;stroke:#1f77b4;\" x=\"205.925355\" xlink:href=\"#mc2137475b9\" y=\"184.780212\"/>\n     <use style=\"fill:#1f77b4;stroke:#1f77b4;\" x=\"202.57696\" xlink:href=\"#mc2137475b9\" y=\"139.977023\"/>\n     <use style=\"fill:#1f77b4;stroke:#1f77b4;\" x=\"196.914611\" xlink:href=\"#mc2137475b9\" y=\"143.4041\"/>\n     <use style=\"fill:#1f77b4;stroke:#1f77b4;\" x=\"194.570941\" xlink:href=\"#mc2137475b9\" y=\"152.498275\"/>\n     <use style=\"fill:#1f77b4;stroke:#1f77b4;\" x=\"195.178293\" xlink:href=\"#mc2137475b9\" y=\"189.086463\"/>\n     <use style=\"fill:#1f77b4;stroke:#1f77b4;\" x=\"186.987152\" xlink:href=\"#mc2137475b9\" y=\"167.124867\"/>\n     <use style=\"fill:#1f77b4;stroke:#1f77b4;\" x=\"186.141916\" xlink:href=\"#mc2137475b9\" y=\"159.106194\"/>\n     <use style=\"fill:#1f77b4;stroke:#1f77b4;\" x=\"182.393082\" xlink:href=\"#mc2137475b9\" y=\"144.261723\"/>\n     <use style=\"fill:#1f77b4;stroke:#1f77b4;\" x=\"179.188297\" xlink:href=\"#mc2137475b9\" y=\"164.719522\"/>\n     <use style=\"fill:#1f77b4;stroke:#1f77b4;\" x=\"175.433445\" xlink:href=\"#mc2137475b9\" y=\"193.692443\"/>\n     <use style=\"fill:#1f77b4;stroke:#1f77b4;\" x=\"177.266253\" xlink:href=\"#mc2137475b9\" y=\"119.96491\"/>\n     <use style=\"fill:#1f77b4;stroke:#1f77b4;\" x=\"170.935784\" xlink:href=\"#mc2137475b9\" y=\"170.420241\"/>\n     <use style=\"fill:#1f77b4;stroke:#1f77b4;\" x=\"170.679718\" xlink:href=\"#mc2137475b9\" y=\"203.219209\"/>\n     <use style=\"fill:#1f77b4;stroke:#1f77b4;\" x=\"166.315837\" xlink:href=\"#mc2137475b9\" y=\"158.650406\"/>\n     <use style=\"fill:#1f77b4;stroke:#1f77b4;\" x=\"164.880629\" xlink:href=\"#mc2137475b9\" y=\"169.451952\"/>\n     <use style=\"fill:#1f77b4;stroke:#1f77b4;\" x=\"161.155803\" xlink:href=\"#mc2137475b9\" y=\"169.390599\"/>\n     <use style=\"fill:#1f77b4;stroke:#1f77b4;\" x=\"159.699687\" xlink:href=\"#mc2137475b9\" y=\"186.451519\"/>\n     <use style=\"fill:#1f77b4;stroke:#1f77b4;\" x=\"155.440405\" xlink:href=\"#mc2137475b9\" y=\"171.824951\"/>\n     <use style=\"fill:#1f77b4;stroke:#1f77b4;\" x=\"154.678298\" xlink:href=\"#mc2137475b9\" y=\"163.226255\"/>\n     <use style=\"fill:#1f77b4;stroke:#1f77b4;\" x=\"154.300438\" xlink:href=\"#mc2137475b9\" y=\"173.612067\"/>\n     <use style=\"fill:#1f77b4;stroke:#1f77b4;\" x=\"150.402716\" xlink:href=\"#mc2137475b9\" y=\"194.345264\"/>\n     <use style=\"fill:#1f77b4;stroke:#1f77b4;\" x=\"149.928832\" xlink:href=\"#mc2137475b9\" y=\"177.050307\"/>\n     <use style=\"fill:#1f77b4;stroke:#1f77b4;\" x=\"146.361142\" xlink:href=\"#mc2137475b9\" y=\"185.892625\"/>\n     <use style=\"fill:#1f77b4;stroke:#1f77b4;\" x=\"145.26836\" xlink:href=\"#mc2137475b9\" y=\"215.736515\"/>\n     <use style=\"fill:#1f77b4;stroke:#1f77b4;\" x=\"144.17956\" xlink:href=\"#mc2137475b9\" y=\"197.98903\"/>\n     <use style=\"fill:#1f77b4;stroke:#1f77b4;\" x=\"141.473529\" xlink:href=\"#mc2137475b9\" y=\"199.29375\"/>\n     <use style=\"fill:#1f77b4;stroke:#1f77b4;\" x=\"139.278821\" xlink:href=\"#mc2137475b9\" y=\"200.464503\"/>\n     <use style=\"fill:#1f77b4;stroke:#1f77b4;\" x=\"135.329785\" xlink:href=\"#mc2137475b9\" y=\"191.537802\"/>\n     <use style=\"fill:#1f77b4;stroke:#1f77b4;\" x=\"137.022102\" xlink:href=\"#mc2137475b9\" y=\"202.442902\"/>\n     <use style=\"fill:#1f77b4;stroke:#1f77b4;\" x=\"136.053475\" xlink:href=\"#mc2137475b9\" y=\"203.048496\"/>\n     <use style=\"fill:#1f77b4;stroke:#1f77b4;\" x=\"134.698875\" xlink:href=\"#mc2137475b9\" y=\"180.069837\"/>\n     <use style=\"fill:#1f77b4;stroke:#1f77b4;\" x=\"132.811517\" xlink:href=\"#mc2137475b9\" y=\"197.310534\"/>\n     <use style=\"fill:#1f77b4;stroke:#1f77b4;\" x=\"129.55116\" xlink:href=\"#mc2137475b9\" y=\"221.981143\"/>\n     <use style=\"fill:#1f77b4;stroke:#1f77b4;\" x=\"128.465772\" xlink:href=\"#mc2137475b9\" y=\"209.790744\"/>\n     <use style=\"fill:#1f77b4;stroke:#1f77b4;\" x=\"127.648335\" xlink:href=\"#mc2137475b9\" y=\"189.846441\"/>\n     <use style=\"fill:#1f77b4;stroke:#1f77b4;\" x=\"126.264865\" xlink:href=\"#mc2137475b9\" y=\"193.08218\"/>\n     <use style=\"fill:#1f77b4;stroke:#1f77b4;\" x=\"124.036351\" xlink:href=\"#mc2137475b9\" y=\"191.714866\"/>\n     <use style=\"fill:#1f77b4;stroke:#1f77b4;\" x=\"127.121987\" xlink:href=\"#mc2137475b9\" y=\"199.619467\"/>\n     <use style=\"fill:#1f77b4;stroke:#1f77b4;\" x=\"122.679452\" xlink:href=\"#mc2137475b9\" y=\"212.829125\"/>\n     <use style=\"fill:#1f77b4;stroke:#1f77b4;\" x=\"121.015058\" xlink:href=\"#mc2137475b9\" y=\"187.931371\"/>\n     <use style=\"fill:#1f77b4;stroke:#1f77b4;\" x=\"120.818729\" xlink:href=\"#mc2137475b9\" y=\"201.442096\"/>\n     <use style=\"fill:#1f77b4;stroke:#1f77b4;\" x=\"118.27686\" xlink:href=\"#mc2137475b9\" y=\"207.998093\"/>\n     <use style=\"fill:#1f77b4;stroke:#1f77b4;\" x=\"118.36017\" xlink:href=\"#mc2137475b9\" y=\"214.247557\"/>\n     <use style=\"fill:#1f77b4;stroke:#1f77b4;\" x=\"117.59255\" xlink:href=\"#mc2137475b9\" y=\"178.968887\"/>\n     <use style=\"fill:#1f77b4;stroke:#1f77b4;\" x=\"116.925144\" xlink:href=\"#mc2137475b9\" y=\"218.481182\"/>\n     <use style=\"fill:#1f77b4;stroke:#1f77b4;\" x=\"115.162236\" xlink:href=\"#mc2137475b9\" y=\"208.052794\"/>\n     <use style=\"fill:#1f77b4;stroke:#1f77b4;\" x=\"113.161487\" xlink:href=\"#mc2137475b9\" y=\"203.784798\"/>\n     <use style=\"fill:#1f77b4;stroke:#1f77b4;\" x=\"112.995375\" xlink:href=\"#mc2137475b9\" y=\"208.664132\"/>\n     <use style=\"fill:#1f77b4;stroke:#1f77b4;\" x=\"111.495697\" xlink:href=\"#mc2137475b9\" y=\"207.529044\"/>\n     <use style=\"fill:#1f77b4;stroke:#1f77b4;\" x=\"112.197198\" xlink:href=\"#mc2137475b9\" y=\"218.344244\"/>\n     <use style=\"fill:#1f77b4;stroke:#1f77b4;\" x=\"110.560365\" xlink:href=\"#mc2137475b9\" y=\"203.199001\"/>\n     <use style=\"fill:#1f77b4;stroke:#1f77b4;\" x=\"108.998618\" xlink:href=\"#mc2137475b9\" y=\"205.081149\"/>\n     <use style=\"fill:#1f77b4;stroke:#1f77b4;\" x=\"108.104592\" xlink:href=\"#mc2137475b9\" y=\"184.562143\"/>\n     <use style=\"fill:#1f77b4;stroke:#1f77b4;\" x=\"106.340445\" xlink:href=\"#mc2137475b9\" y=\"212.974666\"/>\n     <use style=\"fill:#1f77b4;stroke:#1f77b4;\" x=\"107.136249\" xlink:href=\"#mc2137475b9\" y=\"195.373968\"/>\n     <use style=\"fill:#1f77b4;stroke:#1f77b4;\" x=\"104.863444\" xlink:href=\"#mc2137475b9\" y=\"209.236631\"/>\n     <use style=\"fill:#1f77b4;stroke:#1f77b4;\" x=\"104.93891\" xlink:href=\"#mc2137475b9\" y=\"204.016527\"/>\n     <use style=\"fill:#1f77b4;stroke:#1f77b4;\" x=\"102.962463\" xlink:href=\"#mc2137475b9\" y=\"221.348715\"/>\n     <use style=\"fill:#1f77b4;stroke:#1f77b4;\" x=\"102.841393\" xlink:href=\"#mc2137475b9\" y=\"212.665058\"/>\n     <use style=\"fill:#1f77b4;stroke:#1f77b4;\" x=\"102.973987\" xlink:href=\"#mc2137475b9\" y=\"206.034317\"/>\n     <use style=\"fill:#1f77b4;stroke:#1f77b4;\" x=\"101.149678\" xlink:href=\"#mc2137475b9\" y=\"193.957058\"/>\n     <use style=\"fill:#1f77b4;stroke:#1f77b4;\" x=\"100.022229\" xlink:href=\"#mc2137475b9\" y=\"215.367597\"/>\n     <use style=\"fill:#1f77b4;stroke:#1f77b4;\" x=\"99.725779\" xlink:href=\"#mc2137475b9\" y=\"219.065334\"/>\n     <use style=\"fill:#1f77b4;stroke:#1f77b4;\" x=\"98.7975\" xlink:href=\"#mc2137475b9\" y=\"219.371868\"/>\n     <use style=\"fill:#1f77b4;stroke:#1f77b4;\" x=\"97.939143\" xlink:href=\"#mc2137475b9\" y=\"215.421154\"/>\n     <use style=\"fill:#1f77b4;stroke:#1f77b4;\" x=\"97.851738\" xlink:href=\"#mc2137475b9\" y=\"196.761513\"/>\n     <use style=\"fill:#1f77b4;stroke:#1f77b4;\" x=\"97.058265\" xlink:href=\"#mc2137475b9\" y=\"205.294216\"/>\n     <use style=\"fill:#1f77b4;stroke:#1f77b4;\" x=\"96.386817\" xlink:href=\"#mc2137475b9\" y=\"219.508707\"/>\n     <use style=\"fill:#1f77b4;stroke:#1f77b4;\" x=\"95.301299\" xlink:href=\"#mc2137475b9\" y=\"223.626578\"/>\n     <use style=\"fill:#1f77b4;stroke:#1f77b4;\" x=\"94.758403\" xlink:href=\"#mc2137475b9\" y=\"220.4293\"/>\n     <use style=\"fill:#1f77b4;stroke:#1f77b4;\" x=\"93.83477\" xlink:href=\"#mc2137475b9\" y=\"205.644056\"/>\n     <use style=\"fill:#1f77b4;stroke:#1f77b4;\" x=\"93.523676\" xlink:href=\"#mc2137475b9\" y=\"219.097398\"/>\n     <use style=\"fill:#1f77b4;stroke:#1f77b4;\" x=\"92.753897\" xlink:href=\"#mc2137475b9\" y=\"207.052233\"/>\n     <use style=\"fill:#1f77b4;stroke:#1f77b4;\" x=\"91.978543\" xlink:href=\"#mc2137475b9\" y=\"222.295538\"/>\n     <use style=\"fill:#1f77b4;stroke:#1f77b4;\" x=\"91.393924\" xlink:href=\"#mc2137475b9\" y=\"221.66221\"/>\n     <use style=\"fill:#1f77b4;stroke:#1f77b4;\" x=\"90.633377\" xlink:href=\"#mc2137475b9\" y=\"216.547402\"/>\n     <use style=\"fill:#1f77b4;stroke:#1f77b4;\" x=\"89.905823\" xlink:href=\"#mc2137475b9\" y=\"216.667491\"/>\n     <use style=\"fill:#1f77b4;stroke:#1f77b4;\" x=\"89.57304\" xlink:href=\"#mc2137475b9\" y=\"207.278543\"/>\n     <use style=\"fill:#1f77b4;stroke:#1f77b4;\" x=\"89.218726\" xlink:href=\"#mc2137475b9\" y=\"220.414489\"/>\n     <use style=\"fill:#1f77b4;stroke:#1f77b4;\" x=\"88.534307\" xlink:href=\"#mc2137475b9\" y=\"225.821236\"/>\n     <use style=\"fill:#1f77b4;stroke:#1f77b4;\" x=\"87.990323\" xlink:href=\"#mc2137475b9\" y=\"215.739246\"/>\n     <use style=\"fill:#1f77b4;stroke:#1f77b4;\" x=\"115.361069\" xlink:href=\"#mc2137475b9\" y=\"209.382521\"/>\n     <use style=\"fill:#1f77b4;stroke:#1f77b4;\" x=\"115.048211\" xlink:href=\"#mc2137475b9\" y=\"206.452254\"/>\n     <use style=\"fill:#1f77b4;stroke:#1f77b4;\" x=\"114.63577\" xlink:href=\"#mc2137475b9\" y=\"202.836085\"/>\n     <use style=\"fill:#1f77b4;stroke:#1f77b4;\" x=\"114.683438\" xlink:href=\"#mc2137475b9\" y=\"201.846219\"/>\n     <use style=\"fill:#1f77b4;stroke:#1f77b4;\" x=\"114.165932\" xlink:href=\"#mc2137475b9\" y=\"207.660889\"/>\n     <use style=\"fill:#1f77b4;stroke:#1f77b4;\" x=\"113.937361\" xlink:href=\"#mc2137475b9\" y=\"207.741732\"/>\n     <use style=\"fill:#1f77b4;stroke:#1f77b4;\" x=\"113.737841\" xlink:href=\"#mc2137475b9\" y=\"205.697002\"/>\n     <use style=\"fill:#1f77b4;stroke:#1f77b4;\" x=\"113.534732\" xlink:href=\"#mc2137475b9\" y=\"203.707257\"/>\n     <use style=\"fill:#1f77b4;stroke:#1f77b4;\" x=\"113.262944\" xlink:href=\"#mc2137475b9\" y=\"197.380098\"/>\n     <use style=\"fill:#1f77b4;stroke:#1f77b4;\" x=\"113.262943\" xlink:href=\"#mc2137475b9\" y=\"203.357349\"/>\n     <use style=\"fill:#1f77b4;stroke:#1f77b4;\" x=\"113.060901\" xlink:href=\"#mc2137475b9\" y=\"205.782325\"/>\n     <use style=\"fill:#1f77b4;stroke:#1f77b4;\" x=\"112.897365\" xlink:href=\"#mc2137475b9\" y=\"199.723537\"/>\n     <use style=\"fill:#1f77b4;stroke:#1f77b4;\" x=\"112.532811\" xlink:href=\"#mc2137475b9\" y=\"203.31389\"/>\n     <use style=\"fill:#1f77b4;stroke:#1f77b4;\" x=\"112.034683\" xlink:href=\"#mc2137475b9\" y=\"204.574759\"/>\n     <use style=\"fill:#1f77b4;stroke:#1f77b4;\" x=\"111.883042\" xlink:href=\"#mc2137475b9\" y=\"206.206595\"/>\n     <use style=\"fill:#1f77b4;stroke:#1f77b4;\" x=\"111.85981\" xlink:href=\"#mc2137475b9\" y=\"208.179134\"/>\n     <use style=\"fill:#1f77b4;stroke:#1f77b4;\" x=\"111.658346\" xlink:href=\"#mc2137475b9\" y=\"204.184461\"/>\n     <use style=\"fill:#1f77b4;stroke:#1f77b4;\" x=\"111.446224\" xlink:href=\"#mc2137475b9\" y=\"199.117471\"/>\n     <use style=\"fill:#1f77b4;stroke:#1f77b4;\" x=\"110.943749\" xlink:href=\"#mc2137475b9\" y=\"201.83413\"/>\n     <use style=\"fill:#1f77b4;stroke:#1f77b4;\" x=\"110.746302\" xlink:href=\"#mc2137475b9\" y=\"213.411461\"/>\n     <use style=\"fill:#1f77b4;stroke:#1f77b4;\" x=\"110.735144\" xlink:href=\"#mc2137475b9\" y=\"209.493084\"/>\n     <use style=\"fill:#1f77b4;stroke:#1f77b4;\" x=\"110.650268\" xlink:href=\"#mc2137475b9\" y=\"201.609434\"/>\n     <use style=\"fill:#1f77b4;stroke:#1f77b4;\" x=\"110.261251\" xlink:href=\"#mc2137475b9\" y=\"202.285579\"/>\n     <use style=\"fill:#1f77b4;stroke:#1f77b4;\" x=\"109.765312\" xlink:href=\"#mc2137475b9\" y=\"203.725077\"/>\n     <use style=\"fill:#1f77b4;stroke:#1f77b4;\" x=\"109.982191\" xlink:href=\"#mc2137475b9\" y=\"205.989717\"/>\n     <use style=\"fill:#1f77b4;stroke:#1f77b4;\" x=\"109.641239\" xlink:href=\"#mc2137475b9\" y=\"199.176401\"/>\n     <use style=\"fill:#1f77b4;stroke:#1f77b4;\" x=\"109.416768\" xlink:href=\"#mc2137475b9\" y=\"212.181024\"/>\n     <use style=\"fill:#1f77b4;stroke:#1f77b4;\" x=\"109.099018\" xlink:href=\"#mc2137475b9\" y=\"212.886309\"/>\n     <use style=\"fill:#1f77b4;stroke:#1f77b4;\" x=\"109.032905\" xlink:href=\"#mc2137475b9\" y=\"207.867022\"/>\n     <use style=\"fill:#1f77b4;stroke:#1f77b4;\" x=\"108.765554\" xlink:href=\"#mc2137475b9\" y=\"203.05586\"/>\n     <use style=\"fill:#1f77b4;stroke:#1f77b4;\" x=\"108.415435\" xlink:href=\"#mc2137475b9\" y=\"205.126019\"/>\n     <use style=\"fill:#1f77b4;stroke:#1f77b4;\" x=\"108.334756\" xlink:href=\"#mc2137475b9\" y=\"203.452386\"/>\n     <use style=\"fill:#1f77b4;stroke:#1f77b4;\" x=\"108.207044\" xlink:href=\"#mc2137475b9\" y=\"209.570172\"/>\n     <use style=\"fill:#1f77b4;stroke:#1f77b4;\" x=\"108.054778\" xlink:href=\"#mc2137475b9\" y=\"203.406847\"/>\n     <use style=\"fill:#1f77b4;stroke:#1f77b4;\" x=\"107.735186\" xlink:href=\"#mc2137475b9\" y=\"208.016398\"/>\n     <use style=\"fill:#1f77b4;stroke:#1f77b4;\" x=\"107.210171\" xlink:href=\"#mc2137475b9\" y=\"216.770306\"/>\n     <use style=\"fill:#1f77b4;stroke:#1f77b4;\" x=\"107.151232\" xlink:href=\"#mc2137475b9\" y=\"207.129228\"/>\n     <use style=\"fill:#1f77b4;stroke:#1f77b4;\" x=\"107.078261\" xlink:href=\"#mc2137475b9\" y=\"208.978312\"/>\n     <use style=\"fill:#1f77b4;stroke:#1f77b4;\" x=\"106.736996\" xlink:href=\"#mc2137475b9\" y=\"205.612072\"/>\n     <use style=\"fill:#1f77b4;stroke:#1f77b4;\" x=\"106.859313\" xlink:href=\"#mc2137475b9\" y=\"207.795537\"/>\n     <use style=\"fill:#1f77b4;stroke:#1f77b4;\" x=\"106.489633\" xlink:href=\"#mc2137475b9\" y=\"215.369321\"/>\n     <use style=\"fill:#1f77b4;stroke:#1f77b4;\" x=\"105.850657\" xlink:href=\"#mc2137475b9\" y=\"201.15537\"/>\n     <use style=\"fill:#1f77b4;stroke:#1f77b4;\" x=\"106.105521\" xlink:href=\"#mc2137475b9\" y=\"205.276365\"/>\n     <use style=\"fill:#1f77b4;stroke:#1f77b4;\" x=\"106.032256\" xlink:href=\"#mc2137475b9\" y=\"207.624407\"/>\n     <use style=\"fill:#1f77b4;stroke:#1f77b4;\" x=\"105.474347\" xlink:href=\"#mc2137475b9\" y=\"208.12199\"/>\n     <use style=\"fill:#1f77b4;stroke:#1f77b4;\" x=\"105.25327\" xlink:href=\"#mc2137475b9\" y=\"206.190965\"/>\n     <use style=\"fill:#1f77b4;stroke:#1f77b4;\" x=\"105.160334\" xlink:href=\"#mc2137475b9\" y=\"208.650987\"/>\n     <use style=\"fill:#1f77b4;stroke:#1f77b4;\" x=\"104.882238\" xlink:href=\"#mc2137475b9\" y=\"207.763032\"/>\n     <use style=\"fill:#1f77b4;stroke:#1f77b4;\" x=\"104.900201\" xlink:href=\"#mc2137475b9\" y=\"200.200551\"/>\n     <use style=\"fill:#1f77b4;stroke:#1f77b4;\" x=\"104.504737\" xlink:href=\"#mc2137475b9\" y=\"202.138369\"/>\n     <use style=\"fill:#1f77b4;stroke:#1f77b4;\" x=\"104.732746\" xlink:href=\"#mc2137475b9\" y=\"212.315734\"/>\n     <use style=\"fill:#1f77b4;stroke:#1f77b4;\" x=\"104.62118\" xlink:href=\"#mc2137475b9\" y=\"208.678418\"/>\n     <use style=\"fill:#1f77b4;stroke:#1f77b4;\" x=\"104.387612\" xlink:href=\"#mc2137475b9\" y=\"204.860146\"/>\n     <use style=\"fill:#1f77b4;stroke:#1f77b4;\" x=\"103.758886\" xlink:href=\"#mc2137475b9\" y=\"209.558758\"/>\n     <use style=\"fill:#1f77b4;stroke:#1f77b4;\" x=\"103.598984\" xlink:href=\"#mc2137475b9\" y=\"208.363489\"/>\n     <use style=\"fill:#1f77b4;stroke:#1f77b4;\" x=\"103.748749\" xlink:href=\"#mc2137475b9\" y=\"211.978011\"/>\n     <use style=\"fill:#1f77b4;stroke:#1f77b4;\" x=\"103.573593\" xlink:href=\"#mc2137475b9\" y=\"213.524945\"/>\n     <use style=\"fill:#1f77b4;stroke:#1f77b4;\" x=\"103.226586\" xlink:href=\"#mc2137475b9\" y=\"202.049285\"/>\n     <use style=\"fill:#1f77b4;stroke:#1f77b4;\" x=\"103.014148\" xlink:href=\"#mc2137475b9\" y=\"212.600195\"/>\n     <use style=\"fill:#1f77b4;stroke:#1f77b4;\" x=\"102.863988\" xlink:href=\"#mc2137475b9\" y=\"213.883578\"/>\n     <use style=\"fill:#1f77b4;stroke:#1f77b4;\" x=\"102.930078\" xlink:href=\"#mc2137475b9\" y=\"212.712641\"/>\n     <use style=\"fill:#1f77b4;stroke:#1f77b4;\" x=\"102.379276\" xlink:href=\"#mc2137475b9\" y=\"210.699595\"/>\n     <use style=\"fill:#1f77b4;stroke:#1f77b4;\" x=\"102.404999\" xlink:href=\"#mc2137475b9\" y=\"209.895109\"/>\n     <use style=\"fill:#1f77b4;stroke:#1f77b4;\" x=\"102.256976\" xlink:href=\"#mc2137475b9\" y=\"210.365446\"/>\n     <use style=\"fill:#1f77b4;stroke:#1f77b4;\" x=\"102.000541\" xlink:href=\"#mc2137475b9\" y=\"207.20917\"/>\n     <use style=\"fill:#1f77b4;stroke:#1f77b4;\" x=\"101.814326\" xlink:href=\"#mc2137475b9\" y=\"214.76263\"/>\n     <use style=\"fill:#1f77b4;stroke:#1f77b4;\" x=\"101.783089\" xlink:href=\"#mc2137475b9\" y=\"206.88236\"/>\n     <use style=\"fill:#1f77b4;stroke:#1f77b4;\" x=\"101.443764\" xlink:href=\"#mc2137475b9\" y=\"211.774581\"/>\n     <use style=\"fill:#1f77b4;stroke:#1f77b4;\" x=\"101.07434\" xlink:href=\"#mc2137475b9\" y=\"208.844565\"/>\n     <use style=\"fill:#1f77b4;stroke:#1f77b4;\" x=\"101.034584\" xlink:href=\"#mc2137475b9\" y=\"216.708241\"/>\n     <use style=\"fill:#1f77b4;stroke:#1f77b4;\" x=\"100.889133\" xlink:href=\"#mc2137475b9\" y=\"205.819231\"/>\n     <use style=\"fill:#1f77b4;stroke:#1f77b4;\" x=\"101.029079\" xlink:href=\"#mc2137475b9\" y=\"211.86512\"/>\n     <use style=\"fill:#1f77b4;stroke:#1f77b4;\" x=\"100.770643\" xlink:href=\"#mc2137475b9\" y=\"212.974531\"/>\n     <use style=\"fill:#1f77b4;stroke:#1f77b4;\" x=\"100.403754\" xlink:href=\"#mc2137475b9\" y=\"211.08429\"/>\n     <use style=\"fill:#1f77b4;stroke:#1f77b4;\" x=\"100.526214\" xlink:href=\"#mc2137475b9\" y=\"213.538169\"/>\n     <use style=\"fill:#1f77b4;stroke:#1f77b4;\" x=\"100.084256\" xlink:href=\"#mc2137475b9\" y=\"208.950581\"/>\n     <use style=\"fill:#1f77b4;stroke:#1f77b4;\" x=\"99.848077\" xlink:href=\"#mc2137475b9\" y=\"209.652457\"/>\n     <use style=\"fill:#1f77b4;stroke:#1f77b4;\" x=\"99.697829\" xlink:href=\"#mc2137475b9\" y=\"210.635983\"/>\n     <use style=\"fill:#1f77b4;stroke:#1f77b4;\" x=\"99.49979\" xlink:href=\"#mc2137475b9\" y=\"209.678384\"/>\n     <use style=\"fill:#1f77b4;stroke:#1f77b4;\" x=\"99.416649\" xlink:href=\"#mc2137475b9\" y=\"216.525129\"/>\n     <use style=\"fill:#1f77b4;stroke:#1f77b4;\" x=\"99.306869\" xlink:href=\"#mc2137475b9\" y=\"208.957312\"/>\n     <use style=\"fill:#1f77b4;stroke:#1f77b4;\" x=\"99.102704\" xlink:href=\"#mc2137475b9\" y=\"216.062757\"/>\n     <use style=\"fill:#1f77b4;stroke:#1f77b4;\" x=\"99.183197\" xlink:href=\"#mc2137475b9\" y=\"211.751348\"/>\n     <use style=\"fill:#1f77b4;stroke:#1f77b4;\" x=\"98.642305\" xlink:href=\"#mc2137475b9\" y=\"217.201317\"/>\n     <use style=\"fill:#1f77b4;stroke:#1f77b4;\" x=\"98.311306\" xlink:href=\"#mc2137475b9\" y=\"213.015192\"/>\n     <use style=\"fill:#1f77b4;stroke:#1f77b4;\" x=\"98.342308\" xlink:href=\"#mc2137475b9\" y=\"212.471989\"/>\n     <use style=\"fill:#1f77b4;stroke:#1f77b4;\" x=\"98.351188\" xlink:href=\"#mc2137475b9\" y=\"210.826517\"/>\n     <use style=\"fill:#1f77b4;stroke:#1f77b4;\" x=\"98.089446\" xlink:href=\"#mc2137475b9\" y=\"213.852319\"/>\n     <use style=\"fill:#1f77b4;stroke:#1f77b4;\" x=\"98.038094\" xlink:href=\"#mc2137475b9\" y=\"218.913512\"/>\n     <use style=\"fill:#1f77b4;stroke:#1f77b4;\" x=\"97.598594\" xlink:href=\"#mc2137475b9\" y=\"212.825146\"/>\n     <use style=\"fill:#1f77b4;stroke:#1f77b4;\" x=\"97.671736\" xlink:href=\"#mc2137475b9\" y=\"214.196991\"/>\n     <use style=\"fill:#1f77b4;stroke:#1f77b4;\" x=\"97.401641\" xlink:href=\"#mc2137475b9\" y=\"218.014256\"/>\n     <use style=\"fill:#1f77b4;stroke:#1f77b4;\" x=\"97.247381\" xlink:href=\"#mc2137475b9\" y=\"217.090592\"/>\n     <use style=\"fill:#1f77b4;stroke:#1f77b4;\" x=\"96.962551\" xlink:href=\"#mc2137475b9\" y=\"217.481596\"/>\n     <use style=\"fill:#1f77b4;stroke:#1f77b4;\" x=\"96.981604\" xlink:href=\"#mc2137475b9\" y=\"216.067568\"/>\n     <use style=\"fill:#1f77b4;stroke:#1f77b4;\" x=\"96.993896\" xlink:href=\"#mc2137475b9\" y=\"215.53032\"/>\n     <use style=\"fill:#1f77b4;stroke:#1f77b4;\" x=\"96.651678\" xlink:href=\"#mc2137475b9\" y=\"213.869771\"/>\n     <use style=\"fill:#1f77b4;stroke:#1f77b4;\" x=\"96.598982\" xlink:href=\"#mc2137475b9\" y=\"210.823179\"/>\n     <use style=\"fill:#1f77b4;stroke:#1f77b4;\" x=\"96.468755\" xlink:href=\"#mc2137475b9\" y=\"211.510407\"/>\n     <use style=\"fill:#1f77b4;stroke:#1f77b4;\" x=\"96.249036\" xlink:href=\"#mc2137475b9\" y=\"213.27626\"/>\n     <use style=\"fill:#1f77b4;stroke:#1f77b4;\" x=\"95.986478\" xlink:href=\"#mc2137475b9\" y=\"214.518146\"/>\n     <use style=\"fill:#1f77b4;stroke:#1f77b4;\" x=\"114.949507\" xlink:href=\"#mc2137475b9\" y=\"202.169745\"/>\n     <use style=\"fill:#1f77b4;stroke:#1f77b4;\" x=\"114.863447\" xlink:href=\"#mc2137475b9\" y=\"196.698141\"/>\n     <use style=\"fill:#1f77b4;stroke:#1f77b4;\" x=\"114.166901\" xlink:href=\"#mc2137475b9\" y=\"202.340139\"/>\n     <use style=\"fill:#1f77b4;stroke:#1f77b4;\" x=\"114.441201\" xlink:href=\"#mc2137475b9\" y=\"202.309346\"/>\n     <use style=\"fill:#1f77b4;stroke:#1f77b4;\" x=\"114.457284\" xlink:href=\"#mc2137475b9\" y=\"205.381908\"/>\n     <use style=\"fill:#1f77b4;stroke:#1f77b4;\" x=\"114.066354\" xlink:href=\"#mc2137475b9\" y=\"207.48129\"/>\n     <use style=\"fill:#1f77b4;stroke:#1f77b4;\" x=\"113.729985\" xlink:href=\"#mc2137475b9\" y=\"202.69865\"/>\n     <use style=\"fill:#1f77b4;stroke:#1f77b4;\" x=\"113.394142\" xlink:href=\"#mc2137475b9\" y=\"205.752219\"/>\n     <use style=\"fill:#1f77b4;stroke:#1f77b4;\" x=\"113.051812\" xlink:href=\"#mc2137475b9\" y=\"201.401883\"/>\n     <use style=\"fill:#1f77b4;stroke:#1f77b4;\" x=\"113.280974\" xlink:href=\"#mc2137475b9\" y=\"199.918527\"/>\n     <use style=\"fill:#1f77b4;stroke:#1f77b4;\" x=\"112.889557\" xlink:href=\"#mc2137475b9\" y=\"206.045314\"/>\n     <use style=\"fill:#1f77b4;stroke:#1f77b4;\" x=\"112.655914\" xlink:href=\"#mc2137475b9\" y=\"213.262109\"/>\n     <use style=\"fill:#1f77b4;stroke:#1f77b4;\" x=\"112.293846\" xlink:href=\"#mc2137475b9\" y=\"195.801441\"/>\n     <use style=\"fill:#1f77b4;stroke:#1f77b4;\" x=\"111.995904\" xlink:href=\"#mc2137475b9\" y=\"203.339971\"/>\n     <use style=\"fill:#1f77b4;stroke:#1f77b4;\" x=\"112.061039\" xlink:href=\"#mc2137475b9\" y=\"209.338418\"/>\n     <use style=\"fill:#1f77b4;stroke:#1f77b4;\" x=\"111.784547\" xlink:href=\"#mc2137475b9\" y=\"200.539916\"/>\n     <use style=\"fill:#1f77b4;stroke:#1f77b4;\" x=\"111.426118\" xlink:href=\"#mc2137475b9\" y=\"203.641988\"/>\n     <use style=\"fill:#1f77b4;stroke:#1f77b4;\" x=\"111.398563\" xlink:href=\"#mc2137475b9\" y=\"195.459941\"/>\n     <use style=\"fill:#1f77b4;stroke:#1f77b4;\" x=\"111.23092\" xlink:href=\"#mc2137475b9\" y=\"201.627942\"/>\n     <use style=\"fill:#1f77b4;stroke:#1f77b4;\" x=\"110.978901\" xlink:href=\"#mc2137475b9\" y=\"203.737363\"/>\n     <use style=\"fill:#1f77b4;stroke:#1f77b4;\" x=\"110.516337\" xlink:href=\"#mc2137475b9\" y=\"202.416202\"/>\n     <use style=\"fill:#1f77b4;stroke:#1f77b4;\" x=\"110.871439\" xlink:href=\"#mc2137475b9\" y=\"211.288718\"/>\n     <use style=\"fill:#1f77b4;stroke:#1f77b4;\" x=\"110.415129\" xlink:href=\"#mc2137475b9\" y=\"202.355726\"/>\n     <use style=\"fill:#1f77b4;stroke:#1f77b4;\" x=\"109.830127\" xlink:href=\"#mc2137475b9\" y=\"206.445615\"/>\n     <use style=\"fill:#1f77b4;stroke:#1f77b4;\" x=\"110.007721\" xlink:href=\"#mc2137475b9\" y=\"211.878525\"/>\n     <use style=\"fill:#1f77b4;stroke:#1f77b4;\" x=\"109.657954\" xlink:href=\"#mc2137475b9\" y=\"206.949531\"/>\n     <use style=\"fill:#1f77b4;stroke:#1f77b4;\" x=\"109.327704\" xlink:href=\"#mc2137475b9\" y=\"200.449107\"/>\n     <use style=\"fill:#1f77b4;stroke:#1f77b4;\" x=\"109.239946\" xlink:href=\"#mc2137475b9\" y=\"205.587489\"/>\n     <use style=\"fill:#1f77b4;stroke:#1f77b4;\" x=\"109.011193\" xlink:href=\"#mc2137475b9\" y=\"204.697048\"/>\n     <use style=\"fill:#1f77b4;stroke:#1f77b4;\" x=\"108.954834\" xlink:href=\"#mc2137475b9\" y=\"202.060275\"/>\n     <use style=\"fill:#1f77b4;stroke:#1f77b4;\" x=\"108.419394\" xlink:href=\"#mc2137475b9\" y=\"210.27908\"/>\n     <use style=\"fill:#1f77b4;stroke:#1f77b4;\" x=\"107.911058\" xlink:href=\"#mc2137475b9\" y=\"203.37501\"/>\n     <use style=\"fill:#1f77b4;stroke:#1f77b4;\" x=\"108.240916\" xlink:href=\"#mc2137475b9\" y=\"207.987336\"/>\n     <use style=\"fill:#1f77b4;stroke:#1f77b4;\" x=\"107.589942\" xlink:href=\"#mc2137475b9\" y=\"214.600053\"/>\n     <use style=\"fill:#1f77b4;stroke:#1f77b4;\" x=\"107.907927\" xlink:href=\"#mc2137475b9\" y=\"209.057633\"/>\n     <use style=\"fill:#1f77b4;stroke:#1f77b4;\" x=\"107.618585\" xlink:href=\"#mc2137475b9\" y=\"205.466083\"/>\n     <use style=\"fill:#1f77b4;stroke:#1f77b4;\" x=\"107.400302\" xlink:href=\"#mc2137475b9\" y=\"203.025484\"/>\n     <use style=\"fill:#1f77b4;stroke:#1f77b4;\" x=\"106.541826\" xlink:href=\"#mc2137475b9\" y=\"211.215036\"/>\n     <use style=\"fill:#1f77b4;stroke:#1f77b4;\" x=\"106.821674\" xlink:href=\"#mc2137475b9\" y=\"207.320867\"/>\n     <use style=\"fill:#1f77b4;stroke:#1f77b4;\" x=\"106.519925\" xlink:href=\"#mc2137475b9\" y=\"210.636315\"/>\n     <use style=\"fill:#1f77b4;stroke:#1f77b4;\" x=\"106.630833\" xlink:href=\"#mc2137475b9\" y=\"205.532364\"/>\n     <use style=\"fill:#1f77b4;stroke:#1f77b4;\" x=\"106.38554\" xlink:href=\"#mc2137475b9\" y=\"211.424483\"/>\n     <use style=\"fill:#1f77b4;stroke:#1f77b4;\" x=\"106.108698\" xlink:href=\"#mc2137475b9\" y=\"210.769288\"/>\n     <use style=\"fill:#1f77b4;stroke:#1f77b4;\" x=\"105.973654\" xlink:href=\"#mc2137475b9\" y=\"210.170052\"/>\n     <use style=\"fill:#1f77b4;stroke:#1f77b4;\" x=\"105.612566\" xlink:href=\"#mc2137475b9\" y=\"208.105041\"/>\n     <use style=\"fill:#1f77b4;stroke:#1f77b4;\" x=\"105.57655\" xlink:href=\"#mc2137475b9\" y=\"201.003803\"/>\n     <use style=\"fill:#1f77b4;stroke:#1f77b4;\" x=\"105.506978\" xlink:href=\"#mc2137475b9\" y=\"212.801732\"/>\n     <use style=\"fill:#1f77b4;stroke:#1f77b4;\" x=\"104.964567\" xlink:href=\"#mc2137475b9\" y=\"204.651159\"/>\n     <use style=\"fill:#1f77b4;stroke:#1f77b4;\" x=\"104.748346\" xlink:href=\"#mc2137475b9\" y=\"211.391254\"/>\n     <use style=\"fill:#1f77b4;stroke:#1f77b4;\" x=\"104.658932\" xlink:href=\"#mc2137475b9\" y=\"208.000977\"/>\n     <use style=\"fill:#1f77b4;stroke:#1f77b4;\" x=\"104.494525\" xlink:href=\"#mc2137475b9\" y=\"209.150461\"/>\n     <use style=\"fill:#1f77b4;stroke:#1f77b4;\" x=\"104.180674\" xlink:href=\"#mc2137475b9\" y=\"211.545024\"/>\n     <use style=\"fill:#1f77b4;stroke:#1f77b4;\" x=\"104.442436\" xlink:href=\"#mc2137475b9\" y=\"207.060959\"/>\n     <use style=\"fill:#1f77b4;stroke:#1f77b4;\" x=\"104.150198\" xlink:href=\"#mc2137475b9\" y=\"209.987311\"/>\n     <use style=\"fill:#1f77b4;stroke:#1f77b4;\" x=\"103.959362\" xlink:href=\"#mc2137475b9\" y=\"211.018377\"/>\n     <use style=\"fill:#1f77b4;stroke:#1f77b4;\" x=\"103.483814\" xlink:href=\"#mc2137475b9\" y=\"210.0271\"/>\n     <use style=\"fill:#1f77b4;stroke:#1f77b4;\" x=\"103.435156\" xlink:href=\"#mc2137475b9\" y=\"209.033332\"/>\n     <use style=\"fill:#1f77b4;stroke:#1f77b4;\" x=\"103.118851\" xlink:href=\"#mc2137475b9\" y=\"215.478623\"/>\n     <use style=\"fill:#1f77b4;stroke:#1f77b4;\" x=\"103.260682\" xlink:href=\"#mc2137475b9\" y=\"208.139983\"/>\n     <use style=\"fill:#1f77b4;stroke:#1f77b4;\" x=\"103.108846\" xlink:href=\"#mc2137475b9\" y=\"207.414198\"/>\n     <use style=\"fill:#1f77b4;stroke:#1f77b4;\" x=\"102.670613\" xlink:href=\"#mc2137475b9\" y=\"204.543413\"/>\n     <use style=\"fill:#1f77b4;stroke:#1f77b4;\" x=\"102.460172\" xlink:href=\"#mc2137475b9\" y=\"213.028717\"/>\n     <use style=\"fill:#1f77b4;stroke:#1f77b4;\" x=\"102.452235\" xlink:href=\"#mc2137475b9\" y=\"213.028727\"/>\n     <use style=\"fill:#1f77b4;stroke:#1f77b4;\" x=\"102.400894\" xlink:href=\"#mc2137475b9\" y=\"211.202168\"/>\n     <use style=\"fill:#1f77b4;stroke:#1f77b4;\" x=\"102.205513\" xlink:href=\"#mc2137475b9\" y=\"210.921505\"/>\n     <use style=\"fill:#1f77b4;stroke:#1f77b4;\" x=\"101.951167\" xlink:href=\"#mc2137475b9\" y=\"207.389321\"/>\n     <use style=\"fill:#1f77b4;stroke:#1f77b4;\" x=\"101.572516\" xlink:href=\"#mc2137475b9\" y=\"212.952894\"/>\n     <use style=\"fill:#1f77b4;stroke:#1f77b4;\" x=\"101.333275\" xlink:href=\"#mc2137475b9\" y=\"212.6929\"/>\n     <use style=\"fill:#1f77b4;stroke:#1f77b4;\" x=\"101.286863\" xlink:href=\"#mc2137475b9\" y=\"207.728471\"/>\n     <use style=\"fill:#1f77b4;stroke:#1f77b4;\" x=\"101.066645\" xlink:href=\"#mc2137475b9\" y=\"212.620537\"/>\n     <use style=\"fill:#1f77b4;stroke:#1f77b4;\" x=\"101.115757\" xlink:href=\"#mc2137475b9\" y=\"214.005193\"/>\n     <use style=\"fill:#1f77b4;stroke:#1f77b4;\" x=\"100.908149\" xlink:href=\"#mc2137475b9\" y=\"212.111441\"/>\n     <use style=\"fill:#1f77b4;stroke:#1f77b4;\" x=\"100.556849\" xlink:href=\"#mc2137475b9\" y=\"209.425539\"/>\n     <use style=\"fill:#1f77b4;stroke:#1f77b4;\" x=\"100.452135\" xlink:href=\"#mc2137475b9\" y=\"207.237962\"/>\n     <use style=\"fill:#1f77b4;stroke:#1f77b4;\" x=\"100.471893\" xlink:href=\"#mc2137475b9\" y=\"211.190287\"/>\n     <use style=\"fill:#1f77b4;stroke:#1f77b4;\" x=\"100.007089\" xlink:href=\"#mc2137475b9\" y=\"213.506342\"/>\n     <use style=\"fill:#1f77b4;stroke:#1f77b4;\" x=\"99.920949\" xlink:href=\"#mc2137475b9\" y=\"208.135896\"/>\n     <use style=\"fill:#1f77b4;stroke:#1f77b4;\" x=\"99.69289\" xlink:href=\"#mc2137475b9\" y=\"205.856823\"/>\n     <use style=\"fill:#1f77b4;stroke:#1f77b4;\" x=\"99.452474\" xlink:href=\"#mc2137475b9\" y=\"211.355342\"/>\n     <use style=\"fill:#1f77b4;stroke:#1f77b4;\" x=\"99.488449\" xlink:href=\"#mc2137475b9\" y=\"216.686027\"/>\n     <use style=\"fill:#1f77b4;stroke:#1f77b4;\" x=\"99.210387\" xlink:href=\"#mc2137475b9\" y=\"211.027779\"/>\n     <use style=\"fill:#1f77b4;stroke:#1f77b4;\" x=\"99.077437\" xlink:href=\"#mc2137475b9\" y=\"211.392285\"/>\n     <use style=\"fill:#1f77b4;stroke:#1f77b4;\" x=\"99.038443\" xlink:href=\"#mc2137475b9\" y=\"213.748746\"/>\n     <use style=\"fill:#1f77b4;stroke:#1f77b4;\" x=\"98.510657\" xlink:href=\"#mc2137475b9\" y=\"213.209378\"/>\n     <use style=\"fill:#1f77b4;stroke:#1f77b4;\" x=\"98.599345\" xlink:href=\"#mc2137475b9\" y=\"212.858857\"/>\n     <use style=\"fill:#1f77b4;stroke:#1f77b4;\" x=\"98.320579\" xlink:href=\"#mc2137475b9\" y=\"210.467387\"/>\n     <use style=\"fill:#1f77b4;stroke:#1f77b4;\" x=\"98.201038\" xlink:href=\"#mc2137475b9\" y=\"206.178441\"/>\n     <use style=\"fill:#1f77b4;stroke:#1f77b4;\" x=\"98.137348\" xlink:href=\"#mc2137475b9\" y=\"217.475094\"/>\n     <use style=\"fill:#1f77b4;stroke:#1f77b4;\" x=\"97.983228\" xlink:href=\"#mc2137475b9\" y=\"207.390843\"/>\n     <use style=\"fill:#1f77b4;stroke:#1f77b4;\" x=\"97.794676\" xlink:href=\"#mc2137475b9\" y=\"214.302688\"/>\n     <use style=\"fill:#1f77b4;stroke:#1f77b4;\" x=\"97.727759\" xlink:href=\"#mc2137475b9\" y=\"209.498386\"/>\n     <use style=\"fill:#1f77b4;stroke:#1f77b4;\" x=\"97.71204\" xlink:href=\"#mc2137475b9\" y=\"212.923064\"/>\n     <use style=\"fill:#1f77b4;stroke:#1f77b4;\" x=\"97.319497\" xlink:href=\"#mc2137475b9\" y=\"215.513758\"/>\n     <use style=\"fill:#1f77b4;stroke:#1f77b4;\" x=\"97.046653\" xlink:href=\"#mc2137475b9\" y=\"208.883618\"/>\n     <use style=\"fill:#1f77b4;stroke:#1f77b4;\" x=\"97.021464\" xlink:href=\"#mc2137475b9\" y=\"213.839929\"/>\n     <use style=\"fill:#1f77b4;stroke:#1f77b4;\" x=\"96.838028\" xlink:href=\"#mc2137475b9\" y=\"210.211063\"/>\n     <use style=\"fill:#1f77b4;stroke:#1f77b4;\" x=\"96.794126\" xlink:href=\"#mc2137475b9\" y=\"211.495851\"/>\n     <use style=\"fill:#1f77b4;stroke:#1f77b4;\" x=\"96.493002\" xlink:href=\"#mc2137475b9\" y=\"217.128271\"/>\n    </g>\n   </g>\n   <g id=\"patch_3\">\n    <path d=\"M 56.50625 239.758125 \nL 56.50625 22.318125 \n\" style=\"fill:none;stroke:#000000;stroke-linecap:square;stroke-linejoin:miter;stroke-width:0.8;\"/>\n   </g>\n   <g id=\"patch_4\">\n    <path d=\"M 391.30625 239.758125 \nL 391.30625 22.318125 \n\" style=\"fill:none;stroke:#000000;stroke-linecap:square;stroke-linejoin:miter;stroke-width:0.8;\"/>\n   </g>\n   <g id=\"patch_5\">\n    <path d=\"M 56.50625 239.758125 \nL 391.30625 239.758125 \n\" style=\"fill:none;stroke:#000000;stroke-linecap:square;stroke-linejoin:miter;stroke-width:0.8;\"/>\n   </g>\n   <g id=\"patch_6\">\n    <path d=\"M 56.50625 22.318125 \nL 391.30625 22.318125 \n\" style=\"fill:none;stroke:#000000;stroke-linecap:square;stroke-linejoin:miter;stroke-width:0.8;\"/>\n   </g>\n   <g id=\"text_17\">\n    <!-- 2-layer Gated Recurrent Unit -->\n    <defs>\n     <path d=\"M 4.890625 31.390625 \nL 31.203125 31.390625 \nL 31.203125 23.390625 \nL 4.890625 23.390625 \nz\n\" id=\"DejaVuSans-45\"/>\n     <path d=\"M 32.171875 -5.078125 \nQ 28.375 -14.84375 24.75 -17.8125 \nQ 21.140625 -20.796875 15.09375 -20.796875 \nL 7.90625 -20.796875 \nL 7.90625 -13.28125 \nL 13.1875 -13.28125 \nQ 16.890625 -13.28125 18.9375 -11.515625 \nQ 21 -9.765625 23.484375 -3.21875 \nL 25.09375 0.875 \nL 2.984375 54.6875 \nL 12.5 54.6875 \nL 29.59375 11.921875 \nL 46.6875 54.6875 \nL 56.203125 54.6875 \nz\n\" id=\"DejaVuSans-121\"/>\n     <path d=\"M 59.515625 10.40625 \nL 59.515625 29.984375 \nL 43.40625 29.984375 \nL 43.40625 38.09375 \nL 69.28125 38.09375 \nL 69.28125 6.78125 \nQ 63.578125 2.734375 56.6875 0.65625 \nQ 49.8125 -1.421875 42 -1.421875 \nQ 24.90625 -1.421875 15.25 8.5625 \nQ 5.609375 18.5625 5.609375 36.375 \nQ 5.609375 54.25 15.25 64.234375 \nQ 24.90625 74.21875 42 74.21875 \nQ 49.125 74.21875 55.546875 72.453125 \nQ 61.96875 70.703125 67.390625 67.28125 \nL 67.390625 56.78125 \nQ 61.921875 61.421875 55.765625 63.765625 \nQ 49.609375 66.109375 42.828125 66.109375 \nQ 29.4375 66.109375 22.71875 58.640625 \nQ 16.015625 51.171875 16.015625 36.375 \nQ 16.015625 21.625 22.71875 14.15625 \nQ 29.4375 6.6875 42.828125 6.6875 \nQ 48.046875 6.6875 52.140625 7.59375 \nQ 56.25 8.5 59.515625 10.40625 \nz\n\" id=\"DejaVuSans-71\"/>\n     <path d=\"M 44.390625 34.1875 \nQ 47.5625 33.109375 50.5625 29.59375 \nQ 53.5625 26.078125 56.59375 19.921875 \nL 66.609375 0 \nL 56 0 \nL 46.6875 18.703125 \nQ 43.0625 26.03125 39.671875 28.421875 \nQ 36.28125 30.8125 30.421875 30.8125 \nL 19.671875 30.8125 \nL 19.671875 0 \nL 9.8125 0 \nL 9.8125 72.90625 \nL 32.078125 72.90625 \nQ 44.578125 72.90625 50.734375 67.671875 \nQ 56.890625 62.453125 56.890625 51.90625 \nQ 56.890625 45.015625 53.6875 40.46875 \nQ 50.484375 35.9375 44.390625 34.1875 \nz\nM 19.671875 64.796875 \nL 19.671875 38.921875 \nL 32.078125 38.921875 \nQ 39.203125 38.921875 42.84375 42.21875 \nQ 46.484375 45.515625 46.484375 51.90625 \nQ 46.484375 58.296875 42.84375 61.546875 \nQ 39.203125 64.796875 32.078125 64.796875 \nz\n\" id=\"DejaVuSans-82\"/>\n     <path d=\"M 8.6875 72.90625 \nL 18.609375 72.90625 \nL 18.609375 28.609375 \nQ 18.609375 16.890625 22.84375 11.734375 \nQ 27.09375 6.59375 36.625 6.59375 \nQ 46.09375 6.59375 50.34375 11.734375 \nQ 54.59375 16.890625 54.59375 28.609375 \nL 54.59375 72.90625 \nL 64.5 72.90625 \nL 64.5 27.390625 \nQ 64.5 13.140625 57.4375 5.859375 \nQ 50.390625 -1.421875 36.625 -1.421875 \nQ 22.796875 -1.421875 15.734375 5.859375 \nQ 8.6875 13.140625 8.6875 27.390625 \nz\n\" id=\"DejaVuSans-85\"/>\n    </defs>\n    <g transform=\"translate(137.525937 16.318125)scale(0.12 -0.12)\">\n     <use xlink:href=\"#DejaVuSans-50\"/>\n     <use x=\"63.623047\" xlink:href=\"#DejaVuSans-45\"/>\n     <use x=\"99.707031\" xlink:href=\"#DejaVuSans-108\"/>\n     <use x=\"127.490234\" xlink:href=\"#DejaVuSans-97\"/>\n     <use x=\"188.769531\" xlink:href=\"#DejaVuSans-121\"/>\n     <use x=\"247.949219\" xlink:href=\"#DejaVuSans-101\"/>\n     <use x=\"309.472656\" xlink:href=\"#DejaVuSans-114\"/>\n     <use x=\"350.585938\" xlink:href=\"#DejaVuSans-32\"/>\n     <use x=\"382.373047\" xlink:href=\"#DejaVuSans-71\"/>\n     <use x=\"459.863281\" xlink:href=\"#DejaVuSans-97\"/>\n     <use x=\"521.142578\" xlink:href=\"#DejaVuSans-116\"/>\n     <use x=\"560.351562\" xlink:href=\"#DejaVuSans-101\"/>\n     <use x=\"621.875\" xlink:href=\"#DejaVuSans-100\"/>\n     <use x=\"685.351562\" xlink:href=\"#DejaVuSans-32\"/>\n     <use x=\"717.138672\" xlink:href=\"#DejaVuSans-82\"/>\n     <use x=\"782.121094\" xlink:href=\"#DejaVuSans-101\"/>\n     <use x=\"843.644531\" xlink:href=\"#DejaVuSans-99\"/>\n     <use x=\"898.625\" xlink:href=\"#DejaVuSans-117\"/>\n     <use x=\"962.003906\" xlink:href=\"#DejaVuSans-114\"/>\n     <use x=\"1001.367188\" xlink:href=\"#DejaVuSans-114\"/>\n     <use x=\"1040.230469\" xlink:href=\"#DejaVuSans-101\"/>\n     <use x=\"1101.753906\" xlink:href=\"#DejaVuSans-110\"/>\n     <use x=\"1165.132812\" xlink:href=\"#DejaVuSans-116\"/>\n     <use x=\"1204.341797\" xlink:href=\"#DejaVuSans-32\"/>\n     <use x=\"1236.128906\" xlink:href=\"#DejaVuSans-85\"/>\n     <use x=\"1309.322266\" xlink:href=\"#DejaVuSans-110\"/>\n     <use x=\"1372.701172\" xlink:href=\"#DejaVuSans-105\"/>\n     <use x=\"1400.484375\" xlink:href=\"#DejaVuSans-116\"/>\n    </g>\n   </g>\n  </g>\n </g>\n <defs>\n  <clipPath id=\"p6b693a6d43\">\n   <rect height=\"217.44\" width=\"334.8\" x=\"56.50625\" y=\"22.318125\"/>\n  </clipPath>\n </defs>\n</svg>\n"
          },
          "metadata": {
            "needs_background": "light"
          }
        }
      ]
    },
    {
      "cell_type": "code",
      "source": [
        "print(\"Mean squared error:\", np.mean((preds-a[:,-1:].squeeze(-1))**2))"
      ],
      "metadata": {
        "colab": {
          "base_uri": "https://localhost:8080/"
        },
        "id": "DeYInWMf06xA",
        "outputId": "572fb983-a1c4-44f8-9059-a903a0b065ea"
      },
      "execution_count": 13,
      "outputs": [
        {
          "output_type": "stream",
          "name": "stdout",
          "text": [
            "Mean squared error: 2.3026233086290563e-06\n"
          ]
        }
      ]
    },
    {
      "cell_type": "markdown",
      "source": [
        "## Physics-informed model\n",
        "Now, we inject the physics-based knowledge we have of the fatigue crack propagation. More specifically, we make use of the Paris crack law. To simulate that we do not have a complete physics-based model of our problem, we assume that relationship between the sensor measurements $\\Delta S$ and the stress-intensity range $\\Delta K$ is unknown.\n",
        "\n",
        "Here, we use a slightly different approach to the one used by the [paper authors](https://github.com/PML-UCF/pinn/tree/master/samples/cumulative_damage/airplane_fleet_crack_growth). Instead of processing one time-step at a time recursively, we increase the input window to include several time steps (10, for example). This slightly breaks the strict adherence to the Paris law but also gives a shorter for-loop.\n",
        "\n",
        "For each step, the $\\Delta S$ (length=number of timesteps) and current crack length estimate $a_t$ is concatenated and embedded via an MLP (Encoder module below) to a latent space of size [batch_size,1]. This is then passed through a sigmoid and then scaled up to represent the stress-intensity range $\\Delta K$. This estimate is then in turn used in the Paris law layer to get the crack length increment $\\Delta a_t$. The input to the next timestep is then simply $a_t = a_{t-w} + \\Delta a_t$, where $w$ is the sequence length."
      ],
      "metadata": {
        "id": "lfz-t6Mr-Hv8"
      }
    },
    {
      "cell_type": "code",
      "source": [
        "# New DataLoaders because we do not min-max scale the labels for the physics-informed model\n",
        "\n",
        "X = torch.from_numpy(S_train).to(device)\n",
        "y = torch.from_numpy(a_train).to(device)\n",
        "\n",
        "# Train DataLoader\n",
        "train_loader = data_utils.DataLoader(data_utils.TensorDataset(X, y),\n",
        "                                     batch_size=batch_size, shuffle=True)\n",
        "\n",
        "# Test DataLoader\n",
        "X_test = torch.from_numpy(S).to(device)\n",
        "y_test = torch.from_numpy(a).to(device)\n",
        "\n",
        "test_loader = data_utils.DataLoader(data_utils.TensorDataset(X_test, y_test),\n",
        "                                     batch_size=batch_size, shuffle=False)"
      ],
      "metadata": {
        "id": "4Wh2VPdU2rxg"
      },
      "execution_count": 14,
      "outputs": []
    },
    {
      "cell_type": "code",
      "source": [
        "class ParisLaw(nn.Module):\n",
        "    def __init__(self, C, m):\n",
        "        super().__init__()\n",
        "        self.m = nn.Parameter(torch.tensor([m]),requires_grad=False)\n",
        "        self.C = nn.Parameter(torch.tensor([C]),requires_grad=False)\n",
        "\n",
        "    def forward(self,K):\n",
        "        x = torch.mul(self.C, torch.pow(K,self.m))\n",
        "        return x\n",
        "\n",
        "class Encoder(nn.Module):\n",
        "    def __init__(self, seq_len, hidden_dim):\n",
        "        super().__init__()\n",
        "        self.encoder = nn.Sequential(\n",
        "            nn.Linear(seq_len+1,hidden_dim),\n",
        "            nn.ELU(),\n",
        "            nn.Linear(hidden_dim,hidden_dim),\n",
        "            nn.ELU(),\n",
        "            nn.Linear(hidden_dim,hidden_dim),\n",
        "            nn.ELU(),\n",
        "            nn.Linear(hidden_dim,hidden_dim),\n",
        "            nn.ELU(),\n",
        "            nn.Linear(hidden_dim,1),\n",
        "        )\n",
        "\n",
        "        for m in self.modules():\n",
        "            if isinstance(m, nn.Linear):\n",
        "                torch.nn.init.kaiming_normal_(m.weight)\n",
        "                torch.nn.init.zeros_(m.bias)\n",
        "\n",
        "    def forward(self,x):\n",
        "        x = self.encoder(x)\n",
        "        return x\n",
        "\n",
        "class ScalingLayer(nn.Module):\n",
        "    def __init__(self, scale, bias):\n",
        "        super().__init__()\n",
        "        self.scaling = nn.Linear(1,1)\n",
        "        nn.init.constant_(self.scaling.weight, scale)\n",
        "        nn.init.constant_(self.scaling.bias, bias)\n",
        "\n",
        "    def forward(self,x):\n",
        "        return self.scaling(x)\n",
        "\n",
        "class ParisPINN(nn.Module):\n",
        "    def __init__(self, batch_size, C, m, a0, seq_len, hidden_dim, scale, bias):\n",
        "        \"\"\"\n",
        "        Args:\n",
        "            batch_size (int): batch size\n",
        "            C (int): Paris law material constant\n",
        "            m (int): Paris law exponent\n",
        "            a0 (int): initial crack length\n",
        "            seq_len (int): sequence length\n",
        "            hidden_dim (int): number of neurons in the encoder MLPs\n",
        "            scale (int): weight init for the scaling layer\n",
        "            bias (int): bias init for the scaling layer\n",
        "        \"\"\"\n",
        "        super().__init__()\n",
        "        self.a0 = nn.Parameter(torch.ones(batch_size,1) * \\\n",
        "                               torch.tensor([a0]),requires_grad=False)\n",
        "        self.C = C\n",
        "        self.m = m\n",
        "        self.seq_len = seq_len\n",
        "        self.encoder = Encoder(seq_len, hidden_dim)\n",
        "        self.scaling = ScalingLayer(scale, bias)\n",
        "        self.a_scaling = ScalingLayer(30., 0)\n",
        "        self.parislaw = ParisLaw(C, m)\n",
        "        self.act = nn.Sigmoid()\n",
        "    \n",
        "    def forward(self,S):\n",
        "        a = []\n",
        "        a_t = self.a0\n",
        "\n",
        "        for t in range(S.size(1)//self.seq_len):\n",
        "            x = S[:,t*self.seq_len:(t+1)*self.seq_len,:].squeeze(-1)\n",
        "            x = torch.cat((x, self.a_scaling(a_t)), 1)\n",
        "            x = self.encoder(x)\n",
        "            x = self.act(x)\n",
        "            x = self.scaling(x)\n",
        "            x = self.parislaw(x)\n",
        "            a_t = a_t + x\n",
        "            a.append(a_t)\n",
        "\n",
        "        return torch.stack(a)"
      ],
      "metadata": {
        "id": "W-ZsKlZV_rtX"
      },
      "execution_count": 15,
      "outputs": []
    },
    {
      "cell_type": "code",
      "source": [
        "lr = 1e-3\n",
        "seq_len = 10      # Sequence length (n timesteps)\n",
        "hidden_dim = 32   # Size of hidden dim in encoder MLP\n",
        "scale = 50.       # Scales the stress-intensity estimate\n",
        "bias = 10.        # Bias added to stress-intensity estimate\n",
        "\n",
        "model = ParisPINN(batch_size, C, m, a0, seq_len, hidden_dim, scale, bias).to(device)\n",
        "optimizer = torch.optim.Adam(model.parameters(),lr=lr)"
      ],
      "metadata": {
        "id": "iIP-f4UN_rtZ"
      },
      "execution_count": 16,
      "outputs": []
    },
    {
      "cell_type": "code",
      "source": [
        "# Training loop\n",
        "n_epochs = 500\n",
        "loss_fn = nn.MSELoss()\n",
        "model.train()\n",
        "\n",
        "loop = tqdm(range(n_epochs),leave=False)\n",
        "for epoch in loop:\n",
        "    epoch_loss = 0.\n",
        "    for batch in train_loader:\n",
        "        \n",
        "        # Get inputs and targets\n",
        "        inputs, targets = batch\n",
        "        inputs = inputs.type(torch.cuda.FloatTensor)\n",
        "        targets = targets.type(torch.cuda.FloatTensor)\n",
        "\n",
        "        # Set optimizer grads to zero\n",
        "        optimizer.zero_grad()\n",
        "\n",
        "        # Get outpute of model\n",
        "        output = model(inputs)\n",
        "        output = output.permute(1,0,2).squeeze(-1)\n",
        "\n",
        "        # Slice.\n",
        "        output = output[:,-1:]\n",
        "        targets = targets[:,-1:]\n",
        "        \n",
        "        # Calculate loss\n",
        "        loss = loss_fn(output,targets)\n",
        "        epoch_loss += loss.item()\n",
        "\n",
        "        # Backprop & step optimizer\n",
        "        loss.backward()\n",
        "        optimizer.step()\n",
        "\n",
        "        # Update progress bar\n",
        "        loop.set_description(f\"Epoch [{epoch} / {n_epochs}]\")\n",
        "        loop.set_postfix(loss = loss.item())\n",
        "\n",
        "    #print(epoch, epoch_loss / len(train_loader))\n",
        "\n",
        "print('training done')\n",
        "print(f\"Final epoch loss: {loss.item()}\")"
      ],
      "metadata": {
        "colab": {
          "base_uri": "https://localhost:8080/",
          "height": 52,
          "referenced_widgets": [
            "3635e959320a48b08669e82e7da849bb",
            "6514453a39aa4f3ba7d17bb5554776cb",
            "48645e02d220490583c4526d90fb2510",
            "771f43a3bbc3406fa92b1afc20f4b172",
            "1a80231bab484d20beefd96f50995f77",
            "c1e48df2417849d0a6a469273706b4b0",
            "dd5159c1352e4e95bdc465ce62b36862",
            "9b65f13105b04defaf9a6eaa02968346",
            "31de976b80a9478c9e976c9df048c2bf",
            "7a1628a7dbdf47b79d2ba738d613a03b",
            "29ba5f36dcbd41f68cf59040c9c7c6dc"
          ]
        },
        "id": "YcyX2-e-3Y9L",
        "outputId": "1fb9ff0f-f038-4257-e04d-81074157144c"
      },
      "execution_count": 17,
      "outputs": [
        {
          "output_type": "display_data",
          "data": {
            "application/vnd.jupyter.widget-view+json": {
              "model_id": "3635e959320a48b08669e82e7da849bb",
              "version_minor": 0,
              "version_major": 2
            },
            "text/plain": [
              "  0%|          | 0/500 [00:00<?, ?it/s]"
            ]
          },
          "metadata": {}
        },
        {
          "output_type": "stream",
          "name": "stdout",
          "text": [
            "training done\n",
            "Final epoch loss: 1.4460107777836129e-08\n"
          ]
        }
      ]
    },
    {
      "cell_type": "code",
      "execution_count": 18,
      "metadata": {
        "colab": {
          "base_uri": "https://localhost:8080/",
          "height": 49,
          "referenced_widgets": [
            "3d96b629165c452b975d179e21618f5f",
            "160be361065744ae9e6b92ec0afd385a",
            "e08700cfeb4e40f28b68b7dd73751708",
            "721c70aa61af4a5f98819ee81bd7d777",
            "43e931c90abf4214aaea0895251e809c",
            "c43daab145c546b9849418db3f88cff3",
            "f11c7dc8ee5049339470b2f58c58031a",
            "a4ce723835e44ba6bf8f8db67217f7c8",
            "6ea0b33cb33647d2a7c8d01115f43f4d",
            "4e7a67cd03914521a1ea182f838bd45c",
            "1a07b68aea134d878f30c9d39953b9e7"
          ]
        },
        "outputId": "c51360da-9652-4bfe-afd3-94b446992d71",
        "id": "-a7RfQtKBTrW"
      },
      "outputs": [
        {
          "output_type": "display_data",
          "data": {
            "application/vnd.jupyter.widget-view+json": {
              "model_id": "3d96b629165c452b975d179e21618f5f",
              "version_minor": 0,
              "version_major": 2
            },
            "text/plain": [
              "  0%|          | 0/30 [00:00<?, ?it/s]"
            ]
          },
          "metadata": {}
        }
      ],
      "source": [
        "model.eval()\n",
        "\n",
        "preds = []\n",
        "\n",
        "for test_batch in tqdm(test_loader):\n",
        "    \n",
        "    # Get inputs and targets\n",
        "    inputs, targets = test_batch\n",
        "    inputs = inputs.type(torch.cuda.FloatTensor)\n",
        "    targets = targets.type(torch.cuda.FloatTensor)\n",
        "\n",
        "    # Get outpute of model\n",
        "    predictions = model(inputs)\n",
        "    predictions = predictions[-1:,:,:].squeeze(0)\n",
        "\n",
        "    predictions = predictions.detach().cpu().numpy()\n",
        "    preds.append(predictions)\n",
        "\n",
        "preds = np.concatenate(preds,0)"
      ]
    },
    {
      "cell_type": "code",
      "execution_count": 19,
      "metadata": {
        "colab": {
          "base_uri": "https://localhost:8080/",
          "height": 408
        },
        "id": "IPy8ziT2mKBM",
        "outputId": "2738d126-0ca6-4170-e183-bad4bc9a9b5d"
      },
      "outputs": [
        {
          "output_type": "execute_result",
          "data": {
            "text/plain": [
              "Text(0.5, 0, 'Actual crack length a [m]')"
            ]
          },
          "metadata": {},
          "execution_count": 19
        },
        {
          "output_type": "display_data",
          "data": {
            "text/plain": [
              "<Figure size 432x288 with 1 Axes>"
            ],
            "image/svg+xml": "<?xml version=\"1.0\" encoding=\"utf-8\" standalone=\"no\"?>\n<!DOCTYPE svg PUBLIC \"-//W3C//DTD SVG 1.1//EN\"\n  \"http://www.w3.org/Graphics/SVG/1.1/DTD/svg11.dtd\">\n<!-- Created with matplotlib (https://matplotlib.org/) -->\n<svg height=\"277.314375pt\" version=\"1.1\" viewBox=\"0 0 398.50625 277.314375\" width=\"398.50625pt\" xmlns=\"http://www.w3.org/2000/svg\" xmlns:xlink=\"http://www.w3.org/1999/xlink\">\n <defs>\n  <style type=\"text/css\">\n*{stroke-linecap:butt;stroke-linejoin:round;}\n  </style>\n </defs>\n <g id=\"figure_1\">\n  <g id=\"patch_1\">\n   <path d=\"M 0 277.314375 \nL 398.50625 277.314375 \nL 398.50625 0 \nL 0 0 \nz\n\" style=\"fill:none;\"/>\n  </g>\n  <g id=\"axes_1\">\n   <g id=\"patch_2\">\n    <path d=\"M 56.50625 239.758125 \nL 391.30625 239.758125 \nL 391.30625 22.318125 \nL 56.50625 22.318125 \nz\n\" style=\"fill:#ffffff;\"/>\n   </g>\n   <g id=\"matplotlib.axis_1\">\n    <g id=\"xtick_1\">\n     <g id=\"line2d_1\">\n      <defs>\n       <path d=\"M 0 0 \nL 0 3.5 \n\" id=\"m666456012c\" style=\"stroke:#000000;stroke-width:0.8;\"/>\n      </defs>\n      <g>\n       <use style=\"stroke:#000000;stroke-width:0.8;\" x=\"71.724432\" xlink:href=\"#m666456012c\" y=\"239.758125\"/>\n      </g>\n     </g>\n     <g id=\"text_1\">\n      <!-- 0.005 -->\n      <defs>\n       <path d=\"M 31.78125 66.40625 \nQ 24.171875 66.40625 20.328125 58.90625 \nQ 16.5 51.421875 16.5 36.375 \nQ 16.5 21.390625 20.328125 13.890625 \nQ 24.171875 6.390625 31.78125 6.390625 \nQ 39.453125 6.390625 43.28125 13.890625 \nQ 47.125 21.390625 47.125 36.375 \nQ 47.125 51.421875 43.28125 58.90625 \nQ 39.453125 66.40625 31.78125 66.40625 \nz\nM 31.78125 74.21875 \nQ 44.046875 74.21875 50.515625 64.515625 \nQ 56.984375 54.828125 56.984375 36.375 \nQ 56.984375 17.96875 50.515625 8.265625 \nQ 44.046875 -1.421875 31.78125 -1.421875 \nQ 19.53125 -1.421875 13.0625 8.265625 \nQ 6.59375 17.96875 6.59375 36.375 \nQ 6.59375 54.828125 13.0625 64.515625 \nQ 19.53125 74.21875 31.78125 74.21875 \nz\n\" id=\"DejaVuSans-48\"/>\n       <path d=\"M 10.6875 12.40625 \nL 21 12.40625 \nL 21 0 \nL 10.6875 0 \nz\n\" id=\"DejaVuSans-46\"/>\n       <path d=\"M 10.796875 72.90625 \nL 49.515625 72.90625 \nL 49.515625 64.59375 \nL 19.828125 64.59375 \nL 19.828125 46.734375 \nQ 21.96875 47.46875 24.109375 47.828125 \nQ 26.265625 48.1875 28.421875 48.1875 \nQ 40.625 48.1875 47.75 41.5 \nQ 54.890625 34.8125 54.890625 23.390625 \nQ 54.890625 11.625 47.5625 5.09375 \nQ 40.234375 -1.421875 26.90625 -1.421875 \nQ 22.3125 -1.421875 17.546875 -0.640625 \nQ 12.796875 0.140625 7.71875 1.703125 \nL 7.71875 11.625 \nQ 12.109375 9.234375 16.796875 8.0625 \nQ 21.484375 6.890625 26.703125 6.890625 \nQ 35.15625 6.890625 40.078125 11.328125 \nQ 45.015625 15.765625 45.015625 23.390625 \nQ 45.015625 31 40.078125 35.4375 \nQ 35.15625 39.890625 26.703125 39.890625 \nQ 22.75 39.890625 18.8125 39.015625 \nQ 14.890625 38.140625 10.796875 36.28125 \nz\n\" id=\"DejaVuSans-53\"/>\n      </defs>\n      <g transform=\"translate(57.410369 254.356562)scale(0.1 -0.1)\">\n       <use xlink:href=\"#DejaVuSans-48\"/>\n       <use x=\"63.623047\" xlink:href=\"#DejaVuSans-46\"/>\n       <use x=\"95.410156\" xlink:href=\"#DejaVuSans-48\"/>\n       <use x=\"159.033203\" xlink:href=\"#DejaVuSans-48\"/>\n       <use x=\"222.65625\" xlink:href=\"#DejaVuSans-53\"/>\n      </g>\n     </g>\n    </g>\n    <g id=\"xtick_2\">\n     <g id=\"line2d_2\">\n      <g>\n       <use style=\"stroke:#000000;stroke-width:0.8;\" x=\"122.451705\" xlink:href=\"#m666456012c\" y=\"239.758125\"/>\n      </g>\n     </g>\n     <g id=\"text_2\">\n      <!-- 0.010 -->\n      <defs>\n       <path d=\"M 12.40625 8.296875 \nL 28.515625 8.296875 \nL 28.515625 63.921875 \nL 10.984375 60.40625 \nL 10.984375 69.390625 \nL 28.421875 72.90625 \nL 38.28125 72.90625 \nL 38.28125 8.296875 \nL 54.390625 8.296875 \nL 54.390625 0 \nL 12.40625 0 \nz\n\" id=\"DejaVuSans-49\"/>\n      </defs>\n      <g transform=\"translate(108.137642 254.356562)scale(0.1 -0.1)\">\n       <use xlink:href=\"#DejaVuSans-48\"/>\n       <use x=\"63.623047\" xlink:href=\"#DejaVuSans-46\"/>\n       <use x=\"95.410156\" xlink:href=\"#DejaVuSans-48\"/>\n       <use x=\"159.033203\" xlink:href=\"#DejaVuSans-49\"/>\n       <use x=\"222.65625\" xlink:href=\"#DejaVuSans-48\"/>\n      </g>\n     </g>\n    </g>\n    <g id=\"xtick_3\">\n     <g id=\"line2d_3\">\n      <g>\n       <use style=\"stroke:#000000;stroke-width:0.8;\" x=\"173.178977\" xlink:href=\"#m666456012c\" y=\"239.758125\"/>\n      </g>\n     </g>\n     <g id=\"text_3\">\n      <!-- 0.015 -->\n      <g transform=\"translate(158.864915 254.356562)scale(0.1 -0.1)\">\n       <use xlink:href=\"#DejaVuSans-48\"/>\n       <use x=\"63.623047\" xlink:href=\"#DejaVuSans-46\"/>\n       <use x=\"95.410156\" xlink:href=\"#DejaVuSans-48\"/>\n       <use x=\"159.033203\" xlink:href=\"#DejaVuSans-49\"/>\n       <use x=\"222.65625\" xlink:href=\"#DejaVuSans-53\"/>\n      </g>\n     </g>\n    </g>\n    <g id=\"xtick_4\">\n     <g id=\"line2d_4\">\n      <g>\n       <use style=\"stroke:#000000;stroke-width:0.8;\" x=\"223.90625\" xlink:href=\"#m666456012c\" y=\"239.758125\"/>\n      </g>\n     </g>\n     <g id=\"text_4\">\n      <!-- 0.020 -->\n      <defs>\n       <path d=\"M 19.1875 8.296875 \nL 53.609375 8.296875 \nL 53.609375 0 \nL 7.328125 0 \nL 7.328125 8.296875 \nQ 12.9375 14.109375 22.625 23.890625 \nQ 32.328125 33.6875 34.8125 36.53125 \nQ 39.546875 41.84375 41.421875 45.53125 \nQ 43.3125 49.21875 43.3125 52.78125 \nQ 43.3125 58.59375 39.234375 62.25 \nQ 35.15625 65.921875 28.609375 65.921875 \nQ 23.96875 65.921875 18.8125 64.3125 \nQ 13.671875 62.703125 7.8125 59.421875 \nL 7.8125 69.390625 \nQ 13.765625 71.78125 18.9375 73 \nQ 24.125 74.21875 28.421875 74.21875 \nQ 39.75 74.21875 46.484375 68.546875 \nQ 53.21875 62.890625 53.21875 53.421875 \nQ 53.21875 48.921875 51.53125 44.890625 \nQ 49.859375 40.875 45.40625 35.40625 \nQ 44.1875 33.984375 37.640625 27.21875 \nQ 31.109375 20.453125 19.1875 8.296875 \nz\n\" id=\"DejaVuSans-50\"/>\n      </defs>\n      <g transform=\"translate(209.592188 254.356562)scale(0.1 -0.1)\">\n       <use xlink:href=\"#DejaVuSans-48\"/>\n       <use x=\"63.623047\" xlink:href=\"#DejaVuSans-46\"/>\n       <use x=\"95.410156\" xlink:href=\"#DejaVuSans-48\"/>\n       <use x=\"159.033203\" xlink:href=\"#DejaVuSans-50\"/>\n       <use x=\"222.65625\" xlink:href=\"#DejaVuSans-48\"/>\n      </g>\n     </g>\n    </g>\n    <g id=\"xtick_5\">\n     <g id=\"line2d_5\">\n      <g>\n       <use style=\"stroke:#000000;stroke-width:0.8;\" x=\"274.633523\" xlink:href=\"#m666456012c\" y=\"239.758125\"/>\n      </g>\n     </g>\n     <g id=\"text_5\">\n      <!-- 0.025 -->\n      <g transform=\"translate(260.31946 254.356562)scale(0.1 -0.1)\">\n       <use xlink:href=\"#DejaVuSans-48\"/>\n       <use x=\"63.623047\" xlink:href=\"#DejaVuSans-46\"/>\n       <use x=\"95.410156\" xlink:href=\"#DejaVuSans-48\"/>\n       <use x=\"159.033203\" xlink:href=\"#DejaVuSans-50\"/>\n       <use x=\"222.65625\" xlink:href=\"#DejaVuSans-53\"/>\n      </g>\n     </g>\n    </g>\n    <g id=\"xtick_6\">\n     <g id=\"line2d_6\">\n      <g>\n       <use style=\"stroke:#000000;stroke-width:0.8;\" x=\"325.360795\" xlink:href=\"#m666456012c\" y=\"239.758125\"/>\n      </g>\n     </g>\n     <g id=\"text_6\">\n      <!-- 0.030 -->\n      <defs>\n       <path d=\"M 40.578125 39.3125 \nQ 47.65625 37.796875 51.625 33 \nQ 55.609375 28.21875 55.609375 21.1875 \nQ 55.609375 10.40625 48.1875 4.484375 \nQ 40.765625 -1.421875 27.09375 -1.421875 \nQ 22.515625 -1.421875 17.65625 -0.515625 \nQ 12.796875 0.390625 7.625 2.203125 \nL 7.625 11.71875 \nQ 11.71875 9.328125 16.59375 8.109375 \nQ 21.484375 6.890625 26.8125 6.890625 \nQ 36.078125 6.890625 40.9375 10.546875 \nQ 45.796875 14.203125 45.796875 21.1875 \nQ 45.796875 27.640625 41.28125 31.265625 \nQ 36.765625 34.90625 28.71875 34.90625 \nL 20.21875 34.90625 \nL 20.21875 43.015625 \nL 29.109375 43.015625 \nQ 36.375 43.015625 40.234375 45.921875 \nQ 44.09375 48.828125 44.09375 54.296875 \nQ 44.09375 59.90625 40.109375 62.90625 \nQ 36.140625 65.921875 28.71875 65.921875 \nQ 24.65625 65.921875 20.015625 65.03125 \nQ 15.375 64.15625 9.8125 62.3125 \nL 9.8125 71.09375 \nQ 15.4375 72.65625 20.34375 73.4375 \nQ 25.25 74.21875 29.59375 74.21875 \nQ 40.828125 74.21875 47.359375 69.109375 \nQ 53.90625 64.015625 53.90625 55.328125 \nQ 53.90625 49.265625 50.4375 45.09375 \nQ 46.96875 40.921875 40.578125 39.3125 \nz\n\" id=\"DejaVuSans-51\"/>\n      </defs>\n      <g transform=\"translate(311.046733 254.356562)scale(0.1 -0.1)\">\n       <use xlink:href=\"#DejaVuSans-48\"/>\n       <use x=\"63.623047\" xlink:href=\"#DejaVuSans-46\"/>\n       <use x=\"95.410156\" xlink:href=\"#DejaVuSans-48\"/>\n       <use x=\"159.033203\" xlink:href=\"#DejaVuSans-51\"/>\n       <use x=\"222.65625\" xlink:href=\"#DejaVuSans-48\"/>\n      </g>\n     </g>\n    </g>\n    <g id=\"xtick_7\">\n     <g id=\"line2d_7\">\n      <g>\n       <use style=\"stroke:#000000;stroke-width:0.8;\" x=\"376.088068\" xlink:href=\"#m666456012c\" y=\"239.758125\"/>\n      </g>\n     </g>\n     <g id=\"text_7\">\n      <!-- 0.035 -->\n      <g transform=\"translate(361.774006 254.356562)scale(0.1 -0.1)\">\n       <use xlink:href=\"#DejaVuSans-48\"/>\n       <use x=\"63.623047\" xlink:href=\"#DejaVuSans-46\"/>\n       <use x=\"95.410156\" xlink:href=\"#DejaVuSans-48\"/>\n       <use x=\"159.033203\" xlink:href=\"#DejaVuSans-51\"/>\n       <use x=\"222.65625\" xlink:href=\"#DejaVuSans-53\"/>\n      </g>\n     </g>\n    </g>\n    <g id=\"text_8\">\n     <!-- Actual crack length a [m] -->\n     <defs>\n      <path d=\"M 34.1875 63.1875 \nL 20.796875 26.90625 \nL 47.609375 26.90625 \nz\nM 28.609375 72.90625 \nL 39.796875 72.90625 \nL 67.578125 0 \nL 57.328125 0 \nL 50.6875 18.703125 \nL 17.828125 18.703125 \nL 11.1875 0 \nL 0.78125 0 \nz\n\" id=\"DejaVuSans-65\"/>\n      <path d=\"M 48.78125 52.59375 \nL 48.78125 44.1875 \nQ 44.96875 46.296875 41.140625 47.34375 \nQ 37.3125 48.390625 33.40625 48.390625 \nQ 24.65625 48.390625 19.8125 42.84375 \nQ 14.984375 37.3125 14.984375 27.296875 \nQ 14.984375 17.28125 19.8125 11.734375 \nQ 24.65625 6.203125 33.40625 6.203125 \nQ 37.3125 6.203125 41.140625 7.25 \nQ 44.96875 8.296875 48.78125 10.40625 \nL 48.78125 2.09375 \nQ 45.015625 0.34375 40.984375 -0.53125 \nQ 36.96875 -1.421875 32.421875 -1.421875 \nQ 20.0625 -1.421875 12.78125 6.34375 \nQ 5.515625 14.109375 5.515625 27.296875 \nQ 5.515625 40.671875 12.859375 48.328125 \nQ 20.21875 56 33.015625 56 \nQ 37.15625 56 41.109375 55.140625 \nQ 45.0625 54.296875 48.78125 52.59375 \nz\n\" id=\"DejaVuSans-99\"/>\n      <path d=\"M 18.3125 70.21875 \nL 18.3125 54.6875 \nL 36.8125 54.6875 \nL 36.8125 47.703125 \nL 18.3125 47.703125 \nL 18.3125 18.015625 \nQ 18.3125 11.328125 20.140625 9.421875 \nQ 21.96875 7.515625 27.59375 7.515625 \nL 36.8125 7.515625 \nL 36.8125 0 \nL 27.59375 0 \nQ 17.1875 0 13.234375 3.875 \nQ 9.28125 7.765625 9.28125 18.015625 \nL 9.28125 47.703125 \nL 2.6875 47.703125 \nL 2.6875 54.6875 \nL 9.28125 54.6875 \nL 9.28125 70.21875 \nz\n\" id=\"DejaVuSans-116\"/>\n      <path d=\"M 8.5 21.578125 \nL 8.5 54.6875 \nL 17.484375 54.6875 \nL 17.484375 21.921875 \nQ 17.484375 14.15625 20.5 10.265625 \nQ 23.53125 6.390625 29.59375 6.390625 \nQ 36.859375 6.390625 41.078125 11.03125 \nQ 45.3125 15.671875 45.3125 23.6875 \nL 45.3125 54.6875 \nL 54.296875 54.6875 \nL 54.296875 0 \nL 45.3125 0 \nL 45.3125 8.40625 \nQ 42.046875 3.421875 37.71875 1 \nQ 33.40625 -1.421875 27.6875 -1.421875 \nQ 18.265625 -1.421875 13.375 4.4375 \nQ 8.5 10.296875 8.5 21.578125 \nz\nM 31.109375 56 \nz\n\" id=\"DejaVuSans-117\"/>\n      <path d=\"M 34.28125 27.484375 \nQ 23.390625 27.484375 19.1875 25 \nQ 14.984375 22.515625 14.984375 16.5 \nQ 14.984375 11.71875 18.140625 8.90625 \nQ 21.296875 6.109375 26.703125 6.109375 \nQ 34.1875 6.109375 38.703125 11.40625 \nQ 43.21875 16.703125 43.21875 25.484375 \nL 43.21875 27.484375 \nz\nM 52.203125 31.203125 \nL 52.203125 0 \nL 43.21875 0 \nL 43.21875 8.296875 \nQ 40.140625 3.328125 35.546875 0.953125 \nQ 30.953125 -1.421875 24.3125 -1.421875 \nQ 15.921875 -1.421875 10.953125 3.296875 \nQ 6 8.015625 6 15.921875 \nQ 6 25.140625 12.171875 29.828125 \nQ 18.359375 34.515625 30.609375 34.515625 \nL 43.21875 34.515625 \nL 43.21875 35.40625 \nQ 43.21875 41.609375 39.140625 45 \nQ 35.0625 48.390625 27.6875 48.390625 \nQ 23 48.390625 18.546875 47.265625 \nQ 14.109375 46.140625 10.015625 43.890625 \nL 10.015625 52.203125 \nQ 14.9375 54.109375 19.578125 55.046875 \nQ 24.21875 56 28.609375 56 \nQ 40.484375 56 46.34375 49.84375 \nQ 52.203125 43.703125 52.203125 31.203125 \nz\n\" id=\"DejaVuSans-97\"/>\n      <path d=\"M 9.421875 75.984375 \nL 18.40625 75.984375 \nL 18.40625 0 \nL 9.421875 0 \nz\n\" id=\"DejaVuSans-108\"/>\n      <path id=\"DejaVuSans-32\"/>\n      <path d=\"M 41.109375 46.296875 \nQ 39.59375 47.171875 37.8125 47.578125 \nQ 36.03125 48 33.890625 48 \nQ 26.265625 48 22.1875 43.046875 \nQ 18.109375 38.09375 18.109375 28.8125 \nL 18.109375 0 \nL 9.078125 0 \nL 9.078125 54.6875 \nL 18.109375 54.6875 \nL 18.109375 46.1875 \nQ 20.953125 51.171875 25.484375 53.578125 \nQ 30.03125 56 36.53125 56 \nQ 37.453125 56 38.578125 55.875 \nQ 39.703125 55.765625 41.0625 55.515625 \nz\n\" id=\"DejaVuSans-114\"/>\n      <path d=\"M 9.078125 75.984375 \nL 18.109375 75.984375 \nL 18.109375 31.109375 \nL 44.921875 54.6875 \nL 56.390625 54.6875 \nL 27.390625 29.109375 \nL 57.625 0 \nL 45.90625 0 \nL 18.109375 26.703125 \nL 18.109375 0 \nL 9.078125 0 \nz\n\" id=\"DejaVuSans-107\"/>\n      <path d=\"M 56.203125 29.59375 \nL 56.203125 25.203125 \nL 14.890625 25.203125 \nQ 15.484375 15.921875 20.484375 11.0625 \nQ 25.484375 6.203125 34.421875 6.203125 \nQ 39.59375 6.203125 44.453125 7.46875 \nQ 49.3125 8.734375 54.109375 11.28125 \nL 54.109375 2.78125 \nQ 49.265625 0.734375 44.1875 -0.34375 \nQ 39.109375 -1.421875 33.890625 -1.421875 \nQ 20.796875 -1.421875 13.15625 6.1875 \nQ 5.515625 13.8125 5.515625 26.8125 \nQ 5.515625 40.234375 12.765625 48.109375 \nQ 20.015625 56 32.328125 56 \nQ 43.359375 56 49.78125 48.890625 \nQ 56.203125 41.796875 56.203125 29.59375 \nz\nM 47.21875 32.234375 \nQ 47.125 39.59375 43.09375 43.984375 \nQ 39.0625 48.390625 32.421875 48.390625 \nQ 24.90625 48.390625 20.390625 44.140625 \nQ 15.875 39.890625 15.1875 32.171875 \nz\n\" id=\"DejaVuSans-101\"/>\n      <path d=\"M 54.890625 33.015625 \nL 54.890625 0 \nL 45.90625 0 \nL 45.90625 32.71875 \nQ 45.90625 40.484375 42.875 44.328125 \nQ 39.84375 48.1875 33.796875 48.1875 \nQ 26.515625 48.1875 22.3125 43.546875 \nQ 18.109375 38.921875 18.109375 30.90625 \nL 18.109375 0 \nL 9.078125 0 \nL 9.078125 54.6875 \nL 18.109375 54.6875 \nL 18.109375 46.1875 \nQ 21.34375 51.125 25.703125 53.5625 \nQ 30.078125 56 35.796875 56 \nQ 45.21875 56 50.046875 50.171875 \nQ 54.890625 44.34375 54.890625 33.015625 \nz\n\" id=\"DejaVuSans-110\"/>\n      <path d=\"M 45.40625 27.984375 \nQ 45.40625 37.75 41.375 43.109375 \nQ 37.359375 48.484375 30.078125 48.484375 \nQ 22.859375 48.484375 18.828125 43.109375 \nQ 14.796875 37.75 14.796875 27.984375 \nQ 14.796875 18.265625 18.828125 12.890625 \nQ 22.859375 7.515625 30.078125 7.515625 \nQ 37.359375 7.515625 41.375 12.890625 \nQ 45.40625 18.265625 45.40625 27.984375 \nz\nM 54.390625 6.78125 \nQ 54.390625 -7.171875 48.1875 -13.984375 \nQ 42 -20.796875 29.203125 -20.796875 \nQ 24.46875 -20.796875 20.265625 -20.09375 \nQ 16.0625 -19.390625 12.109375 -17.921875 \nL 12.109375 -9.1875 \nQ 16.0625 -11.328125 19.921875 -12.34375 \nQ 23.78125 -13.375 27.78125 -13.375 \nQ 36.625 -13.375 41.015625 -8.765625 \nQ 45.40625 -4.15625 45.40625 5.171875 \nL 45.40625 9.625 \nQ 42.625 4.78125 38.28125 2.390625 \nQ 33.9375 0 27.875 0 \nQ 17.828125 0 11.671875 7.65625 \nQ 5.515625 15.328125 5.515625 27.984375 \nQ 5.515625 40.671875 11.671875 48.328125 \nQ 17.828125 56 27.875 56 \nQ 33.9375 56 38.28125 53.609375 \nQ 42.625 51.21875 45.40625 46.390625 \nL 45.40625 54.6875 \nL 54.390625 54.6875 \nz\n\" id=\"DejaVuSans-103\"/>\n      <path d=\"M 54.890625 33.015625 \nL 54.890625 0 \nL 45.90625 0 \nL 45.90625 32.71875 \nQ 45.90625 40.484375 42.875 44.328125 \nQ 39.84375 48.1875 33.796875 48.1875 \nQ 26.515625 48.1875 22.3125 43.546875 \nQ 18.109375 38.921875 18.109375 30.90625 \nL 18.109375 0 \nL 9.078125 0 \nL 9.078125 75.984375 \nL 18.109375 75.984375 \nL 18.109375 46.1875 \nQ 21.34375 51.125 25.703125 53.5625 \nQ 30.078125 56 35.796875 56 \nQ 45.21875 56 50.046875 50.171875 \nQ 54.890625 44.34375 54.890625 33.015625 \nz\n\" id=\"DejaVuSans-104\"/>\n      <path d=\"M 8.59375 75.984375 \nL 29.296875 75.984375 \nL 29.296875 69 \nL 17.578125 69 \nL 17.578125 -6.203125 \nL 29.296875 -6.203125 \nL 29.296875 -13.1875 \nL 8.59375 -13.1875 \nz\n\" id=\"DejaVuSans-91\"/>\n      <path d=\"M 52 44.1875 \nQ 55.375 50.25 60.0625 53.125 \nQ 64.75 56 71.09375 56 \nQ 79.640625 56 84.28125 50.015625 \nQ 88.921875 44.046875 88.921875 33.015625 \nL 88.921875 0 \nL 79.890625 0 \nL 79.890625 32.71875 \nQ 79.890625 40.578125 77.09375 44.375 \nQ 74.3125 48.1875 68.609375 48.1875 \nQ 61.625 48.1875 57.5625 43.546875 \nQ 53.515625 38.921875 53.515625 30.90625 \nL 53.515625 0 \nL 44.484375 0 \nL 44.484375 32.71875 \nQ 44.484375 40.625 41.703125 44.40625 \nQ 38.921875 48.1875 33.109375 48.1875 \nQ 26.21875 48.1875 22.15625 43.53125 \nQ 18.109375 38.875 18.109375 30.90625 \nL 18.109375 0 \nL 9.078125 0 \nL 9.078125 54.6875 \nL 18.109375 54.6875 \nL 18.109375 46.1875 \nQ 21.1875 51.21875 25.484375 53.609375 \nQ 29.78125 56 35.6875 56 \nQ 41.65625 56 45.828125 52.96875 \nQ 50 49.953125 52 44.1875 \nz\n\" id=\"DejaVuSans-109\"/>\n      <path d=\"M 30.421875 75.984375 \nL 30.421875 -13.1875 \nL 9.71875 -13.1875 \nL 9.71875 -6.203125 \nL 21.390625 -6.203125 \nL 21.390625 69 \nL 9.71875 69 \nL 9.71875 75.984375 \nz\n\" id=\"DejaVuSans-93\"/>\n     </defs>\n     <g transform=\"translate(160.599219 268.034687)scale(0.1 -0.1)\">\n      <use xlink:href=\"#DejaVuSans-65\"/>\n      <use x=\"66.658203\" xlink:href=\"#DejaVuSans-99\"/>\n      <use x=\"121.638672\" xlink:href=\"#DejaVuSans-116\"/>\n      <use x=\"160.847656\" xlink:href=\"#DejaVuSans-117\"/>\n      <use x=\"224.226562\" xlink:href=\"#DejaVuSans-97\"/>\n      <use x=\"285.505859\" xlink:href=\"#DejaVuSans-108\"/>\n      <use x=\"313.289062\" xlink:href=\"#DejaVuSans-32\"/>\n      <use x=\"345.076172\" xlink:href=\"#DejaVuSans-99\"/>\n      <use x=\"400.056641\" xlink:href=\"#DejaVuSans-114\"/>\n      <use x=\"441.169922\" xlink:href=\"#DejaVuSans-97\"/>\n      <use x=\"502.449219\" xlink:href=\"#DejaVuSans-99\"/>\n      <use x=\"557.429688\" xlink:href=\"#DejaVuSans-107\"/>\n      <use x=\"615.339844\" xlink:href=\"#DejaVuSans-32\"/>\n      <use x=\"647.126953\" xlink:href=\"#DejaVuSans-108\"/>\n      <use x=\"674.910156\" xlink:href=\"#DejaVuSans-101\"/>\n      <use x=\"736.433594\" xlink:href=\"#DejaVuSans-110\"/>\n      <use x=\"799.8125\" xlink:href=\"#DejaVuSans-103\"/>\n      <use x=\"863.289062\" xlink:href=\"#DejaVuSans-116\"/>\n      <use x=\"902.498047\" xlink:href=\"#DejaVuSans-104\"/>\n      <use x=\"965.876953\" xlink:href=\"#DejaVuSans-32\"/>\n      <use x=\"997.664062\" xlink:href=\"#DejaVuSans-97\"/>\n      <use x=\"1058.943359\" xlink:href=\"#DejaVuSans-32\"/>\n      <use x=\"1090.730469\" xlink:href=\"#DejaVuSans-91\"/>\n      <use x=\"1129.744141\" xlink:href=\"#DejaVuSans-109\"/>\n      <use x=\"1227.15625\" xlink:href=\"#DejaVuSans-93\"/>\n     </g>\n    </g>\n   </g>\n   <g id=\"matplotlib.axis_2\">\n    <g id=\"ytick_1\">\n     <g id=\"line2d_8\">\n      <defs>\n       <path d=\"M 0 0 \nL -3.5 0 \n\" id=\"m5c55c47ce7\" style=\"stroke:#000000;stroke-width:0.8;\"/>\n      </defs>\n      <g>\n       <use style=\"stroke:#000000;stroke-width:0.8;\" x=\"56.50625\" xlink:href=\"#m5c55c47ce7\" y=\"229.874489\"/>\n      </g>\n     </g>\n     <g id=\"text_9\">\n      <!-- 0.005 -->\n      <g transform=\"translate(20.878125 233.673707)scale(0.1 -0.1)\">\n       <use xlink:href=\"#DejaVuSans-48\"/>\n       <use x=\"63.623047\" xlink:href=\"#DejaVuSans-46\"/>\n       <use x=\"95.410156\" xlink:href=\"#DejaVuSans-48\"/>\n       <use x=\"159.033203\" xlink:href=\"#DejaVuSans-48\"/>\n       <use x=\"222.65625\" xlink:href=\"#DejaVuSans-53\"/>\n      </g>\n     </g>\n    </g>\n    <g id=\"ytick_2\">\n     <g id=\"line2d_9\">\n      <g>\n       <use style=\"stroke:#000000;stroke-width:0.8;\" x=\"56.50625\" xlink:href=\"#m5c55c47ce7\" y=\"196.929034\"/>\n      </g>\n     </g>\n     <g id=\"text_10\">\n      <!-- 0.010 -->\n      <g transform=\"translate(20.878125 200.728253)scale(0.1 -0.1)\">\n       <use xlink:href=\"#DejaVuSans-48\"/>\n       <use x=\"63.623047\" xlink:href=\"#DejaVuSans-46\"/>\n       <use x=\"95.410156\" xlink:href=\"#DejaVuSans-48\"/>\n       <use x=\"159.033203\" xlink:href=\"#DejaVuSans-49\"/>\n       <use x=\"222.65625\" xlink:href=\"#DejaVuSans-48\"/>\n      </g>\n     </g>\n    </g>\n    <g id=\"ytick_3\">\n     <g id=\"line2d_10\">\n      <g>\n       <use style=\"stroke:#000000;stroke-width:0.8;\" x=\"56.50625\" xlink:href=\"#m5c55c47ce7\" y=\"163.98358\"/>\n      </g>\n     </g>\n     <g id=\"text_11\">\n      <!-- 0.015 -->\n      <g transform=\"translate(20.878125 167.782798)scale(0.1 -0.1)\">\n       <use xlink:href=\"#DejaVuSans-48\"/>\n       <use x=\"63.623047\" xlink:href=\"#DejaVuSans-46\"/>\n       <use x=\"95.410156\" xlink:href=\"#DejaVuSans-48\"/>\n       <use x=\"159.033203\" xlink:href=\"#DejaVuSans-49\"/>\n       <use x=\"222.65625\" xlink:href=\"#DejaVuSans-53\"/>\n      </g>\n     </g>\n    </g>\n    <g id=\"ytick_4\">\n     <g id=\"line2d_11\">\n      <g>\n       <use style=\"stroke:#000000;stroke-width:0.8;\" x=\"56.50625\" xlink:href=\"#m5c55c47ce7\" y=\"131.038125\"/>\n      </g>\n     </g>\n     <g id=\"text_12\">\n      <!-- 0.020 -->\n      <g transform=\"translate(20.878125 134.837344)scale(0.1 -0.1)\">\n       <use xlink:href=\"#DejaVuSans-48\"/>\n       <use x=\"63.623047\" xlink:href=\"#DejaVuSans-46\"/>\n       <use x=\"95.410156\" xlink:href=\"#DejaVuSans-48\"/>\n       <use x=\"159.033203\" xlink:href=\"#DejaVuSans-50\"/>\n       <use x=\"222.65625\" xlink:href=\"#DejaVuSans-48\"/>\n      </g>\n     </g>\n    </g>\n    <g id=\"ytick_5\">\n     <g id=\"line2d_12\">\n      <g>\n       <use style=\"stroke:#000000;stroke-width:0.8;\" x=\"56.50625\" xlink:href=\"#m5c55c47ce7\" y=\"98.09267\"/>\n      </g>\n     </g>\n     <g id=\"text_13\">\n      <!-- 0.025 -->\n      <g transform=\"translate(20.878125 101.891889)scale(0.1 -0.1)\">\n       <use xlink:href=\"#DejaVuSans-48\"/>\n       <use x=\"63.623047\" xlink:href=\"#DejaVuSans-46\"/>\n       <use x=\"95.410156\" xlink:href=\"#DejaVuSans-48\"/>\n       <use x=\"159.033203\" xlink:href=\"#DejaVuSans-50\"/>\n       <use x=\"222.65625\" xlink:href=\"#DejaVuSans-53\"/>\n      </g>\n     </g>\n    </g>\n    <g id=\"ytick_6\">\n     <g id=\"line2d_13\">\n      <g>\n       <use style=\"stroke:#000000;stroke-width:0.8;\" x=\"56.50625\" xlink:href=\"#m5c55c47ce7\" y=\"65.147216\"/>\n      </g>\n     </g>\n     <g id=\"text_14\">\n      <!-- 0.030 -->\n      <g transform=\"translate(20.878125 68.946435)scale(0.1 -0.1)\">\n       <use xlink:href=\"#DejaVuSans-48\"/>\n       <use x=\"63.623047\" xlink:href=\"#DejaVuSans-46\"/>\n       <use x=\"95.410156\" xlink:href=\"#DejaVuSans-48\"/>\n       <use x=\"159.033203\" xlink:href=\"#DejaVuSans-51\"/>\n       <use x=\"222.65625\" xlink:href=\"#DejaVuSans-48\"/>\n      </g>\n     </g>\n    </g>\n    <g id=\"ytick_7\">\n     <g id=\"line2d_14\">\n      <g>\n       <use style=\"stroke:#000000;stroke-width:0.8;\" x=\"56.50625\" xlink:href=\"#m5c55c47ce7\" y=\"32.201761\"/>\n      </g>\n     </g>\n     <g id=\"text_15\">\n      <!-- 0.035 -->\n      <g transform=\"translate(20.878125 36.00098)scale(0.1 -0.1)\">\n       <use xlink:href=\"#DejaVuSans-48\"/>\n       <use x=\"63.623047\" xlink:href=\"#DejaVuSans-46\"/>\n       <use x=\"95.410156\" xlink:href=\"#DejaVuSans-48\"/>\n       <use x=\"159.033203\" xlink:href=\"#DejaVuSans-51\"/>\n       <use x=\"222.65625\" xlink:href=\"#DejaVuSans-53\"/>\n      </g>\n     </g>\n    </g>\n    <g id=\"text_16\">\n     <!-- Predicted crack length a [m] -->\n     <defs>\n      <path d=\"M 19.671875 64.796875 \nL 19.671875 37.40625 \nL 32.078125 37.40625 \nQ 38.96875 37.40625 42.71875 40.96875 \nQ 46.484375 44.53125 46.484375 51.125 \nQ 46.484375 57.671875 42.71875 61.234375 \nQ 38.96875 64.796875 32.078125 64.796875 \nz\nM 9.8125 72.90625 \nL 32.078125 72.90625 \nQ 44.34375 72.90625 50.609375 67.359375 \nQ 56.890625 61.8125 56.890625 51.125 \nQ 56.890625 40.328125 50.609375 34.8125 \nQ 44.34375 29.296875 32.078125 29.296875 \nL 19.671875 29.296875 \nL 19.671875 0 \nL 9.8125 0 \nz\n\" id=\"DejaVuSans-80\"/>\n      <path d=\"M 45.40625 46.390625 \nL 45.40625 75.984375 \nL 54.390625 75.984375 \nL 54.390625 0 \nL 45.40625 0 \nL 45.40625 8.203125 \nQ 42.578125 3.328125 38.25 0.953125 \nQ 33.9375 -1.421875 27.875 -1.421875 \nQ 17.96875 -1.421875 11.734375 6.484375 \nQ 5.515625 14.40625 5.515625 27.296875 \nQ 5.515625 40.1875 11.734375 48.09375 \nQ 17.96875 56 27.875 56 \nQ 33.9375 56 38.25 53.625 \nQ 42.578125 51.265625 45.40625 46.390625 \nz\nM 14.796875 27.296875 \nQ 14.796875 17.390625 18.875 11.75 \nQ 22.953125 6.109375 30.078125 6.109375 \nQ 37.203125 6.109375 41.296875 11.75 \nQ 45.40625 17.390625 45.40625 27.296875 \nQ 45.40625 37.203125 41.296875 42.84375 \nQ 37.203125 48.484375 30.078125 48.484375 \nQ 22.953125 48.484375 18.875 42.84375 \nQ 14.796875 37.203125 14.796875 27.296875 \nz\n\" id=\"DejaVuSans-100\"/>\n      <path d=\"M 9.421875 54.6875 \nL 18.40625 54.6875 \nL 18.40625 0 \nL 9.421875 0 \nz\nM 9.421875 75.984375 \nL 18.40625 75.984375 \nL 18.40625 64.59375 \nL 9.421875 64.59375 \nz\n\" id=\"DejaVuSans-105\"/>\n     </defs>\n     <g transform=\"translate(14.798438 202.151406)rotate(-90)scale(0.1 -0.1)\">\n      <use xlink:href=\"#DejaVuSans-80\"/>\n      <use x=\"58.552734\" xlink:href=\"#DejaVuSans-114\"/>\n      <use x=\"97.416016\" xlink:href=\"#DejaVuSans-101\"/>\n      <use x=\"158.939453\" xlink:href=\"#DejaVuSans-100\"/>\n      <use x=\"222.416016\" xlink:href=\"#DejaVuSans-105\"/>\n      <use x=\"250.199219\" xlink:href=\"#DejaVuSans-99\"/>\n      <use x=\"305.179688\" xlink:href=\"#DejaVuSans-116\"/>\n      <use x=\"344.388672\" xlink:href=\"#DejaVuSans-101\"/>\n      <use x=\"405.912109\" xlink:href=\"#DejaVuSans-100\"/>\n      <use x=\"469.388672\" xlink:href=\"#DejaVuSans-32\"/>\n      <use x=\"501.175781\" xlink:href=\"#DejaVuSans-99\"/>\n      <use x=\"556.15625\" xlink:href=\"#DejaVuSans-114\"/>\n      <use x=\"597.269531\" xlink:href=\"#DejaVuSans-97\"/>\n      <use x=\"658.548828\" xlink:href=\"#DejaVuSans-99\"/>\n      <use x=\"713.529297\" xlink:href=\"#DejaVuSans-107\"/>\n      <use x=\"771.439453\" xlink:href=\"#DejaVuSans-32\"/>\n      <use x=\"803.226562\" xlink:href=\"#DejaVuSans-108\"/>\n      <use x=\"831.009766\" xlink:href=\"#DejaVuSans-101\"/>\n      <use x=\"892.533203\" xlink:href=\"#DejaVuSans-110\"/>\n      <use x=\"955.912109\" xlink:href=\"#DejaVuSans-103\"/>\n      <use x=\"1019.388672\" xlink:href=\"#DejaVuSans-116\"/>\n      <use x=\"1058.597656\" xlink:href=\"#DejaVuSans-104\"/>\n      <use x=\"1121.976562\" xlink:href=\"#DejaVuSans-32\"/>\n      <use x=\"1153.763672\" xlink:href=\"#DejaVuSans-97\"/>\n      <use x=\"1215.042969\" xlink:href=\"#DejaVuSans-32\"/>\n      <use x=\"1246.830078\" xlink:href=\"#DejaVuSans-91\"/>\n      <use x=\"1285.84375\" xlink:href=\"#DejaVuSans-109\"/>\n      <use x=\"1383.255859\" xlink:href=\"#DejaVuSans-93\"/>\n     </g>\n    </g>\n   </g>\n   <g id=\"line2d_15\">\n    <path clip-path=\"url(#p09a39984ad)\" d=\"M 71.724432 229.874489 \nL 376.088068 32.201761 \n\" style=\"fill:none;stroke:#000000;stroke-dasharray:5.55,2.4;stroke-dashoffset:0;stroke-width:1.5;\"/>\n   </g>\n   <g id=\"line2d_16\">\n    <defs>\n     <path d=\"M 0 3 \nC 0.795609 3 1.55874 2.683901 2.12132 2.12132 \nC 2.683901 1.55874 3 0.795609 3 0 \nC 3 -0.795609 2.683901 -1.55874 2.12132 -2.12132 \nC 1.55874 -2.683901 0.795609 -3 0 -3 \nC -0.795609 -3 -1.55874 -2.683901 -2.12132 -2.12132 \nC -2.683901 -1.55874 -3 -0.795609 -3 0 \nC -3 0.795609 -2.683901 1.55874 -2.12132 2.12132 \nC -1.55874 2.683901 -0.795609 3 0 3 \nz\n\" id=\"m7bbde53b4e\" style=\"stroke:#1f77b4;\"/>\n    </defs>\n    <g clip-path=\"url(#p09a39984ad)\">\n     <use style=\"fill:#1f77b4;stroke:#1f77b4;\" x=\"333.355445\" xlink:href=\"#m7bbde53b4e\" y=\"60.143855\"/>\n     <use style=\"fill:#1f77b4;stroke:#1f77b4;\" x=\"322.770169\" xlink:href=\"#m7bbde53b4e\" y=\"66.010108\"/>\n     <use style=\"fill:#1f77b4;stroke:#1f77b4;\" x=\"315.247922\" xlink:href=\"#m7bbde53b4e\" y=\"70.054536\"/>\n     <use style=\"fill:#1f77b4;stroke:#1f77b4;\" x=\"300.205454\" xlink:href=\"#m7bbde53b4e\" y=\"75.515678\"/>\n     <use style=\"fill:#1f77b4;stroke:#1f77b4;\" x=\"293.338562\" xlink:href=\"#m7bbde53b4e\" y=\"80.497308\"/>\n     <use style=\"fill:#1f77b4;stroke:#1f77b4;\" x=\"288.178511\" xlink:href=\"#m7bbde53b4e\" y=\"85.241465\"/>\n     <use style=\"fill:#1f77b4;stroke:#1f77b4;\" x=\"282.477146\" xlink:href=\"#m7bbde53b4e\" y=\"84.439673\"/>\n     <use style=\"fill:#1f77b4;stroke:#1f77b4;\" x=\"272.404663\" xlink:href=\"#m7bbde53b4e\" y=\"91.759655\"/>\n     <use style=\"fill:#1f77b4;stroke:#1f77b4;\" x=\"264.394176\" xlink:href=\"#m7bbde53b4e\" y=\"99.192341\"/>\n     <use style=\"fill:#1f77b4;stroke:#1f77b4;\" x=\"260.62835\" xlink:href=\"#m7bbde53b4e\" y=\"99.263955\"/>\n     <use style=\"fill:#1f77b4;stroke:#1f77b4;\" x=\"255.195252\" xlink:href=\"#m7bbde53b4e\" y=\"102.156095\"/>\n     <use style=\"fill:#1f77b4;stroke:#1f77b4;\" x=\"248.468387\" xlink:href=\"#m7bbde53b4e\" y=\"107.942009\"/>\n     <use style=\"fill:#1f77b4;stroke:#1f77b4;\" x=\"247.714099\" xlink:href=\"#m7bbde53b4e\" y=\"108.418845\"/>\n     <use style=\"fill:#1f77b4;stroke:#1f77b4;\" x=\"238.976465\" xlink:href=\"#m7bbde53b4e\" y=\"114.911003\"/>\n     <use style=\"fill:#1f77b4;stroke:#1f77b4;\" x=\"229.222903\" xlink:href=\"#m7bbde53b4e\" y=\"119.639304\"/>\n     <use style=\"fill:#1f77b4;stroke:#1f77b4;\" x=\"227.636792\" xlink:href=\"#m7bbde53b4e\" y=\"121.446523\"/>\n     <use style=\"fill:#1f77b4;stroke:#1f77b4;\" x=\"225.573791\" xlink:href=\"#m7bbde53b4e\" y=\"120.218583\"/>\n     <use style=\"fill:#1f77b4;stroke:#1f77b4;\" x=\"218.621166\" xlink:href=\"#m7bbde53b4e\" y=\"129.45736\"/>\n     <use style=\"fill:#1f77b4;stroke:#1f77b4;\" x=\"211.905925\" xlink:href=\"#m7bbde53b4e\" y=\"132.979665\"/>\n     <use style=\"fill:#1f77b4;stroke:#1f77b4;\" x=\"205.968212\" xlink:href=\"#m7bbde53b4e\" y=\"135.608117\"/>\n     <use style=\"fill:#1f77b4;stroke:#1f77b4;\" x=\"205.925355\" xlink:href=\"#m7bbde53b4e\" y=\"138.194693\"/>\n     <use style=\"fill:#1f77b4;stroke:#1f77b4;\" x=\"202.57696\" xlink:href=\"#m7bbde53b4e\" y=\"141.210044\"/>\n     <use style=\"fill:#1f77b4;stroke:#1f77b4;\" x=\"196.914611\" xlink:href=\"#m7bbde53b4e\" y=\"143.067546\"/>\n     <use style=\"fill:#1f77b4;stroke:#1f77b4;\" x=\"194.570941\" xlink:href=\"#m7bbde53b4e\" y=\"146.681139\"/>\n     <use style=\"fill:#1f77b4;stroke:#1f77b4;\" x=\"195.178293\" xlink:href=\"#m7bbde53b4e\" y=\"146.401151\"/>\n     <use style=\"fill:#1f77b4;stroke:#1f77b4;\" x=\"186.987152\" xlink:href=\"#m7bbde53b4e\" y=\"151.238363\"/>\n     <use style=\"fill:#1f77b4;stroke:#1f77b4;\" x=\"186.141916\" xlink:href=\"#m7bbde53b4e\" y=\"150.926601\"/>\n     <use style=\"fill:#1f77b4;stroke:#1f77b4;\" x=\"182.393082\" xlink:href=\"#m7bbde53b4e\" y=\"156.483007\"/>\n     <use style=\"fill:#1f77b4;stroke:#1f77b4;\" x=\"179.188297\" xlink:href=\"#m7bbde53b4e\" y=\"157.951021\"/>\n     <use style=\"fill:#1f77b4;stroke:#1f77b4;\" x=\"175.433445\" xlink:href=\"#m7bbde53b4e\" y=\"162.62616\"/>\n     <use style=\"fill:#1f77b4;stroke:#1f77b4;\" x=\"177.266253\" xlink:href=\"#m7bbde53b4e\" y=\"160.458423\"/>\n     <use style=\"fill:#1f77b4;stroke:#1f77b4;\" x=\"170.935784\" xlink:href=\"#m7bbde53b4e\" y=\"165.585552\"/>\n     <use style=\"fill:#1f77b4;stroke:#1f77b4;\" x=\"170.679718\" xlink:href=\"#m7bbde53b4e\" y=\"166.30971\"/>\n     <use style=\"fill:#1f77b4;stroke:#1f77b4;\" x=\"166.315837\" xlink:href=\"#m7bbde53b4e\" y=\"164.720099\"/>\n     <use style=\"fill:#1f77b4;stroke:#1f77b4;\" x=\"164.880629\" xlink:href=\"#m7bbde53b4e\" y=\"169.074142\"/>\n     <use style=\"fill:#1f77b4;stroke:#1f77b4;\" x=\"161.155803\" xlink:href=\"#m7bbde53b4e\" y=\"171.06514\"/>\n     <use style=\"fill:#1f77b4;stroke:#1f77b4;\" x=\"159.699687\" xlink:href=\"#m7bbde53b4e\" y=\"171.655042\"/>\n     <use style=\"fill:#1f77b4;stroke:#1f77b4;\" x=\"155.440405\" xlink:href=\"#m7bbde53b4e\" y=\"175.399202\"/>\n     <use style=\"fill:#1f77b4;stroke:#1f77b4;\" x=\"154.678298\" xlink:href=\"#m7bbde53b4e\" y=\"176.942795\"/>\n     <use style=\"fill:#1f77b4;stroke:#1f77b4;\" x=\"154.300438\" xlink:href=\"#m7bbde53b4e\" y=\"177.080284\"/>\n     <use style=\"fill:#1f77b4;stroke:#1f77b4;\" x=\"150.402716\" xlink:href=\"#m7bbde53b4e\" y=\"179.50866\"/>\n     <use style=\"fill:#1f77b4;stroke:#1f77b4;\" x=\"149.928832\" xlink:href=\"#m7bbde53b4e\" y=\"181.629231\"/>\n     <use style=\"fill:#1f77b4;stroke:#1f77b4;\" x=\"146.361142\" xlink:href=\"#m7bbde53b4e\" y=\"183.76604\"/>\n     <use style=\"fill:#1f77b4;stroke:#1f77b4;\" x=\"145.26836\" xlink:href=\"#m7bbde53b4e\" y=\"182.605068\"/>\n     <use style=\"fill:#1f77b4;stroke:#1f77b4;\" x=\"144.17956\" xlink:href=\"#m7bbde53b4e\" y=\"183.253292\"/>\n     <use style=\"fill:#1f77b4;stroke:#1f77b4;\" x=\"141.473529\" xlink:href=\"#m7bbde53b4e\" y=\"187.018311\"/>\n     <use style=\"fill:#1f77b4;stroke:#1f77b4;\" x=\"139.278821\" xlink:href=\"#m7bbde53b4e\" y=\"186.30561\"/>\n     <use style=\"fill:#1f77b4;stroke:#1f77b4;\" x=\"135.329785\" xlink:href=\"#m7bbde53b4e\" y=\"189.915127\"/>\n     <use style=\"fill:#1f77b4;stroke:#1f77b4;\" x=\"137.022102\" xlink:href=\"#m7bbde53b4e\" y=\"189.665081\"/>\n     <use style=\"fill:#1f77b4;stroke:#1f77b4;\" x=\"136.053475\" xlink:href=\"#m7bbde53b4e\" y=\"189.51352\"/>\n     <use style=\"fill:#1f77b4;stroke:#1f77b4;\" x=\"134.698875\" xlink:href=\"#m7bbde53b4e\" y=\"191.36912\"/>\n     <use style=\"fill:#1f77b4;stroke:#1f77b4;\" x=\"132.811517\" xlink:href=\"#m7bbde53b4e\" y=\"192.760489\"/>\n     <use style=\"fill:#1f77b4;stroke:#1f77b4;\" x=\"129.55116\" xlink:href=\"#m7bbde53b4e\" y=\"195.359988\"/>\n     <use style=\"fill:#1f77b4;stroke:#1f77b4;\" x=\"128.465772\" xlink:href=\"#m7bbde53b4e\" y=\"194.718134\"/>\n     <use style=\"fill:#1f77b4;stroke:#1f77b4;\" x=\"127.648335\" xlink:href=\"#m7bbde53b4e\" y=\"196.484036\"/>\n     <use style=\"fill:#1f77b4;stroke:#1f77b4;\" x=\"126.264865\" xlink:href=\"#m7bbde53b4e\" y=\"196.342895\"/>\n     <use style=\"fill:#1f77b4;stroke:#1f77b4;\" x=\"124.036351\" xlink:href=\"#m7bbde53b4e\" y=\"197.977659\"/>\n     <use style=\"fill:#1f77b4;stroke:#1f77b4;\" x=\"127.121987\" xlink:href=\"#m7bbde53b4e\" y=\"196.566266\"/>\n     <use style=\"fill:#1f77b4;stroke:#1f77b4;\" x=\"122.679452\" xlink:href=\"#m7bbde53b4e\" y=\"199.181175\"/>\n     <use style=\"fill:#1f77b4;stroke:#1f77b4;\" x=\"121.015058\" xlink:href=\"#m7bbde53b4e\" y=\"201.010983\"/>\n     <use style=\"fill:#1f77b4;stroke:#1f77b4;\" x=\"120.818729\" xlink:href=\"#m7bbde53b4e\" y=\"200.375959\"/>\n     <use style=\"fill:#1f77b4;stroke:#1f77b4;\" x=\"118.27686\" xlink:href=\"#m7bbde53b4e\" y=\"202.082839\"/>\n     <use style=\"fill:#1f77b4;stroke:#1f77b4;\" x=\"118.36017\" xlink:href=\"#m7bbde53b4e\" y=\"202.148501\"/>\n     <use style=\"fill:#1f77b4;stroke:#1f77b4;\" x=\"117.59255\" xlink:href=\"#m7bbde53b4e\" y=\"202.411686\"/>\n     <use style=\"fill:#1f77b4;stroke:#1f77b4;\" x=\"116.925144\" xlink:href=\"#m7bbde53b4e\" y=\"202.424057\"/>\n     <use style=\"fill:#1f77b4;stroke:#1f77b4;\" x=\"115.162236\" xlink:href=\"#m7bbde53b4e\" y=\"204.545714\"/>\n     <use style=\"fill:#1f77b4;stroke:#1f77b4;\" x=\"113.161487\" xlink:href=\"#m7bbde53b4e\" y=\"204.972329\"/>\n     <use style=\"fill:#1f77b4;stroke:#1f77b4;\" x=\"112.995375\" xlink:href=\"#m7bbde53b4e\" y=\"205.930529\"/>\n     <use style=\"fill:#1f77b4;stroke:#1f77b4;\" x=\"111.495697\" xlink:href=\"#m7bbde53b4e\" y=\"206.169432\"/>\n     <use style=\"fill:#1f77b4;stroke:#1f77b4;\" x=\"112.197198\" xlink:href=\"#m7bbde53b4e\" y=\"205.826331\"/>\n     <use style=\"fill:#1f77b4;stroke:#1f77b4;\" x=\"110.560365\" xlink:href=\"#m7bbde53b4e\" y=\"207.191036\"/>\n     <use style=\"fill:#1f77b4;stroke:#1f77b4;\" x=\"108.998618\" xlink:href=\"#m7bbde53b4e\" y=\"207.576609\"/>\n     <use style=\"fill:#1f77b4;stroke:#1f77b4;\" x=\"108.104592\" xlink:href=\"#m7bbde53b4e\" y=\"207.495888\"/>\n     <use style=\"fill:#1f77b4;stroke:#1f77b4;\" x=\"106.340445\" xlink:href=\"#m7bbde53b4e\" y=\"209.558794\"/>\n     <use style=\"fill:#1f77b4;stroke:#1f77b4;\" x=\"107.136249\" xlink:href=\"#m7bbde53b4e\" y=\"208.487693\"/>\n     <use style=\"fill:#1f77b4;stroke:#1f77b4;\" x=\"104.863444\" xlink:href=\"#m7bbde53b4e\" y=\"210.193291\"/>\n     <use style=\"fill:#1f77b4;stroke:#1f77b4;\" x=\"104.93891\" xlink:href=\"#m7bbde53b4e\" y=\"209.61781\"/>\n     <use style=\"fill:#1f77b4;stroke:#1f77b4;\" x=\"102.962463\" xlink:href=\"#m7bbde53b4e\" y=\"211.065291\"/>\n     <use style=\"fill:#1f77b4;stroke:#1f77b4;\" x=\"102.841393\" xlink:href=\"#m7bbde53b4e\" y=\"210.727584\"/>\n     <use style=\"fill:#1f77b4;stroke:#1f77b4;\" x=\"102.973987\" xlink:href=\"#m7bbde53b4e\" y=\"211.013634\"/>\n     <use style=\"fill:#1f77b4;stroke:#1f77b4;\" x=\"101.149678\" xlink:href=\"#m7bbde53b4e\" y=\"212.003205\"/>\n     <use style=\"fill:#1f77b4;stroke:#1f77b4;\" x=\"100.022229\" xlink:href=\"#m7bbde53b4e\" y=\"211.897318\"/>\n     <use style=\"fill:#1f77b4;stroke:#1f77b4;\" x=\"99.725779\" xlink:href=\"#m7bbde53b4e\" y=\"212.047495\"/>\n     <use style=\"fill:#1f77b4;stroke:#1f77b4;\" x=\"98.7975\" xlink:href=\"#m7bbde53b4e\" y=\"213.095321\"/>\n     <use style=\"fill:#1f77b4;stroke:#1f77b4;\" x=\"97.939143\" xlink:href=\"#m7bbde53b4e\" y=\"214.039809\"/>\n     <use style=\"fill:#1f77b4;stroke:#1f77b4;\" x=\"97.851738\" xlink:href=\"#m7bbde53b4e\" y=\"213.92832\"/>\n     <use style=\"fill:#1f77b4;stroke:#1f77b4;\" x=\"97.058265\" xlink:href=\"#m7bbde53b4e\" y=\"214.263266\"/>\n     <use style=\"fill:#1f77b4;stroke:#1f77b4;\" x=\"96.386817\" xlink:href=\"#m7bbde53b4e\" y=\"214.778999\"/>\n     <use style=\"fill:#1f77b4;stroke:#1f77b4;\" x=\"95.301299\" xlink:href=\"#m7bbde53b4e\" y=\"215.207337\"/>\n     <use style=\"fill:#1f77b4;stroke:#1f77b4;\" x=\"94.758403\" xlink:href=\"#m7bbde53b4e\" y=\"215.572298\"/>\n     <use style=\"fill:#1f77b4;stroke:#1f77b4;\" x=\"93.83477\" xlink:href=\"#m7bbde53b4e\" y=\"215.792011\"/>\n     <use style=\"fill:#1f77b4;stroke:#1f77b4;\" x=\"93.523676\" xlink:href=\"#m7bbde53b4e\" y=\"216.435774\"/>\n     <use style=\"fill:#1f77b4;stroke:#1f77b4;\" x=\"92.753897\" xlink:href=\"#m7bbde53b4e\" y=\"216.434854\"/>\n     <use style=\"fill:#1f77b4;stroke:#1f77b4;\" x=\"91.978543\" xlink:href=\"#m7bbde53b4e\" y=\"216.672701\"/>\n     <use style=\"fill:#1f77b4;stroke:#1f77b4;\" x=\"91.393924\" xlink:href=\"#m7bbde53b4e\" y=\"217.024066\"/>\n     <use style=\"fill:#1f77b4;stroke:#1f77b4;\" x=\"90.633377\" xlink:href=\"#m7bbde53b4e\" y=\"217.32593\"/>\n     <use style=\"fill:#1f77b4;stroke:#1f77b4;\" x=\"89.905823\" xlink:href=\"#m7bbde53b4e\" y=\"217.94371\"/>\n     <use style=\"fill:#1f77b4;stroke:#1f77b4;\" x=\"89.57304\" xlink:href=\"#m7bbde53b4e\" y=\"217.845642\"/>\n     <use style=\"fill:#1f77b4;stroke:#1f77b4;\" x=\"89.218726\" xlink:href=\"#m7bbde53b4e\" y=\"218.260713\"/>\n     <use style=\"fill:#1f77b4;stroke:#1f77b4;\" x=\"88.534307\" xlink:href=\"#m7bbde53b4e\" y=\"218.609372\"/>\n     <use style=\"fill:#1f77b4;stroke:#1f77b4;\" x=\"87.990323\" xlink:href=\"#m7bbde53b4e\" y=\"218.74097\"/>\n     <use style=\"fill:#1f77b4;stroke:#1f77b4;\" x=\"115.361069\" xlink:href=\"#m7bbde53b4e\" y=\"200.151753\"/>\n     <use style=\"fill:#1f77b4;stroke:#1f77b4;\" x=\"115.048211\" xlink:href=\"#m7bbde53b4e\" y=\"200.138154\"/>\n     <use style=\"fill:#1f77b4;stroke:#1f77b4;\" x=\"114.63577\" xlink:href=\"#m7bbde53b4e\" y=\"200.952152\"/>\n     <use style=\"fill:#1f77b4;stroke:#1f77b4;\" x=\"114.683438\" xlink:href=\"#m7bbde53b4e\" y=\"200.719858\"/>\n     <use style=\"fill:#1f77b4;stroke:#1f77b4;\" x=\"114.165932\" xlink:href=\"#m7bbde53b4e\" y=\"201.39447\"/>\n     <use style=\"fill:#1f77b4;stroke:#1f77b4;\" x=\"113.937361\" xlink:href=\"#m7bbde53b4e\" y=\"201.089034\"/>\n     <use style=\"fill:#1f77b4;stroke:#1f77b4;\" x=\"113.737841\" xlink:href=\"#m7bbde53b4e\" y=\"201.584237\"/>\n     <use style=\"fill:#1f77b4;stroke:#1f77b4;\" x=\"113.534732\" xlink:href=\"#m7bbde53b4e\" y=\"201.765671\"/>\n     <use style=\"fill:#1f77b4;stroke:#1f77b4;\" x=\"113.262944\" xlink:href=\"#m7bbde53b4e\" y=\"202.118174\"/>\n     <use style=\"fill:#1f77b4;stroke:#1f77b4;\" x=\"113.262943\" xlink:href=\"#m7bbde53b4e\" y=\"202.058655\"/>\n     <use style=\"fill:#1f77b4;stroke:#1f77b4;\" x=\"113.060901\" xlink:href=\"#m7bbde53b4e\" y=\"201.907382\"/>\n     <use style=\"fill:#1f77b4;stroke:#1f77b4;\" x=\"112.897365\" xlink:href=\"#m7bbde53b4e\" y=\"202.151955\"/>\n     <use style=\"fill:#1f77b4;stroke:#1f77b4;\" x=\"112.532811\" xlink:href=\"#m7bbde53b4e\" y=\"202.600164\"/>\n     <use style=\"fill:#1f77b4;stroke:#1f77b4;\" x=\"112.034683\" xlink:href=\"#m7bbde53b4e\" y=\"202.73226\"/>\n     <use style=\"fill:#1f77b4;stroke:#1f77b4;\" x=\"111.883042\" xlink:href=\"#m7bbde53b4e\" y=\"203.277734\"/>\n     <use style=\"fill:#1f77b4;stroke:#1f77b4;\" x=\"111.85981\" xlink:href=\"#m7bbde53b4e\" y=\"203.252518\"/>\n     <use style=\"fill:#1f77b4;stroke:#1f77b4;\" x=\"111.658346\" xlink:href=\"#m7bbde53b4e\" y=\"203.277709\"/>\n     <use style=\"fill:#1f77b4;stroke:#1f77b4;\" x=\"111.446224\" xlink:href=\"#m7bbde53b4e\" y=\"203.987551\"/>\n     <use style=\"fill:#1f77b4;stroke:#1f77b4;\" x=\"110.943749\" xlink:href=\"#m7bbde53b4e\" y=\"203.908917\"/>\n     <use style=\"fill:#1f77b4;stroke:#1f77b4;\" x=\"110.746302\" xlink:href=\"#m7bbde53b4e\" y=\"204.390883\"/>\n     <use style=\"fill:#1f77b4;stroke:#1f77b4;\" x=\"110.735144\" xlink:href=\"#m7bbde53b4e\" y=\"204.309193\"/>\n     <use style=\"fill:#1f77b4;stroke:#1f77b4;\" x=\"110.650268\" xlink:href=\"#m7bbde53b4e\" y=\"204.3994\"/>\n     <use style=\"fill:#1f77b4;stroke:#1f77b4;\" x=\"110.261251\" xlink:href=\"#m7bbde53b4e\" y=\"204.939179\"/>\n     <use style=\"fill:#1f77b4;stroke:#1f77b4;\" x=\"109.765312\" xlink:href=\"#m7bbde53b4e\" y=\"205.191189\"/>\n     <use style=\"fill:#1f77b4;stroke:#1f77b4;\" x=\"109.982191\" xlink:href=\"#m7bbde53b4e\" y=\"204.586375\"/>\n     <use style=\"fill:#1f77b4;stroke:#1f77b4;\" x=\"109.641239\" xlink:href=\"#m7bbde53b4e\" y=\"205.409081\"/>\n     <use style=\"fill:#1f77b4;stroke:#1f77b4;\" x=\"109.416768\" xlink:href=\"#m7bbde53b4e\" y=\"205.135402\"/>\n     <use style=\"fill:#1f77b4;stroke:#1f77b4;\" x=\"109.099018\" xlink:href=\"#m7bbde53b4e\" y=\"205.748028\"/>\n     <use style=\"fill:#1f77b4;stroke:#1f77b4;\" x=\"109.032905\" xlink:href=\"#m7bbde53b4e\" y=\"205.754385\"/>\n     <use style=\"fill:#1f77b4;stroke:#1f77b4;\" x=\"108.765554\" xlink:href=\"#m7bbde53b4e\" y=\"206.007396\"/>\n     <use style=\"fill:#1f77b4;stroke:#1f77b4;\" x=\"108.415435\" xlink:href=\"#m7bbde53b4e\" y=\"206.08495\"/>\n     <use style=\"fill:#1f77b4;stroke:#1f77b4;\" x=\"108.334756\" xlink:href=\"#m7bbde53b4e\" y=\"206.374142\"/>\n     <use style=\"fill:#1f77b4;stroke:#1f77b4;\" x=\"108.207044\" xlink:href=\"#m7bbde53b4e\" y=\"206.55503\"/>\n     <use style=\"fill:#1f77b4;stroke:#1f77b4;\" x=\"108.054778\" xlink:href=\"#m7bbde53b4e\" y=\"206.757819\"/>\n     <use style=\"fill:#1f77b4;stroke:#1f77b4;\" x=\"107.735186\" xlink:href=\"#m7bbde53b4e\" y=\"206.711457\"/>\n     <use style=\"fill:#1f77b4;stroke:#1f77b4;\" x=\"107.210171\" xlink:href=\"#m7bbde53b4e\" y=\"207.18339\"/>\n     <use style=\"fill:#1f77b4;stroke:#1f77b4;\" x=\"107.151232\" xlink:href=\"#m7bbde53b4e\" y=\"206.987265\"/>\n     <use style=\"fill:#1f77b4;stroke:#1f77b4;\" x=\"107.078261\" xlink:href=\"#m7bbde53b4e\" y=\"207.402484\"/>\n     <use style=\"fill:#1f77b4;stroke:#1f77b4;\" x=\"106.736996\" xlink:href=\"#m7bbde53b4e\" y=\"207.556235\"/>\n     <use style=\"fill:#1f77b4;stroke:#1f77b4;\" x=\"106.859313\" xlink:href=\"#m7bbde53b4e\" y=\"207.483143\"/>\n     <use style=\"fill:#1f77b4;stroke:#1f77b4;\" x=\"106.489633\" xlink:href=\"#m7bbde53b4e\" y=\"207.715308\"/>\n     <use style=\"fill:#1f77b4;stroke:#1f77b4;\" x=\"105.850657\" xlink:href=\"#m7bbde53b4e\" y=\"208.471953\"/>\n     <use style=\"fill:#1f77b4;stroke:#1f77b4;\" x=\"106.105521\" xlink:href=\"#m7bbde53b4e\" y=\"208.093418\"/>\n     <use style=\"fill:#1f77b4;stroke:#1f77b4;\" x=\"106.032256\" xlink:href=\"#m7bbde53b4e\" y=\"207.971264\"/>\n     <use style=\"fill:#1f77b4;stroke:#1f77b4;\" x=\"105.474347\" xlink:href=\"#m7bbde53b4e\" y=\"208.377008\"/>\n     <use style=\"fill:#1f77b4;stroke:#1f77b4;\" x=\"105.25327\" xlink:href=\"#m7bbde53b4e\" y=\"208.881115\"/>\n     <use style=\"fill:#1f77b4;stroke:#1f77b4;\" x=\"105.160334\" xlink:href=\"#m7bbde53b4e\" y=\"208.66936\"/>\n     <use style=\"fill:#1f77b4;stroke:#1f77b4;\" x=\"104.882238\" xlink:href=\"#m7bbde53b4e\" y=\"208.956159\"/>\n     <use style=\"fill:#1f77b4;stroke:#1f77b4;\" x=\"104.900201\" xlink:href=\"#m7bbde53b4e\" y=\"209.102792\"/>\n     <use style=\"fill:#1f77b4;stroke:#1f77b4;\" x=\"104.504737\" xlink:href=\"#m7bbde53b4e\" y=\"209.189606\"/>\n     <use style=\"fill:#1f77b4;stroke:#1f77b4;\" x=\"104.732746\" xlink:href=\"#m7bbde53b4e\" y=\"208.969444\"/>\n     <use style=\"fill:#1f77b4;stroke:#1f77b4;\" x=\"104.62118\" xlink:href=\"#m7bbde53b4e\" y=\"209.295677\"/>\n     <use style=\"fill:#1f77b4;stroke:#1f77b4;\" x=\"104.387612\" xlink:href=\"#m7bbde53b4e\" y=\"209.255071\"/>\n     <use style=\"fill:#1f77b4;stroke:#1f77b4;\" x=\"103.758886\" xlink:href=\"#m7bbde53b4e\" y=\"209.897956\"/>\n     <use style=\"fill:#1f77b4;stroke:#1f77b4;\" x=\"103.598984\" xlink:href=\"#m7bbde53b4e\" y=\"210.082563\"/>\n     <use style=\"fill:#1f77b4;stroke:#1f77b4;\" x=\"103.748749\" xlink:href=\"#m7bbde53b4e\" y=\"209.817807\"/>\n     <use style=\"fill:#1f77b4;stroke:#1f77b4;\" x=\"103.573593\" xlink:href=\"#m7bbde53b4e\" y=\"210.003168\"/>\n     <use style=\"fill:#1f77b4;stroke:#1f77b4;\" x=\"103.226586\" xlink:href=\"#m7bbde53b4e\" y=\"210.079501\"/>\n     <use style=\"fill:#1f77b4;stroke:#1f77b4;\" x=\"103.014148\" xlink:href=\"#m7bbde53b4e\" y=\"210.258873\"/>\n     <use style=\"fill:#1f77b4;stroke:#1f77b4;\" x=\"102.863988\" xlink:href=\"#m7bbde53b4e\" y=\"210.700865\"/>\n     <use style=\"fill:#1f77b4;stroke:#1f77b4;\" x=\"102.930078\" xlink:href=\"#m7bbde53b4e\" y=\"210.29857\"/>\n     <use style=\"fill:#1f77b4;stroke:#1f77b4;\" x=\"102.379276\" xlink:href=\"#m7bbde53b4e\" y=\"210.77748\"/>\n     <use style=\"fill:#1f77b4;stroke:#1f77b4;\" x=\"102.404999\" xlink:href=\"#m7bbde53b4e\" y=\"210.815938\"/>\n     <use style=\"fill:#1f77b4;stroke:#1f77b4;\" x=\"102.256976\" xlink:href=\"#m7bbde53b4e\" y=\"211.300745\"/>\n     <use style=\"fill:#1f77b4;stroke:#1f77b4;\" x=\"102.000541\" xlink:href=\"#m7bbde53b4e\" y=\"211.258023\"/>\n     <use style=\"fill:#1f77b4;stroke:#1f77b4;\" x=\"101.814326\" xlink:href=\"#m7bbde53b4e\" y=\"211.119158\"/>\n     <use style=\"fill:#1f77b4;stroke:#1f77b4;\" x=\"101.783089\" xlink:href=\"#m7bbde53b4e\" y=\"211.19951\"/>\n     <use style=\"fill:#1f77b4;stroke:#1f77b4;\" x=\"101.443764\" xlink:href=\"#m7bbde53b4e\" y=\"211.440279\"/>\n     <use style=\"fill:#1f77b4;stroke:#1f77b4;\" x=\"101.07434\" xlink:href=\"#m7bbde53b4e\" y=\"211.598421\"/>\n     <use style=\"fill:#1f77b4;stroke:#1f77b4;\" x=\"101.034584\" xlink:href=\"#m7bbde53b4e\" y=\"211.455709\"/>\n     <use style=\"fill:#1f77b4;stroke:#1f77b4;\" x=\"100.889133\" xlink:href=\"#m7bbde53b4e\" y=\"211.96814\"/>\n     <use style=\"fill:#1f77b4;stroke:#1f77b4;\" x=\"101.029079\" xlink:href=\"#m7bbde53b4e\" y=\"211.969064\"/>\n     <use style=\"fill:#1f77b4;stroke:#1f77b4;\" x=\"100.770643\" xlink:href=\"#m7bbde53b4e\" y=\"211.887223\"/>\n     <use style=\"fill:#1f77b4;stroke:#1f77b4;\" x=\"100.403754\" xlink:href=\"#m7bbde53b4e\" y=\"212.260977\"/>\n     <use style=\"fill:#1f77b4;stroke:#1f77b4;\" x=\"100.526214\" xlink:href=\"#m7bbde53b4e\" y=\"211.779048\"/>\n     <use style=\"fill:#1f77b4;stroke:#1f77b4;\" x=\"100.084256\" xlink:href=\"#m7bbde53b4e\" y=\"212.341406\"/>\n     <use style=\"fill:#1f77b4;stroke:#1f77b4;\" x=\"99.848077\" xlink:href=\"#m7bbde53b4e\" y=\"212.4613\"/>\n     <use style=\"fill:#1f77b4;stroke:#1f77b4;\" x=\"99.697829\" xlink:href=\"#m7bbde53b4e\" y=\"212.650091\"/>\n     <use style=\"fill:#1f77b4;stroke:#1f77b4;\" x=\"99.49979\" xlink:href=\"#m7bbde53b4e\" y=\"212.830356\"/>\n     <use style=\"fill:#1f77b4;stroke:#1f77b4;\" x=\"99.416649\" xlink:href=\"#m7bbde53b4e\" y=\"212.730597\"/>\n     <use style=\"fill:#1f77b4;stroke:#1f77b4;\" x=\"99.306869\" xlink:href=\"#m7bbde53b4e\" y=\"212.945085\"/>\n     <use style=\"fill:#1f77b4;stroke:#1f77b4;\" x=\"99.102704\" xlink:href=\"#m7bbde53b4e\" y=\"213.165907\"/>\n     <use style=\"fill:#1f77b4;stroke:#1f77b4;\" x=\"99.183197\" xlink:href=\"#m7bbde53b4e\" y=\"213.062094\"/>\n     <use style=\"fill:#1f77b4;stroke:#1f77b4;\" x=\"98.642305\" xlink:href=\"#m7bbde53b4e\" y=\"213.452533\"/>\n     <use style=\"fill:#1f77b4;stroke:#1f77b4;\" x=\"98.311306\" xlink:href=\"#m7bbde53b4e\" y=\"213.519502\"/>\n     <use style=\"fill:#1f77b4;stroke:#1f77b4;\" x=\"98.342308\" xlink:href=\"#m7bbde53b4e\" y=\"213.676899\"/>\n     <use style=\"fill:#1f77b4;stroke:#1f77b4;\" x=\"98.351188\" xlink:href=\"#m7bbde53b4e\" y=\"213.394168\"/>\n     <use style=\"fill:#1f77b4;stroke:#1f77b4;\" x=\"98.089446\" xlink:href=\"#m7bbde53b4e\" y=\"213.972589\"/>\n     <use style=\"fill:#1f77b4;stroke:#1f77b4;\" x=\"98.038094\" xlink:href=\"#m7bbde53b4e\" y=\"213.71983\"/>\n     <use style=\"fill:#1f77b4;stroke:#1f77b4;\" x=\"97.598594\" xlink:href=\"#m7bbde53b4e\" y=\"213.958776\"/>\n     <use style=\"fill:#1f77b4;stroke:#1f77b4;\" x=\"97.671736\" xlink:href=\"#m7bbde53b4e\" y=\"213.911119\"/>\n     <use style=\"fill:#1f77b4;stroke:#1f77b4;\" x=\"97.401641\" xlink:href=\"#m7bbde53b4e\" y=\"214.177811\"/>\n     <use style=\"fill:#1f77b4;stroke:#1f77b4;\" x=\"97.247381\" xlink:href=\"#m7bbde53b4e\" y=\"214.209679\"/>\n     <use style=\"fill:#1f77b4;stroke:#1f77b4;\" x=\"96.962551\" xlink:href=\"#m7bbde53b4e\" y=\"214.321257\"/>\n     <use style=\"fill:#1f77b4;stroke:#1f77b4;\" x=\"96.981604\" xlink:href=\"#m7bbde53b4e\" y=\"214.274134\"/>\n     <use style=\"fill:#1f77b4;stroke:#1f77b4;\" x=\"96.993896\" xlink:href=\"#m7bbde53b4e\" y=\"214.356419\"/>\n     <use style=\"fill:#1f77b4;stroke:#1f77b4;\" x=\"96.651678\" xlink:href=\"#m7bbde53b4e\" y=\"214.660631\"/>\n     <use style=\"fill:#1f77b4;stroke:#1f77b4;\" x=\"96.598982\" xlink:href=\"#m7bbde53b4e\" y=\"214.486883\"/>\n     <use style=\"fill:#1f77b4;stroke:#1f77b4;\" x=\"96.468755\" xlink:href=\"#m7bbde53b4e\" y=\"214.609715\"/>\n     <use style=\"fill:#1f77b4;stroke:#1f77b4;\" x=\"96.249036\" xlink:href=\"#m7bbde53b4e\" y=\"214.821854\"/>\n     <use style=\"fill:#1f77b4;stroke:#1f77b4;\" x=\"95.986478\" xlink:href=\"#m7bbde53b4e\" y=\"214.839834\"/>\n     <use style=\"fill:#1f77b4;stroke:#1f77b4;\" x=\"114.949507\" xlink:href=\"#m7bbde53b4e\" y=\"200.522242\"/>\n     <use style=\"fill:#1f77b4;stroke:#1f77b4;\" x=\"114.863447\" xlink:href=\"#m7bbde53b4e\" y=\"200.620317\"/>\n     <use style=\"fill:#1f77b4;stroke:#1f77b4;\" x=\"114.166901\" xlink:href=\"#m7bbde53b4e\" y=\"200.968702\"/>\n     <use style=\"fill:#1f77b4;stroke:#1f77b4;\" x=\"114.441201\" xlink:href=\"#m7bbde53b4e\" y=\"200.857391\"/>\n     <use style=\"fill:#1f77b4;stroke:#1f77b4;\" x=\"114.457284\" xlink:href=\"#m7bbde53b4e\" y=\"200.96626\"/>\n     <use style=\"fill:#1f77b4;stroke:#1f77b4;\" x=\"114.066354\" xlink:href=\"#m7bbde53b4e\" y=\"201.352581\"/>\n     <use style=\"fill:#1f77b4;stroke:#1f77b4;\" x=\"113.729985\" xlink:href=\"#m7bbde53b4e\" y=\"201.913679\"/>\n     <use style=\"fill:#1f77b4;stroke:#1f77b4;\" x=\"113.394142\" xlink:href=\"#m7bbde53b4e\" y=\"201.851748\"/>\n     <use style=\"fill:#1f77b4;stroke:#1f77b4;\" x=\"113.051812\" xlink:href=\"#m7bbde53b4e\" y=\"202.062675\"/>\n     <use style=\"fill:#1f77b4;stroke:#1f77b4;\" x=\"113.280974\" xlink:href=\"#m7bbde53b4e\" y=\"201.893287\"/>\n     <use style=\"fill:#1f77b4;stroke:#1f77b4;\" x=\"112.889557\" xlink:href=\"#m7bbde53b4e\" y=\"202.399928\"/>\n     <use style=\"fill:#1f77b4;stroke:#1f77b4;\" x=\"112.655914\" xlink:href=\"#m7bbde53b4e\" y=\"202.579705\"/>\n     <use style=\"fill:#1f77b4;stroke:#1f77b4;\" x=\"112.293846\" xlink:href=\"#m7bbde53b4e\" y=\"202.806875\"/>\n     <use style=\"fill:#1f77b4;stroke:#1f77b4;\" x=\"111.995904\" xlink:href=\"#m7bbde53b4e\" y=\"203.028245\"/>\n     <use style=\"fill:#1f77b4;stroke:#1f77b4;\" x=\"112.061039\" xlink:href=\"#m7bbde53b4e\" y=\"203.131021\"/>\n     <use style=\"fill:#1f77b4;stroke:#1f77b4;\" x=\"111.784547\" xlink:href=\"#m7bbde53b4e\" y=\"203.510807\"/>\n     <use style=\"fill:#1f77b4;stroke:#1f77b4;\" x=\"111.426118\" xlink:href=\"#m7bbde53b4e\" y=\"203.508628\"/>\n     <use style=\"fill:#1f77b4;stroke:#1f77b4;\" x=\"111.398563\" xlink:href=\"#m7bbde53b4e\" y=\"203.898343\"/>\n     <use style=\"fill:#1f77b4;stroke:#1f77b4;\" x=\"111.23092\" xlink:href=\"#m7bbde53b4e\" y=\"203.686497\"/>\n     <use style=\"fill:#1f77b4;stroke:#1f77b4;\" x=\"110.978901\" xlink:href=\"#m7bbde53b4e\" y=\"203.994411\"/>\n     <use style=\"fill:#1f77b4;stroke:#1f77b4;\" x=\"110.516337\" xlink:href=\"#m7bbde53b4e\" y=\"204.647784\"/>\n     <use style=\"fill:#1f77b4;stroke:#1f77b4;\" x=\"110.871439\" xlink:href=\"#m7bbde53b4e\" y=\"204.334144\"/>\n     <use style=\"fill:#1f77b4;stroke:#1f77b4;\" x=\"110.415129\" xlink:href=\"#m7bbde53b4e\" y=\"204.732217\"/>\n     <use style=\"fill:#1f77b4;stroke:#1f77b4;\" x=\"109.830127\" xlink:href=\"#m7bbde53b4e\" y=\"204.949844\"/>\n     <use style=\"fill:#1f77b4;stroke:#1f77b4;\" x=\"110.007721\" xlink:href=\"#m7bbde53b4e\" y=\"204.68515\"/>\n     <use style=\"fill:#1f77b4;stroke:#1f77b4;\" x=\"109.657954\" xlink:href=\"#m7bbde53b4e\" y=\"205.097515\"/>\n     <use style=\"fill:#1f77b4;stroke:#1f77b4;\" x=\"109.327704\" xlink:href=\"#m7bbde53b4e\" y=\"205.557825\"/>\n     <use style=\"fill:#1f77b4;stroke:#1f77b4;\" x=\"109.239946\" xlink:href=\"#m7bbde53b4e\" y=\"205.512427\"/>\n     <use style=\"fill:#1f77b4;stroke:#1f77b4;\" x=\"109.011193\" xlink:href=\"#m7bbde53b4e\" y=\"205.798207\"/>\n     <use style=\"fill:#1f77b4;stroke:#1f77b4;\" x=\"108.954834\" xlink:href=\"#m7bbde53b4e\" y=\"205.68268\"/>\n     <use style=\"fill:#1f77b4;stroke:#1f77b4;\" x=\"108.419394\" xlink:href=\"#m7bbde53b4e\" y=\"206.248201\"/>\n     <use style=\"fill:#1f77b4;stroke:#1f77b4;\" x=\"107.911058\" xlink:href=\"#m7bbde53b4e\" y=\"206.686561\"/>\n     <use style=\"fill:#1f77b4;stroke:#1f77b4;\" x=\"108.240916\" xlink:href=\"#m7bbde53b4e\" y=\"206.468216\"/>\n     <use style=\"fill:#1f77b4;stroke:#1f77b4;\" x=\"107.589942\" xlink:href=\"#m7bbde53b4e\" y=\"206.758954\"/>\n     <use style=\"fill:#1f77b4;stroke:#1f77b4;\" x=\"107.907927\" xlink:href=\"#m7bbde53b4e\" y=\"206.56691\"/>\n     <use style=\"fill:#1f77b4;stroke:#1f77b4;\" x=\"107.618585\" xlink:href=\"#m7bbde53b4e\" y=\"207.10262\"/>\n     <use style=\"fill:#1f77b4;stroke:#1f77b4;\" x=\"107.400302\" xlink:href=\"#m7bbde53b4e\" y=\"206.984565\"/>\n     <use style=\"fill:#1f77b4;stroke:#1f77b4;\" x=\"106.541826\" xlink:href=\"#m7bbde53b4e\" y=\"207.899417\"/>\n     <use style=\"fill:#1f77b4;stroke:#1f77b4;\" x=\"106.821674\" xlink:href=\"#m7bbde53b4e\" y=\"207.134745\"/>\n     <use style=\"fill:#1f77b4;stroke:#1f77b4;\" x=\"106.519925\" xlink:href=\"#m7bbde53b4e\" y=\"207.739265\"/>\n     <use style=\"fill:#1f77b4;stroke:#1f77b4;\" x=\"106.630833\" xlink:href=\"#m7bbde53b4e\" y=\"207.755386\"/>\n     <use style=\"fill:#1f77b4;stroke:#1f77b4;\" x=\"106.38554\" xlink:href=\"#m7bbde53b4e\" y=\"207.770052\"/>\n     <use style=\"fill:#1f77b4;stroke:#1f77b4;\" x=\"106.108698\" xlink:href=\"#m7bbde53b4e\" y=\"207.956463\"/>\n     <use style=\"fill:#1f77b4;stroke:#1f77b4;\" x=\"105.973654\" xlink:href=\"#m7bbde53b4e\" y=\"208.05755\"/>\n     <use style=\"fill:#1f77b4;stroke:#1f77b4;\" x=\"105.612566\" xlink:href=\"#m7bbde53b4e\" y=\"208.545426\"/>\n     <use style=\"fill:#1f77b4;stroke:#1f77b4;\" x=\"105.57655\" xlink:href=\"#m7bbde53b4e\" y=\"208.429451\"/>\n     <use style=\"fill:#1f77b4;stroke:#1f77b4;\" x=\"105.506978\" xlink:href=\"#m7bbde53b4e\" y=\"209.041531\"/>\n     <use style=\"fill:#1f77b4;stroke:#1f77b4;\" x=\"104.964567\" xlink:href=\"#m7bbde53b4e\" y=\"209.065525\"/>\n     <use style=\"fill:#1f77b4;stroke:#1f77b4;\" x=\"104.748346\" xlink:href=\"#m7bbde53b4e\" y=\"208.904845\"/>\n     <use style=\"fill:#1f77b4;stroke:#1f77b4;\" x=\"104.658932\" xlink:href=\"#m7bbde53b4e\" y=\"209.46199\"/>\n     <use style=\"fill:#1f77b4;stroke:#1f77b4;\" x=\"104.494525\" xlink:href=\"#m7bbde53b4e\" y=\"209.498196\"/>\n     <use style=\"fill:#1f77b4;stroke:#1f77b4;\" x=\"104.180674\" xlink:href=\"#m7bbde53b4e\" y=\"209.381552\"/>\n     <use style=\"fill:#1f77b4;stroke:#1f77b4;\" x=\"104.442436\" xlink:href=\"#m7bbde53b4e\" y=\"209.164465\"/>\n     <use style=\"fill:#1f77b4;stroke:#1f77b4;\" x=\"104.150198\" xlink:href=\"#m7bbde53b4e\" y=\"209.543729\"/>\n     <use style=\"fill:#1f77b4;stroke:#1f77b4;\" x=\"103.959362\" xlink:href=\"#m7bbde53b4e\" y=\"209.87657\"/>\n     <use style=\"fill:#1f77b4;stroke:#1f77b4;\" x=\"103.483814\" xlink:href=\"#m7bbde53b4e\" y=\"209.870563\"/>\n     <use style=\"fill:#1f77b4;stroke:#1f77b4;\" x=\"103.435156\" xlink:href=\"#m7bbde53b4e\" y=\"210.002076\"/>\n     <use style=\"fill:#1f77b4;stroke:#1f77b4;\" x=\"103.118851\" xlink:href=\"#m7bbde53b4e\" y=\"210.398547\"/>\n     <use style=\"fill:#1f77b4;stroke:#1f77b4;\" x=\"103.260682\" xlink:href=\"#m7bbde53b4e\" y=\"210.229834\"/>\n     <use style=\"fill:#1f77b4;stroke:#1f77b4;\" x=\"103.108846\" xlink:href=\"#m7bbde53b4e\" y=\"210.10007\"/>\n     <use style=\"fill:#1f77b4;stroke:#1f77b4;\" x=\"102.670613\" xlink:href=\"#m7bbde53b4e\" y=\"210.825572\"/>\n     <use style=\"fill:#1f77b4;stroke:#1f77b4;\" x=\"102.460172\" xlink:href=\"#m7bbde53b4e\" y=\"210.824652\"/>\n     <use style=\"fill:#1f77b4;stroke:#1f77b4;\" x=\"102.452235\" xlink:href=\"#m7bbde53b4e\" y=\"210.736218\"/>\n     <use style=\"fill:#1f77b4;stroke:#1f77b4;\" x=\"102.400894\" xlink:href=\"#m7bbde53b4e\" y=\"210.869805\"/>\n     <use style=\"fill:#1f77b4;stroke:#1f77b4;\" x=\"102.205513\" xlink:href=\"#m7bbde53b4e\" y=\"211.146613\"/>\n     <use style=\"fill:#1f77b4;stroke:#1f77b4;\" x=\"101.951167\" xlink:href=\"#m7bbde53b4e\" y=\"211.309226\"/>\n     <use style=\"fill:#1f77b4;stroke:#1f77b4;\" x=\"101.572516\" xlink:href=\"#m7bbde53b4e\" y=\"211.436388\"/>\n     <use style=\"fill:#1f77b4;stroke:#1f77b4;\" x=\"101.333275\" xlink:href=\"#m7bbde53b4e\" y=\"211.405853\"/>\n     <use style=\"fill:#1f77b4;stroke:#1f77b4;\" x=\"101.286863\" xlink:href=\"#m7bbde53b4e\" y=\"211.701568\"/>\n     <use style=\"fill:#1f77b4;stroke:#1f77b4;\" x=\"101.066645\" xlink:href=\"#m7bbde53b4e\" y=\"211.711236\"/>\n     <use style=\"fill:#1f77b4;stroke:#1f77b4;\" x=\"101.115757\" xlink:href=\"#m7bbde53b4e\" y=\"211.899843\"/>\n     <use style=\"fill:#1f77b4;stroke:#1f77b4;\" x=\"100.908149\" xlink:href=\"#m7bbde53b4e\" y=\"211.712564\"/>\n     <use style=\"fill:#1f77b4;stroke:#1f77b4;\" x=\"100.556849\" xlink:href=\"#m7bbde53b4e\" y=\"212.099748\"/>\n     <use style=\"fill:#1f77b4;stroke:#1f77b4;\" x=\"100.452135\" xlink:href=\"#m7bbde53b4e\" y=\"212.108017\"/>\n     <use style=\"fill:#1f77b4;stroke:#1f77b4;\" x=\"100.471893\" xlink:href=\"#m7bbde53b4e\" y=\"212.211265\"/>\n     <use style=\"fill:#1f77b4;stroke:#1f77b4;\" x=\"100.007089\" xlink:href=\"#m7bbde53b4e\" y=\"212.323583\"/>\n     <use style=\"fill:#1f77b4;stroke:#1f77b4;\" x=\"99.920949\" xlink:href=\"#m7bbde53b4e\" y=\"212.507759\"/>\n     <use style=\"fill:#1f77b4;stroke:#1f77b4;\" x=\"99.69289\" xlink:href=\"#m7bbde53b4e\" y=\"212.597341\"/>\n     <use style=\"fill:#1f77b4;stroke:#1f77b4;\" x=\"99.452474\" xlink:href=\"#m7bbde53b4e\" y=\"212.715562\"/>\n     <use style=\"fill:#1f77b4;stroke:#1f77b4;\" x=\"99.488449\" xlink:href=\"#m7bbde53b4e\" y=\"212.899687\"/>\n     <use style=\"fill:#1f77b4;stroke:#1f77b4;\" x=\"99.210387\" xlink:href=\"#m7bbde53b4e\" y=\"212.932198\"/>\n     <use style=\"fill:#1f77b4;stroke:#1f77b4;\" x=\"99.077437\" xlink:href=\"#m7bbde53b4e\" y=\"213.259044\"/>\n     <use style=\"fill:#1f77b4;stroke:#1f77b4;\" x=\"99.038443\" xlink:href=\"#m7bbde53b4e\" y=\"213.077724\"/>\n     <use style=\"fill:#1f77b4;stroke:#1f77b4;\" x=\"98.510657\" xlink:href=\"#m7bbde53b4e\" y=\"213.312761\"/>\n     <use style=\"fill:#1f77b4;stroke:#1f77b4;\" x=\"98.599345\" xlink:href=\"#m7bbde53b4e\" y=\"213.427315\"/>\n     <use style=\"fill:#1f77b4;stroke:#1f77b4;\" x=\"98.320579\" xlink:href=\"#m7bbde53b4e\" y=\"213.476337\"/>\n     <use style=\"fill:#1f77b4;stroke:#1f77b4;\" x=\"98.201038\" xlink:href=\"#m7bbde53b4e\" y=\"213.569938\"/>\n     <use style=\"fill:#1f77b4;stroke:#1f77b4;\" x=\"98.137348\" xlink:href=\"#m7bbde53b4e\" y=\"213.342051\"/>\n     <use style=\"fill:#1f77b4;stroke:#1f77b4;\" x=\"97.983228\" xlink:href=\"#m7bbde53b4e\" y=\"213.892771\"/>\n     <use style=\"fill:#1f77b4;stroke:#1f77b4;\" x=\"97.794676\" xlink:href=\"#m7bbde53b4e\" y=\"213.771402\"/>\n     <use style=\"fill:#1f77b4;stroke:#1f77b4;\" x=\"97.727759\" xlink:href=\"#m7bbde53b4e\" y=\"213.815548\"/>\n     <use style=\"fill:#1f77b4;stroke:#1f77b4;\" x=\"97.71204\" xlink:href=\"#m7bbde53b4e\" y=\"213.838432\"/>\n     <use style=\"fill:#1f77b4;stroke:#1f77b4;\" x=\"97.319497\" xlink:href=\"#m7bbde53b4e\" y=\"214.337813\"/>\n     <use style=\"fill:#1f77b4;stroke:#1f77b4;\" x=\"97.046653\" xlink:href=\"#m7bbde53b4e\" y=\"214.42544\"/>\n     <use style=\"fill:#1f77b4;stroke:#1f77b4;\" x=\"97.021464\" xlink:href=\"#m7bbde53b4e\" y=\"214.304458\"/>\n     <use style=\"fill:#1f77b4;stroke:#1f77b4;\" x=\"96.838028\" xlink:href=\"#m7bbde53b4e\" y=\"214.454583\"/>\n     <use style=\"fill:#1f77b4;stroke:#1f77b4;\" x=\"96.794126\" xlink:href=\"#m7bbde53b4e\" y=\"214.541596\"/>\n     <use style=\"fill:#1f77b4;stroke:#1f77b4;\" x=\"96.493002\" xlink:href=\"#m7bbde53b4e\" y=\"214.660554\"/>\n    </g>\n   </g>\n   <g id=\"patch_3\">\n    <path d=\"M 56.50625 239.758125 \nL 56.50625 22.318125 \n\" style=\"fill:none;stroke:#000000;stroke-linecap:square;stroke-linejoin:miter;stroke-width:0.8;\"/>\n   </g>\n   <g id=\"patch_4\">\n    <path d=\"M 391.30625 239.758125 \nL 391.30625 22.318125 \n\" style=\"fill:none;stroke:#000000;stroke-linecap:square;stroke-linejoin:miter;stroke-width:0.8;\"/>\n   </g>\n   <g id=\"patch_5\">\n    <path d=\"M 56.50625 239.758125 \nL 391.30625 239.758125 \n\" style=\"fill:none;stroke:#000000;stroke-linecap:square;stroke-linejoin:miter;stroke-width:0.8;\"/>\n   </g>\n   <g id=\"patch_6\">\n    <path d=\"M 56.50625 22.318125 \nL 391.30625 22.318125 \n\" style=\"fill:none;stroke:#000000;stroke-linecap:square;stroke-linejoin:miter;stroke-width:0.8;\"/>\n   </g>\n   <g id=\"text_17\">\n    <!-- Physics-informed neural net -->\n    <defs>\n     <path d=\"M 32.171875 -5.078125 \nQ 28.375 -14.84375 24.75 -17.8125 \nQ 21.140625 -20.796875 15.09375 -20.796875 \nL 7.90625 -20.796875 \nL 7.90625 -13.28125 \nL 13.1875 -13.28125 \nQ 16.890625 -13.28125 18.9375 -11.515625 \nQ 21 -9.765625 23.484375 -3.21875 \nL 25.09375 0.875 \nL 2.984375 54.6875 \nL 12.5 54.6875 \nL 29.59375 11.921875 \nL 46.6875 54.6875 \nL 56.203125 54.6875 \nz\n\" id=\"DejaVuSans-121\"/>\n     <path d=\"M 44.28125 53.078125 \nL 44.28125 44.578125 \nQ 40.484375 46.53125 36.375 47.5 \nQ 32.28125 48.484375 27.875 48.484375 \nQ 21.1875 48.484375 17.84375 46.4375 \nQ 14.5 44.390625 14.5 40.28125 \nQ 14.5 37.15625 16.890625 35.375 \nQ 19.28125 33.59375 26.515625 31.984375 \nL 29.59375 31.296875 \nQ 39.15625 29.25 43.1875 25.515625 \nQ 47.21875 21.78125 47.21875 15.09375 \nQ 47.21875 7.46875 41.1875 3.015625 \nQ 35.15625 -1.421875 24.609375 -1.421875 \nQ 20.21875 -1.421875 15.453125 -0.5625 \nQ 10.6875 0.296875 5.421875 2 \nL 5.421875 11.28125 \nQ 10.40625 8.6875 15.234375 7.390625 \nQ 20.0625 6.109375 24.8125 6.109375 \nQ 31.15625 6.109375 34.5625 8.28125 \nQ 37.984375 10.453125 37.984375 14.40625 \nQ 37.984375 18.0625 35.515625 20.015625 \nQ 33.0625 21.96875 24.703125 23.78125 \nL 21.578125 24.515625 \nQ 13.234375 26.265625 9.515625 29.90625 \nQ 5.8125 33.546875 5.8125 39.890625 \nQ 5.8125 47.609375 11.28125 51.796875 \nQ 16.75 56 26.8125 56 \nQ 31.78125 56 36.171875 55.265625 \nQ 40.578125 54.546875 44.28125 53.078125 \nz\n\" id=\"DejaVuSans-115\"/>\n     <path d=\"M 4.890625 31.390625 \nL 31.203125 31.390625 \nL 31.203125 23.390625 \nL 4.890625 23.390625 \nz\n\" id=\"DejaVuSans-45\"/>\n     <path d=\"M 37.109375 75.984375 \nL 37.109375 68.5 \nL 28.515625 68.5 \nQ 23.6875 68.5 21.796875 66.546875 \nQ 19.921875 64.59375 19.921875 59.515625 \nL 19.921875 54.6875 \nL 34.71875 54.6875 \nL 34.71875 47.703125 \nL 19.921875 47.703125 \nL 19.921875 0 \nL 10.890625 0 \nL 10.890625 47.703125 \nL 2.296875 47.703125 \nL 2.296875 54.6875 \nL 10.890625 54.6875 \nL 10.890625 58.5 \nQ 10.890625 67.625 15.140625 71.796875 \nQ 19.390625 75.984375 28.609375 75.984375 \nz\n\" id=\"DejaVuSans-102\"/>\n     <path d=\"M 30.609375 48.390625 \nQ 23.390625 48.390625 19.1875 42.75 \nQ 14.984375 37.109375 14.984375 27.296875 \nQ 14.984375 17.484375 19.15625 11.84375 \nQ 23.34375 6.203125 30.609375 6.203125 \nQ 37.796875 6.203125 41.984375 11.859375 \nQ 46.1875 17.53125 46.1875 27.296875 \nQ 46.1875 37.015625 41.984375 42.703125 \nQ 37.796875 48.390625 30.609375 48.390625 \nz\nM 30.609375 56 \nQ 42.328125 56 49.015625 48.375 \nQ 55.71875 40.765625 55.71875 27.296875 \nQ 55.71875 13.875 49.015625 6.21875 \nQ 42.328125 -1.421875 30.609375 -1.421875 \nQ 18.84375 -1.421875 12.171875 6.21875 \nQ 5.515625 13.875 5.515625 27.296875 \nQ 5.515625 40.765625 12.171875 48.375 \nQ 18.84375 56 30.609375 56 \nz\n\" id=\"DejaVuSans-111\"/>\n    </defs>\n    <g transform=\"translate(139.825625 16.318125)scale(0.12 -0.12)\">\n     <use xlink:href=\"#DejaVuSans-80\"/>\n     <use x=\"60.302734\" xlink:href=\"#DejaVuSans-104\"/>\n     <use x=\"123.681641\" xlink:href=\"#DejaVuSans-121\"/>\n     <use x=\"182.861328\" xlink:href=\"#DejaVuSans-115\"/>\n     <use x=\"234.960938\" xlink:href=\"#DejaVuSans-105\"/>\n     <use x=\"262.744141\" xlink:href=\"#DejaVuSans-99\"/>\n     <use x=\"317.724609\" xlink:href=\"#DejaVuSans-115\"/>\n     <use x=\"369.824219\" xlink:href=\"#DejaVuSans-45\"/>\n     <use x=\"405.908203\" xlink:href=\"#DejaVuSans-105\"/>\n     <use x=\"433.691406\" xlink:href=\"#DejaVuSans-110\"/>\n     <use x=\"497.070312\" xlink:href=\"#DejaVuSans-102\"/>\n     <use x=\"532.275391\" xlink:href=\"#DejaVuSans-111\"/>\n     <use x=\"593.457031\" xlink:href=\"#DejaVuSans-114\"/>\n     <use x=\"632.820312\" xlink:href=\"#DejaVuSans-109\"/>\n     <use x=\"730.232422\" xlink:href=\"#DejaVuSans-101\"/>\n     <use x=\"791.755859\" xlink:href=\"#DejaVuSans-100\"/>\n     <use x=\"855.232422\" xlink:href=\"#DejaVuSans-32\"/>\n     <use x=\"887.019531\" xlink:href=\"#DejaVuSans-110\"/>\n     <use x=\"950.398438\" xlink:href=\"#DejaVuSans-101\"/>\n     <use x=\"1011.921875\" xlink:href=\"#DejaVuSans-117\"/>\n     <use x=\"1075.300781\" xlink:href=\"#DejaVuSans-114\"/>\n     <use x=\"1116.414062\" xlink:href=\"#DejaVuSans-97\"/>\n     <use x=\"1177.693359\" xlink:href=\"#DejaVuSans-108\"/>\n     <use x=\"1205.476562\" xlink:href=\"#DejaVuSans-32\"/>\n     <use x=\"1237.263672\" xlink:href=\"#DejaVuSans-110\"/>\n     <use x=\"1300.642578\" xlink:href=\"#DejaVuSans-101\"/>\n     <use x=\"1362.166016\" xlink:href=\"#DejaVuSans-116\"/>\n    </g>\n   </g>\n  </g>\n </g>\n <defs>\n  <clipPath id=\"p09a39984ad\">\n   <rect height=\"217.44\" width=\"334.8\" x=\"56.50625\" y=\"22.318125\"/>\n  </clipPath>\n </defs>\n</svg>\n"
          },
          "metadata": {
            "needs_background": "light"
          }
        }
      ],
      "source": [
        "plt.plot([0.005, 0.035], [0.005, 0.035], '--k')\n",
        "plt.plot(a[:,-1:].squeeze(-1),preds.squeeze(-1),'o')\n",
        "plt.title(\"Physics-informed neural net\")\n",
        "plt.ylabel('Predicted crack length a [m]')\n",
        "plt.xlabel('Actual crack length a [m]')"
      ]
    },
    {
      "cell_type": "code",
      "source": [
        "print(np.mean((preds.squeeze(-1)-a[:,-1:].squeeze(-1))**2))"
      ],
      "metadata": {
        "colab": {
          "base_uri": "https://localhost:8080/"
        },
        "id": "MvF2KZp7Bbca",
        "outputId": "46b76dcf-6646-45c7-e6a5-8f2c17135446"
      },
      "execution_count": 20,
      "outputs": [
        {
          "output_type": "stream",
          "name": "stdout",
          "text": [
            "1.0030812264794143e-07\n"
          ]
        }
      ]
    }
  ]
}